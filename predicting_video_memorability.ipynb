{
 "cells": [
  {
   "cell_type": "markdown",
   "metadata": {
    "colab_type": "text",
    "id": "wUMpQYmVP28s"
   },
   "source": [
    "Purpose of this notebook is\n",
    "\n",
    "1) to predict the short and long term memorability of the videos using pre-extracted assorted features, as follows: Aesthetic features, C3D, Captions, ColorHistogram, HMP, HOG, InceptionV3, LRP, ORB.\n",
    "\n",
    "We have considered HMP, C3D and Captions here.\n",
    "\n",
    "2) to calculate the spearmann score of the models used in above task"
   ]
  },
  {
   "cell_type": "markdown",
   "metadata": {
    "colab_type": "text",
    "id": "Nffhz9IsQ_ZI"
   },
   "source": [
    "As prediction of memorability is a regression problem, we have used following regression models of machine learning for this:\n",
    "\n",
    "1) Linear regresssion\n",
    "\n",
    "2) Decision Trees\n",
    "\n",
    "3) K-NN\n",
    "\n",
    "4) Ensemble models - random forests, voting regressor, gradient boost, adaboost\n",
    "\n",
    "5) Neural Networks\n",
    "\n",
    "The purpose of this was to compare all of them and use the best for test-set."
   ]
  },
  {
   "cell_type": "markdown",
   "metadata": {
    "colab_type": "text",
    "id": "UP6UOv_PvOlO"
   },
   "source": [
    "*Few points to be noted*"
   ]
  },
  {
   "cell_type": "markdown",
   "metadata": {
    "colab_type": "text",
    "id": "7Qz0Xfg4SVl9"
   },
   "source": [
    " - Basically, this is an attempt to implement whatever has been learnt since the start of the course.\n",
    " - Inspite of importing them initially, necessary libraries have been imported as per the requirement...in the middle of notebook.\n",
    " - Functions to read HMP and C3D features took too much time. This is why, extracted data has been saved as csv files"
   ]
  },
  {
   "cell_type": "markdown",
   "metadata": {
    "colab_type": "text",
    "id": "jHG19NQXSoQf"
   },
   "source": [
    "..."
   ]
  },
  {
   "cell_type": "markdown",
   "metadata": {
    "colab_type": "text",
    "id": "KVGQChU-Sodx"
   },
   "source": [
    "Following function has been taken from the assignment's tutorial. This is to calculate the Spearman's score."
   ]
  },
  {
   "cell_type": "code",
   "execution_count": 0,
   "metadata": {
    "colab": {},
    "colab_type": "code",
    "id": "PvSLln3aP1BX"
   },
   "outputs": [],
   "source": [
    "def Get_score(Y_pred,Y_true):\n",
    "    '''Calculate the Spearmann\"s correlation coefficient'''\n",
    "    Y_pred = np.squeeze(Y_pred)\n",
    "    Y_true = np.squeeze(Y_true)\n",
    "    if Y_pred.shape != Y_true.shape:\n",
    "        print('Input shapes don\\'t match!')\n",
    "    else:\n",
    "        if len(Y_pred.shape) == 1:\n",
    "            Res = pd.DataFrame({'Y_true':Y_true,'Y_pred':Y_pred})\n",
    "            score_mat = Res[['Y_true','Y_pred']].corr(method='spearman',min_periods=1)\n",
    "            print('The Spearman\\'s correlation coefficient is: %.3f' % score_mat.iloc[1][0])\n",
    "        else:\n",
    "            for ii in range(Y_pred.shape[1]):\n",
    "                Get_score(Y_pred[:,ii],Y_true[:,ii])"
   ]
  },
  {
   "cell_type": "markdown",
   "metadata": {
    "colab_type": "text",
    "id": "_afKGaHUTPaT"
   },
   "source": [
    "*Below lines will load the data from my DCU google drive. I think, if somebody else is running, they will have to change the path*"
   ]
  },
  {
   "cell_type": "code",
   "execution_count": 6,
   "metadata": {
    "colab": {
     "base_uri": "https://localhost:8080/",
     "height": 130
    },
    "colab_type": "code",
    "executionInfo": {
     "elapsed": 60214,
     "status": "ok",
     "timestamp": 1588091543499,
     "user": {
      "displayName": "Raghvendra Pratap Singh",
      "photoUrl": "https://lh3.googleusercontent.com/a-/AOh14Gj1jQJ5n0fdqt2IyBbxgNbDiN_ZfLwM20c8-dFk=s64",
      "userId": "16108454137484926510"
     },
     "user_tz": -330
    },
    "id": "8LczXyyBTH_h",
    "outputId": "94199215-64d0-4b0f-ae91-8fa0c6c59b1d"
   },
   "outputs": [
    {
     "name": "stdout",
     "output_type": "stream",
     "text": [
      "Go to this URL in a browser: https://accounts.google.com/o/oauth2/auth?client_id=947318989803-6bn6qk8qdgf4n4g3pfee6491hc0brc4i.apps.googleusercontent.com&redirect_uri=urn%3aietf%3awg%3aoauth%3a2.0%3aoob&response_type=code&scope=email%20https%3a%2f%2fwww.googleapis.com%2fauth%2fdocs.test%20https%3a%2f%2fwww.googleapis.com%2fauth%2fdrive%20https%3a%2f%2fwww.googleapis.com%2fauth%2fdrive.photos.readonly%20https%3a%2f%2fwww.googleapis.com%2fauth%2fpeopleapi.readonly\n",
      "\n",
      "Enter your authorization code:\n",
      "··········\n",
      "Mounted at /content/drive/\n"
     ]
    }
   ],
   "source": [
    "from google.colab import drive\n",
    "import os\n",
    "drive.mount('/content/drive/')\n",
    "os.chdir('/content/drive/My Drive/CA684_Assignment/')"
   ]
  },
  {
   "cell_type": "code",
   "execution_count": 0,
   "metadata": {
    "colab": {},
    "colab_type": "code",
    "id": "7rY2KhUMX0JL"
   },
   "outputs": [],
   "source": [
    "#import necessary libraries\n",
    "import pandas as pd\n",
    "import numpy as np"
   ]
  },
  {
   "cell_type": "markdown",
   "metadata": {
    "colab_type": "text",
    "id": "gsWL1SgsXT77"
   },
   "source": [
    "**Loading Ground truth csv file**"
   ]
  },
  {
   "cell_type": "code",
   "execution_count": 0,
   "metadata": {
    "colab": {},
    "colab_type": "code",
    "id": "cw4BfUH4XQj2"
   },
   "outputs": [],
   "source": [
    "gtPath ='./Dev-set/Ground-truth/'\n",
    "dfGroundTruth = pd.read_csv(gtPath+'ground-truth.csv')"
   ]
  },
  {
   "cell_type": "markdown",
   "metadata": {
    "colab_type": "text",
    "id": "H79xzu1bUCW3"
   },
   "source": [
    "**Loading assorted video features**"
   ]
  },
  {
   "cell_type": "markdown",
   "metadata": {
    "colab_type": "text",
    "id": "xMSBSv7nvAH3"
   },
   "source": [
    "below function has been referenced from the tutorial"
   ]
  },
  {
   "cell_type": "code",
   "execution_count": 0,
   "metadata": {
    "colab": {},
    "colab_type": "code",
    "id": "hvho1TD_uTMu"
   },
   "outputs": [],
   "source": [
    "# load labels and captions\n",
    "def read_caps(fname):\n",
    "    \"\"\"Load the captions into a dataframe\"\"\"\n",
    "    vn = []\n",
    "    cap = []\n",
    "    df = pd.DataFrame();\n",
    "    with open(fname) as f:\n",
    "        for line in f:\n",
    "            pairs = line.split()\n",
    "            vn.append(pairs[0])\n",
    "            cap.append(pairs[1])\n",
    "        df['video']=vn\n",
    "        df['caption']=cap\n",
    "    return df\n",
    "\n",
    "\n",
    "# load the captions - dev set\n",
    "cap_path = './Dev-set/Captions/dev-set_video-captions.txt'\n",
    "df_captions=read_caps(cap_path)"
   ]
  },
  {
   "cell_type": "markdown",
   "metadata": {
    "colab_type": "text",
    "id": "FREnQl4TxOvW"
   },
   "source": [
    "below function is to read the HMP files"
   ]
  },
  {
   "cell_type": "code",
   "execution_count": 0,
   "metadata": {
    "colab": {},
    "colab_type": "code",
    "id": "CZM_UYNuUBAA"
   },
   "outputs": [],
   "source": [
    "def readHMP(fname):\n",
    "    \"\"\"Scan HMP(Histogram of Motion Patterns) features from file\"\"\"\n",
    "    with open(fname) as fileName:\n",
    "        for eachLine in fileName:\n",
    "            pairs=eachLine.split()\n",
    "            #creating a temporary dictionary\n",
    "            tempHMP = { int(p.split(':')[0]) : float(p.split(':')[1]) for p in pairs}\n",
    "    # there are 6075 bins, fill zeros\n",
    "    HMP = np.zeros(6075)\n",
    "    for index in tempHMP.keys():\n",
    "        HMP[index-1] = tempHMP[index]            \n",
    "    return HMP"
   ]
  },
  {
   "cell_type": "code",
   "execution_count": 0,
   "metadata": {
    "colab": {},
    "colab_type": "code",
    "id": "wMCU4U1Hu2OA"
   },
   "outputs": [],
   "source": [
    "#creating a new dataframe\n",
    "dfHMP_Dev = pd.DataFrame(columns = ['video', 'arrayInfo'])\n",
    "\n",
    "#path\n",
    "dirHMP_Dev = './Dev-set/HMP/'\n",
    "\n",
    "for eachFile in os.listdir(dirHMP_Dev):\n",
    "    if eachFile.endswith(\".txt\"):\n",
    "        path = os.path.join(dirHMP_Dev, eachFile)\n",
    "        arrayFile = readHMP(path)\n",
    "        eachFile= eachFile.replace(\".txt\",\".webm\")\n",
    "        dfHMP_Dev = dfHMP_Dev.append({'video': eachFile, 'arrayInfo': arrayFile}, ignore_index=True)\n",
    "    else:\n",
    "        break"
   ]
  },
  {
   "cell_type": "code",
   "execution_count": 0,
   "metadata": {
    "colab": {},
    "colab_type": "code",
    "id": "WNKStJ0Cu2jT"
   },
   "outputs": [],
   "source": [
    "#saving the dataframe\n",
    "dfHMP_Dev.to_csv('/content/drive/My Drive/dfHMP_Dev.csv')"
   ]
  },
  {
   "cell_type": "markdown",
   "metadata": {
    "colab_type": "text",
    "id": "U_8IGc1yUdDv"
   },
   "source": [
    "Below line to read the extracted features directly. This saves overall time.\n",
    "\n",
    "*Below line will load the data from my DCU google drive. I think, if somebody else is running, they will have to change the path*"
   ]
  },
  {
   "cell_type": "markdown",
   "metadata": {
    "colab_type": "text",
    "id": "cT42XP0u4xN8"
   },
   "source": [
    "https://drive.google.com/open?id=1VKCh_yEMGwtLWkvw6Mo_dl6ywOvENkv-\n",
    "\n",
    "above is the link for this CSV which can be open by anyone with DCU email id"
   ]
  },
  {
   "cell_type": "code",
   "execution_count": 0,
   "metadata": {
    "colab": {},
    "colab_type": "code",
    "id": "hJjUi4-_9Qhg"
   },
   "outputs": [],
   "source": [
    "dfHMP_Dev = pd.read_csv('/content/drive/My Drive/dfHMP_Dev.csv')"
   ]
  },
  {
   "cell_type": "markdown",
   "metadata": {
    "colab_type": "text",
    "id": "gtyHFdBc9qbx"
   },
   "source": [
    "Below function will read C3D"
   ]
  },
  {
   "cell_type": "code",
   "execution_count": 0,
   "metadata": {
    "colab": {},
    "colab_type": "code",
    "id": "ANaOMcDwCISW"
   },
   "outputs": [],
   "source": [
    "import tqdm\n",
    "from tqdm import tqdm_notebook as tqdm\n",
    "from pathlib import Path\n",
    "#from tqdm import tqdm.notebook.tqdm as tqdm"
   ]
  },
  {
   "cell_type": "code",
   "execution_count": 19,
   "metadata": {
    "colab": {
     "base_uri": "https://localhost:8080/",
     "height": 123,
     "referenced_widgets": [
      "4dab5ddcbe6f4292b31146b889f0e8d2",
      "84b2ed2ee2ab461a9c59a25d2b15f172",
      "684e80f5eb634a43b34f62dea0b70fa4",
      "e264ef5b6df940d7bd37c2147d50f21e",
      "b45ee9693c074e36a0af3afdccb6713e",
      "f86015d0ce8348bca4fe3e0ed24b63d7",
      "64162473341143b9899b5f93977168f1",
      "6337f6faf68b4a398ed709ff42cd000f"
     ]
    },
    "colab_type": "code",
    "executionInfo": {
     "elapsed": 1959965,
     "status": "ok",
     "timestamp": 1587966436604,
     "user": {
      "displayName": "Raghvendra Pratap Singh",
      "photoUrl": "https://lh3.googleusercontent.com/a-/AOh14Gj1jQJ5n0fdqt2IyBbxgNbDiN_ZfLwM20c8-dFk=s64",
      "userId": "16108454137484926510"
     },
     "user_tz": -330
    },
    "id": "dGriYrdi9u95",
    "outputId": "dadf806c-6087-4cfb-b6cf-2a25e6f794fb"
   },
   "outputs": [
    {
     "name": "stderr",
     "output_type": "stream",
     "text": [
      "/usr/local/lib/python3.6/dist-packages/ipykernel_launcher.py:15: TqdmDeprecationWarning: This function will be removed in tqdm==5.0.0\n",
      "Please use `tqdm.notebook.tqdm` instead of `tqdm.tqdm_notebook`\n",
      "  from ipykernel import kernelapp as app\n"
     ]
    },
    {
     "data": {
      "application/vnd.jupyter.widget-view+json": {
       "model_id": "4dab5ddcbe6f4292b31146b889f0e8d2",
       "version_major": 2,
       "version_minor": 0
      },
      "text/plain": [
       "HBox(children=(IntProgress(value=0, max=6000), HTML(value='')))"
      ]
     },
     "metadata": {
      "tags": []
     },
     "output_type": "display_data"
    },
    {
     "name": "stdout",
     "output_type": "stream",
     "text": [
      "\n"
     ]
    }
   ],
   "source": [
    "def readC3D(fname):\n",
    "    \"\"\"Scan vectors from file\"\"\"\n",
    "    with open(fname) as file:\n",
    "        for line in file:\n",
    "            C3D =[float(item) for item in line.split()] # convert to float type, using default separator\n",
    "    return C3D\n",
    "\n",
    "dirC3D_Dev = Path('./Dev-set/C3D/')\n",
    "#path\n",
    "#dirC3D_Dev = './Dev-set/C3D/'\n",
    "\n",
    "max_iterations = 6000\n",
    "c3dDict ={}\n",
    "\n",
    "for file in tqdm (list(dirC3D_Dev.glob('*.txt'))):\n",
    "  key = file.with_suffix('.webm').name\n",
    "  c3dDict[key] = readC3D(file)"
   ]
  },
  {
   "cell_type": "code",
   "execution_count": 0,
   "metadata": {
    "colab": {},
    "colab_type": "code",
    "id": "toWB9w92-AXD"
   },
   "outputs": [],
   "source": [
    "dfC3D_Dev= pd.DataFrame(c3dDict).T\n",
    "dfC3D_Dev=pd.DataFrame(dfC3D_Dev).rename_axis('video')\n",
    "dfC3D_Dev.head(3)"
   ]
  },
  {
   "cell_type": "code",
   "execution_count": 0,
   "metadata": {
    "colab": {},
    "colab_type": "code",
    "id": "iWAb_wuMNQ54"
   },
   "outputs": [],
   "source": [
    "#saving the dataframe in collab\n",
    "dfC3D_Dev.to_csv('/content/drive/My Drive/dfC3D_Dev.csv')"
   ]
  },
  {
   "cell_type": "markdown",
   "metadata": {
    "colab_type": "text",
    "id": "i8UkYfW2Um40"
   },
   "source": [
    "Below line to read the extracted features directly. This saves overall time.\n",
    "\n",
    "*Below line will load the data from my DCU google drive. I think, if somebody else is running, they will have to change the path*"
   ]
  },
  {
   "cell_type": "markdown",
   "metadata": {
    "colab_type": "text",
    "id": "h81nYjsF5FFH"
   },
   "source": [
    "https://drive.google.com/open?id=1ptJuFz18sWWfJQSnz8GAZ4sTVRryshTS\n",
    "\n",
    "above is the link for this CSV which can be open by anyone with DCU email id"
   ]
  },
  {
   "cell_type": "code",
   "execution_count": 0,
   "metadata": {
    "colab": {},
    "colab_type": "code",
    "id": "V80AWp8XUmBq"
   },
   "outputs": [],
   "source": [
    "dfC3D_Dev = pd.read_csv('/content/drive/My Drive/dfC3D_Dev.csv')"
   ]
  },
  {
   "cell_type": "markdown",
   "metadata": {
    "colab_type": "text",
    "id": "c3CPERb8S355"
   },
   "source": [
    "**Data cleaning of Captions using count vectorizer and TF-IDF**"
   ]
  },
  {
   "cell_type": "markdown",
   "metadata": {
    "colab_type": "text",
    "id": "6s6HRH-CCkMd"
   },
   "source": [
    "1. Below steps are for count vectorizer"
   ]
  },
  {
   "cell_type": "code",
   "execution_count": 12,
   "metadata": {
    "colab": {
     "base_uri": "https://localhost:8080/",
     "height": 144
    },
    "colab_type": "code",
    "executionInfo": {
     "elapsed": 1576,
     "status": "ok",
     "timestamp": 1588091592967,
     "user": {
      "displayName": "Raghvendra Pratap Singh",
      "photoUrl": "https://lh3.googleusercontent.com/a-/AOh14Gj1jQJ5n0fdqt2IyBbxgNbDiN_ZfLwM20c8-dFk=s64",
      "userId": "16108454137484926510"
     },
     "user_tz": -330
    },
    "id": "zCQnlLKzu2oi",
    "outputId": "e26086c9-f755-4cb9-b492-1d1108728e95"
   },
   "outputs": [
    {
     "data": {
      "text/html": [
       "<div>\n",
       "<style scoped>\n",
       "    .dataframe tbody tr th:only-of-type {\n",
       "        vertical-align: middle;\n",
       "    }\n",
       "\n",
       "    .dataframe tbody tr th {\n",
       "        vertical-align: top;\n",
       "    }\n",
       "\n",
       "    .dataframe thead th {\n",
       "        text-align: right;\n",
       "    }\n",
       "</style>\n",
       "<table border=\"1\" class=\"dataframe\">\n",
       "  <thead>\n",
       "    <tr style=\"text-align: right;\">\n",
       "      <th></th>\n",
       "      <th>video</th>\n",
       "      <th>caption</th>\n",
       "      <th>short-term_memorability</th>\n",
       "      <th>nb_short-term_annotations</th>\n",
       "      <th>long-term_memorability</th>\n",
       "      <th>nb_long-term_annotations</th>\n",
       "    </tr>\n",
       "  </thead>\n",
       "  <tbody>\n",
       "    <tr>\n",
       "      <th>0</th>\n",
       "      <td>video3.webm</td>\n",
       "      <td>blonde-woman-is-massaged-tilt-down</td>\n",
       "      <td>0.924</td>\n",
       "      <td>34</td>\n",
       "      <td>0.846</td>\n",
       "      <td>13</td>\n",
       "    </tr>\n",
       "    <tr>\n",
       "      <th>1</th>\n",
       "      <td>video4.webm</td>\n",
       "      <td>roulette-table-spinning-with-ball-in-closeup-shot</td>\n",
       "      <td>0.923</td>\n",
       "      <td>33</td>\n",
       "      <td>0.667</td>\n",
       "      <td>12</td>\n",
       "    </tr>\n",
       "    <tr>\n",
       "      <th>2</th>\n",
       "      <td>video6.webm</td>\n",
       "      <td>khr-gangsters</td>\n",
       "      <td>0.863</td>\n",
       "      <td>33</td>\n",
       "      <td>0.700</td>\n",
       "      <td>10</td>\n",
       "    </tr>\n",
       "  </tbody>\n",
       "</table>\n",
       "</div>"
      ],
      "text/plain": [
       "         video  ... nb_long-term_annotations\n",
       "0  video3.webm  ...                       13\n",
       "1  video4.webm  ...                       12\n",
       "2  video6.webm  ...                       10\n",
       "\n",
       "[3 rows x 6 columns]"
      ]
     },
     "execution_count": 12,
     "metadata": {
      "tags": []
     },
     "output_type": "execute_result"
    }
   ],
   "source": [
    "dfCaptions_Dev = df_captions.merge(dfGroundTruth,on=[\"video\"],how=\"inner\")\n",
    "dfCaptions_Dev.head(3)"
   ]
  },
  {
   "cell_type": "code",
   "execution_count": 0,
   "metadata": {
    "colab": {},
    "colab_type": "code",
    "id": "e2Skua9GRimJ"
   },
   "outputs": [],
   "source": [
    "from sklearn.feature_extraction.text import CountVectorizer"
   ]
  },
  {
   "cell_type": "code",
   "execution_count": 0,
   "metadata": {
    "colab": {},
    "colab_type": "code",
    "id": "a2dVJzR9TyeZ"
   },
   "outputs": [],
   "source": [
    "#english stopwords will be removed from here\n",
    "countVect=CountVectorizer(min_df=1, stop_words='english')"
   ]
  },
  {
   "cell_type": "code",
   "execution_count": 15,
   "metadata": {
    "colab": {
     "base_uri": "https://localhost:8080/",
     "height": 36
    },
    "colab_type": "code",
    "executionInfo": {
     "elapsed": 1730,
     "status": "ok",
     "timestamp": 1588091604069,
     "user": {
      "displayName": "Raghvendra Pratap Singh",
      "photoUrl": "https://lh3.googleusercontent.com/a-/AOh14Gj1jQJ5n0fdqt2IyBbxgNbDiN_ZfLwM20c8-dFk=s64",
      "userId": "16108454137484926510"
     },
     "user_tz": -330
    },
    "id": "4V6csCBERjow",
    "outputId": "f7e08a11-5f2e-426d-d4f9-f8412418aa6f"
   },
   "outputs": [
    {
     "name": "stdout",
     "output_type": "stream",
     "text": [
      "(6000, 5019)\n"
     ]
    }
   ],
   "source": [
    "xCounts=countVect.fit_transform(dfCaptions_Dev['caption'])\n",
    "print(xCounts.shape)"
   ]
  },
  {
   "cell_type": "code",
   "execution_count": 0,
   "metadata": {
    "colab": {},
    "colab_type": "code",
    "id": "7GYgxuFHRlsv"
   },
   "outputs": [],
   "source": [
    "xCounts=countVect.fit_transform(dfCaptions_Dev['caption'])"
   ]
  },
  {
   "cell_type": "code",
   "execution_count": 17,
   "metadata": {
    "colab": {
     "base_uri": "https://localhost:8080/",
     "height": 147
    },
    "colab_type": "code",
    "executionInfo": {
     "elapsed": 2228,
     "status": "ok",
     "timestamp": 1588091614684,
     "user": {
      "displayName": "Raghvendra Pratap Singh",
      "photoUrl": "https://lh3.googleusercontent.com/a-/AOh14Gj1jQJ5n0fdqt2IyBbxgNbDiN_ZfLwM20c8-dFk=s64",
      "userId": "16108454137484926510"
     },
     "user_tz": -330
    },
    "id": "3AQ8LDPgRoU8",
    "outputId": "cda4a986-373b-4c84-a0fd-419c6ee642ea"
   },
   "outputs": [
    {
     "data": {
      "text/plain": [
       "array([[0, 0, 0, ..., 0, 0, 0],\n",
       "       [0, 0, 0, ..., 0, 0, 0],\n",
       "       [0, 0, 0, ..., 0, 0, 0],\n",
       "       ...,\n",
       "       [0, 0, 0, ..., 0, 0, 0],\n",
       "       [0, 0, 0, ..., 0, 0, 0],\n",
       "       [0, 0, 0, ..., 0, 0, 0]])"
      ]
     },
     "execution_count": 17,
     "metadata": {
      "tags": []
     },
     "output_type": "execute_result"
    }
   ],
   "source": [
    "xCountsSeq=xCounts.toarray()\n",
    "xCountsSeq"
   ]
  },
  {
   "cell_type": "code",
   "execution_count": 18,
   "metadata": {
    "colab": {
     "base_uri": "https://localhost:8080/",
     "height": 36
    },
    "colab_type": "code",
    "executionInfo": {
     "elapsed": 1967,
     "status": "ok",
     "timestamp": 1588091619144,
     "user": {
      "displayName": "Raghvendra Pratap Singh",
      "photoUrl": "https://lh3.googleusercontent.com/a-/AOh14Gj1jQJ5n0fdqt2IyBbxgNbDiN_ZfLwM20c8-dFk=s64",
      "userId": "16108454137484926510"
     },
     "user_tz": -330
    },
    "id": "TsUQKDWeRqwk",
    "outputId": "1c36dddb-c0ee-4e5f-d29d-b6e609b9b1cd"
   },
   "outputs": [
    {
     "name": "stdout",
     "output_type": "stream",
     "text": [
      "[0 0 0 ... 0 0 0]\n"
     ]
    }
   ],
   "source": [
    "print(xCountsSeq[3])"
   ]
  },
  {
   "cell_type": "markdown",
   "metadata": {
    "colab_type": "text",
    "id": "OETyfOJqC_bd"
   },
   "source": [
    "2. Below steps are for TF-IDF"
   ]
  },
  {
   "cell_type": "markdown",
   "metadata": {
    "colab_type": "text",
    "id": "ecno9ivCDYfy"
   },
   "source": [
    "reference of few function has been taken from the tutorial"
   ]
  },
  {
   "cell_type": "code",
   "execution_count": 19,
   "metadata": {
    "colab": {
     "base_uri": "https://localhost:8080/",
     "height": 36
    },
    "colab_type": "code",
    "executionInfo": {
     "elapsed": 1657,
     "status": "ok",
     "timestamp": 1588091623646,
     "user": {
      "displayName": "Raghvendra Pratap Singh",
      "photoUrl": "https://lh3.googleusercontent.com/a-/AOh14Gj1jQJ5n0fdqt2IyBbxgNbDiN_ZfLwM20c8-dFk=s64",
      "userId": "16108454137484926510"
     },
     "user_tz": -330
    },
    "id": "w-YjTl3zhqQl",
    "outputId": "40ef7714-0514-455b-dcc6-2c20c0060cff"
   },
   "outputs": [
    {
     "data": {
      "text/plain": [
       "'!\"#$%&\\'()*+,-./:;<=>?@[\\\\]^_`{|}~'"
      ]
     },
     "execution_count": 19,
     "metadata": {
      "tags": []
     },
     "output_type": "execute_result"
    }
   ],
   "source": [
    "import string\n",
    "string.punctuation"
   ]
  },
  {
   "cell_type": "code",
   "execution_count": 0,
   "metadata": {
    "colab": {},
    "colab_type": "code",
    "id": "82hiBpwihr3Q"
   },
   "outputs": [],
   "source": [
    "#function to remove punctuation\n",
    "def fixingPunctuation(text):\n",
    "  fixedText=\"\".join([word for word in text if word not in string.punctuation])  #it will discard all punctuation\n",
    "  return fixedText"
   ]
  },
  {
   "cell_type": "code",
   "execution_count": 21,
   "metadata": {
    "colab": {
     "base_uri": "https://localhost:8080/",
     "height": 144
    },
    "colab_type": "code",
    "executionInfo": {
     "elapsed": 1759,
     "status": "ok",
     "timestamp": 1588091630214,
     "user": {
      "displayName": "Raghvendra Pratap Singh",
      "photoUrl": "https://lh3.googleusercontent.com/a-/AOh14Gj1jQJ5n0fdqt2IyBbxgNbDiN_ZfLwM20c8-dFk=s64",
      "userId": "16108454137484926510"
     },
     "user_tz": -330
    },
    "id": "jT9XHk5_noX2",
    "outputId": "8deaf477-2412-4316-dbec-62bb6848c582"
   },
   "outputs": [
    {
     "data": {
      "text/html": [
       "<div>\n",
       "<style scoped>\n",
       "    .dataframe tbody tr th:only-of-type {\n",
       "        vertical-align: middle;\n",
       "    }\n",
       "\n",
       "    .dataframe tbody tr th {\n",
       "        vertical-align: top;\n",
       "    }\n",
       "\n",
       "    .dataframe thead th {\n",
       "        text-align: right;\n",
       "    }\n",
       "</style>\n",
       "<table border=\"1\" class=\"dataframe\">\n",
       "  <thead>\n",
       "    <tr style=\"text-align: right;\">\n",
       "      <th></th>\n",
       "      <th>video</th>\n",
       "      <th>caption</th>\n",
       "      <th>short-term_memorability</th>\n",
       "      <th>nb_short-term_annotations</th>\n",
       "      <th>long-term_memorability</th>\n",
       "      <th>nb_long-term_annotations</th>\n",
       "      <th>updatedCaption</th>\n",
       "    </tr>\n",
       "  </thead>\n",
       "  <tbody>\n",
       "    <tr>\n",
       "      <th>0</th>\n",
       "      <td>video3.webm</td>\n",
       "      <td>blonde-woman-is-massaged-tilt-down</td>\n",
       "      <td>0.924</td>\n",
       "      <td>34</td>\n",
       "      <td>0.846</td>\n",
       "      <td>13</td>\n",
       "      <td>blondewomanismassagedtiltdown</td>\n",
       "    </tr>\n",
       "    <tr>\n",
       "      <th>1</th>\n",
       "      <td>video4.webm</td>\n",
       "      <td>roulette-table-spinning-with-ball-in-closeup-shot</td>\n",
       "      <td>0.923</td>\n",
       "      <td>33</td>\n",
       "      <td>0.667</td>\n",
       "      <td>12</td>\n",
       "      <td>roulettetablespinningwithballincloseupshot</td>\n",
       "    </tr>\n",
       "    <tr>\n",
       "      <th>2</th>\n",
       "      <td>video6.webm</td>\n",
       "      <td>khr-gangsters</td>\n",
       "      <td>0.863</td>\n",
       "      <td>33</td>\n",
       "      <td>0.700</td>\n",
       "      <td>10</td>\n",
       "      <td>khrgangsters</td>\n",
       "    </tr>\n",
       "  </tbody>\n",
       "</table>\n",
       "</div>"
      ],
      "text/plain": [
       "         video  ...                              updatedCaption\n",
       "0  video3.webm  ...               blondewomanismassagedtiltdown\n",
       "1  video4.webm  ...  roulettetablespinningwithballincloseupshot\n",
       "2  video6.webm  ...                                khrgangsters\n",
       "\n",
       "[3 rows x 7 columns]"
      ]
     },
     "execution_count": 21,
     "metadata": {
      "tags": []
     },
     "output_type": "execute_result"
    }
   ],
   "source": [
    "dfCaptions_Dev['updatedCaption']=dfCaptions_Dev['caption'].apply(lambda x: fixingPunctuation(x))\n",
    "dfCaptions_Dev.head(3)"
   ]
  },
  {
   "cell_type": "code",
   "execution_count": 0,
   "metadata": {
    "colab": {},
    "colab_type": "code",
    "id": "JwK6xB1rD3E2"
   },
   "outputs": [],
   "source": [
    "from sklearn.feature_extraction.text import TfidfVectorizer"
   ]
  },
  {
   "cell_type": "code",
   "execution_count": 0,
   "metadata": {
    "colab": {},
    "colab_type": "code",
    "id": "nKfW_WCIEFOZ"
   },
   "outputs": [],
   "source": [
    "vectorizer=TfidfVectorizer(max_features=1000)\n",
    "#response=vectorizer.fit_transform(dfCaptions_Dev.updatedCaption).toarray()\n",
    "#above line is commented because updatedCaptions didn't perform well. I will use captions now.\n",
    "response=vectorizer.fit_transform(dfCaptions_Dev.caption).toarray()"
   ]
  },
  {
   "cell_type": "code",
   "execution_count": 41,
   "metadata": {
    "colab": {
     "base_uri": "https://localhost:8080/",
     "height": 129
    },
    "colab_type": "code",
    "executionInfo": {
     "elapsed": 3002,
     "status": "ok",
     "timestamp": 1588092018202,
     "user": {
      "displayName": "Raghvendra Pratap Singh",
      "photoUrl": "https://lh3.googleusercontent.com/a-/AOh14Gj1jQJ5n0fdqt2IyBbxgNbDiN_ZfLwM20c8-dFk=s64",
      "userId": "16108454137484926510"
     },
     "user_tz": -330
    },
    "id": "4KpXiprDEFTy",
    "outputId": "9e0d3056-2a58-479e-a444-498578c029e1"
   },
   "outputs": [
    {
     "name": "stdout",
     "output_type": "stream",
     "text": [
      "         video  ...                                  vectorizedCaption\n",
      "0  video3.webm  ...  [0.0, 0.0, 0.0, 0.0, 0.0, 0.0, 0.0, 0.0, 0.0, ...\n",
      "1  video4.webm  ...  [0.0, 0.0, 0.0, 0.0, 0.0, 0.0, 0.0, 0.0, 0.0, ...\n",
      "2  video6.webm  ...  [0.0, 0.0, 0.0, 0.0, 0.0, 0.0, 0.0, 0.0, 0.0, ...\n",
      "\n",
      "[3 rows x 8 columns]\n"
     ]
    }
   ],
   "source": [
    "dfCaptions_Dev['vectorizedCaption']=pd.Series(response.tolist())\n",
    "print(dfCaptions_Dev.head(3))"
   ]
  },
  {
   "cell_type": "code",
   "execution_count": 42,
   "metadata": {
    "colab": {
     "base_uri": "https://localhost:8080/",
     "height": 166
    },
    "colab_type": "code",
    "executionInfo": {
     "elapsed": 2954,
     "status": "ok",
     "timestamp": 1588092018209,
     "user": {
      "displayName": "Raghvendra Pratap Singh",
      "photoUrl": "https://lh3.googleusercontent.com/a-/AOh14Gj1jQJ5n0fdqt2IyBbxgNbDiN_ZfLwM20c8-dFk=s64",
      "userId": "16108454137484926510"
     },
     "user_tz": -330
    },
    "id": "JcOAgDWXEh9j",
    "outputId": "d6e15317-6d50-4687-fb07-860939298b14"
   },
   "outputs": [
    {
     "data": {
      "text/plain": [
       "['video',\n",
       " 'caption',\n",
       " 'short-term_memorability',\n",
       " 'nb_short-term_annotations',\n",
       " 'long-term_memorability',\n",
       " 'nb_long-term_annotations',\n",
       " 'updatedCaption',\n",
       " 'vectorizedCaption']"
      ]
     },
     "execution_count": 42,
     "metadata": {
      "tags": []
     },
     "output_type": "execute_result"
    }
   ],
   "source": [
    "list(dfCaptions_Dev.columns)"
   ]
  },
  {
   "cell_type": "code",
   "execution_count": 0,
   "metadata": {
    "colab": {},
    "colab_type": "code",
    "id": "ay92rKSntOpA"
   },
   "outputs": [],
   "source": [
    "#dfCaptions_Dev_tfIdf = dfCaptions_Dev[['vectorizedCaption']].copy()\n",
    "dfCaptions_Dev_tfIdf=pd.DataFrame(dfCaptions_Dev['vectorizedCaption'].tolist())\n",
    "#dfCaptions_Dev_tfIdf['video']=pd.Series(dfCaptions_Dev['video'])"
   ]
  },
  {
   "cell_type": "code",
   "execution_count": 44,
   "metadata": {
    "colab": {
     "base_uri": "https://localhost:8080/",
     "height": 193
    },
    "colab_type": "code",
    "executionInfo": {
     "elapsed": 4152,
     "status": "ok",
     "timestamp": 1588092019476,
     "user": {
      "displayName": "Raghvendra Pratap Singh",
      "photoUrl": "https://lh3.googleusercontent.com/a-/AOh14Gj1jQJ5n0fdqt2IyBbxgNbDiN_ZfLwM20c8-dFk=s64",
      "userId": "16108454137484926510"
     },
     "user_tz": -330
    },
    "id": "YIuVapTRtO1a",
    "outputId": "bbf63704-b73e-40d1-da03-b4bfe6e93b58"
   },
   "outputs": [
    {
     "data": {
      "text/html": [
       "<div>\n",
       "<style scoped>\n",
       "    .dataframe tbody tr th:only-of-type {\n",
       "        vertical-align: middle;\n",
       "    }\n",
       "\n",
       "    .dataframe tbody tr th {\n",
       "        vertical-align: top;\n",
       "    }\n",
       "\n",
       "    .dataframe thead th {\n",
       "        text-align: right;\n",
       "    }\n",
       "</style>\n",
       "<table border=\"1\" class=\"dataframe\">\n",
       "  <thead>\n",
       "    <tr style=\"text-align: right;\">\n",
       "      <th></th>\n",
       "      <th>0</th>\n",
       "      <th>1</th>\n",
       "      <th>2</th>\n",
       "      <th>3</th>\n",
       "      <th>4</th>\n",
       "      <th>5</th>\n",
       "      <th>6</th>\n",
       "      <th>7</th>\n",
       "      <th>8</th>\n",
       "      <th>9</th>\n",
       "      <th>10</th>\n",
       "      <th>11</th>\n",
       "      <th>12</th>\n",
       "      <th>13</th>\n",
       "      <th>14</th>\n",
       "      <th>15</th>\n",
       "      <th>16</th>\n",
       "      <th>17</th>\n",
       "      <th>18</th>\n",
       "      <th>19</th>\n",
       "      <th>20</th>\n",
       "      <th>21</th>\n",
       "      <th>22</th>\n",
       "      <th>23</th>\n",
       "      <th>24</th>\n",
       "      <th>25</th>\n",
       "      <th>26</th>\n",
       "      <th>27</th>\n",
       "      <th>28</th>\n",
       "      <th>29</th>\n",
       "      <th>30</th>\n",
       "      <th>31</th>\n",
       "      <th>32</th>\n",
       "      <th>33</th>\n",
       "      <th>34</th>\n",
       "      <th>35</th>\n",
       "      <th>36</th>\n",
       "      <th>37</th>\n",
       "      <th>38</th>\n",
       "      <th>39</th>\n",
       "      <th>...</th>\n",
       "      <th>960</th>\n",
       "      <th>961</th>\n",
       "      <th>962</th>\n",
       "      <th>963</th>\n",
       "      <th>964</th>\n",
       "      <th>965</th>\n",
       "      <th>966</th>\n",
       "      <th>967</th>\n",
       "      <th>968</th>\n",
       "      <th>969</th>\n",
       "      <th>970</th>\n",
       "      <th>971</th>\n",
       "      <th>972</th>\n",
       "      <th>973</th>\n",
       "      <th>974</th>\n",
       "      <th>975</th>\n",
       "      <th>976</th>\n",
       "      <th>977</th>\n",
       "      <th>978</th>\n",
       "      <th>979</th>\n",
       "      <th>980</th>\n",
       "      <th>981</th>\n",
       "      <th>982</th>\n",
       "      <th>983</th>\n",
       "      <th>984</th>\n",
       "      <th>985</th>\n",
       "      <th>986</th>\n",
       "      <th>987</th>\n",
       "      <th>988</th>\n",
       "      <th>989</th>\n",
       "      <th>990</th>\n",
       "      <th>991</th>\n",
       "      <th>992</th>\n",
       "      <th>993</th>\n",
       "      <th>994</th>\n",
       "      <th>995</th>\n",
       "      <th>996</th>\n",
       "      <th>997</th>\n",
       "      <th>998</th>\n",
       "      <th>999</th>\n",
       "    </tr>\n",
       "  </thead>\n",
       "  <tbody>\n",
       "    <tr>\n",
       "      <th>0</th>\n",
       "      <td>0.0</td>\n",
       "      <td>0.0</td>\n",
       "      <td>0.0</td>\n",
       "      <td>0.0</td>\n",
       "      <td>0.0</td>\n",
       "      <td>0.0</td>\n",
       "      <td>0.0</td>\n",
       "      <td>0.0</td>\n",
       "      <td>0.0</td>\n",
       "      <td>0.0</td>\n",
       "      <td>0.0</td>\n",
       "      <td>0.0</td>\n",
       "      <td>0.0</td>\n",
       "      <td>0.0</td>\n",
       "      <td>0.0</td>\n",
       "      <td>0.0</td>\n",
       "      <td>0.0</td>\n",
       "      <td>0.0</td>\n",
       "      <td>0.0</td>\n",
       "      <td>0.0</td>\n",
       "      <td>0.0</td>\n",
       "      <td>0.0</td>\n",
       "      <td>0.0</td>\n",
       "      <td>0.0</td>\n",
       "      <td>0.0</td>\n",
       "      <td>0.0</td>\n",
       "      <td>0.0</td>\n",
       "      <td>0.0</td>\n",
       "      <td>0.0</td>\n",
       "      <td>0.0</td>\n",
       "      <td>0.0</td>\n",
       "      <td>0.0</td>\n",
       "      <td>0.0</td>\n",
       "      <td>0.0</td>\n",
       "      <td>0.0</td>\n",
       "      <td>0.0</td>\n",
       "      <td>0.0</td>\n",
       "      <td>0.0</td>\n",
       "      <td>0.0</td>\n",
       "      <td>0.0</td>\n",
       "      <td>...</td>\n",
       "      <td>0.0</td>\n",
       "      <td>0.0</td>\n",
       "      <td>0.0</td>\n",
       "      <td>0.0</td>\n",
       "      <td>0.0</td>\n",
       "      <td>0.0</td>\n",
       "      <td>0.0</td>\n",
       "      <td>0.0</td>\n",
       "      <td>0.0</td>\n",
       "      <td>0.0</td>\n",
       "      <td>0.0</td>\n",
       "      <td>0.0</td>\n",
       "      <td>0.0</td>\n",
       "      <td>0.0</td>\n",
       "      <td>0.0</td>\n",
       "      <td>0.0</td>\n",
       "      <td>0.0</td>\n",
       "      <td>0.0</td>\n",
       "      <td>0.0</td>\n",
       "      <td>0.000000</td>\n",
       "      <td>0.201449</td>\n",
       "      <td>0.0</td>\n",
       "      <td>0.0</td>\n",
       "      <td>0.0</td>\n",
       "      <td>0.0</td>\n",
       "      <td>0.0</td>\n",
       "      <td>0.0</td>\n",
       "      <td>0.0</td>\n",
       "      <td>0.0</td>\n",
       "      <td>0.0</td>\n",
       "      <td>0.0</td>\n",
       "      <td>0.0</td>\n",
       "      <td>0.0</td>\n",
       "      <td>0.0</td>\n",
       "      <td>0.0</td>\n",
       "      <td>0.0</td>\n",
       "      <td>0.0</td>\n",
       "      <td>0.0</td>\n",
       "      <td>0.0</td>\n",
       "      <td>0.0</td>\n",
       "    </tr>\n",
       "    <tr>\n",
       "      <th>1</th>\n",
       "      <td>0.0</td>\n",
       "      <td>0.0</td>\n",
       "      <td>0.0</td>\n",
       "      <td>0.0</td>\n",
       "      <td>0.0</td>\n",
       "      <td>0.0</td>\n",
       "      <td>0.0</td>\n",
       "      <td>0.0</td>\n",
       "      <td>0.0</td>\n",
       "      <td>0.0</td>\n",
       "      <td>0.0</td>\n",
       "      <td>0.0</td>\n",
       "      <td>0.0</td>\n",
       "      <td>0.0</td>\n",
       "      <td>0.0</td>\n",
       "      <td>0.0</td>\n",
       "      <td>0.0</td>\n",
       "      <td>0.0</td>\n",
       "      <td>0.0</td>\n",
       "      <td>0.0</td>\n",
       "      <td>0.0</td>\n",
       "      <td>0.0</td>\n",
       "      <td>0.0</td>\n",
       "      <td>0.0</td>\n",
       "      <td>0.0</td>\n",
       "      <td>0.0</td>\n",
       "      <td>0.0</td>\n",
       "      <td>0.0</td>\n",
       "      <td>0.0</td>\n",
       "      <td>0.0</td>\n",
       "      <td>0.0</td>\n",
       "      <td>0.0</td>\n",
       "      <td>0.0</td>\n",
       "      <td>0.0</td>\n",
       "      <td>0.0</td>\n",
       "      <td>0.0</td>\n",
       "      <td>0.0</td>\n",
       "      <td>0.0</td>\n",
       "      <td>0.0</td>\n",
       "      <td>0.0</td>\n",
       "      <td>...</td>\n",
       "      <td>0.0</td>\n",
       "      <td>0.0</td>\n",
       "      <td>0.0</td>\n",
       "      <td>0.0</td>\n",
       "      <td>0.0</td>\n",
       "      <td>0.0</td>\n",
       "      <td>0.0</td>\n",
       "      <td>0.0</td>\n",
       "      <td>0.0</td>\n",
       "      <td>0.0</td>\n",
       "      <td>0.0</td>\n",
       "      <td>0.0</td>\n",
       "      <td>0.0</td>\n",
       "      <td>0.0</td>\n",
       "      <td>0.0</td>\n",
       "      <td>0.0</td>\n",
       "      <td>0.0</td>\n",
       "      <td>0.0</td>\n",
       "      <td>0.0</td>\n",
       "      <td>0.226147</td>\n",
       "      <td>0.000000</td>\n",
       "      <td>0.0</td>\n",
       "      <td>0.0</td>\n",
       "      <td>0.0</td>\n",
       "      <td>0.0</td>\n",
       "      <td>0.0</td>\n",
       "      <td>0.0</td>\n",
       "      <td>0.0</td>\n",
       "      <td>0.0</td>\n",
       "      <td>0.0</td>\n",
       "      <td>0.0</td>\n",
       "      <td>0.0</td>\n",
       "      <td>0.0</td>\n",
       "      <td>0.0</td>\n",
       "      <td>0.0</td>\n",
       "      <td>0.0</td>\n",
       "      <td>0.0</td>\n",
       "      <td>0.0</td>\n",
       "      <td>0.0</td>\n",
       "      <td>0.0</td>\n",
       "    </tr>\n",
       "    <tr>\n",
       "      <th>2</th>\n",
       "      <td>0.0</td>\n",
       "      <td>0.0</td>\n",
       "      <td>0.0</td>\n",
       "      <td>0.0</td>\n",
       "      <td>0.0</td>\n",
       "      <td>0.0</td>\n",
       "      <td>0.0</td>\n",
       "      <td>0.0</td>\n",
       "      <td>0.0</td>\n",
       "      <td>0.0</td>\n",
       "      <td>0.0</td>\n",
       "      <td>0.0</td>\n",
       "      <td>0.0</td>\n",
       "      <td>0.0</td>\n",
       "      <td>0.0</td>\n",
       "      <td>0.0</td>\n",
       "      <td>0.0</td>\n",
       "      <td>0.0</td>\n",
       "      <td>0.0</td>\n",
       "      <td>0.0</td>\n",
       "      <td>0.0</td>\n",
       "      <td>0.0</td>\n",
       "      <td>0.0</td>\n",
       "      <td>0.0</td>\n",
       "      <td>0.0</td>\n",
       "      <td>0.0</td>\n",
       "      <td>0.0</td>\n",
       "      <td>0.0</td>\n",
       "      <td>0.0</td>\n",
       "      <td>0.0</td>\n",
       "      <td>0.0</td>\n",
       "      <td>0.0</td>\n",
       "      <td>0.0</td>\n",
       "      <td>0.0</td>\n",
       "      <td>0.0</td>\n",
       "      <td>0.0</td>\n",
       "      <td>0.0</td>\n",
       "      <td>0.0</td>\n",
       "      <td>0.0</td>\n",
       "      <td>0.0</td>\n",
       "      <td>...</td>\n",
       "      <td>0.0</td>\n",
       "      <td>0.0</td>\n",
       "      <td>0.0</td>\n",
       "      <td>0.0</td>\n",
       "      <td>0.0</td>\n",
       "      <td>0.0</td>\n",
       "      <td>0.0</td>\n",
       "      <td>0.0</td>\n",
       "      <td>0.0</td>\n",
       "      <td>0.0</td>\n",
       "      <td>0.0</td>\n",
       "      <td>0.0</td>\n",
       "      <td>0.0</td>\n",
       "      <td>0.0</td>\n",
       "      <td>0.0</td>\n",
       "      <td>0.0</td>\n",
       "      <td>0.0</td>\n",
       "      <td>0.0</td>\n",
       "      <td>0.0</td>\n",
       "      <td>0.000000</td>\n",
       "      <td>0.000000</td>\n",
       "      <td>0.0</td>\n",
       "      <td>0.0</td>\n",
       "      <td>0.0</td>\n",
       "      <td>0.0</td>\n",
       "      <td>0.0</td>\n",
       "      <td>0.0</td>\n",
       "      <td>0.0</td>\n",
       "      <td>0.0</td>\n",
       "      <td>0.0</td>\n",
       "      <td>0.0</td>\n",
       "      <td>0.0</td>\n",
       "      <td>0.0</td>\n",
       "      <td>0.0</td>\n",
       "      <td>0.0</td>\n",
       "      <td>0.0</td>\n",
       "      <td>0.0</td>\n",
       "      <td>0.0</td>\n",
       "      <td>0.0</td>\n",
       "      <td>0.0</td>\n",
       "    </tr>\n",
       "  </tbody>\n",
       "</table>\n",
       "<p>3 rows × 1000 columns</p>\n",
       "</div>"
      ],
      "text/plain": [
       "   0    1    2    3    4    5    6    ...  993  994  995  996  997  998  999\n",
       "0  0.0  0.0  0.0  0.0  0.0  0.0  0.0  ...  0.0  0.0  0.0  0.0  0.0  0.0  0.0\n",
       "1  0.0  0.0  0.0  0.0  0.0  0.0  0.0  ...  0.0  0.0  0.0  0.0  0.0  0.0  0.0\n",
       "2  0.0  0.0  0.0  0.0  0.0  0.0  0.0  ...  0.0  0.0  0.0  0.0  0.0  0.0  0.0\n",
       "\n",
       "[3 rows x 1000 columns]"
      ]
     },
     "execution_count": 44,
     "metadata": {
      "tags": []
     },
     "output_type": "execute_result"
    }
   ],
   "source": [
    "dfCaptions_Dev_tfIdf.head(3)"
   ]
  },
  {
   "cell_type": "markdown",
   "metadata": {
    "colab_type": "text",
    "id": "tR5eVUwrpFAE"
   },
   "source": [
    "*below lines are to merge captions(tf-idf) with HMP*\n",
    "\n",
    "these lines are updated later after comapring the performance of count vectorizer for captions"
   ]
  },
  {
   "cell_type": "code",
   "execution_count": 267,
   "metadata": {
    "colab": {
     "base_uri": "https://localhost:8080/",
     "height": 129
    },
    "colab_type": "code",
    "executionInfo": {
     "elapsed": 2733,
     "status": "ok",
     "timestamp": 1588078448146,
     "user": {
      "displayName": "Raghvendra Pratap Singh",
      "photoUrl": "https://lh3.googleusercontent.com/a-/AOh14Gj1jQJ5n0fdqt2IyBbxgNbDiN_ZfLwM20c8-dFk=s64",
      "userId": "16108454137484926510"
     },
     "user_tz": -330
    },
    "id": "bNFGg-gyQzVr",
    "outputId": "da6d8e12-d94d-485d-9e9f-201f585fa29d"
   },
   "outputs": [
    {
     "name": "stdout",
     "output_type": "stream",
     "text": [
      "     0    1  ...  long-term_memorability  nb_long-term_annotations\n",
      "0  0.0  0.0  ...                   0.846                        13\n",
      "1  0.0  0.0  ...                   0.667                        12\n",
      "2  0.0  0.0  ...                   0.700                        10\n",
      "\n",
      "[3 rows x 1107 columns]\n"
     ]
    }
   ],
   "source": [
    "dfDevCaptions_HMP=pd.DataFrame(dfCaptions_Dev['vectorizedCaption'].tolist())\n",
    "dfDevCaptions_HMP['video']=pd.Series(dfCaptions_Dev['video'])\n",
    "dfDevCaptions_HMP=pd.merge(dfDevCaptions_HMP, dfHMP_Dev, on = 'video')\n",
    "\n",
    "print(dfDevCaptions_HMP.head(3))"
   ]
  },
  {
   "cell_type": "code",
   "execution_count": 0,
   "metadata": {
    "colab": {},
    "colab_type": "code",
    "id": "b_ahf44x2b99"
   },
   "outputs": [],
   "source": [
    "dfDevCaptions_HMP_final = dfDevCaptions_HMP.drop(columns=['long-term_memorability', 'short-term_memorability', 'video', 'nb_long-term_annotations', 'nb_short-term_annotations'], axis=1)"
   ]
  },
  {
   "cell_type": "code",
   "execution_count": 273,
   "metadata": {
    "colab": {
     "base_uri": "https://localhost:8080/",
     "height": 193
    },
    "colab_type": "code",
    "executionInfo": {
     "elapsed": 1535,
     "status": "ok",
     "timestamp": 1588078769243,
     "user": {
      "displayName": "Raghvendra Pratap Singh",
      "photoUrl": "https://lh3.googleusercontent.com/a-/AOh14Gj1jQJ5n0fdqt2IyBbxgNbDiN_ZfLwM20c8-dFk=s64",
      "userId": "16108454137484926510"
     },
     "user_tz": -330
    },
    "id": "SBQSXwAb3tJM",
    "outputId": "c391f900-e1ba-4dc4-a7c6-9a381cd5afcd"
   },
   "outputs": [
    {
     "data": {
      "text/html": [
       "<div>\n",
       "<style scoped>\n",
       "    .dataframe tbody tr th:only-of-type {\n",
       "        vertical-align: middle;\n",
       "    }\n",
       "\n",
       "    .dataframe tbody tr th {\n",
       "        vertical-align: top;\n",
       "    }\n",
       "\n",
       "    .dataframe thead th {\n",
       "        text-align: right;\n",
       "    }\n",
       "</style>\n",
       "<table border=\"1\" class=\"dataframe\">\n",
       "  <thead>\n",
       "    <tr style=\"text-align: right;\">\n",
       "      <th></th>\n",
       "      <th>0</th>\n",
       "      <th>1</th>\n",
       "      <th>2</th>\n",
       "      <th>3</th>\n",
       "      <th>4</th>\n",
       "      <th>5</th>\n",
       "      <th>6</th>\n",
       "      <th>7</th>\n",
       "      <th>8</th>\n",
       "      <th>9</th>\n",
       "      <th>10</th>\n",
       "      <th>11</th>\n",
       "      <th>12</th>\n",
       "      <th>13</th>\n",
       "      <th>14</th>\n",
       "      <th>15</th>\n",
       "      <th>16</th>\n",
       "      <th>17</th>\n",
       "      <th>18</th>\n",
       "      <th>19</th>\n",
       "      <th>20</th>\n",
       "      <th>21</th>\n",
       "      <th>22</th>\n",
       "      <th>23</th>\n",
       "      <th>24</th>\n",
       "      <th>25</th>\n",
       "      <th>26</th>\n",
       "      <th>27</th>\n",
       "      <th>28</th>\n",
       "      <th>29</th>\n",
       "      <th>30</th>\n",
       "      <th>31</th>\n",
       "      <th>32</th>\n",
       "      <th>33</th>\n",
       "      <th>34</th>\n",
       "      <th>35</th>\n",
       "      <th>36</th>\n",
       "      <th>37</th>\n",
       "      <th>38</th>\n",
       "      <th>39</th>\n",
       "      <th>...</th>\n",
       "      <th>61</th>\n",
       "      <th>62</th>\n",
       "      <th>63</th>\n",
       "      <th>64</th>\n",
       "      <th>65</th>\n",
       "      <th>66</th>\n",
       "      <th>67</th>\n",
       "      <th>68</th>\n",
       "      <th>69</th>\n",
       "      <th>70</th>\n",
       "      <th>71</th>\n",
       "      <th>72</th>\n",
       "      <th>73</th>\n",
       "      <th>74</th>\n",
       "      <th>75</th>\n",
       "      <th>76</th>\n",
       "      <th>77</th>\n",
       "      <th>78</th>\n",
       "      <th>79</th>\n",
       "      <th>80</th>\n",
       "      <th>81</th>\n",
       "      <th>82</th>\n",
       "      <th>83</th>\n",
       "      <th>84</th>\n",
       "      <th>85</th>\n",
       "      <th>86</th>\n",
       "      <th>87</th>\n",
       "      <th>88</th>\n",
       "      <th>89</th>\n",
       "      <th>90</th>\n",
       "      <th>91</th>\n",
       "      <th>92</th>\n",
       "      <th>93</th>\n",
       "      <th>94</th>\n",
       "      <th>95</th>\n",
       "      <th>96</th>\n",
       "      <th>97</th>\n",
       "      <th>98</th>\n",
       "      <th>99</th>\n",
       "      <th>100</th>\n",
       "    </tr>\n",
       "  </thead>\n",
       "  <tbody>\n",
       "    <tr>\n",
       "      <th>0</th>\n",
       "      <td>0.0</td>\n",
       "      <td>0.0</td>\n",
       "      <td>0.0</td>\n",
       "      <td>0.0</td>\n",
       "      <td>0.0</td>\n",
       "      <td>0.0</td>\n",
       "      <td>0.0</td>\n",
       "      <td>0.0</td>\n",
       "      <td>0.0</td>\n",
       "      <td>0.0</td>\n",
       "      <td>0.0</td>\n",
       "      <td>0.0</td>\n",
       "      <td>0.0</td>\n",
       "      <td>0.0</td>\n",
       "      <td>0.0</td>\n",
       "      <td>0.0</td>\n",
       "      <td>0.0</td>\n",
       "      <td>0.0</td>\n",
       "      <td>0.0</td>\n",
       "      <td>0.0</td>\n",
       "      <td>0.0</td>\n",
       "      <td>0.0</td>\n",
       "      <td>0.0</td>\n",
       "      <td>0.0</td>\n",
       "      <td>0.0</td>\n",
       "      <td>0.0</td>\n",
       "      <td>0.0</td>\n",
       "      <td>0.0</td>\n",
       "      <td>0.0</td>\n",
       "      <td>0.0</td>\n",
       "      <td>0.0</td>\n",
       "      <td>0.0</td>\n",
       "      <td>0.0</td>\n",
       "      <td>0.0</td>\n",
       "      <td>0.0</td>\n",
       "      <td>0.0</td>\n",
       "      <td>0.0</td>\n",
       "      <td>0.0</td>\n",
       "      <td>0.0</td>\n",
       "      <td>0.0</td>\n",
       "      <td>...</td>\n",
       "      <td>0.096647</td>\n",
       "      <td>0.004458</td>\n",
       "      <td>0.011840</td>\n",
       "      <td>0.000287</td>\n",
       "      <td>0.002195</td>\n",
       "      <td>0.002792</td>\n",
       "      <td>0.000018</td>\n",
       "      <td>0.003365</td>\n",
       "      <td>0.000061</td>\n",
       "      <td>0.000573</td>\n",
       "      <td>0.000273</td>\n",
       "      <td>0.000034</td>\n",
       "      <td>0.006737</td>\n",
       "      <td>0.000021</td>\n",
       "      <td>0.000098</td>\n",
       "      <td>0.000025</td>\n",
       "      <td>0.005768</td>\n",
       "      <td>2.990000e-06</td>\n",
       "      <td>0.000085</td>\n",
       "      <td>0.000607</td>\n",
       "      <td>0.000461</td>\n",
       "      <td>0.001189</td>\n",
       "      <td>0.000270</td>\n",
       "      <td>0.000127</td>\n",
       "      <td>0.000106</td>\n",
       "      <td>0.000154</td>\n",
       "      <td>0.000567</td>\n",
       "      <td>0.000020</td>\n",
       "      <td>0.000894</td>\n",
       "      <td>0.001079</td>\n",
       "      <td>0.001042</td>\n",
       "      <td>0.000161</td>\n",
       "      <td>0.000257</td>\n",
       "      <td>0.046617</td>\n",
       "      <td>0.000156</td>\n",
       "      <td>0.000006</td>\n",
       "      <td>0.000537</td>\n",
       "      <td>0.000339</td>\n",
       "      <td>0.008437</td>\n",
       "      <td>0.000470</td>\n",
       "    </tr>\n",
       "    <tr>\n",
       "      <th>1</th>\n",
       "      <td>0.0</td>\n",
       "      <td>0.0</td>\n",
       "      <td>0.0</td>\n",
       "      <td>0.0</td>\n",
       "      <td>0.0</td>\n",
       "      <td>0.0</td>\n",
       "      <td>0.0</td>\n",
       "      <td>0.0</td>\n",
       "      <td>0.0</td>\n",
       "      <td>0.0</td>\n",
       "      <td>0.0</td>\n",
       "      <td>0.0</td>\n",
       "      <td>0.0</td>\n",
       "      <td>0.0</td>\n",
       "      <td>0.0</td>\n",
       "      <td>0.0</td>\n",
       "      <td>0.0</td>\n",
       "      <td>0.0</td>\n",
       "      <td>0.0</td>\n",
       "      <td>0.0</td>\n",
       "      <td>0.0</td>\n",
       "      <td>0.0</td>\n",
       "      <td>0.0</td>\n",
       "      <td>0.0</td>\n",
       "      <td>0.0</td>\n",
       "      <td>0.0</td>\n",
       "      <td>0.0</td>\n",
       "      <td>0.0</td>\n",
       "      <td>0.0</td>\n",
       "      <td>0.0</td>\n",
       "      <td>0.0</td>\n",
       "      <td>0.0</td>\n",
       "      <td>0.0</td>\n",
       "      <td>0.0</td>\n",
       "      <td>0.0</td>\n",
       "      <td>0.0</td>\n",
       "      <td>0.0</td>\n",
       "      <td>0.0</td>\n",
       "      <td>0.0</td>\n",
       "      <td>0.0</td>\n",
       "      <td>...</td>\n",
       "      <td>0.000372</td>\n",
       "      <td>0.000154</td>\n",
       "      <td>0.000148</td>\n",
       "      <td>0.000086</td>\n",
       "      <td>0.000267</td>\n",
       "      <td>0.000014</td>\n",
       "      <td>0.001430</td>\n",
       "      <td>0.004417</td>\n",
       "      <td>0.000064</td>\n",
       "      <td>0.000105</td>\n",
       "      <td>0.003129</td>\n",
       "      <td>0.000055</td>\n",
       "      <td>0.000061</td>\n",
       "      <td>0.000025</td>\n",
       "      <td>0.004283</td>\n",
       "      <td>0.000010</td>\n",
       "      <td>0.000062</td>\n",
       "      <td>2.903000e-05</td>\n",
       "      <td>0.000374</td>\n",
       "      <td>0.000139</td>\n",
       "      <td>0.741702</td>\n",
       "      <td>0.007178</td>\n",
       "      <td>0.000346</td>\n",
       "      <td>0.000104</td>\n",
       "      <td>0.000181</td>\n",
       "      <td>0.000052</td>\n",
       "      <td>0.004839</td>\n",
       "      <td>0.000078</td>\n",
       "      <td>0.042325</td>\n",
       "      <td>0.000623</td>\n",
       "      <td>0.000582</td>\n",
       "      <td>0.000393</td>\n",
       "      <td>0.000864</td>\n",
       "      <td>0.000947</td>\n",
       "      <td>0.000136</td>\n",
       "      <td>0.000007</td>\n",
       "      <td>0.000360</td>\n",
       "      <td>0.000159</td>\n",
       "      <td>0.001025</td>\n",
       "      <td>0.000020</td>\n",
       "    </tr>\n",
       "    <tr>\n",
       "      <th>2</th>\n",
       "      <td>0.0</td>\n",
       "      <td>0.0</td>\n",
       "      <td>0.0</td>\n",
       "      <td>0.0</td>\n",
       "      <td>0.0</td>\n",
       "      <td>0.0</td>\n",
       "      <td>0.0</td>\n",
       "      <td>0.0</td>\n",
       "      <td>0.0</td>\n",
       "      <td>0.0</td>\n",
       "      <td>0.0</td>\n",
       "      <td>0.0</td>\n",
       "      <td>0.0</td>\n",
       "      <td>0.0</td>\n",
       "      <td>0.0</td>\n",
       "      <td>0.0</td>\n",
       "      <td>0.0</td>\n",
       "      <td>0.0</td>\n",
       "      <td>0.0</td>\n",
       "      <td>0.0</td>\n",
       "      <td>0.0</td>\n",
       "      <td>0.0</td>\n",
       "      <td>0.0</td>\n",
       "      <td>0.0</td>\n",
       "      <td>0.0</td>\n",
       "      <td>0.0</td>\n",
       "      <td>0.0</td>\n",
       "      <td>0.0</td>\n",
       "      <td>0.0</td>\n",
       "      <td>0.0</td>\n",
       "      <td>0.0</td>\n",
       "      <td>0.0</td>\n",
       "      <td>0.0</td>\n",
       "      <td>0.0</td>\n",
       "      <td>0.0</td>\n",
       "      <td>0.0</td>\n",
       "      <td>0.0</td>\n",
       "      <td>0.0</td>\n",
       "      <td>0.0</td>\n",
       "      <td>0.0</td>\n",
       "      <td>...</td>\n",
       "      <td>0.876291</td>\n",
       "      <td>0.005509</td>\n",
       "      <td>0.008852</td>\n",
       "      <td>0.000399</td>\n",
       "      <td>0.000069</td>\n",
       "      <td>0.013166</td>\n",
       "      <td>0.000015</td>\n",
       "      <td>0.000044</td>\n",
       "      <td>0.000520</td>\n",
       "      <td>0.000046</td>\n",
       "      <td>0.000007</td>\n",
       "      <td>0.000024</td>\n",
       "      <td>0.010491</td>\n",
       "      <td>0.000475</td>\n",
       "      <td>0.000023</td>\n",
       "      <td>0.000006</td>\n",
       "      <td>0.005554</td>\n",
       "      <td>2.500000e-07</td>\n",
       "      <td>0.000057</td>\n",
       "      <td>0.000328</td>\n",
       "      <td>0.000149</td>\n",
       "      <td>0.001844</td>\n",
       "      <td>0.000008</td>\n",
       "      <td>0.000103</td>\n",
       "      <td>0.000030</td>\n",
       "      <td>0.000005</td>\n",
       "      <td>0.000179</td>\n",
       "      <td>0.000001</td>\n",
       "      <td>0.000006</td>\n",
       "      <td>0.000215</td>\n",
       "      <td>0.000224</td>\n",
       "      <td>0.000003</td>\n",
       "      <td>0.000031</td>\n",
       "      <td>0.002538</td>\n",
       "      <td>0.000104</td>\n",
       "      <td>0.000005</td>\n",
       "      <td>0.000064</td>\n",
       "      <td>0.005380</td>\n",
       "      <td>0.001027</td>\n",
       "      <td>0.001384</td>\n",
       "    </tr>\n",
       "  </tbody>\n",
       "</table>\n",
       "<p>3 rows × 1102 columns</p>\n",
       "</div>"
      ],
      "text/plain": [
       "     0    1    2    3    4  ...        96        97        98        99       100\n",
       "0  0.0  0.0  0.0  0.0  0.0  ...  0.000006  0.000537  0.000339  0.008437  0.000470\n",
       "1  0.0  0.0  0.0  0.0  0.0  ...  0.000007  0.000360  0.000159  0.001025  0.000020\n",
       "2  0.0  0.0  0.0  0.0  0.0  ...  0.000005  0.000064  0.005380  0.001027  0.001384\n",
       "\n",
       "[3 rows x 1102 columns]"
      ]
     },
     "execution_count": 273,
     "metadata": {
      "tags": []
     },
     "output_type": "execute_result"
    }
   ],
   "source": [
    "dfDevCaptions_HMP_final.head(3)"
   ]
  },
  {
   "cell_type": "markdown",
   "metadata": {
    "colab_type": "text",
    "id": "TU9O_Gt0wvXd"
   },
   "source": [
    "*below lines are to merge captions(tf-idf) with C3D*\n",
    "\n",
    "these lines are updated later after comapring the performance of count vectorizer for captions"
   ]
  },
  {
   "cell_type": "code",
   "execution_count": 297,
   "metadata": {
    "colab": {
     "base_uri": "https://localhost:8080/",
     "height": 129
    },
    "colab_type": "code",
    "executionInfo": {
     "elapsed": 2631,
     "status": "ok",
     "timestamp": 1588079795933,
     "user": {
      "displayName": "Raghvendra Pratap Singh",
      "photoUrl": "https://lh3.googleusercontent.com/a-/AOh14Gj1jQJ5n0fdqt2IyBbxgNbDiN_ZfLwM20c8-dFk=s64",
      "userId": "16108454137484926510"
     },
     "user_tz": -330
    },
    "id": "NS57jl6SQza0",
    "outputId": "173ae572-ead3-4e0a-e054-fafdc0c1f579"
   },
   "outputs": [
    {
     "name": "stdout",
     "output_type": "stream",
     "text": [
      "     0    1  ...  long-term_memorability  nb_long-term_annotations\n",
      "0  0.0  0.0  ...                   0.846                        13\n",
      "1  0.0  0.0  ...                   0.667                        12\n",
      "2  0.0  0.0  ...                   0.700                        10\n",
      "\n",
      "[3 rows x 1106 columns]\n"
     ]
    }
   ],
   "source": [
    "dfDevCaptions_C3D=pd.DataFrame(dfCaptions_Dev['vectorizedCaption'].tolist())\n",
    "dfDevCaptions_C3D['video']=pd.Series(dfCaptions_Dev['video'])\n",
    "dfDevCaptions_C3D=pd.merge(dfDevCaptions_C3D, dfC3D_Dev, on = 'video')\n",
    "\n",
    "print(dfDevCaptions_C3D.head(3))"
   ]
  },
  {
   "cell_type": "code",
   "execution_count": 0,
   "metadata": {
    "colab": {},
    "colab_type": "code",
    "id": "_LniE5-N7p51"
   },
   "outputs": [],
   "source": [
    "dfDevCaptions_C3D_final = dfDevCaptions_C3D.drop(columns=['long-term_memorability', 'short-term_memorability', 'video', 'nb_long-term_annotations', 'nb_short-term_annotations'], axis=1)"
   ]
  },
  {
   "cell_type": "code",
   "execution_count": 299,
   "metadata": {
    "colab": {
     "base_uri": "https://localhost:8080/",
     "height": 256
    },
    "colab_type": "code",
    "executionInfo": {
     "elapsed": 1467,
     "status": "ok",
     "timestamp": 1588079847690,
     "user": {
      "displayName": "Raghvendra Pratap Singh",
      "photoUrl": "https://lh3.googleusercontent.com/a-/AOh14Gj1jQJ5n0fdqt2IyBbxgNbDiN_ZfLwM20c8-dFk=s64",
      "userId": "16108454137484926510"
     },
     "user_tz": -330
    },
    "id": "oh1fdigyeN83",
    "outputId": "1c0a2049-0742-4022-c754-1c3ef123caa1"
   },
   "outputs": [
    {
     "data": {
      "text/html": [
       "<div>\n",
       "<style scoped>\n",
       "    .dataframe tbody tr th:only-of-type {\n",
       "        vertical-align: middle;\n",
       "    }\n",
       "\n",
       "    .dataframe tbody tr th {\n",
       "        vertical-align: top;\n",
       "    }\n",
       "\n",
       "    .dataframe thead th {\n",
       "        text-align: right;\n",
       "    }\n",
       "</style>\n",
       "<table border=\"1\" class=\"dataframe\">\n",
       "  <thead>\n",
       "    <tr style=\"text-align: right;\">\n",
       "      <th></th>\n",
       "      <th>0</th>\n",
       "      <th>1</th>\n",
       "      <th>2</th>\n",
       "      <th>3</th>\n",
       "      <th>4</th>\n",
       "      <th>5</th>\n",
       "      <th>6</th>\n",
       "      <th>7</th>\n",
       "      <th>8</th>\n",
       "      <th>9</th>\n",
       "      <th>10</th>\n",
       "      <th>11</th>\n",
       "      <th>12</th>\n",
       "      <th>13</th>\n",
       "      <th>14</th>\n",
       "      <th>15</th>\n",
       "      <th>16</th>\n",
       "      <th>17</th>\n",
       "      <th>18</th>\n",
       "      <th>19</th>\n",
       "      <th>20</th>\n",
       "      <th>21</th>\n",
       "      <th>22</th>\n",
       "      <th>23</th>\n",
       "      <th>24</th>\n",
       "      <th>25</th>\n",
       "      <th>26</th>\n",
       "      <th>27</th>\n",
       "      <th>28</th>\n",
       "      <th>29</th>\n",
       "      <th>30</th>\n",
       "      <th>31</th>\n",
       "      <th>32</th>\n",
       "      <th>33</th>\n",
       "      <th>34</th>\n",
       "      <th>35</th>\n",
       "      <th>36</th>\n",
       "      <th>37</th>\n",
       "      <th>38</th>\n",
       "      <th>39</th>\n",
       "      <th>...</th>\n",
       "      <th>61</th>\n",
       "      <th>62</th>\n",
       "      <th>63</th>\n",
       "      <th>64</th>\n",
       "      <th>65</th>\n",
       "      <th>66</th>\n",
       "      <th>67</th>\n",
       "      <th>68</th>\n",
       "      <th>69</th>\n",
       "      <th>70</th>\n",
       "      <th>71</th>\n",
       "      <th>72</th>\n",
       "      <th>73</th>\n",
       "      <th>74</th>\n",
       "      <th>75</th>\n",
       "      <th>76</th>\n",
       "      <th>77</th>\n",
       "      <th>78</th>\n",
       "      <th>79</th>\n",
       "      <th>80</th>\n",
       "      <th>81</th>\n",
       "      <th>82</th>\n",
       "      <th>83</th>\n",
       "      <th>84</th>\n",
       "      <th>85</th>\n",
       "      <th>86</th>\n",
       "      <th>87</th>\n",
       "      <th>88</th>\n",
       "      <th>89</th>\n",
       "      <th>90</th>\n",
       "      <th>91</th>\n",
       "      <th>92</th>\n",
       "      <th>93</th>\n",
       "      <th>94</th>\n",
       "      <th>95</th>\n",
       "      <th>96</th>\n",
       "      <th>97</th>\n",
       "      <th>98</th>\n",
       "      <th>99</th>\n",
       "      <th>100</th>\n",
       "    </tr>\n",
       "  </thead>\n",
       "  <tbody>\n",
       "    <tr>\n",
       "      <th>0</th>\n",
       "      <td>0.0</td>\n",
       "      <td>0.0</td>\n",
       "      <td>0.0</td>\n",
       "      <td>0.0</td>\n",
       "      <td>0.0</td>\n",
       "      <td>0.0</td>\n",
       "      <td>0.0</td>\n",
       "      <td>0.0</td>\n",
       "      <td>0.0</td>\n",
       "      <td>0.0</td>\n",
       "      <td>0.0</td>\n",
       "      <td>0.0</td>\n",
       "      <td>0.0</td>\n",
       "      <td>0.0</td>\n",
       "      <td>0.000000</td>\n",
       "      <td>0.0</td>\n",
       "      <td>0.0</td>\n",
       "      <td>0.0</td>\n",
       "      <td>0.0</td>\n",
       "      <td>0.0</td>\n",
       "      <td>0.0</td>\n",
       "      <td>0.0</td>\n",
       "      <td>0.0</td>\n",
       "      <td>0.0</td>\n",
       "      <td>0.0</td>\n",
       "      <td>0.0</td>\n",
       "      <td>0.0</td>\n",
       "      <td>0.0</td>\n",
       "      <td>0.0</td>\n",
       "      <td>0.0</td>\n",
       "      <td>0.0</td>\n",
       "      <td>0.0</td>\n",
       "      <td>0.0</td>\n",
       "      <td>0.0</td>\n",
       "      <td>0.0</td>\n",
       "      <td>0.0</td>\n",
       "      <td>0.0</td>\n",
       "      <td>0.0</td>\n",
       "      <td>0.0</td>\n",
       "      <td>0.0</td>\n",
       "      <td>...</td>\n",
       "      <td>0.096647</td>\n",
       "      <td>0.004458</td>\n",
       "      <td>0.011840</td>\n",
       "      <td>0.000287</td>\n",
       "      <td>0.002195</td>\n",
       "      <td>0.002792</td>\n",
       "      <td>0.000018</td>\n",
       "      <td>0.003365</td>\n",
       "      <td>0.000061</td>\n",
       "      <td>0.000573</td>\n",
       "      <td>0.000273</td>\n",
       "      <td>0.000034</td>\n",
       "      <td>0.006737</td>\n",
       "      <td>0.000021</td>\n",
       "      <td>0.000098</td>\n",
       "      <td>2.502000e-05</td>\n",
       "      <td>0.005768</td>\n",
       "      <td>2.990000e-06</td>\n",
       "      <td>0.000085</td>\n",
       "      <td>0.000607</td>\n",
       "      <td>0.000461</td>\n",
       "      <td>0.001189</td>\n",
       "      <td>0.000270</td>\n",
       "      <td>0.000127</td>\n",
       "      <td>0.000106</td>\n",
       "      <td>0.000154</td>\n",
       "      <td>0.000567</td>\n",
       "      <td>0.000020</td>\n",
       "      <td>0.000894</td>\n",
       "      <td>0.001079</td>\n",
       "      <td>0.001042</td>\n",
       "      <td>0.000161</td>\n",
       "      <td>0.000257</td>\n",
       "      <td>0.046617</td>\n",
       "      <td>0.000156</td>\n",
       "      <td>0.000006</td>\n",
       "      <td>0.000537</td>\n",
       "      <td>0.000339</td>\n",
       "      <td>0.008437</td>\n",
       "      <td>0.000470</td>\n",
       "    </tr>\n",
       "    <tr>\n",
       "      <th>1</th>\n",
       "      <td>0.0</td>\n",
       "      <td>0.0</td>\n",
       "      <td>0.0</td>\n",
       "      <td>0.0</td>\n",
       "      <td>0.0</td>\n",
       "      <td>0.0</td>\n",
       "      <td>0.0</td>\n",
       "      <td>0.0</td>\n",
       "      <td>0.0</td>\n",
       "      <td>0.0</td>\n",
       "      <td>0.0</td>\n",
       "      <td>0.0</td>\n",
       "      <td>0.0</td>\n",
       "      <td>0.0</td>\n",
       "      <td>0.000000</td>\n",
       "      <td>0.0</td>\n",
       "      <td>0.0</td>\n",
       "      <td>0.0</td>\n",
       "      <td>0.0</td>\n",
       "      <td>0.0</td>\n",
       "      <td>0.0</td>\n",
       "      <td>0.0</td>\n",
       "      <td>0.0</td>\n",
       "      <td>0.0</td>\n",
       "      <td>0.0</td>\n",
       "      <td>0.0</td>\n",
       "      <td>0.0</td>\n",
       "      <td>0.0</td>\n",
       "      <td>0.0</td>\n",
       "      <td>0.0</td>\n",
       "      <td>0.0</td>\n",
       "      <td>0.0</td>\n",
       "      <td>0.0</td>\n",
       "      <td>0.0</td>\n",
       "      <td>0.0</td>\n",
       "      <td>0.0</td>\n",
       "      <td>0.0</td>\n",
       "      <td>0.0</td>\n",
       "      <td>0.0</td>\n",
       "      <td>0.0</td>\n",
       "      <td>...</td>\n",
       "      <td>0.000372</td>\n",
       "      <td>0.000154</td>\n",
       "      <td>0.000148</td>\n",
       "      <td>0.000086</td>\n",
       "      <td>0.000267</td>\n",
       "      <td>0.000014</td>\n",
       "      <td>0.001430</td>\n",
       "      <td>0.004417</td>\n",
       "      <td>0.000064</td>\n",
       "      <td>0.000105</td>\n",
       "      <td>0.003129</td>\n",
       "      <td>0.000055</td>\n",
       "      <td>0.000061</td>\n",
       "      <td>0.000025</td>\n",
       "      <td>0.004283</td>\n",
       "      <td>1.032000e-05</td>\n",
       "      <td>0.000062</td>\n",
       "      <td>2.903000e-05</td>\n",
       "      <td>0.000374</td>\n",
       "      <td>0.000139</td>\n",
       "      <td>0.741702</td>\n",
       "      <td>0.007178</td>\n",
       "      <td>0.000346</td>\n",
       "      <td>0.000104</td>\n",
       "      <td>0.000181</td>\n",
       "      <td>0.000052</td>\n",
       "      <td>0.004839</td>\n",
       "      <td>0.000078</td>\n",
       "      <td>0.042325</td>\n",
       "      <td>0.000623</td>\n",
       "      <td>0.000582</td>\n",
       "      <td>0.000393</td>\n",
       "      <td>0.000864</td>\n",
       "      <td>0.000947</td>\n",
       "      <td>0.000136</td>\n",
       "      <td>0.000007</td>\n",
       "      <td>0.000360</td>\n",
       "      <td>0.000159</td>\n",
       "      <td>0.001025</td>\n",
       "      <td>0.000020</td>\n",
       "    </tr>\n",
       "    <tr>\n",
       "      <th>2</th>\n",
       "      <td>0.0</td>\n",
       "      <td>0.0</td>\n",
       "      <td>0.0</td>\n",
       "      <td>0.0</td>\n",
       "      <td>0.0</td>\n",
       "      <td>0.0</td>\n",
       "      <td>0.0</td>\n",
       "      <td>0.0</td>\n",
       "      <td>0.0</td>\n",
       "      <td>0.0</td>\n",
       "      <td>0.0</td>\n",
       "      <td>0.0</td>\n",
       "      <td>0.0</td>\n",
       "      <td>0.0</td>\n",
       "      <td>0.000000</td>\n",
       "      <td>0.0</td>\n",
       "      <td>0.0</td>\n",
       "      <td>0.0</td>\n",
       "      <td>0.0</td>\n",
       "      <td>0.0</td>\n",
       "      <td>0.0</td>\n",
       "      <td>0.0</td>\n",
       "      <td>0.0</td>\n",
       "      <td>0.0</td>\n",
       "      <td>0.0</td>\n",
       "      <td>0.0</td>\n",
       "      <td>0.0</td>\n",
       "      <td>0.0</td>\n",
       "      <td>0.0</td>\n",
       "      <td>0.0</td>\n",
       "      <td>0.0</td>\n",
       "      <td>0.0</td>\n",
       "      <td>0.0</td>\n",
       "      <td>0.0</td>\n",
       "      <td>0.0</td>\n",
       "      <td>0.0</td>\n",
       "      <td>0.0</td>\n",
       "      <td>0.0</td>\n",
       "      <td>0.0</td>\n",
       "      <td>0.0</td>\n",
       "      <td>...</td>\n",
       "      <td>0.876291</td>\n",
       "      <td>0.005509</td>\n",
       "      <td>0.008852</td>\n",
       "      <td>0.000399</td>\n",
       "      <td>0.000069</td>\n",
       "      <td>0.013166</td>\n",
       "      <td>0.000015</td>\n",
       "      <td>0.000044</td>\n",
       "      <td>0.000520</td>\n",
       "      <td>0.000046</td>\n",
       "      <td>0.000007</td>\n",
       "      <td>0.000024</td>\n",
       "      <td>0.010491</td>\n",
       "      <td>0.000475</td>\n",
       "      <td>0.000023</td>\n",
       "      <td>5.590000e-06</td>\n",
       "      <td>0.005554</td>\n",
       "      <td>2.500000e-07</td>\n",
       "      <td>0.000057</td>\n",
       "      <td>0.000328</td>\n",
       "      <td>0.000149</td>\n",
       "      <td>0.001844</td>\n",
       "      <td>0.000008</td>\n",
       "      <td>0.000103</td>\n",
       "      <td>0.000030</td>\n",
       "      <td>0.000005</td>\n",
       "      <td>0.000179</td>\n",
       "      <td>0.000001</td>\n",
       "      <td>0.000006</td>\n",
       "      <td>0.000215</td>\n",
       "      <td>0.000224</td>\n",
       "      <td>0.000003</td>\n",
       "      <td>0.000031</td>\n",
       "      <td>0.002538</td>\n",
       "      <td>0.000104</td>\n",
       "      <td>0.000005</td>\n",
       "      <td>0.000064</td>\n",
       "      <td>0.005380</td>\n",
       "      <td>0.001027</td>\n",
       "      <td>0.001384</td>\n",
       "    </tr>\n",
       "    <tr>\n",
       "      <th>3</th>\n",
       "      <td>0.0</td>\n",
       "      <td>0.0</td>\n",
       "      <td>0.0</td>\n",
       "      <td>0.0</td>\n",
       "      <td>0.0</td>\n",
       "      <td>0.0</td>\n",
       "      <td>0.0</td>\n",
       "      <td>0.0</td>\n",
       "      <td>0.0</td>\n",
       "      <td>0.0</td>\n",
       "      <td>0.0</td>\n",
       "      <td>0.0</td>\n",
       "      <td>0.0</td>\n",
       "      <td>0.0</td>\n",
       "      <td>0.590434</td>\n",
       "      <td>0.0</td>\n",
       "      <td>0.0</td>\n",
       "      <td>0.0</td>\n",
       "      <td>0.0</td>\n",
       "      <td>0.0</td>\n",
       "      <td>0.0</td>\n",
       "      <td>0.0</td>\n",
       "      <td>0.0</td>\n",
       "      <td>0.0</td>\n",
       "      <td>0.0</td>\n",
       "      <td>0.0</td>\n",
       "      <td>0.0</td>\n",
       "      <td>0.0</td>\n",
       "      <td>0.0</td>\n",
       "      <td>0.0</td>\n",
       "      <td>0.0</td>\n",
       "      <td>0.0</td>\n",
       "      <td>0.0</td>\n",
       "      <td>0.0</td>\n",
       "      <td>0.0</td>\n",
       "      <td>0.0</td>\n",
       "      <td>0.0</td>\n",
       "      <td>0.0</td>\n",
       "      <td>0.0</td>\n",
       "      <td>0.0</td>\n",
       "      <td>...</td>\n",
       "      <td>0.000009</td>\n",
       "      <td>0.000007</td>\n",
       "      <td>0.000005</td>\n",
       "      <td>0.000539</td>\n",
       "      <td>0.000035</td>\n",
       "      <td>0.000391</td>\n",
       "      <td>0.000021</td>\n",
       "      <td>0.000043</td>\n",
       "      <td>0.000010</td>\n",
       "      <td>0.000028</td>\n",
       "      <td>0.012471</td>\n",
       "      <td>0.006671</td>\n",
       "      <td>0.001187</td>\n",
       "      <td>0.000002</td>\n",
       "      <td>0.119488</td>\n",
       "      <td>5.600000e-07</td>\n",
       "      <td>0.000004</td>\n",
       "      <td>4.250000e-06</td>\n",
       "      <td>0.000040</td>\n",
       "      <td>0.000148</td>\n",
       "      <td>0.103989</td>\n",
       "      <td>0.058989</td>\n",
       "      <td>0.000002</td>\n",
       "      <td>0.000069</td>\n",
       "      <td>0.000004</td>\n",
       "      <td>0.000130</td>\n",
       "      <td>0.001182</td>\n",
       "      <td>0.000003</td>\n",
       "      <td>0.000006</td>\n",
       "      <td>0.000044</td>\n",
       "      <td>0.000046</td>\n",
       "      <td>0.000009</td>\n",
       "      <td>0.000023</td>\n",
       "      <td>0.000053</td>\n",
       "      <td>0.000048</td>\n",
       "      <td>0.000019</td>\n",
       "      <td>0.000001</td>\n",
       "      <td>0.000004</td>\n",
       "      <td>0.000380</td>\n",
       "      <td>0.000029</td>\n",
       "    </tr>\n",
       "    <tr>\n",
       "      <th>4</th>\n",
       "      <td>0.0</td>\n",
       "      <td>0.0</td>\n",
       "      <td>0.0</td>\n",
       "      <td>0.0</td>\n",
       "      <td>0.0</td>\n",
       "      <td>0.0</td>\n",
       "      <td>0.0</td>\n",
       "      <td>0.0</td>\n",
       "      <td>0.0</td>\n",
       "      <td>0.0</td>\n",
       "      <td>0.0</td>\n",
       "      <td>0.0</td>\n",
       "      <td>0.0</td>\n",
       "      <td>0.0</td>\n",
       "      <td>0.000000</td>\n",
       "      <td>0.0</td>\n",
       "      <td>0.0</td>\n",
       "      <td>0.0</td>\n",
       "      <td>0.0</td>\n",
       "      <td>0.0</td>\n",
       "      <td>0.0</td>\n",
       "      <td>0.0</td>\n",
       "      <td>0.0</td>\n",
       "      <td>0.0</td>\n",
       "      <td>0.0</td>\n",
       "      <td>0.0</td>\n",
       "      <td>0.0</td>\n",
       "      <td>0.0</td>\n",
       "      <td>0.0</td>\n",
       "      <td>0.0</td>\n",
       "      <td>0.0</td>\n",
       "      <td>0.0</td>\n",
       "      <td>0.0</td>\n",
       "      <td>0.0</td>\n",
       "      <td>0.0</td>\n",
       "      <td>0.0</td>\n",
       "      <td>0.0</td>\n",
       "      <td>0.0</td>\n",
       "      <td>0.0</td>\n",
       "      <td>0.0</td>\n",
       "      <td>...</td>\n",
       "      <td>0.000236</td>\n",
       "      <td>0.000046</td>\n",
       "      <td>0.000027</td>\n",
       "      <td>0.000203</td>\n",
       "      <td>0.010644</td>\n",
       "      <td>0.000252</td>\n",
       "      <td>0.000349</td>\n",
       "      <td>0.001776</td>\n",
       "      <td>0.000006</td>\n",
       "      <td>0.001443</td>\n",
       "      <td>0.000146</td>\n",
       "      <td>0.019003</td>\n",
       "      <td>0.000584</td>\n",
       "      <td>0.000027</td>\n",
       "      <td>0.000692</td>\n",
       "      <td>5.650000e-06</td>\n",
       "      <td>0.000403</td>\n",
       "      <td>2.894700e-04</td>\n",
       "      <td>0.000197</td>\n",
       "      <td>0.001254</td>\n",
       "      <td>0.005257</td>\n",
       "      <td>0.045808</td>\n",
       "      <td>0.000008</td>\n",
       "      <td>0.000296</td>\n",
       "      <td>0.003893</td>\n",
       "      <td>0.000318</td>\n",
       "      <td>0.000048</td>\n",
       "      <td>0.000018</td>\n",
       "      <td>0.000263</td>\n",
       "      <td>0.000026</td>\n",
       "      <td>0.000037</td>\n",
       "      <td>0.000690</td>\n",
       "      <td>0.000171</td>\n",
       "      <td>0.000231</td>\n",
       "      <td>0.000637</td>\n",
       "      <td>0.000040</td>\n",
       "      <td>0.000061</td>\n",
       "      <td>0.000075</td>\n",
       "      <td>0.000002</td>\n",
       "      <td>0.001323</td>\n",
       "    </tr>\n",
       "  </tbody>\n",
       "</table>\n",
       "<p>5 rows × 1101 columns</p>\n",
       "</div>"
      ],
      "text/plain": [
       "     0    1    2    3    4  ...        96        97        98        99       100\n",
       "0  0.0  0.0  0.0  0.0  0.0  ...  0.000006  0.000537  0.000339  0.008437  0.000470\n",
       "1  0.0  0.0  0.0  0.0  0.0  ...  0.000007  0.000360  0.000159  0.001025  0.000020\n",
       "2  0.0  0.0  0.0  0.0  0.0  ...  0.000005  0.000064  0.005380  0.001027  0.001384\n",
       "3  0.0  0.0  0.0  0.0  0.0  ...  0.000019  0.000001  0.000004  0.000380  0.000029\n",
       "4  0.0  0.0  0.0  0.0  0.0  ...  0.000040  0.000061  0.000075  0.000002  0.001323\n",
       "\n",
       "[5 rows x 1101 columns]"
      ]
     },
     "execution_count": 299,
     "metadata": {
      "tags": []
     },
     "output_type": "execute_result"
    }
   ],
   "source": [
    "dfDevCaptions_C3D_final.head()"
   ]
  },
  {
   "cell_type": "markdown",
   "metadata": {
    "colab_type": "text",
    "id": "BDpf6cJuS1oU"
   },
   "source": [
    "**HMP and joining ground truth with it**"
   ]
  },
  {
   "cell_type": "code",
   "execution_count": 89,
   "metadata": {
    "colab": {
     "base_uri": "https://localhost:8080/",
     "height": 210
    },
    "colab_type": "code",
    "executionInfo": {
     "elapsed": 1355,
     "status": "ok",
     "timestamp": 1588067862692,
     "user": {
      "displayName": "Raghvendra Pratap Singh",
      "photoUrl": "https://lh3.googleusercontent.com/a-/AOh14Gj1jQJ5n0fdqt2IyBbxgNbDiN_ZfLwM20c8-dFk=s64",
      "userId": "16108454137484926510"
     },
     "user_tz": -330
    },
    "id": "PJ0mfgrdODLD",
    "outputId": "af7f86ed-d264-43a2-ffd8-7c70ca719c0b"
   },
   "outputs": [
    {
     "data": {
      "text/html": [
       "<div>\n",
       "<style scoped>\n",
       "    .dataframe tbody tr th:only-of-type {\n",
       "        vertical-align: middle;\n",
       "    }\n",
       "\n",
       "    .dataframe tbody tr th {\n",
       "        vertical-align: top;\n",
       "    }\n",
       "\n",
       "    .dataframe thead th {\n",
       "        text-align: right;\n",
       "    }\n",
       "</style>\n",
       "<table border=\"1\" class=\"dataframe\">\n",
       "  <thead>\n",
       "    <tr style=\"text-align: right;\">\n",
       "      <th></th>\n",
       "      <th>Unnamed: 0</th>\n",
       "      <th>video</th>\n",
       "      <th>0</th>\n",
       "      <th>1</th>\n",
       "      <th>2</th>\n",
       "      <th>3</th>\n",
       "      <th>4</th>\n",
       "      <th>5</th>\n",
       "      <th>6</th>\n",
       "      <th>7</th>\n",
       "      <th>8</th>\n",
       "      <th>9</th>\n",
       "      <th>10</th>\n",
       "      <th>11</th>\n",
       "      <th>12</th>\n",
       "      <th>13</th>\n",
       "      <th>14</th>\n",
       "      <th>15</th>\n",
       "      <th>16</th>\n",
       "      <th>17</th>\n",
       "      <th>18</th>\n",
       "      <th>19</th>\n",
       "      <th>20</th>\n",
       "      <th>21</th>\n",
       "      <th>22</th>\n",
       "      <th>23</th>\n",
       "      <th>24</th>\n",
       "      <th>25</th>\n",
       "      <th>26</th>\n",
       "      <th>27</th>\n",
       "      <th>28</th>\n",
       "      <th>29</th>\n",
       "      <th>30</th>\n",
       "      <th>31</th>\n",
       "      <th>32</th>\n",
       "      <th>33</th>\n",
       "      <th>34</th>\n",
       "      <th>35</th>\n",
       "      <th>36</th>\n",
       "      <th>37</th>\n",
       "      <th>...</th>\n",
       "      <th>65</th>\n",
       "      <th>66</th>\n",
       "      <th>67</th>\n",
       "      <th>68</th>\n",
       "      <th>69</th>\n",
       "      <th>70</th>\n",
       "      <th>71</th>\n",
       "      <th>72</th>\n",
       "      <th>73</th>\n",
       "      <th>74</th>\n",
       "      <th>75</th>\n",
       "      <th>76</th>\n",
       "      <th>77</th>\n",
       "      <th>78</th>\n",
       "      <th>79</th>\n",
       "      <th>80</th>\n",
       "      <th>81</th>\n",
       "      <th>82</th>\n",
       "      <th>83</th>\n",
       "      <th>84</th>\n",
       "      <th>85</th>\n",
       "      <th>86</th>\n",
       "      <th>87</th>\n",
       "      <th>88</th>\n",
       "      <th>89</th>\n",
       "      <th>90</th>\n",
       "      <th>91</th>\n",
       "      <th>92</th>\n",
       "      <th>93</th>\n",
       "      <th>94</th>\n",
       "      <th>95</th>\n",
       "      <th>96</th>\n",
       "      <th>97</th>\n",
       "      <th>98</th>\n",
       "      <th>99</th>\n",
       "      <th>100</th>\n",
       "      <th>short-term_memorability</th>\n",
       "      <th>nb_short-term_annotations</th>\n",
       "      <th>long-term_memorability</th>\n",
       "      <th>nb_long-term_annotations</th>\n",
       "    </tr>\n",
       "  </thead>\n",
       "  <tbody>\n",
       "    <tr>\n",
       "      <th>0</th>\n",
       "      <td>0</td>\n",
       "      <td>video6632.webm</td>\n",
       "      <td>0.010858</td>\n",
       "      <td>0.010386</td>\n",
       "      <td>0.000000</td>\n",
       "      <td>0.000000e+00</td>\n",
       "      <td>0.000000e+00</td>\n",
       "      <td>0.000000</td>\n",
       "      <td>2.700000e-07</td>\n",
       "      <td>0.000000</td>\n",
       "      <td>1.000000e-08</td>\n",
       "      <td>3.400000e-07</td>\n",
       "      <td>8.000000e-08</td>\n",
       "      <td>1.000000e-08</td>\n",
       "      <td>0.000004</td>\n",
       "      <td>0.000105</td>\n",
       "      <td>0.000000</td>\n",
       "      <td>4.000000e-08</td>\n",
       "      <td>1.000000e-08</td>\n",
       "      <td>0.000000</td>\n",
       "      <td>0.000000</td>\n",
       "      <td>1.331800e-04</td>\n",
       "      <td>0.000000e+00</td>\n",
       "      <td>0.000000</td>\n",
       "      <td>0.000000e+00</td>\n",
       "      <td>0.000000e+00</td>\n",
       "      <td>7.600000e-07</td>\n",
       "      <td>0.000000</td>\n",
       "      <td>9.800000e-07</td>\n",
       "      <td>0.000000e+00</td>\n",
       "      <td>0.000000</td>\n",
       "      <td>0.000000e+00</td>\n",
       "      <td>0.000000</td>\n",
       "      <td>0.000000</td>\n",
       "      <td>6.000000e-08</td>\n",
       "      <td>0.000021</td>\n",
       "      <td>5.000000e-08</td>\n",
       "      <td>0.000000</td>\n",
       "      <td>1.000000e-08</td>\n",
       "      <td>3.000000e-08</td>\n",
       "      <td>...</td>\n",
       "      <td>0.000032</td>\n",
       "      <td>0.000001</td>\n",
       "      <td>0.000000</td>\n",
       "      <td>0.000000</td>\n",
       "      <td>1.000000e-08</td>\n",
       "      <td>2.500000e-07</td>\n",
       "      <td>0.000000e+00</td>\n",
       "      <td>0.000000</td>\n",
       "      <td>5.000000e-08</td>\n",
       "      <td>0.000000</td>\n",
       "      <td>1.000000e-08</td>\n",
       "      <td>1.000000e-08</td>\n",
       "      <td>4.200000e-07</td>\n",
       "      <td>0.000000e+00</td>\n",
       "      <td>3.000000e-08</td>\n",
       "      <td>2.000000e-08</td>\n",
       "      <td>0.000000</td>\n",
       "      <td>0.000000</td>\n",
       "      <td>0.000000</td>\n",
       "      <td>6.000000e-08</td>\n",
       "      <td>0.000000</td>\n",
       "      <td>0.000000</td>\n",
       "      <td>9.000000e-08</td>\n",
       "      <td>0.000000</td>\n",
       "      <td>0.000000e+00</td>\n",
       "      <td>1.100000e-07</td>\n",
       "      <td>1.400000e-07</td>\n",
       "      <td>0.00000</td>\n",
       "      <td>0.000000</td>\n",
       "      <td>1.700000e-07</td>\n",
       "      <td>0.000000</td>\n",
       "      <td>0.000000</td>\n",
       "      <td>1.000000e-08</td>\n",
       "      <td>1.300000e-06</td>\n",
       "      <td>2.600000e-06</td>\n",
       "      <td>8.000000e-08</td>\n",
       "      <td>0.884</td>\n",
       "      <td>31</td>\n",
       "      <td>0.900</td>\n",
       "      <td>10</td>\n",
       "    </tr>\n",
       "    <tr>\n",
       "      <th>1</th>\n",
       "      <td>1</td>\n",
       "      <td>video6634.webm</td>\n",
       "      <td>0.000200</td>\n",
       "      <td>0.000065</td>\n",
       "      <td>0.993807</td>\n",
       "      <td>2.000000e-07</td>\n",
       "      <td>4.700000e-07</td>\n",
       "      <td>0.000073</td>\n",
       "      <td>3.700000e-06</td>\n",
       "      <td>0.000337</td>\n",
       "      <td>6.710000e-06</td>\n",
       "      <td>2.290000e-06</td>\n",
       "      <td>6.380000e-06</td>\n",
       "      <td>7.340000e-06</td>\n",
       "      <td>0.000019</td>\n",
       "      <td>0.000007</td>\n",
       "      <td>0.000003</td>\n",
       "      <td>3.810000e-06</td>\n",
       "      <td>1.411000e-05</td>\n",
       "      <td>0.000001</td>\n",
       "      <td>0.000003</td>\n",
       "      <td>2.300000e-07</td>\n",
       "      <td>1.900000e-07</td>\n",
       "      <td>0.002938</td>\n",
       "      <td>5.200000e-07</td>\n",
       "      <td>9.200000e-07</td>\n",
       "      <td>1.136000e-05</td>\n",
       "      <td>0.000011</td>\n",
       "      <td>3.310400e-04</td>\n",
       "      <td>9.200000e-07</td>\n",
       "      <td>0.000022</td>\n",
       "      <td>8.000000e-08</td>\n",
       "      <td>0.000028</td>\n",
       "      <td>0.000013</td>\n",
       "      <td>5.778000e-05</td>\n",
       "      <td>0.000037</td>\n",
       "      <td>1.683000e-05</td>\n",
       "      <td>0.000007</td>\n",
       "      <td>3.990000e-06</td>\n",
       "      <td>8.030000e-06</td>\n",
       "      <td>...</td>\n",
       "      <td>0.000050</td>\n",
       "      <td>0.000138</td>\n",
       "      <td>0.000012</td>\n",
       "      <td>0.000007</td>\n",
       "      <td>4.100000e-07</td>\n",
       "      <td>5.440000e-06</td>\n",
       "      <td>3.400000e-07</td>\n",
       "      <td>0.000007</td>\n",
       "      <td>8.399000e-05</td>\n",
       "      <td>0.000004</td>\n",
       "      <td>3.970000e-06</td>\n",
       "      <td>5.900000e-07</td>\n",
       "      <td>1.285300e-04</td>\n",
       "      <td>8.800000e-07</td>\n",
       "      <td>2.228000e-05</td>\n",
       "      <td>1.105000e-05</td>\n",
       "      <td>0.000003</td>\n",
       "      <td>0.000015</td>\n",
       "      <td>0.000014</td>\n",
       "      <td>4.090000e-06</td>\n",
       "      <td>0.000003</td>\n",
       "      <td>0.000005</td>\n",
       "      <td>4.920000e-06</td>\n",
       "      <td>0.000005</td>\n",
       "      <td>6.400000e-07</td>\n",
       "      <td>2.372000e-05</td>\n",
       "      <td>6.610000e-06</td>\n",
       "      <td>0.00001</td>\n",
       "      <td>0.000002</td>\n",
       "      <td>5.800000e-06</td>\n",
       "      <td>0.000001</td>\n",
       "      <td>0.000001</td>\n",
       "      <td>1.170000e-05</td>\n",
       "      <td>1.500000e-07</td>\n",
       "      <td>8.300000e-07</td>\n",
       "      <td>1.060000e-04</td>\n",
       "      <td>0.743</td>\n",
       "      <td>33</td>\n",
       "      <td>0.727</td>\n",
       "      <td>11</td>\n",
       "    </tr>\n",
       "    <tr>\n",
       "      <th>2</th>\n",
       "      <td>2</td>\n",
       "      <td>video6633.webm</td>\n",
       "      <td>0.000000</td>\n",
       "      <td>0.000000</td>\n",
       "      <td>0.000000</td>\n",
       "      <td>0.000000e+00</td>\n",
       "      <td>0.000000e+00</td>\n",
       "      <td>0.000000</td>\n",
       "      <td>0.000000e+00</td>\n",
       "      <td>0.000000</td>\n",
       "      <td>0.000000e+00</td>\n",
       "      <td>0.000000e+00</td>\n",
       "      <td>0.000000e+00</td>\n",
       "      <td>0.000000e+00</td>\n",
       "      <td>0.000000</td>\n",
       "      <td>0.000000</td>\n",
       "      <td>0.000000</td>\n",
       "      <td>0.000000e+00</td>\n",
       "      <td>0.000000e+00</td>\n",
       "      <td>0.000000</td>\n",
       "      <td>0.000000</td>\n",
       "      <td>0.000000e+00</td>\n",
       "      <td>0.000000e+00</td>\n",
       "      <td>0.000008</td>\n",
       "      <td>0.000000e+00</td>\n",
       "      <td>0.000000e+00</td>\n",
       "      <td>0.000000e+00</td>\n",
       "      <td>0.000000</td>\n",
       "      <td>0.000000e+00</td>\n",
       "      <td>0.000000e+00</td>\n",
       "      <td>0.000000</td>\n",
       "      <td>0.000000e+00</td>\n",
       "      <td>0.000000</td>\n",
       "      <td>0.000000</td>\n",
       "      <td>0.000000e+00</td>\n",
       "      <td>0.000000</td>\n",
       "      <td>0.000000e+00</td>\n",
       "      <td>0.000000</td>\n",
       "      <td>0.000000e+00</td>\n",
       "      <td>0.000000e+00</td>\n",
       "      <td>...</td>\n",
       "      <td>0.000000</td>\n",
       "      <td>0.000000</td>\n",
       "      <td>0.000000</td>\n",
       "      <td>0.000000</td>\n",
       "      <td>0.000000e+00</td>\n",
       "      <td>0.000000e+00</td>\n",
       "      <td>0.000000e+00</td>\n",
       "      <td>0.000000</td>\n",
       "      <td>0.000000e+00</td>\n",
       "      <td>0.000000</td>\n",
       "      <td>0.000000e+00</td>\n",
       "      <td>0.000000e+00</td>\n",
       "      <td>0.000000e+00</td>\n",
       "      <td>0.000000e+00</td>\n",
       "      <td>0.000000e+00</td>\n",
       "      <td>0.000000e+00</td>\n",
       "      <td>0.000000</td>\n",
       "      <td>0.999985</td>\n",
       "      <td>0.000000</td>\n",
       "      <td>0.000000e+00</td>\n",
       "      <td>0.000000</td>\n",
       "      <td>0.000000</td>\n",
       "      <td>0.000000e+00</td>\n",
       "      <td>0.000000</td>\n",
       "      <td>0.000000e+00</td>\n",
       "      <td>0.000000e+00</td>\n",
       "      <td>0.000000e+00</td>\n",
       "      <td>0.00000</td>\n",
       "      <td>0.000000</td>\n",
       "      <td>0.000000e+00</td>\n",
       "      <td>0.000000</td>\n",
       "      <td>0.000000</td>\n",
       "      <td>0.000000e+00</td>\n",
       "      <td>0.000000e+00</td>\n",
       "      <td>0.000000e+00</td>\n",
       "      <td>7.120000e-06</td>\n",
       "      <td>0.804</td>\n",
       "      <td>33</td>\n",
       "      <td>0.727</td>\n",
       "      <td>11</td>\n",
       "    </tr>\n",
       "  </tbody>\n",
       "</table>\n",
       "<p>3 rows × 107 columns</p>\n",
       "</div>"
      ],
      "text/plain": [
       "   Unnamed: 0           video  ...  long-term_memorability  nb_long-term_annotations\n",
       "0           0  video6632.webm  ...                   0.900                        10\n",
       "1           1  video6634.webm  ...                   0.727                        11\n",
       "2           2  video6633.webm  ...                   0.727                        11\n",
       "\n",
       "[3 rows x 107 columns]"
      ]
     },
     "execution_count": 89,
     "metadata": {
      "tags": []
     },
     "output_type": "execute_result"
    }
   ],
   "source": [
    "dfHMP_Dev = dfHMP_Dev.merge(dfGroundTruth,on=[\"video\"],how=\"inner\")\n",
    "dfHMP_Dev.head(3)"
   ]
  },
  {
   "cell_type": "code",
   "execution_count": 0,
   "metadata": {
    "colab": {},
    "colab_type": "code",
    "id": "UYw4KgPyfl0D"
   },
   "outputs": [],
   "source": [
    "dfHMP_DevFeatures = dfHMP_Dev.iloc[:,2:103].values"
   ]
  },
  {
   "cell_type": "code",
   "execution_count": 91,
   "metadata": {
    "colab": {
     "base_uri": "https://localhost:8080/",
     "height": 36
    },
    "colab_type": "code",
    "executionInfo": {
     "elapsed": 1624,
     "status": "ok",
     "timestamp": 1588067878211,
     "user": {
      "displayName": "Raghvendra Pratap Singh",
      "photoUrl": "https://lh3.googleusercontent.com/a-/AOh14Gj1jQJ5n0fdqt2IyBbxgNbDiN_ZfLwM20c8-dFk=s64",
      "userId": "16108454137484926510"
     },
     "user_tz": -330
    },
    "id": "8sWHWyKE3ydL",
    "outputId": "2a6c5372-9dd5-48ac-8c77-1b77b24011a6"
   },
   "outputs": [
    {
     "data": {
      "text/plain": [
       "(6000, 101)"
      ]
     },
     "execution_count": 91,
     "metadata": {
      "tags": []
     },
     "output_type": "execute_result"
    }
   ],
   "source": [
    "dfHMP_DevFeatures.shape"
   ]
  },
  {
   "cell_type": "markdown",
   "metadata": {
    "colab_type": "text",
    "id": "OPpgNkBZFf0Y"
   },
   "source": [
    "**HMP + C3D with ground truth**"
   ]
  },
  {
   "cell_type": "markdown",
   "metadata": {
    "colab_type": "text",
    "id": "x4gjgipUGsZv"
   },
   "source": [
    "Note: We are merging dfC3D_Dev because it doesn't have ground truth columns yet"
   ]
  },
  {
   "cell_type": "code",
   "execution_count": 92,
   "metadata": {
    "colab": {
     "base_uri": "https://localhost:8080/",
     "height": 210
    },
    "colab_type": "code",
    "executionInfo": {
     "elapsed": 1417,
     "status": "ok",
     "timestamp": 1588067883161,
     "user": {
      "displayName": "Raghvendra Pratap Singh",
      "photoUrl": "https://lh3.googleusercontent.com/a-/AOh14Gj1jQJ5n0fdqt2IyBbxgNbDiN_ZfLwM20c8-dFk=s64",
      "userId": "16108454137484926510"
     },
     "user_tz": -330
    },
    "id": "TH3Fp-Gl7yox",
    "outputId": "3a872a4c-87b5-4dc3-93a8-2a979ac80424"
   },
   "outputs": [
    {
     "data": {
      "text/html": [
       "<div>\n",
       "<style scoped>\n",
       "    .dataframe tbody tr th:only-of-type {\n",
       "        vertical-align: middle;\n",
       "    }\n",
       "\n",
       "    .dataframe tbody tr th {\n",
       "        vertical-align: top;\n",
       "    }\n",
       "\n",
       "    .dataframe thead th {\n",
       "        text-align: right;\n",
       "    }\n",
       "</style>\n",
       "<table border=\"1\" class=\"dataframe\">\n",
       "  <thead>\n",
       "    <tr style=\"text-align: right;\">\n",
       "      <th></th>\n",
       "      <th>video</th>\n",
       "      <th>0_x</th>\n",
       "      <th>1_x</th>\n",
       "      <th>2_x</th>\n",
       "      <th>3_x</th>\n",
       "      <th>4_x</th>\n",
       "      <th>5_x</th>\n",
       "      <th>6_x</th>\n",
       "      <th>7_x</th>\n",
       "      <th>8_x</th>\n",
       "      <th>9_x</th>\n",
       "      <th>10_x</th>\n",
       "      <th>11_x</th>\n",
       "      <th>12_x</th>\n",
       "      <th>13_x</th>\n",
       "      <th>14_x</th>\n",
       "      <th>15_x</th>\n",
       "      <th>16_x</th>\n",
       "      <th>17_x</th>\n",
       "      <th>18_x</th>\n",
       "      <th>19_x</th>\n",
       "      <th>20_x</th>\n",
       "      <th>21_x</th>\n",
       "      <th>22_x</th>\n",
       "      <th>23_x</th>\n",
       "      <th>24_x</th>\n",
       "      <th>25_x</th>\n",
       "      <th>26_x</th>\n",
       "      <th>27_x</th>\n",
       "      <th>28_x</th>\n",
       "      <th>29_x</th>\n",
       "      <th>30_x</th>\n",
       "      <th>31_x</th>\n",
       "      <th>32_x</th>\n",
       "      <th>33_x</th>\n",
       "      <th>34_x</th>\n",
       "      <th>35_x</th>\n",
       "      <th>36_x</th>\n",
       "      <th>37_x</th>\n",
       "      <th>38_x</th>\n",
       "      <th>...</th>\n",
       "      <th>65_y</th>\n",
       "      <th>66_y</th>\n",
       "      <th>67_y</th>\n",
       "      <th>68_y</th>\n",
       "      <th>69_y</th>\n",
       "      <th>70_y</th>\n",
       "      <th>71_y</th>\n",
       "      <th>72_y</th>\n",
       "      <th>73_y</th>\n",
       "      <th>74_y</th>\n",
       "      <th>75_y</th>\n",
       "      <th>76_y</th>\n",
       "      <th>77_y</th>\n",
       "      <th>78_y</th>\n",
       "      <th>79_y</th>\n",
       "      <th>80_y</th>\n",
       "      <th>81_y</th>\n",
       "      <th>82_y</th>\n",
       "      <th>83_y</th>\n",
       "      <th>84_y</th>\n",
       "      <th>85_y</th>\n",
       "      <th>86_y</th>\n",
       "      <th>87_y</th>\n",
       "      <th>88_y</th>\n",
       "      <th>89_y</th>\n",
       "      <th>90_y</th>\n",
       "      <th>91_y</th>\n",
       "      <th>92_y</th>\n",
       "      <th>93_y</th>\n",
       "      <th>94_y</th>\n",
       "      <th>95_y</th>\n",
       "      <th>96_y</th>\n",
       "      <th>97_y</th>\n",
       "      <th>98_y</th>\n",
       "      <th>99_y</th>\n",
       "      <th>100_y</th>\n",
       "      <th>short-term_memorability</th>\n",
       "      <th>nb_short-term_annotations</th>\n",
       "      <th>long-term_memorability</th>\n",
       "      <th>nb_long-term_annotations</th>\n",
       "    </tr>\n",
       "  </thead>\n",
       "  <tbody>\n",
       "    <tr>\n",
       "      <th>0</th>\n",
       "      <td>video6632.webm</td>\n",
       "      <td>0.010858</td>\n",
       "      <td>0.010386</td>\n",
       "      <td>0.000000</td>\n",
       "      <td>0.000000e+00</td>\n",
       "      <td>0.000000e+00</td>\n",
       "      <td>0.000000</td>\n",
       "      <td>2.700000e-07</td>\n",
       "      <td>0.000000</td>\n",
       "      <td>1.000000e-08</td>\n",
       "      <td>3.400000e-07</td>\n",
       "      <td>8.000000e-08</td>\n",
       "      <td>1.000000e-08</td>\n",
       "      <td>0.000004</td>\n",
       "      <td>0.000105</td>\n",
       "      <td>0.000000</td>\n",
       "      <td>4.000000e-08</td>\n",
       "      <td>1.000000e-08</td>\n",
       "      <td>0.000000</td>\n",
       "      <td>0.000000</td>\n",
       "      <td>1.331800e-04</td>\n",
       "      <td>0.000000e+00</td>\n",
       "      <td>0.000000</td>\n",
       "      <td>0.000000e+00</td>\n",
       "      <td>0.000000e+00</td>\n",
       "      <td>7.600000e-07</td>\n",
       "      <td>0.000000</td>\n",
       "      <td>9.800000e-07</td>\n",
       "      <td>0.000000e+00</td>\n",
       "      <td>0.000000</td>\n",
       "      <td>0.000000e+00</td>\n",
       "      <td>0.000000</td>\n",
       "      <td>0.000000</td>\n",
       "      <td>6.000000e-08</td>\n",
       "      <td>0.000021</td>\n",
       "      <td>5.000000e-08</td>\n",
       "      <td>0.000000</td>\n",
       "      <td>1.000000e-08</td>\n",
       "      <td>3.000000e-08</td>\n",
       "      <td>2.000000e-08</td>\n",
       "      <td>...</td>\n",
       "      <td>0.000032</td>\n",
       "      <td>0.000001</td>\n",
       "      <td>0.000000</td>\n",
       "      <td>0.000000</td>\n",
       "      <td>1.000000e-08</td>\n",
       "      <td>2.500000e-07</td>\n",
       "      <td>0.000000e+00</td>\n",
       "      <td>0.000000</td>\n",
       "      <td>5.000000e-08</td>\n",
       "      <td>0.000000</td>\n",
       "      <td>1.000000e-08</td>\n",
       "      <td>1.000000e-08</td>\n",
       "      <td>4.200000e-07</td>\n",
       "      <td>0.000000e+00</td>\n",
       "      <td>3.000000e-08</td>\n",
       "      <td>2.000000e-08</td>\n",
       "      <td>0.000000</td>\n",
       "      <td>0.000000</td>\n",
       "      <td>0.000000</td>\n",
       "      <td>6.000000e-08</td>\n",
       "      <td>0.000000</td>\n",
       "      <td>0.000000</td>\n",
       "      <td>9.000000e-08</td>\n",
       "      <td>0.000000</td>\n",
       "      <td>0.000000e+00</td>\n",
       "      <td>1.100000e-07</td>\n",
       "      <td>1.400000e-07</td>\n",
       "      <td>0.00000</td>\n",
       "      <td>0.000000</td>\n",
       "      <td>1.700000e-07</td>\n",
       "      <td>0.000000</td>\n",
       "      <td>0.000000</td>\n",
       "      <td>1.000000e-08</td>\n",
       "      <td>1.300000e-06</td>\n",
       "      <td>2.600000e-06</td>\n",
       "      <td>8.000000e-08</td>\n",
       "      <td>0.884</td>\n",
       "      <td>31</td>\n",
       "      <td>0.900</td>\n",
       "      <td>10</td>\n",
       "    </tr>\n",
       "    <tr>\n",
       "      <th>1</th>\n",
       "      <td>video6634.webm</td>\n",
       "      <td>0.000200</td>\n",
       "      <td>0.000065</td>\n",
       "      <td>0.993807</td>\n",
       "      <td>2.000000e-07</td>\n",
       "      <td>4.700000e-07</td>\n",
       "      <td>0.000073</td>\n",
       "      <td>3.700000e-06</td>\n",
       "      <td>0.000337</td>\n",
       "      <td>6.710000e-06</td>\n",
       "      <td>2.290000e-06</td>\n",
       "      <td>6.380000e-06</td>\n",
       "      <td>7.340000e-06</td>\n",
       "      <td>0.000019</td>\n",
       "      <td>0.000007</td>\n",
       "      <td>0.000003</td>\n",
       "      <td>3.810000e-06</td>\n",
       "      <td>1.411000e-05</td>\n",
       "      <td>0.000001</td>\n",
       "      <td>0.000003</td>\n",
       "      <td>2.300000e-07</td>\n",
       "      <td>1.900000e-07</td>\n",
       "      <td>0.002938</td>\n",
       "      <td>5.200000e-07</td>\n",
       "      <td>9.200000e-07</td>\n",
       "      <td>1.136000e-05</td>\n",
       "      <td>0.000011</td>\n",
       "      <td>3.310400e-04</td>\n",
       "      <td>9.200000e-07</td>\n",
       "      <td>0.000022</td>\n",
       "      <td>8.000000e-08</td>\n",
       "      <td>0.000028</td>\n",
       "      <td>0.000013</td>\n",
       "      <td>5.778000e-05</td>\n",
       "      <td>0.000037</td>\n",
       "      <td>1.683000e-05</td>\n",
       "      <td>0.000007</td>\n",
       "      <td>3.990000e-06</td>\n",
       "      <td>8.030000e-06</td>\n",
       "      <td>1.450000e-06</td>\n",
       "      <td>...</td>\n",
       "      <td>0.000050</td>\n",
       "      <td>0.000138</td>\n",
       "      <td>0.000012</td>\n",
       "      <td>0.000007</td>\n",
       "      <td>4.100000e-07</td>\n",
       "      <td>5.440000e-06</td>\n",
       "      <td>3.400000e-07</td>\n",
       "      <td>0.000007</td>\n",
       "      <td>8.399000e-05</td>\n",
       "      <td>0.000004</td>\n",
       "      <td>3.970000e-06</td>\n",
       "      <td>5.900000e-07</td>\n",
       "      <td>1.285300e-04</td>\n",
       "      <td>8.800000e-07</td>\n",
       "      <td>2.228000e-05</td>\n",
       "      <td>1.105000e-05</td>\n",
       "      <td>0.000003</td>\n",
       "      <td>0.000015</td>\n",
       "      <td>0.000014</td>\n",
       "      <td>4.090000e-06</td>\n",
       "      <td>0.000003</td>\n",
       "      <td>0.000005</td>\n",
       "      <td>4.920000e-06</td>\n",
       "      <td>0.000005</td>\n",
       "      <td>6.400000e-07</td>\n",
       "      <td>2.372000e-05</td>\n",
       "      <td>6.610000e-06</td>\n",
       "      <td>0.00001</td>\n",
       "      <td>0.000002</td>\n",
       "      <td>5.800000e-06</td>\n",
       "      <td>0.000001</td>\n",
       "      <td>0.000001</td>\n",
       "      <td>1.170000e-05</td>\n",
       "      <td>1.500000e-07</td>\n",
       "      <td>8.300000e-07</td>\n",
       "      <td>1.060000e-04</td>\n",
       "      <td>0.743</td>\n",
       "      <td>33</td>\n",
       "      <td>0.727</td>\n",
       "      <td>11</td>\n",
       "    </tr>\n",
       "    <tr>\n",
       "      <th>2</th>\n",
       "      <td>video6633.webm</td>\n",
       "      <td>0.000000</td>\n",
       "      <td>0.000000</td>\n",
       "      <td>0.000000</td>\n",
       "      <td>0.000000e+00</td>\n",
       "      <td>0.000000e+00</td>\n",
       "      <td>0.000000</td>\n",
       "      <td>0.000000e+00</td>\n",
       "      <td>0.000000</td>\n",
       "      <td>0.000000e+00</td>\n",
       "      <td>0.000000e+00</td>\n",
       "      <td>0.000000e+00</td>\n",
       "      <td>0.000000e+00</td>\n",
       "      <td>0.000000</td>\n",
       "      <td>0.000000</td>\n",
       "      <td>0.000000</td>\n",
       "      <td>0.000000e+00</td>\n",
       "      <td>0.000000e+00</td>\n",
       "      <td>0.000000</td>\n",
       "      <td>0.000000</td>\n",
       "      <td>0.000000e+00</td>\n",
       "      <td>0.000000e+00</td>\n",
       "      <td>0.000008</td>\n",
       "      <td>0.000000e+00</td>\n",
       "      <td>0.000000e+00</td>\n",
       "      <td>0.000000e+00</td>\n",
       "      <td>0.000000</td>\n",
       "      <td>0.000000e+00</td>\n",
       "      <td>0.000000e+00</td>\n",
       "      <td>0.000000</td>\n",
       "      <td>0.000000e+00</td>\n",
       "      <td>0.000000</td>\n",
       "      <td>0.000000</td>\n",
       "      <td>0.000000e+00</td>\n",
       "      <td>0.000000</td>\n",
       "      <td>0.000000e+00</td>\n",
       "      <td>0.000000</td>\n",
       "      <td>0.000000e+00</td>\n",
       "      <td>0.000000e+00</td>\n",
       "      <td>0.000000e+00</td>\n",
       "      <td>...</td>\n",
       "      <td>0.000000</td>\n",
       "      <td>0.000000</td>\n",
       "      <td>0.000000</td>\n",
       "      <td>0.000000</td>\n",
       "      <td>0.000000e+00</td>\n",
       "      <td>0.000000e+00</td>\n",
       "      <td>0.000000e+00</td>\n",
       "      <td>0.000000</td>\n",
       "      <td>0.000000e+00</td>\n",
       "      <td>0.000000</td>\n",
       "      <td>0.000000e+00</td>\n",
       "      <td>0.000000e+00</td>\n",
       "      <td>0.000000e+00</td>\n",
       "      <td>0.000000e+00</td>\n",
       "      <td>0.000000e+00</td>\n",
       "      <td>0.000000e+00</td>\n",
       "      <td>0.000000</td>\n",
       "      <td>0.999985</td>\n",
       "      <td>0.000000</td>\n",
       "      <td>0.000000e+00</td>\n",
       "      <td>0.000000</td>\n",
       "      <td>0.000000</td>\n",
       "      <td>0.000000e+00</td>\n",
       "      <td>0.000000</td>\n",
       "      <td>0.000000e+00</td>\n",
       "      <td>0.000000e+00</td>\n",
       "      <td>0.000000e+00</td>\n",
       "      <td>0.00000</td>\n",
       "      <td>0.000000</td>\n",
       "      <td>0.000000e+00</td>\n",
       "      <td>0.000000</td>\n",
       "      <td>0.000000</td>\n",
       "      <td>0.000000e+00</td>\n",
       "      <td>0.000000e+00</td>\n",
       "      <td>0.000000e+00</td>\n",
       "      <td>7.120000e-06</td>\n",
       "      <td>0.804</td>\n",
       "      <td>33</td>\n",
       "      <td>0.727</td>\n",
       "      <td>11</td>\n",
       "    </tr>\n",
       "  </tbody>\n",
       "</table>\n",
       "<p>3 rows × 208 columns</p>\n",
       "</div>"
      ],
      "text/plain": [
       "            video       0_x  ...  long-term_memorability  nb_long-term_annotations\n",
       "0  video6632.webm  0.010858  ...                   0.900                        10\n",
       "1  video6634.webm  0.000200  ...                   0.727                        11\n",
       "2  video6633.webm  0.000000  ...                   0.727                        11\n",
       "\n",
       "[3 rows x 208 columns]"
      ]
     },
     "execution_count": 92,
     "metadata": {
      "tags": []
     },
     "output_type": "execute_result"
    }
   ],
   "source": [
    "dfDevHMP_C3D = dfC3D_Dev.merge(dfHMP_Dev,on=[\"video\"],how=\"inner\")\n",
    "dfDevHMP_C3D.columns\n",
    "dfDevHMP_C3D.head(3)"
   ]
  },
  {
   "cell_type": "code",
   "execution_count": 0,
   "metadata": {
    "colab": {},
    "colab_type": "code",
    "id": "rfFECVIO7zlD"
   },
   "outputs": [],
   "source": [
    "dfDevHMP_C3D_DevFeatures = dfDevHMP_C3D.iloc[:,2:204].values"
   ]
  },
  {
   "cell_type": "code",
   "execution_count": 94,
   "metadata": {
    "colab": {
     "base_uri": "https://localhost:8080/",
     "height": 36
    },
    "colab_type": "code",
    "executionInfo": {
     "elapsed": 2778,
     "status": "ok",
     "timestamp": 1588067901513,
     "user": {
      "displayName": "Raghvendra Pratap Singh",
      "photoUrl": "https://lh3.googleusercontent.com/a-/AOh14Gj1jQJ5n0fdqt2IyBbxgNbDiN_ZfLwM20c8-dFk=s64",
      "userId": "16108454137484926510"
     },
     "user_tz": -330
    },
    "id": "0harW5LH72LJ",
    "outputId": "00542d8e-cab1-45f0-f416-0166fd8485ae"
   },
   "outputs": [
    {
     "data": {
      "text/plain": [
       "(6000, 202)"
      ]
     },
     "execution_count": 94,
     "metadata": {
      "tags": []
     },
     "output_type": "execute_result"
    }
   ],
   "source": [
    "dfDevHMP_C3D_DevFeatures.shape"
   ]
  },
  {
   "cell_type": "markdown",
   "metadata": {
    "colab_type": "text",
    "id": "geAJ_sZRTRfO"
   },
   "source": [
    "**C3D and joining groundTruth with it**"
   ]
  },
  {
   "cell_type": "code",
   "execution_count": 95,
   "metadata": {
    "colab": {
     "base_uri": "https://localhost:8080/",
     "height": 210
    },
    "colab_type": "code",
    "executionInfo": {
     "elapsed": 2849,
     "status": "ok",
     "timestamp": 1588067906788,
     "user": {
      "displayName": "Raghvendra Pratap Singh",
      "photoUrl": "https://lh3.googleusercontent.com/a-/AOh14Gj1jQJ5n0fdqt2IyBbxgNbDiN_ZfLwM20c8-dFk=s64",
      "userId": "16108454137484926510"
     },
     "user_tz": -330
    },
    "id": "yGkYuMF4TMHz",
    "outputId": "ca3f4d88-f604-48df-c7fc-bb3df6c39071"
   },
   "outputs": [
    {
     "data": {
      "text/html": [
       "<div>\n",
       "<style scoped>\n",
       "    .dataframe tbody tr th:only-of-type {\n",
       "        vertical-align: middle;\n",
       "    }\n",
       "\n",
       "    .dataframe tbody tr th {\n",
       "        vertical-align: top;\n",
       "    }\n",
       "\n",
       "    .dataframe thead th {\n",
       "        text-align: right;\n",
       "    }\n",
       "</style>\n",
       "<table border=\"1\" class=\"dataframe\">\n",
       "  <thead>\n",
       "    <tr style=\"text-align: right;\">\n",
       "      <th></th>\n",
       "      <th>video</th>\n",
       "      <th>0</th>\n",
       "      <th>1</th>\n",
       "      <th>2</th>\n",
       "      <th>3</th>\n",
       "      <th>4</th>\n",
       "      <th>5</th>\n",
       "      <th>6</th>\n",
       "      <th>7</th>\n",
       "      <th>8</th>\n",
       "      <th>9</th>\n",
       "      <th>10</th>\n",
       "      <th>11</th>\n",
       "      <th>12</th>\n",
       "      <th>13</th>\n",
       "      <th>14</th>\n",
       "      <th>15</th>\n",
       "      <th>16</th>\n",
       "      <th>17</th>\n",
       "      <th>18</th>\n",
       "      <th>19</th>\n",
       "      <th>20</th>\n",
       "      <th>21</th>\n",
       "      <th>22</th>\n",
       "      <th>23</th>\n",
       "      <th>24</th>\n",
       "      <th>25</th>\n",
       "      <th>26</th>\n",
       "      <th>27</th>\n",
       "      <th>28</th>\n",
       "      <th>29</th>\n",
       "      <th>30</th>\n",
       "      <th>31</th>\n",
       "      <th>32</th>\n",
       "      <th>33</th>\n",
       "      <th>34</th>\n",
       "      <th>35</th>\n",
       "      <th>36</th>\n",
       "      <th>37</th>\n",
       "      <th>38</th>\n",
       "      <th>...</th>\n",
       "      <th>65</th>\n",
       "      <th>66</th>\n",
       "      <th>67</th>\n",
       "      <th>68</th>\n",
       "      <th>69</th>\n",
       "      <th>70</th>\n",
       "      <th>71</th>\n",
       "      <th>72</th>\n",
       "      <th>73</th>\n",
       "      <th>74</th>\n",
       "      <th>75</th>\n",
       "      <th>76</th>\n",
       "      <th>77</th>\n",
       "      <th>78</th>\n",
       "      <th>79</th>\n",
       "      <th>80</th>\n",
       "      <th>81</th>\n",
       "      <th>82</th>\n",
       "      <th>83</th>\n",
       "      <th>84</th>\n",
       "      <th>85</th>\n",
       "      <th>86</th>\n",
       "      <th>87</th>\n",
       "      <th>88</th>\n",
       "      <th>89</th>\n",
       "      <th>90</th>\n",
       "      <th>91</th>\n",
       "      <th>92</th>\n",
       "      <th>93</th>\n",
       "      <th>94</th>\n",
       "      <th>95</th>\n",
       "      <th>96</th>\n",
       "      <th>97</th>\n",
       "      <th>98</th>\n",
       "      <th>99</th>\n",
       "      <th>100</th>\n",
       "      <th>short-term_memorability</th>\n",
       "      <th>nb_short-term_annotations</th>\n",
       "      <th>long-term_memorability</th>\n",
       "      <th>nb_long-term_annotations</th>\n",
       "    </tr>\n",
       "  </thead>\n",
       "  <tbody>\n",
       "    <tr>\n",
       "      <th>0</th>\n",
       "      <td>video6632.webm</td>\n",
       "      <td>0.010858</td>\n",
       "      <td>0.010386</td>\n",
       "      <td>0.000000</td>\n",
       "      <td>0.000000e+00</td>\n",
       "      <td>0.000000e+00</td>\n",
       "      <td>0.000000</td>\n",
       "      <td>2.700000e-07</td>\n",
       "      <td>0.000000</td>\n",
       "      <td>1.000000e-08</td>\n",
       "      <td>3.400000e-07</td>\n",
       "      <td>8.000000e-08</td>\n",
       "      <td>1.000000e-08</td>\n",
       "      <td>0.000004</td>\n",
       "      <td>0.000105</td>\n",
       "      <td>0.000000</td>\n",
       "      <td>4.000000e-08</td>\n",
       "      <td>1.000000e-08</td>\n",
       "      <td>0.000000</td>\n",
       "      <td>0.000000</td>\n",
       "      <td>1.331800e-04</td>\n",
       "      <td>0.000000e+00</td>\n",
       "      <td>0.000000</td>\n",
       "      <td>0.000000e+00</td>\n",
       "      <td>0.000000e+00</td>\n",
       "      <td>7.600000e-07</td>\n",
       "      <td>0.000000</td>\n",
       "      <td>9.800000e-07</td>\n",
       "      <td>0.000000e+00</td>\n",
       "      <td>0.000000</td>\n",
       "      <td>0.000000e+00</td>\n",
       "      <td>0.000000</td>\n",
       "      <td>0.000000</td>\n",
       "      <td>6.000000e-08</td>\n",
       "      <td>0.000021</td>\n",
       "      <td>5.000000e-08</td>\n",
       "      <td>0.000000</td>\n",
       "      <td>1.000000e-08</td>\n",
       "      <td>3.000000e-08</td>\n",
       "      <td>2.000000e-08</td>\n",
       "      <td>...</td>\n",
       "      <td>0.000032</td>\n",
       "      <td>0.000001</td>\n",
       "      <td>0.000000</td>\n",
       "      <td>0.000000</td>\n",
       "      <td>1.000000e-08</td>\n",
       "      <td>2.500000e-07</td>\n",
       "      <td>0.000000e+00</td>\n",
       "      <td>0.000000</td>\n",
       "      <td>5.000000e-08</td>\n",
       "      <td>0.000000</td>\n",
       "      <td>1.000000e-08</td>\n",
       "      <td>1.000000e-08</td>\n",
       "      <td>4.200000e-07</td>\n",
       "      <td>0.000000e+00</td>\n",
       "      <td>3.000000e-08</td>\n",
       "      <td>2.000000e-08</td>\n",
       "      <td>0.000000</td>\n",
       "      <td>0.000000</td>\n",
       "      <td>0.000000</td>\n",
       "      <td>6.000000e-08</td>\n",
       "      <td>0.000000</td>\n",
       "      <td>0.000000</td>\n",
       "      <td>9.000000e-08</td>\n",
       "      <td>0.000000</td>\n",
       "      <td>0.000000e+00</td>\n",
       "      <td>1.100000e-07</td>\n",
       "      <td>1.400000e-07</td>\n",
       "      <td>0.00000</td>\n",
       "      <td>0.000000</td>\n",
       "      <td>1.700000e-07</td>\n",
       "      <td>0.000000</td>\n",
       "      <td>0.000000</td>\n",
       "      <td>1.000000e-08</td>\n",
       "      <td>1.300000e-06</td>\n",
       "      <td>2.600000e-06</td>\n",
       "      <td>8.000000e-08</td>\n",
       "      <td>0.884</td>\n",
       "      <td>31</td>\n",
       "      <td>0.900</td>\n",
       "      <td>10</td>\n",
       "    </tr>\n",
       "    <tr>\n",
       "      <th>1</th>\n",
       "      <td>video6634.webm</td>\n",
       "      <td>0.000200</td>\n",
       "      <td>0.000065</td>\n",
       "      <td>0.993807</td>\n",
       "      <td>2.000000e-07</td>\n",
       "      <td>4.700000e-07</td>\n",
       "      <td>0.000073</td>\n",
       "      <td>3.700000e-06</td>\n",
       "      <td>0.000337</td>\n",
       "      <td>6.710000e-06</td>\n",
       "      <td>2.290000e-06</td>\n",
       "      <td>6.380000e-06</td>\n",
       "      <td>7.340000e-06</td>\n",
       "      <td>0.000019</td>\n",
       "      <td>0.000007</td>\n",
       "      <td>0.000003</td>\n",
       "      <td>3.810000e-06</td>\n",
       "      <td>1.411000e-05</td>\n",
       "      <td>0.000001</td>\n",
       "      <td>0.000003</td>\n",
       "      <td>2.300000e-07</td>\n",
       "      <td>1.900000e-07</td>\n",
       "      <td>0.002938</td>\n",
       "      <td>5.200000e-07</td>\n",
       "      <td>9.200000e-07</td>\n",
       "      <td>1.136000e-05</td>\n",
       "      <td>0.000011</td>\n",
       "      <td>3.310400e-04</td>\n",
       "      <td>9.200000e-07</td>\n",
       "      <td>0.000022</td>\n",
       "      <td>8.000000e-08</td>\n",
       "      <td>0.000028</td>\n",
       "      <td>0.000013</td>\n",
       "      <td>5.778000e-05</td>\n",
       "      <td>0.000037</td>\n",
       "      <td>1.683000e-05</td>\n",
       "      <td>0.000007</td>\n",
       "      <td>3.990000e-06</td>\n",
       "      <td>8.030000e-06</td>\n",
       "      <td>1.450000e-06</td>\n",
       "      <td>...</td>\n",
       "      <td>0.000050</td>\n",
       "      <td>0.000138</td>\n",
       "      <td>0.000012</td>\n",
       "      <td>0.000007</td>\n",
       "      <td>4.100000e-07</td>\n",
       "      <td>5.440000e-06</td>\n",
       "      <td>3.400000e-07</td>\n",
       "      <td>0.000007</td>\n",
       "      <td>8.399000e-05</td>\n",
       "      <td>0.000004</td>\n",
       "      <td>3.970000e-06</td>\n",
       "      <td>5.900000e-07</td>\n",
       "      <td>1.285300e-04</td>\n",
       "      <td>8.800000e-07</td>\n",
       "      <td>2.228000e-05</td>\n",
       "      <td>1.105000e-05</td>\n",
       "      <td>0.000003</td>\n",
       "      <td>0.000015</td>\n",
       "      <td>0.000014</td>\n",
       "      <td>4.090000e-06</td>\n",
       "      <td>0.000003</td>\n",
       "      <td>0.000005</td>\n",
       "      <td>4.920000e-06</td>\n",
       "      <td>0.000005</td>\n",
       "      <td>6.400000e-07</td>\n",
       "      <td>2.372000e-05</td>\n",
       "      <td>6.610000e-06</td>\n",
       "      <td>0.00001</td>\n",
       "      <td>0.000002</td>\n",
       "      <td>5.800000e-06</td>\n",
       "      <td>0.000001</td>\n",
       "      <td>0.000001</td>\n",
       "      <td>1.170000e-05</td>\n",
       "      <td>1.500000e-07</td>\n",
       "      <td>8.300000e-07</td>\n",
       "      <td>1.060000e-04</td>\n",
       "      <td>0.743</td>\n",
       "      <td>33</td>\n",
       "      <td>0.727</td>\n",
       "      <td>11</td>\n",
       "    </tr>\n",
       "    <tr>\n",
       "      <th>2</th>\n",
       "      <td>video6633.webm</td>\n",
       "      <td>0.000000</td>\n",
       "      <td>0.000000</td>\n",
       "      <td>0.000000</td>\n",
       "      <td>0.000000e+00</td>\n",
       "      <td>0.000000e+00</td>\n",
       "      <td>0.000000</td>\n",
       "      <td>0.000000e+00</td>\n",
       "      <td>0.000000</td>\n",
       "      <td>0.000000e+00</td>\n",
       "      <td>0.000000e+00</td>\n",
       "      <td>0.000000e+00</td>\n",
       "      <td>0.000000e+00</td>\n",
       "      <td>0.000000</td>\n",
       "      <td>0.000000</td>\n",
       "      <td>0.000000</td>\n",
       "      <td>0.000000e+00</td>\n",
       "      <td>0.000000e+00</td>\n",
       "      <td>0.000000</td>\n",
       "      <td>0.000000</td>\n",
       "      <td>0.000000e+00</td>\n",
       "      <td>0.000000e+00</td>\n",
       "      <td>0.000008</td>\n",
       "      <td>0.000000e+00</td>\n",
       "      <td>0.000000e+00</td>\n",
       "      <td>0.000000e+00</td>\n",
       "      <td>0.000000</td>\n",
       "      <td>0.000000e+00</td>\n",
       "      <td>0.000000e+00</td>\n",
       "      <td>0.000000</td>\n",
       "      <td>0.000000e+00</td>\n",
       "      <td>0.000000</td>\n",
       "      <td>0.000000</td>\n",
       "      <td>0.000000e+00</td>\n",
       "      <td>0.000000</td>\n",
       "      <td>0.000000e+00</td>\n",
       "      <td>0.000000</td>\n",
       "      <td>0.000000e+00</td>\n",
       "      <td>0.000000e+00</td>\n",
       "      <td>0.000000e+00</td>\n",
       "      <td>...</td>\n",
       "      <td>0.000000</td>\n",
       "      <td>0.000000</td>\n",
       "      <td>0.000000</td>\n",
       "      <td>0.000000</td>\n",
       "      <td>0.000000e+00</td>\n",
       "      <td>0.000000e+00</td>\n",
       "      <td>0.000000e+00</td>\n",
       "      <td>0.000000</td>\n",
       "      <td>0.000000e+00</td>\n",
       "      <td>0.000000</td>\n",
       "      <td>0.000000e+00</td>\n",
       "      <td>0.000000e+00</td>\n",
       "      <td>0.000000e+00</td>\n",
       "      <td>0.000000e+00</td>\n",
       "      <td>0.000000e+00</td>\n",
       "      <td>0.000000e+00</td>\n",
       "      <td>0.000000</td>\n",
       "      <td>0.999985</td>\n",
       "      <td>0.000000</td>\n",
       "      <td>0.000000e+00</td>\n",
       "      <td>0.000000</td>\n",
       "      <td>0.000000</td>\n",
       "      <td>0.000000e+00</td>\n",
       "      <td>0.000000</td>\n",
       "      <td>0.000000e+00</td>\n",
       "      <td>0.000000e+00</td>\n",
       "      <td>0.000000e+00</td>\n",
       "      <td>0.00000</td>\n",
       "      <td>0.000000</td>\n",
       "      <td>0.000000e+00</td>\n",
       "      <td>0.000000</td>\n",
       "      <td>0.000000</td>\n",
       "      <td>0.000000e+00</td>\n",
       "      <td>0.000000e+00</td>\n",
       "      <td>0.000000e+00</td>\n",
       "      <td>7.120000e-06</td>\n",
       "      <td>0.804</td>\n",
       "      <td>33</td>\n",
       "      <td>0.727</td>\n",
       "      <td>11</td>\n",
       "    </tr>\n",
       "  </tbody>\n",
       "</table>\n",
       "<p>3 rows × 106 columns</p>\n",
       "</div>"
      ],
      "text/plain": [
       "            video         0  ...  long-term_memorability  nb_long-term_annotations\n",
       "0  video6632.webm  0.010858  ...                   0.900                        10\n",
       "1  video6634.webm  0.000200  ...                   0.727                        11\n",
       "2  video6633.webm  0.000000  ...                   0.727                        11\n",
       "\n",
       "[3 rows x 106 columns]"
      ]
     },
     "execution_count": 95,
     "metadata": {
      "tags": []
     },
     "output_type": "execute_result"
    }
   ],
   "source": [
    "dfC3D_Dev = dfC3D_Dev.merge(dfGroundTruth,on=[\"video\"],how=\"inner\")\n",
    "dfC3D_Dev.head(3)"
   ]
  },
  {
   "cell_type": "code",
   "execution_count": 0,
   "metadata": {
    "colab": {},
    "colab_type": "code",
    "id": "h5mAEaUcTL-N"
   },
   "outputs": [],
   "source": [
    "dfC3D_DevFeatures = dfC3D_Dev.iloc[:,1:102].values"
   ]
  },
  {
   "cell_type": "code",
   "execution_count": 97,
   "metadata": {
    "colab": {
     "base_uri": "https://localhost:8080/",
     "height": 36
    },
    "colab_type": "code",
    "executionInfo": {
     "elapsed": 4110,
     "status": "ok",
     "timestamp": 1588067917949,
     "user": {
      "displayName": "Raghvendra Pratap Singh",
      "photoUrl": "https://lh3.googleusercontent.com/a-/AOh14Gj1jQJ5n0fdqt2IyBbxgNbDiN_ZfLwM20c8-dFk=s64",
      "userId": "16108454137484926510"
     },
     "user_tz": -330
    },
    "id": "2QjBeEtPaCQF",
    "outputId": "b388fc90-30b3-4dc4-bf4b-8536404ba3fc"
   },
   "outputs": [
    {
     "data": {
      "text/plain": [
       "(6000, 101)"
      ]
     },
     "execution_count": 97,
     "metadata": {
      "tags": []
     },
     "output_type": "execute_result"
    }
   ],
   "source": [
    "dfC3D_DevFeatures.shape"
   ]
  },
  {
   "cell_type": "markdown",
   "metadata": {
    "colab_type": "text",
    "id": "boJvOwZT_Qr8"
   },
   "source": [
    "**Working on C3D only**"
   ]
  },
  {
   "cell_type": "code",
   "execution_count": 0,
   "metadata": {
    "colab": {},
    "colab_type": "code",
    "id": "Nk1uZl4Fu2w9"
   },
   "outputs": [],
   "source": [
    "X = dfC3D_DevFeatures\n",
    "y = dfGroundTruth[['short-term_memorability','long-term_memorability']].values #these are our target columns"
   ]
  },
  {
   "cell_type": "code",
   "execution_count": 0,
   "metadata": {
    "colab": {},
    "colab_type": "code",
    "id": "PzDtocCWAOxP"
   },
   "outputs": [],
   "source": [
    "from sklearn.model_selection import train_test_split"
   ]
  },
  {
   "cell_type": "code",
   "execution_count": 0,
   "metadata": {
    "colab": {},
    "colab_type": "code",
    "id": "uW6TyQnsu2z2"
   },
   "outputs": [],
   "source": [
    "X_train,X_test,y_train,y_test = train_test_split(X,y,test_size=0.2,random_state=42)"
   ]
  },
  {
   "cell_type": "code",
   "execution_count": 57,
   "metadata": {
    "colab": {
     "base_uri": "https://localhost:8080/",
     "height": 91
    },
    "colab_type": "code",
    "executionInfo": {
     "elapsed": 881,
     "status": "ok",
     "timestamp": 1588065980118,
     "user": {
      "displayName": "Raghvendra Pratap Singh",
      "photoUrl": "https://lh3.googleusercontent.com/a-/AOh14Gj1jQJ5n0fdqt2IyBbxgNbDiN_ZfLwM20c8-dFk=s64",
      "userId": "16108454137484926510"
     },
     "user_tz": -330
    },
    "id": "uGp3x726ANPo",
    "outputId": "0a53240b-8d6a-40ce-e6b4-f13446503759"
   },
   "outputs": [
    {
     "name": "stdout",
     "output_type": "stream",
     "text": [
      "X_train  (4800, 101)\n",
      "X_test   (1200, 101)\n",
      "Y_train  (4800, 2)\n",
      "Y_test   (1200, 2)\n"
     ]
    }
   ],
   "source": [
    "print('X_train ', X_train.shape)\n",
    "print('X_test  ', X_test.shape)\n",
    "print('Y_train ', y_train.shape)\n",
    "print('Y_test  ', y_test.shape)"
   ]
  },
  {
   "cell_type": "markdown",
   "metadata": {
    "colab_type": "text",
    "id": "Z8Y9zW9KawQu"
   },
   "source": [
    "*Implementing regression models*"
   ]
  },
  {
   "cell_type": "code",
   "execution_count": 0,
   "metadata": {
    "colab": {},
    "colab_type": "code",
    "id": "69ty7jQVANS4"
   },
   "outputs": [],
   "source": [
    "from sklearn.linear_model import LinearRegression\n",
    "from sklearn.neighbors import KNeighborsRegressor\n",
    "from sklearn.ensemble import RandomForestRegressor\n",
    "from sklearn.tree import DecisionTreeRegressor\n",
    "from sklearn.ensemble import VotingRegressor\n",
    "from sklearn.ensemble import AdaBoostRegressor\n",
    "from sklearn.ensemble import GradientBoostingRegressor"
   ]
  },
  {
   "cell_type": "code",
   "execution_count": 190,
   "metadata": {
    "colab": {
     "base_uri": "https://localhost:8080/",
     "height": 54
    },
    "colab_type": "code",
    "executionInfo": {
     "elapsed": 1478,
     "status": "ok",
     "timestamp": 1588013174471,
     "user": {
      "displayName": "Raghvendra Pratap Singh",
      "photoUrl": "https://lh3.googleusercontent.com/a-/AOh14Gj1jQJ5n0fdqt2IyBbxgNbDiN_ZfLwM20c8-dFk=s64",
      "userId": "16108454137484926510"
     },
     "user_tz": -330
    },
    "id": "rQip9wthbech",
    "outputId": "01bd620b-6e2b-4649-90b7-778ffd599917"
   },
   "outputs": [
    {
     "name": "stdout",
     "output_type": "stream",
     "text": [
      "The Spearman's correlation coefficient is: 0.004\n",
      "The Spearman's correlation coefficient is: -0.008\n"
     ]
    }
   ],
   "source": [
    "#linear regression\n",
    "linearRegressor = LinearRegression()\n",
    "linearRegressor.fit(X_train, y_train)\n",
    "y_pred = linearRegressor.predict(X_test)\n",
    "Get_score(y_pred, y_test)"
   ]
  },
  {
   "cell_type": "markdown",
   "metadata": {
    "colab_type": "text",
    "id": "gurnlAr3_AxL"
   },
   "source": [
    "value of n has been choosen by sqrt(6000) = 77.45 \n",
    "\n",
    "https://www.quora.com/How-can-I-choose-the-best-K-in-KNN-K-nearest-neighbour-classification"
   ]
  },
  {
   "cell_type": "code",
   "execution_count": 197,
   "metadata": {
    "colab": {
     "base_uri": "https://localhost:8080/",
     "height": 54
    },
    "colab_type": "code",
    "executionInfo": {
     "elapsed": 1410,
     "status": "ok",
     "timestamp": 1588013552513,
     "user": {
      "displayName": "Raghvendra Pratap Singh",
      "photoUrl": "https://lh3.googleusercontent.com/a-/AOh14Gj1jQJ5n0fdqt2IyBbxgNbDiN_ZfLwM20c8-dFk=s64",
      "userId": "16108454137484926510"
     },
     "user_tz": -330
    },
    "id": "zr9w56Anb9x7",
    "outputId": "5bbc7f32-bf29-403a-c64a-33aa85165345"
   },
   "outputs": [
    {
     "name": "stdout",
     "output_type": "stream",
     "text": [
      "The Spearman's correlation coefficient is: 0.119\n",
      "The Spearman's correlation coefficient is: 0.116\n"
     ]
    }
   ],
   "source": [
    "knnRegressor = KNeighborsRegressor(n_neighbors = 77)\n",
    "knnRegressor.fit(X_test, y_test)\n",
    "y_pred = knnRegressor.predict(X_test)\n",
    "Get_score(y_pred, y_test)"
   ]
  },
  {
   "cell_type": "code",
   "execution_count": 198,
   "metadata": {
    "colab": {
     "base_uri": "https://localhost:8080/",
     "height": 54
    },
    "colab_type": "code",
    "executionInfo": {
     "elapsed": 2021,
     "status": "ok",
     "timestamp": 1588013594142,
     "user": {
      "displayName": "Raghvendra Pratap Singh",
      "photoUrl": "https://lh3.googleusercontent.com/a-/AOh14Gj1jQJ5n0fdqt2IyBbxgNbDiN_ZfLwM20c8-dFk=s64",
      "userId": "16108454137484926510"
     },
     "user_tz": -330
    },
    "id": "eb3i8xbIcHzx",
    "outputId": "8e1da146-0ce6-4c37-9f67-56f4ff849e6b"
   },
   "outputs": [
    {
     "name": "stdout",
     "output_type": "stream",
     "text": [
      "The Spearman's correlation coefficient is: 0.011\n",
      "The Spearman's correlation coefficient is: 0.025\n"
     ]
    }
   ],
   "source": [
    "dtRegressor = DecisionTreeRegressor()\n",
    "dtRegressor.fit(X_train, y_train)\n",
    "y_pred = dtRegressor.predict(X_test)\n",
    "Get_score(y_pred, y_test)"
   ]
  },
  {
   "cell_type": "code",
   "execution_count": 199,
   "metadata": {
    "colab": {
     "base_uri": "https://localhost:8080/",
     "height": 54
    },
    "colab_type": "code",
    "executionInfo": {
     "elapsed": 48816,
     "status": "ok",
     "timestamp": 1588013645599,
     "user": {
      "displayName": "Raghvendra Pratap Singh",
      "photoUrl": "https://lh3.googleusercontent.com/a-/AOh14Gj1jQJ5n0fdqt2IyBbxgNbDiN_ZfLwM20c8-dFk=s64",
      "userId": "16108454137484926510"
     },
     "user_tz": -330
    },
    "id": "TcTLwTZbANWU",
    "outputId": "cce590e2-fc99-4faa-f018-eeb089ffaeeb"
   },
   "outputs": [
    {
     "name": "stdout",
     "output_type": "stream",
     "text": [
      "The Spearman's correlation coefficient is: 0.001\n",
      "The Spearman's correlation coefficient is: 0.012\n"
     ]
    }
   ],
   "source": [
    "rfRegressor = RandomForestRegressor(n_estimators=100,random_state=45)\n",
    "rfRegressor.fit(X_train,y_train)\n",
    "y_pred = rfRegressor.predict(X_test)\n",
    "Get_score(y_pred, y_test)"
   ]
  },
  {
   "cell_type": "markdown",
   "metadata": {
    "colab_type": "text",
    "id": "ja-w0B_WHkND"
   },
   "source": [
    "*For other ensemble and neural networking models*"
   ]
  },
  {
   "cell_type": "markdown",
   "metadata": {
    "colab_type": "text",
    "id": "_iMLTbxfDLvN"
   },
   "source": [
    "link followed for ensembling:\n",
    "https://www.analyticsvidhya.com/blog/2018/06/comprehensive-guide-for-ensemble-models/"
   ]
  },
  {
   "cell_type": "code",
   "execution_count": 0,
   "metadata": {
    "colab": {},
    "colab_type": "code",
    "id": "5DBsmK736InC"
   },
   "outputs": [],
   "source": [
    "y_short = dfGroundTruth[['short-term_memorability']].values\n",
    "y_long = dfGroundTruth[['long-term_memorability']].values\n",
    "\n",
    "# Splitting the dataset into the Training set and Test set\n",
    "short_X_train,short_X_test,short_y_train,short_y_test = train_test_split(X,y_short,test_size=0.2,random_state=40)\n",
    "long_X_train,long_X_test,long_y_train,long_y_test = train_test_split(X,y_long,test_size=0.2,random_state=40)"
   ]
  },
  {
   "cell_type": "code",
   "execution_count": 209,
   "metadata": {
    "colab": {
     "base_uri": "https://localhost:8080/",
     "height": 149
    },
    "colab_type": "code",
    "executionInfo": {
     "elapsed": 194479,
     "status": "ok",
     "timestamp": 1588014790660,
     "user": {
      "displayName": "Raghvendra Pratap Singh",
      "photoUrl": "https://lh3.googleusercontent.com/a-/AOh14Gj1jQJ5n0fdqt2IyBbxgNbDiN_ZfLwM20c8-dFk=s64",
      "userId": "16108454137484926510"
     },
     "user_tz": -330
    },
    "id": "woOT8jRkBvlV",
    "outputId": "fda9e8d8-2514-4627-d70f-f5b1574c026f"
   },
   "outputs": [
    {
     "name": "stderr",
     "output_type": "stream",
     "text": [
      "/usr/local/lib/python3.6/dist-packages/sklearn/ensemble/_voting.py:406: DataConversionWarning: A column-vector y was passed when a 1d array was expected. Please change the shape of y to (n_samples, ), for example using ravel().\n",
      "  y = column_or_1d(y, warn=True)\n"
     ]
    },
    {
     "name": "stdout",
     "output_type": "stream",
     "text": [
      "The Spearman's correlation coefficient is: 0.006\n"
     ]
    },
    {
     "name": "stderr",
     "output_type": "stream",
     "text": [
      "/usr/local/lib/python3.6/dist-packages/sklearn/ensemble/_voting.py:406: DataConversionWarning: A column-vector y was passed when a 1d array was expected. Please change the shape of y to (n_samples, ), for example using ravel().\n",
      "  y = column_or_1d(y, warn=True)\n"
     ]
    },
    {
     "name": "stdout",
     "output_type": "stream",
     "text": [
      "The Spearman's correlation coefficient is: 0.054\n"
     ]
    }
   ],
   "source": [
    "model1 = LinearRegression()\n",
    "model2 = DecisionTreeRegressor(random_state=1)\n",
    "model3 = KNeighborsRegressor(n_neighbors = 77)\n",
    "model4 = RandomForestRegressor(n_estimators=100,random_state=45)\n",
    "vRegressor = VotingRegressor(estimators=[('lr', model1), ('dt', model2), ('knn', model3), ('rf', model4)])\n",
    "\n",
    "vRegressor.fit(short_X_train,short_y_train)\n",
    "y_pred = vRegressor.predict(short_X_test)\n",
    "Get_score(y_pred, short_y_test)\n",
    "\n",
    "vRegressor.fit(long_X_train,long_y_train)\n",
    "y_pred = vRegressor.predict(long_X_test)\n",
    "Get_score(y_pred, long_y_test)"
   ]
  },
  {
   "cell_type": "code",
   "execution_count": 206,
   "metadata": {
    "colab": {
     "base_uri": "https://localhost:8080/",
     "height": 149
    },
    "colab_type": "code",
    "executionInfo": {
     "elapsed": 6835,
     "status": "ok",
     "timestamp": 1588014278021,
     "user": {
      "displayName": "Raghvendra Pratap Singh",
      "photoUrl": "https://lh3.googleusercontent.com/a-/AOh14Gj1jQJ5n0fdqt2IyBbxgNbDiN_ZfLwM20c8-dFk=s64",
      "userId": "16108454137484926510"
     },
     "user_tz": -330
    },
    "id": "8Y-aNEqFA4hx",
    "outputId": "95de5a0f-2779-45ef-f2c4-a97d07e4c397"
   },
   "outputs": [
    {
     "name": "stderr",
     "output_type": "stream",
     "text": [
      "/usr/local/lib/python3.6/dist-packages/sklearn/utils/validation.py:760: DataConversionWarning: A column-vector y was passed when a 1d array was expected. Please change the shape of y to (n_samples, ), for example using ravel().\n",
      "  y = column_or_1d(y, warn=True)\n"
     ]
    },
    {
     "name": "stdout",
     "output_type": "stream",
     "text": [
      "The Spearman's correlation coefficient is: -0.047\n"
     ]
    },
    {
     "name": "stderr",
     "output_type": "stream",
     "text": [
      "/usr/local/lib/python3.6/dist-packages/sklearn/utils/validation.py:760: DataConversionWarning: A column-vector y was passed when a 1d array was expected. Please change the shape of y to (n_samples, ), for example using ravel().\n",
      "  y = column_or_1d(y, warn=True)\n"
     ]
    },
    {
     "name": "stdout",
     "output_type": "stream",
     "text": [
      "The Spearman's correlation coefficient is: 0.019\n"
     ]
    }
   ],
   "source": [
    "abRegressor = AdaBoostRegressor()\n",
    "abRegressor.fit(short_X_train, short_y_train)\n",
    "y_pred = abRegressor.predict(short_X_test)\n",
    "Get_score(y_pred, short_y_test)\n",
    "\n",
    "abRegressor = AdaBoostRegressor()\n",
    "abRegressor.fit(long_X_train, long_y_train)\n",
    "y_pred = abRegressor.predict(long_X_test)\n",
    "Get_score(y_pred, long_y_test)"
   ]
  },
  {
   "cell_type": "code",
   "execution_count": 211,
   "metadata": {
    "colab": {
     "base_uri": "https://localhost:8080/",
     "height": 149
    },
    "colab_type": "code",
    "executionInfo": {
     "elapsed": 26360,
     "status": "ok",
     "timestamp": 1588014932728,
     "user": {
      "displayName": "Raghvendra Pratap Singh",
      "photoUrl": "https://lh3.googleusercontent.com/a-/AOh14Gj1jQJ5n0fdqt2IyBbxgNbDiN_ZfLwM20c8-dFk=s64",
      "userId": "16108454137484926510"
     },
     "user_tz": -330
    },
    "id": "-bbapPifANbB",
    "outputId": "9c784f6d-d8b7-4a15-d763-adae14b0a07e"
   },
   "outputs": [
    {
     "name": "stderr",
     "output_type": "stream",
     "text": [
      "/usr/local/lib/python3.6/dist-packages/sklearn/ensemble/_gb.py:1454: DataConversionWarning: A column-vector y was passed when a 1d array was expected. Please change the shape of y to (n_samples, ), for example using ravel().\n",
      "  y = column_or_1d(y, warn=True)\n"
     ]
    },
    {
     "name": "stdout",
     "output_type": "stream",
     "text": [
      "The Spearman's correlation coefficient is: 0.013\n"
     ]
    },
    {
     "name": "stderr",
     "output_type": "stream",
     "text": [
      "/usr/local/lib/python3.6/dist-packages/sklearn/ensemble/_gb.py:1454: DataConversionWarning: A column-vector y was passed when a 1d array was expected. Please change the shape of y to (n_samples, ), for example using ravel().\n",
      "  y = column_or_1d(y, warn=True)\n"
     ]
    },
    {
     "name": "stdout",
     "output_type": "stream",
     "text": [
      "The Spearman's correlation coefficient is: 0.027\n"
     ]
    }
   ],
   "source": [
    "gbRegressor= GradientBoostingRegressor()\n",
    "\n",
    "gbRegressor.fit(short_X_train,short_y_train)\n",
    "y_pred = gbRegressor.predict(short_X_test)\n",
    "Get_score(y_pred, short_y_test)\n",
    "\n",
    "gbRegressor.fit(long_X_train,long_y_train)\n",
    "y_pred = gbRegressor.predict(long_X_test)\n",
    "Get_score(y_pred, long_y_test)\n"
   ]
  },
  {
   "cell_type": "markdown",
   "metadata": {
    "colab_type": "text",
    "id": "vDZsiDzNKamX"
   },
   "source": [
    "links followed for neural network:\n",
    "\n",
    "https://stackoverflow.com/questions/49008074/how-to-create-a-neural-network-for-regression\n",
    "\n",
    "https://keras.io/activations/\n",
    "\n",
    "https://keras.io/optimizers/"
   ]
  },
  {
   "cell_type": "code",
   "execution_count": 30,
   "metadata": {
    "colab": {
     "base_uri": "https://localhost:8080/",
     "height": 36
    },
    "colab_type": "code",
    "executionInfo": {
     "elapsed": 3409,
     "status": "ok",
     "timestamp": 1588091748220,
     "user": {
      "displayName": "Raghvendra Pratap Singh",
      "photoUrl": "https://lh3.googleusercontent.com/a-/AOh14Gj1jQJ5n0fdqt2IyBbxgNbDiN_ZfLwM20c8-dFk=s64",
      "userId": "16108454137484926510"
     },
     "user_tz": -330
    },
    "id": "FiLMcDJ8D1R9",
    "outputId": "75621190-3b5d-42c8-9a8f-b7d2d737713d"
   },
   "outputs": [
    {
     "name": "stderr",
     "output_type": "stream",
     "text": [
      "Using TensorFlow backend.\n"
     ]
    }
   ],
   "source": [
    "from keras.models import Sequential\n",
    "from keras.layers import Dense\n",
    "from keras.wrappers.scikit_learn import KerasRegressor\n",
    "from sklearn.model_selection import cross_val_score\n",
    "from sklearn.model_selection import KFold\n",
    "from sklearn.preprocessing import StandardScaler\n",
    "from sklearn.pipeline import Pipeline\n",
    "from tensorflow.keras import layers"
   ]
  },
  {
   "cell_type": "code",
   "execution_count": 0,
   "metadata": {
    "colab": {},
    "colab_type": "code",
    "id": "_02N9KVIKs7a"
   },
   "outputs": [],
   "source": [
    "sc = StandardScaler()\n",
    "short_X_train = sc.fit_transform(short_X_train)\n",
    "short_X_test = sc.transform(short_X_test)\n",
    "\n",
    "long_X_train = sc.fit_transform(long_X_train)\n",
    "long_X_test = sc.transform(long_X_test)"
   ]
  },
  {
   "cell_type": "code",
   "execution_count": 0,
   "metadata": {
    "colab": {},
    "colab_type": "code",
    "id": "x9esU4r1D1XD"
   },
   "outputs": [],
   "source": [
    "# Initialising\n",
    "neuralNetModel = Sequential()\n",
    "\n",
    "# Adding the input layer and first hidden layer\n",
    "neuralNetModel.add(Dense(32, activation = 'relu', input_dim = 101))\n",
    "\n",
    "# Adding second hidden layer\n",
    "neuralNetModel.add(Dense(units = 32, activation = 'relu'))\n",
    "\n",
    "# Adding third hidden layer\n",
    "neuralNetModel.add(Dense(units = 32, activation = 'relu'))\n",
    "\n",
    "# Adding output layer\n",
    "neuralNetModel.add(Dense(units = 1))"
   ]
  },
  {
   "cell_type": "code",
   "execution_count": 0,
   "metadata": {
    "colab": {},
    "colab_type": "code",
    "id": "nO4cCXz9MKC_"
   },
   "outputs": [],
   "source": [
    "neuralNetModel.compile(optimizer = 'adam',loss = 'mean_squared_error')"
   ]
  },
  {
   "cell_type": "code",
   "execution_count": 256,
   "metadata": {
    "colab": {
     "base_uri": "https://localhost:8080/",
     "height": 1000
    },
    "colab_type": "code",
    "executionInfo": {
     "elapsed": 122647,
     "status": "ok",
     "timestamp": 1588019108428,
     "user": {
      "displayName": "Raghvendra Pratap Singh",
      "photoUrl": "https://lh3.googleusercontent.com/a-/AOh14Gj1jQJ5n0fdqt2IyBbxgNbDiN_ZfLwM20c8-dFk=s64",
      "userId": "16108454137484926510"
     },
     "user_tz": -330
    },
    "id": "iU6ZkBiUMQG5",
    "outputId": "1320c2b4-b1f7-484a-f91f-29419adbaa24"
   },
   "outputs": [
    {
     "name": "stdout",
     "output_type": "stream",
     "text": [
      "Epoch 1/51\n",
      "4800/4800 [==============================] - 1s 244us/step - loss: 0.0076\n",
      "Epoch 2/51\n",
      "4800/4800 [==============================] - 1s 247us/step - loss: 0.0062\n",
      "Epoch 3/51\n",
      "4800/4800 [==============================] - 1s 242us/step - loss: 0.0059\n",
      "Epoch 4/51\n",
      "4800/4800 [==============================] - 1s 244us/step - loss: 0.0058\n",
      "Epoch 5/51\n",
      "4800/4800 [==============================] - 1s 245us/step - loss: 0.0057\n",
      "Epoch 6/51\n",
      "4800/4800 [==============================] - 1s 244us/step - loss: 0.0056\n",
      "Epoch 7/51\n",
      "4800/4800 [==============================] - 1s 247us/step - loss: 0.0055\n",
      "Epoch 8/51\n",
      "4800/4800 [==============================] - 1s 294us/step - loss: 0.0054\n",
      "Epoch 9/51\n",
      "4800/4800 [==============================] - 1s 248us/step - loss: 0.0054\n",
      "Epoch 10/51\n",
      "4800/4800 [==============================] - 1s 253us/step - loss: 0.0053\n",
      "Epoch 11/51\n",
      "4800/4800 [==============================] - 1s 254us/step - loss: 0.0053\n",
      "Epoch 12/51\n",
      "4800/4800 [==============================] - 1s 251us/step - loss: 0.0053\n",
      "Epoch 13/51\n",
      "4800/4800 [==============================] - 1s 239us/step - loss: 0.0052\n",
      "Epoch 14/51\n",
      "4800/4800 [==============================] - 1s 245us/step - loss: 0.0052\n",
      "Epoch 15/51\n",
      "4800/4800 [==============================] - 1s 244us/step - loss: 0.0051\n",
      "Epoch 16/51\n",
      "4800/4800 [==============================] - 1s 241us/step - loss: 0.0051\n",
      "Epoch 17/51\n",
      "4800/4800 [==============================] - 1s 246us/step - loss: 0.0050\n",
      "Epoch 18/51\n",
      "4800/4800 [==============================] - 1s 241us/step - loss: 0.0050\n",
      "Epoch 19/51\n",
      "4800/4800 [==============================] - 1s 242us/step - loss: 0.0050\n",
      "Epoch 20/51\n",
      "4800/4800 [==============================] - 1s 241us/step - loss: 0.0049\n",
      "Epoch 21/51\n",
      "4800/4800 [==============================] - 1s 248us/step - loss: 0.0049\n",
      "Epoch 22/51\n",
      "4800/4800 [==============================] - 1s 248us/step - loss: 0.0048\n",
      "Epoch 23/51\n",
      "4800/4800 [==============================] - 1s 244us/step - loss: 0.0048\n",
      "Epoch 24/51\n",
      "4800/4800 [==============================] - 1s 240us/step - loss: 0.0048\n",
      "Epoch 25/51\n",
      "4800/4800 [==============================] - 1s 296us/step - loss: 0.0047\n",
      "Epoch 26/51\n",
      "4800/4800 [==============================] - 1s 248us/step - loss: 0.0048\n",
      "Epoch 27/51\n",
      "4800/4800 [==============================] - 1s 241us/step - loss: 0.0046\n",
      "Epoch 28/51\n",
      "4800/4800 [==============================] - 1s 245us/step - loss: 0.0046\n",
      "Epoch 29/51\n",
      "4800/4800 [==============================] - 1s 238us/step - loss: 0.0046\n",
      "Epoch 30/51\n",
      "4800/4800 [==============================] - 1s 244us/step - loss: 0.0046\n",
      "Epoch 31/51\n",
      "4800/4800 [==============================] - 1s 246us/step - loss: 0.0045\n",
      "Epoch 32/51\n",
      "4800/4800 [==============================] - 1s 241us/step - loss: 0.0045\n",
      "Epoch 33/51\n",
      "4800/4800 [==============================] - 1s 244us/step - loss: 0.0046\n",
      "Epoch 34/51\n",
      "4800/4800 [==============================] - 1s 242us/step - loss: 0.0045\n",
      "Epoch 35/51\n",
      "4800/4800 [==============================] - 1s 241us/step - loss: 0.0044\n",
      "Epoch 36/51\n",
      "4800/4800 [==============================] - 1s 244us/step - loss: 0.0044\n",
      "Epoch 37/51\n",
      "4800/4800 [==============================] - 1s 246us/step - loss: 0.0044\n",
      "Epoch 38/51\n",
      "4800/4800 [==============================] - 1s 241us/step - loss: 0.0045\n",
      "Epoch 39/51\n",
      "4800/4800 [==============================] - 1s 253us/step - loss: 0.0045\n",
      "Epoch 40/51\n",
      "4800/4800 [==============================] - 1s 244us/step - loss: 0.0044\n",
      "Epoch 41/51\n",
      "4800/4800 [==============================] - 1s 243us/step - loss: 0.0044\n",
      "Epoch 42/51\n",
      "4800/4800 [==============================] - 1s 266us/step - loss: 0.0043\n",
      "Epoch 43/51\n",
      "4800/4800 [==============================] - 1s 284us/step - loss: 0.0044\n",
      "Epoch 44/51\n",
      "4800/4800 [==============================] - 1s 251us/step - loss: 0.0043\n",
      "Epoch 45/51\n",
      "4800/4800 [==============================] - 1s 245us/step - loss: 0.0043\n",
      "Epoch 46/51\n",
      "4800/4800 [==============================] - 1s 250us/step - loss: 0.0042\n",
      "Epoch 47/51\n",
      "4800/4800 [==============================] - 1s 241us/step - loss: 0.0042\n",
      "Epoch 48/51\n",
      "4800/4800 [==============================] - 1s 248us/step - loss: 0.0042\n",
      "Epoch 49/51\n",
      "4800/4800 [==============================] - 1s 241us/step - loss: 0.0042\n",
      "Epoch 50/51\n",
      "4800/4800 [==============================] - 1s 245us/step - loss: 0.0042\n",
      "Epoch 51/51\n",
      "4800/4800 [==============================] - 1s 237us/step - loss: 0.0042\n",
      "Epoch 1/51\n",
      "4800/4800 [==============================] - 1s 237us/step - loss: 0.0207\n",
      "Epoch 2/51\n",
      "4800/4800 [==============================] - 1s 243us/step - loss: 0.0188\n",
      "Epoch 3/51\n",
      "4800/4800 [==============================] - 1s 241us/step - loss: 0.0178\n",
      "Epoch 4/51\n",
      "4800/4800 [==============================] - 1s 240us/step - loss: 0.0169\n",
      "Epoch 5/51\n",
      "4800/4800 [==============================] - 1s 260us/step - loss: 0.0166\n",
      "Epoch 6/51\n",
      "4800/4800 [==============================] - 1s 245us/step - loss: 0.0158\n",
      "Epoch 7/51\n",
      "4800/4800 [==============================] - 1s 245us/step - loss: 0.0156\n",
      "Epoch 8/51\n",
      "4800/4800 [==============================] - 1s 242us/step - loss: 0.0151\n",
      "Epoch 9/51\n",
      "4800/4800 [==============================] - 1s 302us/step - loss: 0.0152\n",
      "Epoch 10/51\n",
      "4800/4800 [==============================] - 1s 241us/step - loss: 0.0149\n",
      "Epoch 11/51\n",
      "4800/4800 [==============================] - 1s 241us/step - loss: 0.0146\n",
      "Epoch 12/51\n",
      "4800/4800 [==============================] - 1s 246us/step - loss: 0.0144\n",
      "Epoch 13/51\n",
      "4800/4800 [==============================] - 1s 244us/step - loss: 0.0142\n",
      "Epoch 14/51\n",
      "4800/4800 [==============================] - 1s 248us/step - loss: 0.0141\n",
      "Epoch 15/51\n",
      "4800/4800 [==============================] - 1s 244us/step - loss: 0.0140\n",
      "Epoch 16/51\n",
      "4800/4800 [==============================] - 1s 244us/step - loss: 0.0138\n",
      "Epoch 17/51\n",
      "4800/4800 [==============================] - 1s 245us/step - loss: 0.0138\n",
      "Epoch 18/51\n",
      "4800/4800 [==============================] - 1s 241us/step - loss: 0.0138\n",
      "Epoch 19/51\n",
      "4800/4800 [==============================] - 1s 244us/step - loss: 0.0137\n",
      "Epoch 20/51\n",
      "4800/4800 [==============================] - 1s 244us/step - loss: 0.0135\n",
      "Epoch 21/51\n",
      "4800/4800 [==============================] - 1s 242us/step - loss: 0.0133\n",
      "Epoch 22/51\n",
      "4800/4800 [==============================] - 1s 240us/step - loss: 0.0132\n",
      "Epoch 23/51\n",
      "4800/4800 [==============================] - 1s 245us/step - loss: 0.0131\n",
      "Epoch 24/51\n",
      "4800/4800 [==============================] - 1s 244us/step - loss: 0.0131\n",
      "Epoch 25/51\n",
      "4800/4800 [==============================] - 1s 241us/step - loss: 0.0129\n",
      "Epoch 26/51\n",
      "4800/4800 [==============================] - 1s 295us/step - loss: 0.0129\n",
      "Epoch 27/51\n",
      "4800/4800 [==============================] - 1s 241us/step - loss: 0.0127\n",
      "Epoch 28/51\n",
      "4800/4800 [==============================] - 1s 244us/step - loss: 0.0129\n",
      "Epoch 29/51\n",
      "4800/4800 [==============================] - 1s 238us/step - loss: 0.0129\n",
      "Epoch 30/51\n",
      "4800/4800 [==============================] - 1s 252us/step - loss: 0.0127\n",
      "Epoch 31/51\n",
      "4800/4800 [==============================] - 1s 247us/step - loss: 0.0126\n",
      "Epoch 32/51\n",
      "4800/4800 [==============================] - 1s 249us/step - loss: 0.0126\n",
      "Epoch 33/51\n",
      "4800/4800 [==============================] - 1s 246us/step - loss: 0.0124\n",
      "Epoch 34/51\n",
      "4800/4800 [==============================] - 1s 247us/step - loss: 0.0123\n",
      "Epoch 35/51\n",
      "4800/4800 [==============================] - 1s 250us/step - loss: 0.0123\n",
      "Epoch 36/51\n",
      "4800/4800 [==============================] - 1s 249us/step - loss: 0.0123\n",
      "Epoch 37/51\n",
      "4800/4800 [==============================] - 1s 247us/step - loss: 0.0123\n",
      "Epoch 38/51\n",
      "4800/4800 [==============================] - 1s 247us/step - loss: 0.0123\n",
      "Epoch 39/51\n",
      "4800/4800 [==============================] - 1s 251us/step - loss: 0.0122\n",
      "Epoch 40/51\n",
      "4800/4800 [==============================] - 1s 244us/step - loss: 0.0122\n",
      "Epoch 41/51\n",
      "4800/4800 [==============================] - 1s 241us/step - loss: 0.0119\n",
      "Epoch 42/51\n",
      "4800/4800 [==============================] - 1s 250us/step - loss: 0.0120\n",
      "Epoch 43/51\n",
      "4800/4800 [==============================] - 1s 277us/step - loss: 0.0123\n",
      "Epoch 44/51\n",
      "4800/4800 [==============================] - 1s 261us/step - loss: 0.0119\n",
      "Epoch 45/51\n",
      "4800/4800 [==============================] - 1s 238us/step - loss: 0.0119\n",
      "Epoch 46/51\n",
      "4800/4800 [==============================] - 1s 242us/step - loss: 0.0118\n",
      "Epoch 47/51\n",
      "4800/4800 [==============================] - 1s 241us/step - loss: 0.0117\n",
      "Epoch 48/51\n",
      "4800/4800 [==============================] - 1s 245us/step - loss: 0.0118\n",
      "Epoch 49/51\n",
      "4800/4800 [==============================] - 1s 241us/step - loss: 0.0117\n",
      "Epoch 50/51\n",
      "4800/4800 [==============================] - 1s 250us/step - loss: 0.0117\n",
      "Epoch 51/51\n",
      "4800/4800 [==============================] - 1s 248us/step - loss: 0.0116\n"
     ]
    },
    {
     "data": {
      "text/plain": [
       "<keras.callbacks.callbacks.History at 0x7ff076582860>"
      ]
     },
     "execution_count": 256,
     "metadata": {
      "tags": []
     },
     "output_type": "execute_result"
    }
   ],
   "source": [
    "neuralNetModel.fit(short_X_train, short_y_train, batch_size = 10, epochs = 51)\n",
    "neuralNetModel.fit(long_X_train, long_y_train, batch_size = 10, epochs = 51)"
   ]
  },
  {
   "cell_type": "code",
   "execution_count": 257,
   "metadata": {
    "colab": {
     "base_uri": "https://localhost:8080/",
     "height": 54
    },
    "colab_type": "code",
    "executionInfo": {
     "elapsed": 1242,
     "status": "ok",
     "timestamp": 1588019124528,
     "user": {
      "displayName": "Raghvendra Pratap Singh",
      "photoUrl": "https://lh3.googleusercontent.com/a-/AOh14Gj1jQJ5n0fdqt2IyBbxgNbDiN_ZfLwM20c8-dFk=s64",
      "userId": "16108454137484926510"
     },
     "user_tz": -330
    },
    "id": "SMMvpKdLNLF0",
    "outputId": "acdc79c4-4e42-43d7-b19e-824e5d198eed"
   },
   "outputs": [
    {
     "name": "stdout",
     "output_type": "stream",
     "text": [
      "The Spearman's correlation coefficient is: 0.040\n",
      "The Spearman's correlation coefficient is: 0.017\n"
     ]
    }
   ],
   "source": [
    "y_pred = model.predict(short_X_test)\n",
    "Get_score(y_pred, short_y_test)\n",
    "\n",
    "y_pred = model.predict(long_X_test)\n",
    "Get_score(y_pred, long_y_test)"
   ]
  },
  {
   "cell_type": "code",
   "execution_count": 0,
   "metadata": {
    "colab": {},
    "colab_type": "code",
    "id": "Ia259mnqNmNG"
   },
   "outputs": [],
   "source": [
    "import matplotlib.pyplot as plt"
   ]
  },
  {
   "cell_type": "code",
   "execution_count": 259,
   "metadata": {
    "colab": {
     "base_uri": "https://localhost:8080/",
     "height": 281
    },
    "colab_type": "code",
    "executionInfo": {
     "elapsed": 1598,
     "status": "ok",
     "timestamp": 1588019137919,
     "user": {
      "displayName": "Raghvendra Pratap Singh",
      "photoUrl": "https://lh3.googleusercontent.com/a-/AOh14Gj1jQJ5n0fdqt2IyBbxgNbDiN_ZfLwM20c8-dFk=s64",
      "userId": "16108454137484926510"
     },
     "user_tz": -330
    },
    "id": "c1nVR2GJNiwb",
    "outputId": "4a4411d6-18ce-4af6-c45d-a695d1f56c86"
   },
   "outputs": [
    {
     "data": {
      "image/png": "[encoded data removed]",
      "text/plain": [
       "<Figure size 432x288 with 1 Axes>"
      ]
     },
     "metadata": {
      "needs_background": "light",
      "tags": []
     },
     "output_type": "display_data"
    }
   ],
   "source": [
    "plt.plot(y_test, color = 'green', label = 'Real data')\n",
    "plt.plot(y_pred, color = 'blue', label = 'Predicted data')\n",
    "plt.title('Prediction')\n",
    "plt.legend()\n",
    "plt.show()"
   ]
  },
  {
   "cell_type": "markdown",
   "metadata": {
    "colab_type": "text",
    "id": "HMgYce30fWgM"
   },
   "source": [
    "**Working on HMP only**"
   ]
  },
  {
   "cell_type": "code",
   "execution_count": 0,
   "metadata": {
    "colab": {},
    "colab_type": "code",
    "id": "bqY2GU2xANZq"
   },
   "outputs": [],
   "source": [
    "X = dfHMP_DevFeatures\n",
    "y = dfGroundTruth[['short-term_memorability','long-term_memorability']].values #these are our target columns"
   ]
  },
  {
   "cell_type": "code",
   "execution_count": 0,
   "metadata": {
    "colab": {},
    "colab_type": "code",
    "id": "ZGSTOrL1ANNb"
   },
   "outputs": [],
   "source": [
    "#from sklearn.model_selection import train_test_split"
   ]
  },
  {
   "cell_type": "code",
   "execution_count": 0,
   "metadata": {
    "colab": {},
    "colab_type": "code",
    "id": "2FWGmSa-u22v"
   },
   "outputs": [],
   "source": [
    "X_train,X_test,y_train,y_test = train_test_split(X,y,test_size=0.2,random_state=42)"
   ]
  },
  {
   "cell_type": "code",
   "execution_count": 64,
   "metadata": {
    "colab": {
     "base_uri": "https://localhost:8080/",
     "height": 91
    },
    "colab_type": "code",
    "executionInfo": {
     "elapsed": 1542,
     "status": "ok",
     "timestamp": 1588066615106,
     "user": {
      "displayName": "Raghvendra Pratap Singh",
      "photoUrl": "https://lh3.googleusercontent.com/a-/AOh14Gj1jQJ5n0fdqt2IyBbxgNbDiN_ZfLwM20c8-dFk=s64",
      "userId": "16108454137484926510"
     },
     "user_tz": -330
    },
    "id": "k2b_YUEkb4Wq",
    "outputId": "c2b58b8e-969f-4539-80d7-56d87c6d9b9b"
   },
   "outputs": [
    {
     "name": "stdout",
     "output_type": "stream",
     "text": [
      "X_train  (4800, 101)\n",
      "X_test   (1200, 101)\n",
      "Y_train  (4800, 2)\n",
      "Y_test   (1200, 2)\n"
     ]
    }
   ],
   "source": [
    "print('X_train ', X_train.shape)\n",
    "print('X_test  ', X_test.shape)\n",
    "print('Y_train ', y_train.shape)\n",
    "print('Y_test  ', y_test.shape)"
   ]
  },
  {
   "cell_type": "code",
   "execution_count": 65,
   "metadata": {
    "colab": {
     "base_uri": "https://localhost:8080/",
     "height": 54
    },
    "colab_type": "code",
    "executionInfo": {
     "elapsed": 1705,
     "status": "ok",
     "timestamp": 1588066619056,
     "user": {
      "displayName": "Raghvendra Pratap Singh",
      "photoUrl": "https://lh3.googleusercontent.com/a-/AOh14Gj1jQJ5n0fdqt2IyBbxgNbDiN_ZfLwM20c8-dFk=s64",
      "userId": "16108454137484926510"
     },
     "user_tz": -330
    },
    "id": "ol05n5yrb4f3",
    "outputId": "7d9fdc58-2540-4ca6-a7f7-1dd0ed856fe2"
   },
   "outputs": [
    {
     "name": "stdout",
     "output_type": "stream",
     "text": [
      "The Spearman's correlation coefficient is: 0.004\n",
      "The Spearman's correlation coefficient is: -0.008\n"
     ]
    }
   ],
   "source": [
    "#linear regression\n",
    "linearRegressor = LinearRegression()\n",
    "linearRegressor.fit(X_train, y_train)\n",
    "y_pred = linearRegressor.predict(X_test)\n",
    "Get_score(y_pred, y_test)"
   ]
  },
  {
   "cell_type": "code",
   "execution_count": 67,
   "metadata": {
    "colab": {
     "base_uri": "https://localhost:8080/",
     "height": 54
    },
    "colab_type": "code",
    "executionInfo": {
     "elapsed": 1285,
     "status": "ok",
     "timestamp": 1588066631566,
     "user": {
      "displayName": "Raghvendra Pratap Singh",
      "photoUrl": "https://lh3.googleusercontent.com/a-/AOh14Gj1jQJ5n0fdqt2IyBbxgNbDiN_ZfLwM20c8-dFk=s64",
      "userId": "16108454137484926510"
     },
     "user_tz": -330
    },
    "id": "KLqkuNgPb4qD",
    "outputId": "8e1f8e09-6539-4f05-ee43-591e57fab020"
   },
   "outputs": [
    {
     "name": "stdout",
     "output_type": "stream",
     "text": [
      "The Spearman's correlation coefficient is: 0.119\n",
      "The Spearman's correlation coefficient is: 0.116\n"
     ]
    }
   ],
   "source": [
    "knnRegressor = KNeighborsRegressor(n_neighbors = 77)\n",
    "knnRegressor.fit(X_test, y_test)\n",
    "y_pred = knnRegressor.predict(X_test)\n",
    "Get_score(y_pred, y_test)"
   ]
  },
  {
   "cell_type": "code",
   "execution_count": 68,
   "metadata": {
    "colab": {
     "base_uri": "https://localhost:8080/",
     "height": 54
    },
    "colab_type": "code",
    "executionInfo": {
     "elapsed": 1812,
     "status": "ok",
     "timestamp": 1588066635468,
     "user": {
      "displayName": "Raghvendra Pratap Singh",
      "photoUrl": "https://lh3.googleusercontent.com/a-/AOh14Gj1jQJ5n0fdqt2IyBbxgNbDiN_ZfLwM20c8-dFk=s64",
      "userId": "16108454137484926510"
     },
     "user_tz": -330
    },
    "id": "XaMER8SQb4m4",
    "outputId": "028692e0-8c24-4fa7-d269-48075907a79f"
   },
   "outputs": [
    {
     "name": "stdout",
     "output_type": "stream",
     "text": [
      "The Spearman's correlation coefficient is: 0.018\n",
      "The Spearman's correlation coefficient is: 0.012\n"
     ]
    }
   ],
   "source": [
    "dtRegressor = DecisionTreeRegressor()\n",
    "dtRegressor.fit(X_train, y_train)\n",
    "y_pred = dtRegressor.predict(X_test)\n",
    "Get_score(y_pred, y_test)"
   ]
  },
  {
   "cell_type": "code",
   "execution_count": 69,
   "metadata": {
    "colab": {
     "base_uri": "https://localhost:8080/",
     "height": 54
    },
    "colab_type": "code",
    "executionInfo": {
     "elapsed": 50870,
     "status": "ok",
     "timestamp": 1588066689188,
     "user": {
      "displayName": "Raghvendra Pratap Singh",
      "photoUrl": "https://lh3.googleusercontent.com/a-/AOh14Gj1jQJ5n0fdqt2IyBbxgNbDiN_ZfLwM20c8-dFk=s64",
      "userId": "16108454137484926510"
     },
     "user_tz": -330
    },
    "id": "KUJPZ_pob4k6",
    "outputId": "1adc3423-7ca9-45d8-eec2-7ddca0975c13"
   },
   "outputs": [
    {
     "name": "stdout",
     "output_type": "stream",
     "text": [
      "The Spearman's correlation coefficient is: 0.001\n",
      "The Spearman's correlation coefficient is: 0.012\n"
     ]
    }
   ],
   "source": [
    "rfRegressor = RandomForestRegressor(n_estimators=100,random_state=45)\n",
    "rfRegressor.fit(X_train,y_train)\n",
    "y_pred = rfRegressor.predict(X_test)\n",
    "Get_score(y_pred, y_test)"
   ]
  },
  {
   "cell_type": "markdown",
   "metadata": {
    "colab_type": "text",
    "id": "w3j9EKuUHU1o"
   },
   "source": [
    "*For other ensemble and neural networking models*"
   ]
  },
  {
   "cell_type": "code",
   "execution_count": 0,
   "metadata": {
    "colab": {},
    "colab_type": "code",
    "id": "ZRfhqDvsb4d0"
   },
   "outputs": [],
   "source": [
    "y_short = dfGroundTruth[['short-term_memorability']].values\n",
    "y_long = dfGroundTruth[['long-term_memorability']].values\n",
    "\n",
    "# Splitting the dataset into the Training set and Test set\n",
    "short_X_train,short_X_test,short_y_train,short_y_test = train_test_split(X,y_short,test_size=0.2,random_state=40)\n",
    "long_X_train,long_X_test,long_y_train,long_y_test = train_test_split(X,y_long,test_size=0.2,random_state=40)"
   ]
  },
  {
   "cell_type": "code",
   "execution_count": 75,
   "metadata": {
    "colab": {
     "base_uri": "https://localhost:8080/",
     "height": 149
    },
    "colab_type": "code",
    "executionInfo": {
     "elapsed": 106013,
     "status": "ok",
     "timestamp": 1588067170884,
     "user": {
      "displayName": "Raghvendra Pratap Singh",
      "photoUrl": "https://lh3.googleusercontent.com/a-/AOh14Gj1jQJ5n0fdqt2IyBbxgNbDiN_ZfLwM20c8-dFk=s64",
      "userId": "16108454137484926510"
     },
     "user_tz": -330
    },
    "id": "6aiiPgF-HrYM",
    "outputId": "baaf4705-b191-43f4-e882-0aa7db88e62b"
   },
   "outputs": [
    {
     "name": "stderr",
     "output_type": "stream",
     "text": [
      "/usr/local/lib/python3.6/dist-packages/sklearn/ensemble/_voting.py:406: DataConversionWarning: A column-vector y was passed when a 1d array was expected. Please change the shape of y to (n_samples, ), for example using ravel().\n",
      "  y = column_or_1d(y, warn=True)\n"
     ]
    },
    {
     "name": "stdout",
     "output_type": "stream",
     "text": [
      "The Spearman's correlation coefficient is: 0.007\n"
     ]
    },
    {
     "name": "stderr",
     "output_type": "stream",
     "text": [
      "/usr/local/lib/python3.6/dist-packages/sklearn/ensemble/_voting.py:406: DataConversionWarning: A column-vector y was passed when a 1d array was expected. Please change the shape of y to (n_samples, ), for example using ravel().\n",
      "  y = column_or_1d(y, warn=True)\n"
     ]
    },
    {
     "name": "stdout",
     "output_type": "stream",
     "text": [
      "The Spearman's correlation coefficient is: 0.051\n"
     ]
    }
   ],
   "source": [
    "model1 = LinearRegression()\n",
    "model2 = DecisionTreeRegressor(random_state=1)\n",
    "model3 = KNeighborsRegressor(n_neighbors = 77)\n",
    "model4 = RandomForestRegressor(n_estimators=100,random_state=45)\n",
    "vRegressor = VotingRegressor(estimators=[('lr', model1), ('dt', model2), ('knn', model3), ('rf', model4)])\n",
    "\n",
    "vRegressor.fit(short_X_train,short_y_train)\n",
    "y_pred = vRegressor.predict(short_X_test)\n",
    "Get_score(y_pred, short_y_test)\n",
    "\n",
    "vRegressor.fit(long_X_train,long_y_train)\n",
    "y_pred = vRegressor.predict(long_X_test)\n",
    "Get_score(y_pred, long_y_test)"
   ]
  },
  {
   "cell_type": "code",
   "execution_count": 76,
   "metadata": {
    "colab": {
     "base_uri": "https://localhost:8080/",
     "height": 149
    },
    "colab_type": "code",
    "executionInfo": {
     "elapsed": 6452,
     "status": "ok",
     "timestamp": 1588067177371,
     "user": {
      "displayName": "Raghvendra Pratap Singh",
      "photoUrl": "https://lh3.googleusercontent.com/a-/AOh14Gj1jQJ5n0fdqt2IyBbxgNbDiN_ZfLwM20c8-dFk=s64",
      "userId": "16108454137484926510"
     },
     "user_tz": -330
    },
    "id": "1x9wkUnlHrcP",
    "outputId": "0e9c0146-17a6-489f-8264-e6c86a8d3b2b"
   },
   "outputs": [
    {
     "name": "stderr",
     "output_type": "stream",
     "text": [
      "/usr/local/lib/python3.6/dist-packages/sklearn/utils/validation.py:760: DataConversionWarning: A column-vector y was passed when a 1d array was expected. Please change the shape of y to (n_samples, ), for example using ravel().\n",
      "  y = column_or_1d(y, warn=True)\n"
     ]
    },
    {
     "name": "stdout",
     "output_type": "stream",
     "text": [
      "The Spearman's correlation coefficient is: -0.054\n"
     ]
    },
    {
     "name": "stderr",
     "output_type": "stream",
     "text": [
      "/usr/local/lib/python3.6/dist-packages/sklearn/utils/validation.py:760: DataConversionWarning: A column-vector y was passed when a 1d array was expected. Please change the shape of y to (n_samples, ), for example using ravel().\n",
      "  y = column_or_1d(y, warn=True)\n"
     ]
    },
    {
     "name": "stdout",
     "output_type": "stream",
     "text": [
      "The Spearman's correlation coefficient is: -0.015\n"
     ]
    }
   ],
   "source": [
    "abRegressor = AdaBoostRegressor()\n",
    "abRegressor.fit(short_X_train, short_y_train)\n",
    "y_pred = abRegressor.predict(short_X_test)\n",
    "Get_score(y_pred, short_y_test)\n",
    "\n",
    "abRegressor = AdaBoostRegressor()\n",
    "abRegressor.fit(long_X_train, long_y_train)\n",
    "y_pred = abRegressor.predict(long_X_test)\n",
    "Get_score(y_pred, long_y_test)"
   ]
  },
  {
   "cell_type": "code",
   "execution_count": 77,
   "metadata": {
    "colab": {
     "base_uri": "https://localhost:8080/",
     "height": 149
    },
    "colab_type": "code",
    "executionInfo": {
     "elapsed": 33705,
     "status": "ok",
     "timestamp": 1588067204647,
     "user": {
      "displayName": "Raghvendra Pratap Singh",
      "photoUrl": "https://lh3.googleusercontent.com/a-/AOh14Gj1jQJ5n0fdqt2IyBbxgNbDiN_ZfLwM20c8-dFk=s64",
      "userId": "16108454137484926510"
     },
     "user_tz": -330
    },
    "id": "MSoDE4H_HrgV",
    "outputId": "cef58df1-8621-4c3a-9fc7-aa90f8bdad95"
   },
   "outputs": [
    {
     "name": "stderr",
     "output_type": "stream",
     "text": [
      "/usr/local/lib/python3.6/dist-packages/sklearn/ensemble/_gb.py:1454: DataConversionWarning: A column-vector y was passed when a 1d array was expected. Please change the shape of y to (n_samples, ), for example using ravel().\n",
      "  y = column_or_1d(y, warn=True)\n"
     ]
    },
    {
     "name": "stdout",
     "output_type": "stream",
     "text": [
      "The Spearman's correlation coefficient is: 0.008\n"
     ]
    },
    {
     "name": "stderr",
     "output_type": "stream",
     "text": [
      "/usr/local/lib/python3.6/dist-packages/sklearn/ensemble/_gb.py:1454: DataConversionWarning: A column-vector y was passed when a 1d array was expected. Please change the shape of y to (n_samples, ), for example using ravel().\n",
      "  y = column_or_1d(y, warn=True)\n"
     ]
    },
    {
     "name": "stdout",
     "output_type": "stream",
     "text": [
      "The Spearman's correlation coefficient is: 0.028\n"
     ]
    }
   ],
   "source": [
    "gbRegressor= GradientBoostingRegressor()\n",
    "\n",
    "gbRegressor.fit(short_X_train,short_y_train)\n",
    "y_pred = gbRegressor.predict(short_X_test)\n",
    "Get_score(y_pred, short_y_test)\n",
    "\n",
    "gbRegressor.fit(long_X_train,long_y_train)\n",
    "y_pred = gbRegressor.predict(long_X_test)\n",
    "Get_score(y_pred, long_y_test)\n"
   ]
  },
  {
   "cell_type": "code",
   "execution_count": 0,
   "metadata": {
    "colab": {},
    "colab_type": "code",
    "id": "36cReFVNH1A0"
   },
   "outputs": [],
   "source": [
    "sc = StandardScaler()\n",
    "short_X_train = sc.fit_transform(short_X_train)\n",
    "short_X_test = sc.transform(short_X_test)\n",
    "\n",
    "long_X_train = sc.fit_transform(long_X_train)\n",
    "long_X_test = sc.transform(long_X_test)"
   ]
  },
  {
   "cell_type": "code",
   "execution_count": 0,
   "metadata": {
    "colab": {},
    "colab_type": "code",
    "id": "Wq5d9VibH1GA"
   },
   "outputs": [],
   "source": [
    "# Initialising\n",
    "neuralNetModel = Sequential()\n",
    "\n",
    "# Adding the input layer and first hidden layer\n",
    "neuralNetModel.add(Dense(32, activation = 'relu', input_dim = 101))\n",
    "\n",
    "# Adding second hidden layer\n",
    "neuralNetModel.add(Dense(units = 32, activation = 'relu'))\n",
    "\n",
    "# Adding third hidden layer\n",
    "neuralNetModel.add(Dense(units = 32, activation = 'relu'))\n",
    "\n",
    "# Adding output layer\n",
    "neuralNetModel.add(Dense(units = 1))"
   ]
  },
  {
   "cell_type": "code",
   "execution_count": 0,
   "metadata": {
    "colab": {},
    "colab_type": "code",
    "id": "Y5x-XDOHIaw8"
   },
   "outputs": [],
   "source": [
    "neuralNetModel.compile(optimizer = 'adam',loss = 'mean_squared_error')"
   ]
  },
  {
   "cell_type": "code",
   "execution_count": 81,
   "metadata": {
    "colab": {
     "base_uri": "https://localhost:8080/",
     "height": 1000
    },
    "colab_type": "code",
    "executionInfo": {
     "elapsed": 171878,
     "status": "ok",
     "timestamp": 1588067342871,
     "user": {
      "displayName": "Raghvendra Pratap Singh",
      "photoUrl": "https://lh3.googleusercontent.com/a-/AOh14Gj1jQJ5n0fdqt2IyBbxgNbDiN_ZfLwM20c8-dFk=s64",
      "userId": "16108454137484926510"
     },
     "user_tz": -330
    },
    "id": "5JoQJsy2Ia1p",
    "outputId": "5c125032-15ea-487a-a0e7-ded2e4787995"
   },
   "outputs": [
    {
     "name": "stdout",
     "output_type": "stream",
     "text": [
      "Epoch 1/51\n",
      "4800/4800 [==============================] - 3s 628us/step - loss: 0.0968\n",
      "Epoch 2/51\n",
      "4800/4800 [==============================] - 1s 245us/step - loss: 0.0195\n",
      "Epoch 3/51\n",
      "4800/4800 [==============================] - 1s 271us/step - loss: 0.0158\n",
      "Epoch 4/51\n",
      "4800/4800 [==============================] - 1s 301us/step - loss: 0.0121\n",
      "Epoch 5/51\n",
      "4800/4800 [==============================] - 1s 289us/step - loss: 0.0095\n",
      "Epoch 6/51\n",
      "4800/4800 [==============================] - 1s 258us/step - loss: 0.0087\n",
      "Epoch 7/51\n",
      "4800/4800 [==============================] - 1s 299us/step - loss: 0.0103\n",
      "Epoch 8/51\n",
      "4800/4800 [==============================] - 1s 242us/step - loss: 0.0092\n",
      "Epoch 9/51\n",
      "4800/4800 [==============================] - 1s 246us/step - loss: 0.0082\n",
      "Epoch 10/51\n",
      "4800/4800 [==============================] - 1s 259us/step - loss: 0.0078\n",
      "Epoch 11/51\n",
      "4800/4800 [==============================] - 1s 264us/step - loss: 0.0069\n",
      "Epoch 12/51\n",
      "4800/4800 [==============================] - 1s 240us/step - loss: 0.0066\n",
      "Epoch 13/51\n",
      "4800/4800 [==============================] - 1s 248us/step - loss: 0.0066\n",
      "Epoch 14/51\n",
      "4800/4800 [==============================] - 1s 276us/step - loss: 0.0069\n",
      "Epoch 15/51\n",
      "4800/4800 [==============================] - 1s 264us/step - loss: 0.0068\n",
      "Epoch 16/51\n",
      "4800/4800 [==============================] - 1s 243us/step - loss: 0.0067\n",
      "Epoch 17/51\n",
      "4800/4800 [==============================] - 1s 246us/step - loss: 0.0064\n",
      "Epoch 18/51\n",
      "4800/4800 [==============================] - 1s 254us/step - loss: 0.0062\n",
      "Epoch 19/51\n",
      "4800/4800 [==============================] - 1s 242us/step - loss: 0.0063\n",
      "Epoch 20/51\n",
      "4800/4800 [==============================] - 1s 256us/step - loss: 0.0064\n",
      "Epoch 21/51\n",
      "4800/4800 [==============================] - 1s 241us/step - loss: 0.0060\n",
      "Epoch 22/51\n",
      "4800/4800 [==============================] - 1s 239us/step - loss: 0.0061\n",
      "Epoch 23/51\n",
      "4800/4800 [==============================] - 1s 240us/step - loss: 0.0060\n",
      "Epoch 24/51\n",
      "4800/4800 [==============================] - 1s 261us/step - loss: 0.0060\n",
      "Epoch 25/51\n",
      "4800/4800 [==============================] - 1s 242us/step - loss: 0.0059\n",
      "Epoch 26/51\n",
      "4800/4800 [==============================] - 1s 245us/step - loss: 0.0058\n",
      "Epoch 27/51\n",
      "4800/4800 [==============================] - 1s 258us/step - loss: 0.0057\n",
      "Epoch 28/51\n",
      "4800/4800 [==============================] - 1s 238us/step - loss: 0.0058\n",
      "Epoch 29/51\n",
      "4800/4800 [==============================] - 1s 240us/step - loss: 0.0058\n",
      "Epoch 30/51\n",
      "4800/4800 [==============================] - 1s 266us/step - loss: 0.0057\n",
      "Epoch 31/51\n",
      "4800/4800 [==============================] - 1s 257us/step - loss: 0.0055\n",
      "Epoch 32/51\n",
      "4800/4800 [==============================] - 1s 245us/step - loss: 0.0055\n",
      "Epoch 33/51\n",
      "4800/4800 [==============================] - 1s 243us/step - loss: 0.0053\n",
      "Epoch 34/51\n",
      "4800/4800 [==============================] - 1s 249us/step - loss: 0.0053\n",
      "Epoch 35/51\n",
      "4800/4800 [==============================] - 1s 248us/step - loss: 0.0053\n",
      "Epoch 36/51\n",
      "4800/4800 [==============================] - 1s 250us/step - loss: 0.0053\n",
      "Epoch 37/51\n",
      "4800/4800 [==============================] - 1s 242us/step - loss: 0.0051\n",
      "Epoch 38/51\n",
      "4800/4800 [==============================] - 1s 248us/step - loss: 0.0052\n",
      "Epoch 39/51\n",
      "4800/4800 [==============================] - 1s 243us/step - loss: 0.0050\n",
      "Epoch 40/51\n",
      "4800/4800 [==============================] - 1s 241us/step - loss: 0.0048\n",
      "Epoch 41/51\n",
      "4800/4800 [==============================] - 1s 249us/step - loss: 0.0050\n",
      "Epoch 42/51\n",
      "4800/4800 [==============================] - 1s 255us/step - loss: 0.0049\n",
      "Epoch 43/51\n",
      "4800/4800 [==============================] - 1s 240us/step - loss: 0.0047\n",
      "Epoch 44/51\n",
      "4800/4800 [==============================] - 1s 253us/step - loss: 0.0048\n",
      "Epoch 45/51\n",
      "4800/4800 [==============================] - 1s 243us/step - loss: 0.0047\n",
      "Epoch 46/51\n",
      "4800/4800 [==============================] - 1s 239us/step - loss: 0.0047\n",
      "Epoch 47/51\n",
      "4800/4800 [==============================] - 1s 266us/step - loss: 0.0046\n",
      "Epoch 48/51\n",
      "4800/4800 [==============================] - 1s 242us/step - loss: 0.0047\n",
      "Epoch 49/51\n",
      "4800/4800 [==============================] - 1s 245us/step - loss: 0.0046\n",
      "Epoch 50/51\n",
      "4800/4800 [==============================] - 1s 245us/step - loss: 0.0044\n",
      "Epoch 51/51\n",
      "4800/4800 [==============================] - 1s 248us/step - loss: 0.0045\n",
      "Epoch 1/51\n",
      "4800/4800 [==============================] - 1s 257us/step - loss: 0.0215\n",
      "Epoch 2/51\n",
      "4800/4800 [==============================] - 1s 250us/step - loss: 0.0202\n",
      "Epoch 3/51\n",
      "4800/4800 [==============================] - 1s 240us/step - loss: 0.0195\n",
      "Epoch 4/51\n",
      "4800/4800 [==============================] - 1s 250us/step - loss: 0.0191\n",
      "Epoch 5/51\n",
      "4800/4800 [==============================] - 1s 272us/step - loss: 0.0183\n",
      "Epoch 6/51\n",
      "4800/4800 [==============================] - 1s 259us/step - loss: 0.0180\n",
      "Epoch 7/51\n",
      "4800/4800 [==============================] - 1s 253us/step - loss: 0.0173\n",
      "Epoch 8/51\n",
      "4800/4800 [==============================] - 1s 260us/step - loss: 0.0173\n",
      "Epoch 9/51\n",
      "4800/4800 [==============================] - 1s 263us/step - loss: 0.0166\n",
      "Epoch 10/51\n",
      "4800/4800 [==============================] - 1s 262us/step - loss: 0.0163\n",
      "Epoch 11/51\n",
      "4800/4800 [==============================] - 1s 268us/step - loss: 0.0162\n",
      "Epoch 12/51\n",
      "4800/4800 [==============================] - 1s 267us/step - loss: 0.0157\n",
      "Epoch 13/51\n",
      "4800/4800 [==============================] - 1s 287us/step - loss: 0.0155\n",
      "Epoch 14/51\n",
      "4800/4800 [==============================] - 1s 260us/step - loss: 0.0154\n",
      "Epoch 15/51\n",
      "4800/4800 [==============================] - 1s 258us/step - loss: 0.0153\n",
      "Epoch 16/51\n",
      "4800/4800 [==============================] - 1s 257us/step - loss: 0.0149\n",
      "Epoch 17/51\n",
      "4800/4800 [==============================] - 1s 255us/step - loss: 0.0147\n",
      "Epoch 18/51\n",
      "4800/4800 [==============================] - 1s 250us/step - loss: 0.0144\n",
      "Epoch 19/51\n",
      "4800/4800 [==============================] - 1s 252us/step - loss: 0.0143\n",
      "Epoch 20/51\n",
      "4800/4800 [==============================] - 1s 240us/step - loss: 0.0143\n",
      "Epoch 21/51\n",
      "4800/4800 [==============================] - 1s 250us/step - loss: 0.0139\n",
      "Epoch 22/51\n",
      "4800/4800 [==============================] - 1s 282us/step - loss: 0.0139\n",
      "Epoch 23/51\n",
      "4800/4800 [==============================] - 1s 258us/step - loss: 0.0138\n",
      "Epoch 24/51\n",
      "4800/4800 [==============================] - 1s 240us/step - loss: 0.0137\n",
      "Epoch 25/51\n",
      "4800/4800 [==============================] - 1s 298us/step - loss: 0.0135\n",
      "Epoch 26/51\n",
      "4800/4800 [==============================] - 1s 255us/step - loss: 0.0132\n",
      "Epoch 27/51\n",
      "4800/4800 [==============================] - 1s 255us/step - loss: 0.0132\n",
      "Epoch 28/51\n",
      "4800/4800 [==============================] - 1s 241us/step - loss: 0.0130\n",
      "Epoch 29/51\n",
      "4800/4800 [==============================] - 1s 244us/step - loss: 0.0131\n",
      "Epoch 30/51\n",
      "4800/4800 [==============================] - 1s 238us/step - loss: 0.0131\n",
      "Epoch 31/51\n",
      "4800/4800 [==============================] - 1s 243us/step - loss: 0.0128\n",
      "Epoch 32/51\n",
      "4800/4800 [==============================] - 1s 241us/step - loss: 0.0128\n",
      "Epoch 33/51\n",
      "4800/4800 [==============================] - 1s 256us/step - loss: 0.0127\n",
      "Epoch 34/51\n",
      "4800/4800 [==============================] - 1s 276us/step - loss: 0.0129\n",
      "Epoch 35/51\n",
      "4800/4800 [==============================] - 1s 259us/step - loss: 0.0128\n",
      "Epoch 36/51\n",
      "4800/4800 [==============================] - 1s 242us/step - loss: 0.0125\n",
      "Epoch 37/51\n",
      "4800/4800 [==============================] - 1s 239us/step - loss: 0.0125\n",
      "Epoch 38/51\n",
      "4800/4800 [==============================] - 1s 241us/step - loss: 0.0123\n",
      "Epoch 39/51\n",
      "4800/4800 [==============================] - 1s 239us/step - loss: 0.0121\n",
      "Epoch 40/51\n",
      "4800/4800 [==============================] - 1s 238us/step - loss: 0.0123\n",
      "Epoch 41/51\n",
      "4800/4800 [==============================] - 1s 254us/step - loss: 0.0121\n",
      "Epoch 42/51\n",
      "4800/4800 [==============================] - 1s 238us/step - loss: 0.0119\n",
      "Epoch 43/51\n",
      "4800/4800 [==============================] - 1s 239us/step - loss: 0.0120\n",
      "Epoch 44/51\n",
      "4800/4800 [==============================] - 1s 284us/step - loss: 0.0120\n",
      "Epoch 45/51\n",
      "4800/4800 [==============================] - 1s 262us/step - loss: 0.0118\n",
      "Epoch 46/51\n",
      "4800/4800 [==============================] - 1s 263us/step - loss: 0.0119\n",
      "Epoch 47/51\n",
      "4800/4800 [==============================] - 2s 319us/step - loss: 0.0116\n",
      "Epoch 48/51\n",
      "4800/4800 [==============================] - 1s 265us/step - loss: 0.0115\n",
      "Epoch 49/51\n",
      "4800/4800 [==============================] - 1s 287us/step - loss: 0.0117\n",
      "Epoch 50/51\n",
      "4800/4800 [==============================] - 1s 245us/step - loss: 0.0117\n",
      "Epoch 51/51\n",
      "4800/4800 [==============================] - 1s 246us/step - loss: 0.0117\n"
     ]
    },
    {
     "data": {
      "text/plain": [
       "<keras.callbacks.callbacks.History at 0x7fab244dfb00>"
      ]
     },
     "execution_count": 81,
     "metadata": {
      "tags": []
     },
     "output_type": "execute_result"
    }
   ],
   "source": [
    "neuralNetModel.fit(short_X_train, short_y_train, batch_size = 10, epochs = 51)\n",
    "neuralNetModel.fit(long_X_train, long_y_train, batch_size = 10, epochs = 51)"
   ]
  },
  {
   "cell_type": "code",
   "execution_count": 83,
   "metadata": {
    "colab": {
     "base_uri": "https://localhost:8080/",
     "height": 54
    },
    "colab_type": "code",
    "executionInfo": {
     "elapsed": 1319,
     "status": "ok",
     "timestamp": 1588067436130,
     "user": {
      "displayName": "Raghvendra Pratap Singh",
      "photoUrl": "https://lh3.googleusercontent.com/a-/AOh14Gj1jQJ5n0fdqt2IyBbxgNbDiN_ZfLwM20c8-dFk=s64",
      "userId": "16108454137484926510"
     },
     "user_tz": -330
    },
    "id": "roJjv5LOIiu5",
    "outputId": "394a0996-1244-454b-e7f1-1ecfd5c1fb68"
   },
   "outputs": [
    {
     "name": "stdout",
     "output_type": "stream",
     "text": [
      "The Spearman's correlation coefficient is: 0.004\n",
      "The Spearman's correlation coefficient is: -0.016\n"
     ]
    }
   ],
   "source": [
    "y_pred = neuralNetModel.predict(short_X_test)\n",
    "Get_score(y_pred, short_y_test)\n",
    "\n",
    "y_pred = neuralNetModel.predict(long_X_test)\n",
    "Get_score(y_pred, long_y_test)"
   ]
  },
  {
   "cell_type": "code",
   "execution_count": 84,
   "metadata": {
    "colab": {
     "base_uri": "https://localhost:8080/",
     "height": 281
    },
    "colab_type": "code",
    "executionInfo": {
     "elapsed": 1931,
     "status": "ok",
     "timestamp": 1588067443800,
     "user": {
      "displayName": "Raghvendra Pratap Singh",
      "photoUrl": "https://lh3.googleusercontent.com/a-/AOh14Gj1jQJ5n0fdqt2IyBbxgNbDiN_ZfLwM20c8-dFk=s64",
      "userId": "16108454137484926510"
     },
     "user_tz": -330
    },
    "id": "UNnRVgt1Ii0Z",
    "outputId": "4ce2522d-fdb7-45e8-f9f7-07930e691000"
   },
   "outputs": [
    {
     "data": {
      "image/png": "[encoded data removed]",
      "text/plain": [
       "<Figure size 432x288 with 1 Axes>"
      ]
     },
     "metadata": {
      "needs_background": "light",
      "tags": []
     },
     "output_type": "display_data"
    }
   ],
   "source": [
    "plt.plot(y_test, color = 'green', label = 'Actual dataset')\n",
    "plt.plot(y_pred, color = 'peachpuff', label = 'Predicted dataset')\n",
    "plt.title('Prediction')\n",
    "plt.legend()\n",
    "plt.show()"
   ]
  },
  {
   "cell_type": "markdown",
   "metadata": {
    "colab_type": "text",
    "id": "Qnv18OUl59Eu"
   },
   "source": [
    "**Working on HMP + C3D**"
   ]
  },
  {
   "cell_type": "code",
   "execution_count": 0,
   "metadata": {
    "colab": {},
    "colab_type": "code",
    "id": "n1EKyRz6b4bY"
   },
   "outputs": [],
   "source": [
    "X = dfDevHMP_C3D_DevFeatures\n",
    "y = dfGroundTruth[['short-term_memorability','long-term_memorability']].values #these are our target columns"
   ]
  },
  {
   "cell_type": "code",
   "execution_count": 0,
   "metadata": {
    "colab": {},
    "colab_type": "code",
    "id": "musIA7Rhb4Un"
   },
   "outputs": [],
   "source": [
    "X_train,X_test,y_train,y_test = train_test_split(X,y,test_size=0.2,random_state=42)"
   ]
  },
  {
   "cell_type": "code",
   "execution_count": 100,
   "metadata": {
    "colab": {
     "base_uri": "https://localhost:8080/",
     "height": 91
    },
    "colab_type": "code",
    "executionInfo": {
     "elapsed": 4293,
     "status": "ok",
     "timestamp": 1588067943123,
     "user": {
      "displayName": "Raghvendra Pratap Singh",
      "photoUrl": "https://lh3.googleusercontent.com/a-/AOh14Gj1jQJ5n0fdqt2IyBbxgNbDiN_ZfLwM20c8-dFk=s64",
      "userId": "16108454137484926510"
     },
     "user_tz": -330
    },
    "id": "s5HFGtJGb4SN",
    "outputId": "3c0fab65-ae95-49bd-aaa4-db2aac198953"
   },
   "outputs": [
    {
     "name": "stdout",
     "output_type": "stream",
     "text": [
      "X_train  (4800, 202)\n",
      "X_test   (1200, 202)\n",
      "Y_train  (4800, 2)\n",
      "Y_test   (1200, 2)\n"
     ]
    }
   ],
   "source": [
    "print('X_train ', X_train.shape)\n",
    "print('X_test  ', X_test.shape)\n",
    "print('Y_train ', y_train.shape)\n",
    "print('Y_test  ', y_test.shape)"
   ]
  },
  {
   "cell_type": "code",
   "execution_count": 101,
   "metadata": {
    "colab": {
     "base_uri": "https://localhost:8080/",
     "height": 54
    },
    "colab_type": "code",
    "executionInfo": {
     "elapsed": 4056,
     "status": "ok",
     "timestamp": 1588067945413,
     "user": {
      "displayName": "Raghvendra Pratap Singh",
      "photoUrl": "https://lh3.googleusercontent.com/a-/AOh14Gj1jQJ5n0fdqt2IyBbxgNbDiN_ZfLwM20c8-dFk=s64",
      "userId": "16108454137484926510"
     },
     "user_tz": -330
    },
    "id": "dWDFL3MGb4QZ",
    "outputId": "cc749274-ecaa-4390-f10b-6dcdbe737ce6"
   },
   "outputs": [
    {
     "name": "stdout",
     "output_type": "stream",
     "text": [
      "The Spearman's correlation coefficient is: 0.005\n",
      "The Spearman's correlation coefficient is: -0.006\n"
     ]
    }
   ],
   "source": [
    "#linear regression\n",
    "linearRegressor = LinearRegression()\n",
    "linearRegressor.fit(X_train, y_train)\n",
    "y_pred = linearRegressor.predict(X_test)\n",
    "Get_score(y_pred, y_test)"
   ]
  },
  {
   "cell_type": "code",
   "execution_count": 105,
   "metadata": {
    "colab": {
     "base_uri": "https://localhost:8080/",
     "height": 54
    },
    "colab_type": "code",
    "executionInfo": {
     "elapsed": 2040,
     "status": "ok",
     "timestamp": 1588068051016,
     "user": {
      "displayName": "Raghvendra Pratap Singh",
      "photoUrl": "https://lh3.googleusercontent.com/a-/AOh14Gj1jQJ5n0fdqt2IyBbxgNbDiN_ZfLwM20c8-dFk=s64",
      "userId": "16108454137484926510"
     },
     "user_tz": -330
    },
    "id": "wqLmraUf854y",
    "outputId": "8a041029-c583-46ea-8679-d6259ad0b0ca"
   },
   "outputs": [
    {
     "name": "stdout",
     "output_type": "stream",
     "text": [
      "The Spearman's correlation coefficient is: 0.082\n",
      "The Spearman's correlation coefficient is: 0.112\n"
     ]
    }
   ],
   "source": [
    "knnRegressor = KNeighborsRegressor(n_neighbors = 77)\n",
    "knnRegressor.fit(X_test, y_test)\n",
    "y_pred = knnRegressor.predict(X_test)\n",
    "Get_score(y_pred, y_test)"
   ]
  },
  {
   "cell_type": "code",
   "execution_count": 103,
   "metadata": {
    "colab": {
     "base_uri": "https://localhost:8080/",
     "height": 54
    },
    "colab_type": "code",
    "executionInfo": {
     "elapsed": 4695,
     "status": "ok",
     "timestamp": 1588067949996,
     "user": {
      "displayName": "Raghvendra Pratap Singh",
      "photoUrl": "https://lh3.googleusercontent.com/a-/AOh14Gj1jQJ5n0fdqt2IyBbxgNbDiN_ZfLwM20c8-dFk=s64",
      "userId": "16108454137484926510"
     },
     "user_tz": -330
    },
    "id": "2Q5eyam286DW",
    "outputId": "f00c0052-14f9-4bfc-87e9-7021e07a58c1"
   },
   "outputs": [
    {
     "name": "stdout",
     "output_type": "stream",
     "text": [
      "The Spearman's correlation coefficient is: -0.019\n",
      "The Spearman's correlation coefficient is: 0.005\n"
     ]
    }
   ],
   "source": [
    "dtRegressor = DecisionTreeRegressor()\n",
    "dtRegressor.fit(X_train, y_train)\n",
    "y_pred = dtRegressor.predict(X_test)\n",
    "Get_score(y_pred, y_test)"
   ]
  },
  {
   "cell_type": "code",
   "execution_count": 104,
   "metadata": {
    "colab": {
     "base_uri": "https://localhost:8080/",
     "height": 54
    },
    "colab_type": "code",
    "executionInfo": {
     "elapsed": 102112,
     "status": "ok",
     "timestamp": 1588068048953,
     "user": {
      "displayName": "Raghvendra Pratap Singh",
      "photoUrl": "https://lh3.googleusercontent.com/a-/AOh14Gj1jQJ5n0fdqt2IyBbxgNbDiN_ZfLwM20c8-dFk=s64",
      "userId": "16108454137484926510"
     },
     "user_tz": -330
    },
    "id": "PHPhPBii86Bs",
    "outputId": "909e928b-9789-449d-89ac-30340f6ed910"
   },
   "outputs": [
    {
     "name": "stdout",
     "output_type": "stream",
     "text": [
      "The Spearman's correlation coefficient is: 0.000\n",
      "The Spearman's correlation coefficient is: 0.005\n"
     ]
    }
   ],
   "source": [
    "rfRegressor = RandomForestRegressor(n_estimators=100,random_state=45)\n",
    "rfRegressor.fit(X_train,y_train)\n",
    "y_pred = rfRegressor.predict(X_test)\n",
    "Get_score(y_pred, y_test)"
   ]
  },
  {
   "cell_type": "markdown",
   "metadata": {
    "colab_type": "text",
    "id": "wEdyE41CO-No"
   },
   "source": [
    "*For other ensemble and neural networking models*"
   ]
  },
  {
   "cell_type": "code",
   "execution_count": 0,
   "metadata": {
    "colab": {},
    "colab_type": "code",
    "id": "AJOfvYlr85_3"
   },
   "outputs": [],
   "source": [
    "y_short = dfGroundTruth[['short-term_memorability']].values\n",
    "y_long = dfGroundTruth[['long-term_memorability']].values"
   ]
  },
  {
   "cell_type": "code",
   "execution_count": 0,
   "metadata": {
    "colab": {},
    "colab_type": "code",
    "id": "wnAUnh9yOejb"
   },
   "outputs": [],
   "source": [
    "# Splitting the dataset into the Training set and Test set\n",
    "short_X_train,short_X_test,short_y_train,short_y_test = train_test_split(X,y_short,test_size=0.2,random_state=40)\n",
    "long_X_train,long_X_test,long_y_train,long_y_test = train_test_split(X,y_long,test_size=0.2,random_state=40)"
   ]
  },
  {
   "cell_type": "code",
   "execution_count": 111,
   "metadata": {
    "colab": {
     "base_uri": "https://localhost:8080/",
     "height": 149
    },
    "colab_type": "code",
    "executionInfo": {
     "elapsed": 200039,
     "status": "ok",
     "timestamp": 1588068355350,
     "user": {
      "displayName": "Raghvendra Pratap Singh",
      "photoUrl": "https://lh3.googleusercontent.com/a-/AOh14Gj1jQJ5n0fdqt2IyBbxgNbDiN_ZfLwM20c8-dFk=s64",
      "userId": "16108454137484926510"
     },
     "user_tz": -330
    },
    "id": "Xg50FqQGOe5j",
    "outputId": "4ffe0400-4eaf-46d0-af69-0b2c013a25f3"
   },
   "outputs": [
    {
     "name": "stderr",
     "output_type": "stream",
     "text": [
      "/usr/local/lib/python3.6/dist-packages/sklearn/ensemble/_voting.py:406: DataConversionWarning: A column-vector y was passed when a 1d array was expected. Please change the shape of y to (n_samples, ), for example using ravel().\n",
      "  y = column_or_1d(y, warn=True)\n"
     ]
    },
    {
     "name": "stdout",
     "output_type": "stream",
     "text": [
      "The Spearman's correlation coefficient is: -0.009\n"
     ]
    },
    {
     "name": "stderr",
     "output_type": "stream",
     "text": [
      "/usr/local/lib/python3.6/dist-packages/sklearn/ensemble/_voting.py:406: DataConversionWarning: A column-vector y was passed when a 1d array was expected. Please change the shape of y to (n_samples, ), for example using ravel().\n",
      "  y = column_or_1d(y, warn=True)\n"
     ]
    },
    {
     "name": "stdout",
     "output_type": "stream",
     "text": [
      "The Spearman's correlation coefficient is: 0.040\n"
     ]
    }
   ],
   "source": [
    "model1 = LinearRegression()\n",
    "model2 = DecisionTreeRegressor(random_state=1)\n",
    "model3 = KNeighborsRegressor(n_neighbors = 77)\n",
    "model4 = RandomForestRegressor(n_estimators=100,random_state=45)\n",
    "vRegressor = VotingRegressor(estimators=[('lr', model1), ('dt', model2), ('knn', model3), ('rf', model4)])\n",
    "\n",
    "vRegressor.fit(short_X_train,short_y_train)\n",
    "y_pred = vRegressor.predict(short_X_test)\n",
    "Get_score(y_pred, short_y_test)\n",
    "\n",
    "vRegressor.fit(long_X_train,long_y_train)\n",
    "y_pred = vRegressor.predict(long_X_test)\n",
    "Get_score(y_pred, long_y_test)"
   ]
  },
  {
   "cell_type": "code",
   "execution_count": 112,
   "metadata": {
    "colab": {
     "base_uri": "https://localhost:8080/",
     "height": 149
    },
    "colab_type": "code",
    "executionInfo": {
     "elapsed": 15843,
     "status": "ok",
     "timestamp": 1588068372097,
     "user": {
      "displayName": "Raghvendra Pratap Singh",
      "photoUrl": "https://lh3.googleusercontent.com/a-/AOh14Gj1jQJ5n0fdqt2IyBbxgNbDiN_ZfLwM20c8-dFk=s64",
      "userId": "16108454137484926510"
     },
     "user_tz": -330
    },
    "id": "FaClu8dqOe-y",
    "outputId": "c71ab94c-c5c4-4e20-9ce4-687d454a00a1"
   },
   "outputs": [
    {
     "name": "stderr",
     "output_type": "stream",
     "text": [
      "/usr/local/lib/python3.6/dist-packages/sklearn/utils/validation.py:760: DataConversionWarning: A column-vector y was passed when a 1d array was expected. Please change the shape of y to (n_samples, ), for example using ravel().\n",
      "  y = column_or_1d(y, warn=True)\n"
     ]
    },
    {
     "name": "stdout",
     "output_type": "stream",
     "text": [
      "The Spearman's correlation coefficient is: -0.058\n"
     ]
    },
    {
     "name": "stderr",
     "output_type": "stream",
     "text": [
      "/usr/local/lib/python3.6/dist-packages/sklearn/utils/validation.py:760: DataConversionWarning: A column-vector y was passed when a 1d array was expected. Please change the shape of y to (n_samples, ), for example using ravel().\n",
      "  y = column_or_1d(y, warn=True)\n"
     ]
    },
    {
     "name": "stdout",
     "output_type": "stream",
     "text": [
      "The Spearman's correlation coefficient is: 0.040\n"
     ]
    }
   ],
   "source": [
    "abRegressor = AdaBoostRegressor()\n",
    "abRegressor.fit(short_X_train, short_y_train)\n",
    "y_pred = abRegressor.predict(short_X_test)\n",
    "Get_score(y_pred, short_y_test)\n",
    "\n",
    "abRegressor = AdaBoostRegressor()\n",
    "abRegressor.fit(long_X_train, long_y_train)\n",
    "y_pred = abRegressor.predict(long_X_test)\n",
    "Get_score(y_pred, long_y_test)"
   ]
  },
  {
   "cell_type": "code",
   "execution_count": 113,
   "metadata": {
    "colab": {
     "base_uri": "https://localhost:8080/",
     "height": 149
    },
    "colab_type": "code",
    "executionInfo": {
     "elapsed": 68025,
     "status": "ok",
     "timestamp": 1588068424291,
     "user": {
      "displayName": "Raghvendra Pratap Singh",
      "photoUrl": "https://lh3.googleusercontent.com/a-/AOh14Gj1jQJ5n0fdqt2IyBbxgNbDiN_ZfLwM20c8-dFk=s64",
      "userId": "16108454137484926510"
     },
     "user_tz": -330
    },
    "id": "cOj9nru2Oe25",
    "outputId": "bbc6414f-622d-46a3-fa94-512232f88eae"
   },
   "outputs": [
    {
     "name": "stderr",
     "output_type": "stream",
     "text": [
      "/usr/local/lib/python3.6/dist-packages/sklearn/ensemble/_gb.py:1454: DataConversionWarning: A column-vector y was passed when a 1d array was expected. Please change the shape of y to (n_samples, ), for example using ravel().\n",
      "  y = column_or_1d(y, warn=True)\n"
     ]
    },
    {
     "name": "stdout",
     "output_type": "stream",
     "text": [
      "The Spearman's correlation coefficient is: -0.004\n"
     ]
    },
    {
     "name": "stderr",
     "output_type": "stream",
     "text": [
      "/usr/local/lib/python3.6/dist-packages/sklearn/ensemble/_gb.py:1454: DataConversionWarning: A column-vector y was passed when a 1d array was expected. Please change the shape of y to (n_samples, ), for example using ravel().\n",
      "  y = column_or_1d(y, warn=True)\n"
     ]
    },
    {
     "name": "stdout",
     "output_type": "stream",
     "text": [
      "The Spearman's correlation coefficient is: 0.021\n"
     ]
    }
   ],
   "source": [
    "gbRegressor= GradientBoostingRegressor()\n",
    "\n",
    "gbRegressor.fit(short_X_train,short_y_train)\n",
    "y_pred = gbRegressor.predict(short_X_test)\n",
    "Get_score(y_pred, short_y_test)\n",
    "\n",
    "gbRegressor.fit(long_X_train,long_y_train)\n",
    "y_pred = gbRegressor.predict(long_X_test)\n",
    "Get_score(y_pred, long_y_test)"
   ]
  },
  {
   "cell_type": "code",
   "execution_count": 0,
   "metadata": {
    "colab": {},
    "colab_type": "code",
    "id": "QMXz2KwVOe0m"
   },
   "outputs": [],
   "source": [
    "sc = StandardScaler()\n",
    "short_X_train = sc.fit_transform(short_X_train)\n",
    "short_X_test = sc.transform(short_X_test)\n",
    "\n",
    "long_X_train = sc.fit_transform(long_X_train)\n",
    "long_X_test = sc.transform(long_X_test)"
   ]
  },
  {
   "cell_type": "code",
   "execution_count": 0,
   "metadata": {
    "colab": {},
    "colab_type": "code",
    "id": "CqrFmyy9OeyQ"
   },
   "outputs": [],
   "source": [
    "# Initialising\n",
    "neuralNetModel = Sequential()\n",
    "\n",
    "# Adding the input layer and first hidden layer\n",
    "neuralNetModel.add(Dense(32, activation = 'relu', input_dim = 202))\n",
    "\n",
    "# Adding second hidden layer\n",
    "neuralNetModel.add(Dense(units = 32, activation = 'relu'))\n",
    "\n",
    "# Adding third hidden layer\n",
    "neuralNetModel.add(Dense(units = 32, activation = 'relu'))\n",
    "\n",
    "# Adding output layer\n",
    "neuralNetModel.add(Dense(units = 1))"
   ]
  },
  {
   "cell_type": "code",
   "execution_count": 118,
   "metadata": {
    "colab": {
     "base_uri": "https://localhost:8080/",
     "height": 1000
    },
    "colab_type": "code",
    "executionInfo": {
     "elapsed": 126317,
     "status": "ok",
     "timestamp": 1588068576354,
     "user": {
      "displayName": "Raghvendra Pratap Singh",
      "photoUrl": "https://lh3.googleusercontent.com/a-/AOh14Gj1jQJ5n0fdqt2IyBbxgNbDiN_ZfLwM20c8-dFk=s64",
      "userId": "16108454137484926510"
     },
     "user_tz": -330
    },
    "id": "ayLr3L65Oewd",
    "outputId": "58a05369-1336-47aa-af20-c8a89dd5c472"
   },
   "outputs": [
    {
     "name": "stdout",
     "output_type": "stream",
     "text": [
      "Epoch 1/51\n",
      "4800/4800 [==============================] - 1s 266us/step - loss: 0.0752\n",
      "Epoch 2/51\n",
      "4800/4800 [==============================] - 1s 238us/step - loss: 0.0146\n",
      "Epoch 3/51\n",
      "4800/4800 [==============================] - 1s 283us/step - loss: 0.0228\n",
      "Epoch 4/51\n",
      "4800/4800 [==============================] - 1s 244us/step - loss: 0.0111\n",
      "Epoch 5/51\n",
      "4800/4800 [==============================] - 1s 262us/step - loss: 0.0106\n",
      "Epoch 6/51\n",
      "4800/4800 [==============================] - 1s 283us/step - loss: 0.0076\n",
      "Epoch 7/51\n",
      "4800/4800 [==============================] - 1s 290us/step - loss: 0.0069\n",
      "Epoch 8/51\n",
      "4800/4800 [==============================] - 1s 290us/step - loss: 0.0069\n",
      "Epoch 9/51\n",
      "4800/4800 [==============================] - 1s 238us/step - loss: 0.0075\n",
      "Epoch 10/51\n",
      "4800/4800 [==============================] - 1s 280us/step - loss: 0.0066\n",
      "Epoch 11/51\n",
      "4800/4800 [==============================] - 1s 240us/step - loss: 0.0066\n",
      "Epoch 12/51\n",
      "4800/4800 [==============================] - 1s 234us/step - loss: 0.0064\n",
      "Epoch 13/51\n",
      "4800/4800 [==============================] - 1s 255us/step - loss: 0.0064\n",
      "Epoch 14/51\n",
      "4800/4800 [==============================] - 1s 251us/step - loss: 0.0064\n",
      "Epoch 15/51\n",
      "4800/4800 [==============================] - 1s 245us/step - loss: 0.0063\n",
      "Epoch 16/51\n",
      "4800/4800 [==============================] - 1s 281us/step - loss: 0.0063\n",
      "Epoch 17/51\n",
      "4800/4800 [==============================] - 1s 248us/step - loss: 0.0063\n",
      "Epoch 18/51\n",
      "4800/4800 [==============================] - 1s 243us/step - loss: 0.0063\n",
      "Epoch 19/51\n",
      "4800/4800 [==============================] - 1s 242us/step - loss: 0.0061\n",
      "Epoch 20/51\n",
      "4800/4800 [==============================] - 1s 269us/step - loss: 0.0063\n",
      "Epoch 21/51\n",
      "4800/4800 [==============================] - 1s 245us/step - loss: 0.0060\n",
      "Epoch 22/51\n",
      "4800/4800 [==============================] - 1s 241us/step - loss: 0.0060\n",
      "Epoch 23/51\n",
      "4800/4800 [==============================] - 1s 244us/step - loss: 0.0060\n",
      "Epoch 24/51\n",
      "4800/4800 [==============================] - 1s 263us/step - loss: 0.0057\n",
      "Epoch 25/51\n",
      "4800/4800 [==============================] - 1s 251us/step - loss: 0.0060\n",
      "Epoch 26/51\n",
      "4800/4800 [==============================] - 1s 241us/step - loss: 0.0058\n",
      "Epoch 27/51\n",
      "4800/4800 [==============================] - 1s 245us/step - loss: 0.0056\n",
      "Epoch 28/51\n",
      "4800/4800 [==============================] - 1s 239us/step - loss: 0.0057\n",
      "Epoch 29/51\n",
      "4800/4800 [==============================] - 1s 244us/step - loss: 0.0055\n",
      "Epoch 30/51\n",
      "4800/4800 [==============================] - 1s 246us/step - loss: 0.0054\n",
      "Epoch 31/51\n",
      "4800/4800 [==============================] - 1s 243us/step - loss: 0.0054\n",
      "Epoch 32/51\n",
      "4800/4800 [==============================] - 1s 254us/step - loss: 0.0054\n",
      "Epoch 33/51\n",
      "4800/4800 [==============================] - 1s 279us/step - loss: 0.0052\n",
      "Epoch 34/51\n",
      "4800/4800 [==============================] - 1s 255us/step - loss: 0.0053\n",
      "Epoch 35/51\n",
      "4800/4800 [==============================] - 1s 258us/step - loss: 0.0053\n",
      "Epoch 36/51\n",
      "4800/4800 [==============================] - 1s 242us/step - loss: 0.0052\n",
      "Epoch 37/51\n",
      "4800/4800 [==============================] - 1s 274us/step - loss: 0.0052\n",
      "Epoch 38/51\n",
      "4800/4800 [==============================] - 1s 240us/step - loss: 0.0051\n",
      "Epoch 39/51\n",
      "4800/4800 [==============================] - 1s 241us/step - loss: 0.0051\n",
      "Epoch 40/51\n",
      "4800/4800 [==============================] - 1s 244us/step - loss: 0.0049\n",
      "Epoch 41/51\n",
      "4800/4800 [==============================] - 1s 244us/step - loss: 0.0050\n",
      "Epoch 42/51\n",
      "4800/4800 [==============================] - 1s 239us/step - loss: 0.0050\n",
      "Epoch 43/51\n",
      "4800/4800 [==============================] - 1s 239us/step - loss: 0.0049\n",
      "Epoch 44/51\n",
      "4800/4800 [==============================] - 1s 242us/step - loss: 0.0048\n",
      "Epoch 45/51\n",
      "4800/4800 [==============================] - 1s 242us/step - loss: 0.0048\n",
      "Epoch 46/51\n",
      "4800/4800 [==============================] - 1s 246us/step - loss: 0.0048\n",
      "Epoch 47/51\n",
      "4800/4800 [==============================] - 1s 276us/step - loss: 0.0047\n",
      "Epoch 48/51\n",
      "4800/4800 [==============================] - 1s 256us/step - loss: 0.0048\n",
      "Epoch 49/51\n",
      "4800/4800 [==============================] - 1s 262us/step - loss: 0.0047\n",
      "Epoch 50/51\n",
      "4800/4800 [==============================] - 1s 258us/step - loss: 0.0047\n",
      "Epoch 51/51\n",
      "4800/4800 [==============================] - 1s 294us/step - loss: 0.0047\n",
      "Epoch 1/51\n",
      "4800/4800 [==============================] - 1s 279us/step - loss: 0.0213\n",
      "Epoch 2/51\n",
      "4800/4800 [==============================] - 1s 257us/step - loss: 0.0204\n",
      "Epoch 3/51\n",
      "4800/4800 [==============================] - 1s 242us/step - loss: 0.0199\n",
      "Epoch 4/51\n",
      "4800/4800 [==============================] - 1s 254us/step - loss: 0.0196\n",
      "Epoch 5/51\n",
      "4800/4800 [==============================] - 1s 245us/step - loss: 0.0189\n",
      "Epoch 6/51\n",
      "4800/4800 [==============================] - 1s 242us/step - loss: 0.0184\n",
      "Epoch 7/51\n",
      "4800/4800 [==============================] - 1s 238us/step - loss: 0.0182\n",
      "Epoch 8/51\n",
      "4800/4800 [==============================] - 1s 246us/step - loss: 0.0181\n",
      "Epoch 9/51\n",
      "4800/4800 [==============================] - 1s 239us/step - loss: 0.0178\n",
      "Epoch 10/51\n",
      "4800/4800 [==============================] - 1s 262us/step - loss: 0.0174\n",
      "Epoch 11/51\n",
      "4800/4800 [==============================] - 1s 279us/step - loss: 0.0170\n",
      "Epoch 12/51\n",
      "4800/4800 [==============================] - 1s 258us/step - loss: 0.0167\n",
      "Epoch 13/51\n",
      "4800/4800 [==============================] - 1s 256us/step - loss: 0.0169\n",
      "Epoch 14/51\n",
      "4800/4800 [==============================] - 1s 265us/step - loss: 0.0166\n",
      "Epoch 15/51\n",
      "4800/4800 [==============================] - 1s 284us/step - loss: 0.0164\n",
      "Epoch 16/51\n",
      "4800/4800 [==============================] - 1s 264us/step - loss: 0.0163\n",
      "Epoch 17/51\n",
      "4800/4800 [==============================] - 1s 261us/step - loss: 0.0162\n",
      "Epoch 18/51\n",
      "4800/4800 [==============================] - 1s 253us/step - loss: 0.0159\n",
      "Epoch 19/51\n",
      "4800/4800 [==============================] - 1s 253us/step - loss: 0.0156\n",
      "Epoch 20/51\n",
      "4800/4800 [==============================] - 1s 243us/step - loss: 0.0154\n",
      "Epoch 21/51\n",
      "4800/4800 [==============================] - 1s 237us/step - loss: 0.0153\n",
      "Epoch 22/51\n",
      "4800/4800 [==============================] - 1s 285us/step - loss: 0.0152\n",
      "Epoch 23/51\n",
      "4800/4800 [==============================] - 1s 262us/step - loss: 0.0153\n",
      "Epoch 24/51\n",
      "4800/4800 [==============================] - 1s 241us/step - loss: 0.0149\n",
      "Epoch 25/51\n",
      "4800/4800 [==============================] - 1s 251us/step - loss: 0.0160\n",
      "Epoch 26/51\n",
      "4800/4800 [==============================] - 1s 241us/step - loss: 0.0150\n",
      "Epoch 27/51\n",
      "4800/4800 [==============================] - 1s 278us/step - loss: 0.0148\n",
      "Epoch 28/51\n",
      "4800/4800 [==============================] - 1s 262us/step - loss: 0.0146\n",
      "Epoch 29/51\n",
      "4800/4800 [==============================] - 1s 286us/step - loss: 0.0144\n",
      "Epoch 30/51\n",
      "4800/4800 [==============================] - 1s 250us/step - loss: 0.0148\n",
      "Epoch 31/51\n",
      "4800/4800 [==============================] - 1s 265us/step - loss: 0.0142\n",
      "Epoch 32/51\n",
      "4800/4800 [==============================] - 1s 248us/step - loss: 0.0146\n",
      "Epoch 33/51\n",
      "4800/4800 [==============================] - 1s 245us/step - loss: 0.0143\n",
      "Epoch 34/51\n",
      "4800/4800 [==============================] - 1s 250us/step - loss: 0.0146\n",
      "Epoch 35/51\n",
      "4800/4800 [==============================] - 1s 239us/step - loss: 0.0144\n",
      "Epoch 36/51\n",
      "4800/4800 [==============================] - 1s 237us/step - loss: 0.0140\n",
      "Epoch 37/51\n",
      "4800/4800 [==============================] - 1s 252us/step - loss: 0.0140\n",
      "Epoch 38/51\n",
      "4800/4800 [==============================] - 1s 241us/step - loss: 0.0139\n",
      "Epoch 39/51\n",
      "4800/4800 [==============================] - 1s 241us/step - loss: 0.0140\n",
      "Epoch 40/51\n",
      "4800/4800 [==============================] - 1s 237us/step - loss: 0.0138\n",
      "Epoch 41/51\n",
      "4800/4800 [==============================] - 1s 262us/step - loss: 0.0138\n",
      "Epoch 42/51\n",
      "4800/4800 [==============================] - 1s 251us/step - loss: 0.0144\n",
      "Epoch 43/51\n",
      "4800/4800 [==============================] - 1s 252us/step - loss: 0.0139\n",
      "Epoch 44/51\n",
      "4800/4800 [==============================] - 1s 249us/step - loss: 0.0140\n",
      "Epoch 45/51\n",
      "4800/4800 [==============================] - 1s 258us/step - loss: 0.0135\n",
      "Epoch 46/51\n",
      "4800/4800 [==============================] - 1s 255us/step - loss: 0.0133\n",
      "Epoch 47/51\n",
      "4800/4800 [==============================] - 1s 282us/step - loss: 0.0132\n",
      "Epoch 48/51\n",
      "4800/4800 [==============================] - 1s 259us/step - loss: 0.0133\n",
      "Epoch 49/51\n",
      "4800/4800 [==============================] - 1s 272us/step - loss: 0.0134\n",
      "Epoch 50/51\n",
      "4800/4800 [==============================] - 1s 247us/step - loss: 0.0132\n",
      "Epoch 51/51\n",
      "4800/4800 [==============================] - 1s 244us/step - loss: 0.0132\n"
     ]
    },
    {
     "data": {
      "text/plain": [
       "<keras.callbacks.callbacks.History at 0x7faace2e0cc0>"
      ]
     },
     "execution_count": 118,
     "metadata": {
      "tags": []
     },
     "output_type": "execute_result"
    }
   ],
   "source": [
    "neuralNetModel.compile(optimizer = 'adam',loss = 'mean_squared_error')\n",
    "neuralNetModel.fit(short_X_train, short_y_train, batch_size = 10, epochs = 51)\n",
    "neuralNetModel.fit(long_X_train, long_y_train, batch_size = 10, epochs = 51)"
   ]
  },
  {
   "cell_type": "code",
   "execution_count": 119,
   "metadata": {
    "colab": {
     "base_uri": "https://localhost:8080/",
     "height": 36
    },
    "colab_type": "code",
    "executionInfo": {
     "elapsed": 2311,
     "status": "ok",
     "timestamp": 1588068578687,
     "user": {
      "displayName": "Raghvendra Pratap Singh",
      "photoUrl": "https://lh3.googleusercontent.com/a-/AOh14Gj1jQJ5n0fdqt2IyBbxgNbDiN_ZfLwM20c8-dFk=s64",
      "userId": "16108454137484926510"
     },
     "user_tz": -330
    },
    "id": "VhVn-jFpOet0",
    "outputId": "bfa73256-a9ea-4cc2-bfb0-16800f0eefd0"
   },
   "outputs": [
    {
     "name": "stdout",
     "output_type": "stream",
     "text": [
      "The Spearman's correlation coefficient is: -0.037\n"
     ]
    }
   ],
   "source": [
    "y_pred = neuralNetModel.predict(short_X_test)\n",
    "Get_score(y_pred, short_y_test)"
   ]
  },
  {
   "cell_type": "code",
   "execution_count": 120,
   "metadata": {
    "colab": {
     "base_uri": "https://localhost:8080/",
     "height": 36
    },
    "colab_type": "code",
    "executionInfo": {
     "elapsed": 2299,
     "status": "ok",
     "timestamp": 1588068578689,
     "user": {
      "displayName": "Raghvendra Pratap Singh",
      "photoUrl": "https://lh3.googleusercontent.com/a-/AOh14Gj1jQJ5n0fdqt2IyBbxgNbDiN_ZfLwM20c8-dFk=s64",
      "userId": "16108454137484926510"
     },
     "user_tz": -330
    },
    "id": "4hW4ehbHOeru",
    "outputId": "b1ac76cd-f075-40a5-94bb-20442e14e751"
   },
   "outputs": [
    {
     "name": "stdout",
     "output_type": "stream",
     "text": [
      "The Spearman's correlation coefficient is: -0.029\n"
     ]
    }
   ],
   "source": [
    "y_pred = neuralNetModel.predict(long_X_test)\n",
    "Get_score(y_pred, long_y_test)"
   ]
  },
  {
   "cell_type": "code",
   "execution_count": 121,
   "metadata": {
    "colab": {
     "base_uri": "https://localhost:8080/",
     "height": 281
    },
    "colab_type": "code",
    "executionInfo": {
     "elapsed": 2293,
     "status": "ok",
     "timestamp": 1588068578693,
     "user": {
      "displayName": "Raghvendra Pratap Singh",
      "photoUrl": "https://lh3.googleusercontent.com/a-/AOh14Gj1jQJ5n0fdqt2IyBbxgNbDiN_ZfLwM20c8-dFk=s64",
      "userId": "16108454137484926510"
     },
     "user_tz": -330
    },
    "id": "G4R56QHwOepJ",
    "outputId": "e8792783-3642-4d0c-bcf1-56f30e79aa3b"
   },
   "outputs": [
    {
     "data": {
      "image/png": "[encoded data removed]",
      "text/plain": [
       "<Figure size 432x288 with 1 Axes>"
      ]
     },
     "metadata": {
      "needs_background": "light",
      "tags": []
     },
     "output_type": "display_data"
    }
   ],
   "source": [
    "plt.plot(y_test, color = 'green', label = 'Actual dataset')\n",
    "plt.plot(y_pred, color = 'mistyrose', label = 'Predicted dataset')\n",
    "plt.title('Prediction')\n",
    "plt.legend()\n",
    "plt.show()"
   ]
  },
  {
   "cell_type": "markdown",
   "metadata": {
    "colab_type": "text",
    "id": "4fR5C74LEkSX"
   },
   "source": [
    "**Working on captions + count vectorizer**"
   ]
  },
  {
   "cell_type": "code",
   "execution_count": 0,
   "metadata": {
    "colab": {},
    "colab_type": "code",
    "id": "CgHI7PL-859s"
   },
   "outputs": [],
   "source": [
    "X = xCountsSeq\n",
    "y = dfGroundTruth[['short-term_memorability','long-term_memorability']].values #these are our target columns"
   ]
  },
  {
   "cell_type": "code",
   "execution_count": 0,
   "metadata": {
    "colab": {},
    "colab_type": "code",
    "id": "sOfaVD0iU5TS"
   },
   "outputs": [],
   "source": [
    "X_train,X_test,y_train,y_test = train_test_split(X,y,test_size=0.2,random_state=42)"
   ]
  },
  {
   "cell_type": "code",
   "execution_count": 165,
   "metadata": {
    "colab": {
     "base_uri": "https://localhost:8080/",
     "height": 91
    },
    "colab_type": "code",
    "executionInfo": {
     "elapsed": 1000,
     "status": "ok",
     "timestamp": 1588070591078,
     "user": {
      "displayName": "Raghvendra Pratap Singh",
      "photoUrl": "https://lh3.googleusercontent.com/a-/AOh14Gj1jQJ5n0fdqt2IyBbxgNbDiN_ZfLwM20c8-dFk=s64",
      "userId": "16108454137484926510"
     },
     "user_tz": -330
    },
    "id": "jvxXk3psU9_t",
    "outputId": "04194f78-d18a-4b58-884f-671cedb411ba"
   },
   "outputs": [
    {
     "name": "stdout",
     "output_type": "stream",
     "text": [
      "X_train  (4800, 5019)\n",
      "X_test   (1200, 5019)\n",
      "Y_train  (4800, 2)\n",
      "Y_test   (1200, 2)\n"
     ]
    }
   ],
   "source": [
    "print('X_train ', X_train.shape)\n",
    "print('X_test  ', X_test.shape)\n",
    "print('Y_train ', y_train.shape)\n",
    "print('Y_test  ', y_test.shape)"
   ]
  },
  {
   "cell_type": "code",
   "execution_count": 166,
   "metadata": {
    "colab": {
     "base_uri": "https://localhost:8080/",
     "height": 54
    },
    "colab_type": "code",
    "executionInfo": {
     "elapsed": 52211,
     "status": "ok",
     "timestamp": 1588070645587,
     "user": {
      "displayName": "Raghvendra Pratap Singh",
      "photoUrl": "https://lh3.googleusercontent.com/a-/AOh14Gj1jQJ5n0fdqt2IyBbxgNbDiN_ZfLwM20c8-dFk=s64",
      "userId": "16108454137484926510"
     },
     "user_tz": -330
    },
    "id": "HRsWIMg7U-JJ",
    "outputId": "361537bf-c63a-4034-c57a-aa5981132027"
   },
   "outputs": [
    {
     "name": "stdout",
     "output_type": "stream",
     "text": [
      "The Spearman's correlation coefficient is: 0.110\n",
      "The Spearman's correlation coefficient is: 0.030\n"
     ]
    }
   ],
   "source": [
    "#linear regression\n",
    "linearRegressor = LinearRegression()\n",
    "linearRegressor.fit(X_train, y_train)\n",
    "y_pred = linearRegressor.predict(X_test)\n",
    "Get_score(y_pred, y_test)"
   ]
  },
  {
   "cell_type": "code",
   "execution_count": 167,
   "metadata": {
    "colab": {
     "base_uri": "https://localhost:8080/",
     "height": 54
    },
    "colab_type": "code",
    "executionInfo": {
     "elapsed": 62199,
     "status": "ok",
     "timestamp": 1588070660562,
     "user": {
      "displayName": "Raghvendra Pratap Singh",
      "photoUrl": "https://lh3.googleusercontent.com/a-/AOh14Gj1jQJ5n0fdqt2IyBbxgNbDiN_ZfLwM20c8-dFk=s64",
      "userId": "16108454137484926510"
     },
     "user_tz": -330
    },
    "id": "zCttUuMCU-NP",
    "outputId": "8855df89-e78e-4a5e-f64a-e89f16c892e8"
   },
   "outputs": [
    {
     "name": "stdout",
     "output_type": "stream",
     "text": [
      "The Spearman's correlation coefficient is: 0.402\n",
      "The Spearman's correlation coefficient is: 0.231\n"
     ]
    }
   ],
   "source": [
    "knnRegressor = KNeighborsRegressor(n_neighbors = 77)\n",
    "knnRegressor.fit(X_test, y_test)\n",
    "y_pred = knnRegressor.predict(X_test)\n",
    "Get_score(y_pred, y_test)"
   ]
  },
  {
   "cell_type": "code",
   "execution_count": 168,
   "metadata": {
    "colab": {
     "base_uri": "https://localhost:8080/",
     "height": 54
    },
    "colab_type": "code",
    "executionInfo": {
     "elapsed": 82314,
     "status": "ok",
     "timestamp": 1588070683658,
     "user": {
      "displayName": "Raghvendra Pratap Singh",
      "photoUrl": "https://lh3.googleusercontent.com/a-/AOh14Gj1jQJ5n0fdqt2IyBbxgNbDiN_ZfLwM20c8-dFk=s64",
      "userId": "16108454137484926510"
     },
     "user_tz": -330
    },
    "id": "LlVQBRgUU-He",
    "outputId": "701b8a26-6a8a-40c8-a29e-6f257a661b0f"
   },
   "outputs": [
    {
     "name": "stdout",
     "output_type": "stream",
     "text": [
      "The Spearman's correlation coefficient is: 0.267\n",
      "The Spearman's correlation coefficient is: 0.110\n"
     ]
    }
   ],
   "source": [
    "dtRegressor = DecisionTreeRegressor()\n",
    "dtRegressor.fit(X_train, y_train)\n",
    "y_pred = dtRegressor.predict(X_test)\n",
    "Get_score(y_pred, y_test)"
   ]
  },
  {
   "cell_type": "code",
   "execution_count": 169,
   "metadata": {
    "colab": {
     "base_uri": "https://localhost:8080/",
     "height": 54
    },
    "colab_type": "code",
    "executionInfo": {
     "elapsed": 1000726,
     "status": "ok",
     "timestamp": 1588071608055,
     "user": {
      "displayName": "Raghvendra Pratap Singh",
      "photoUrl": "https://lh3.googleusercontent.com/a-/AOh14Gj1jQJ5n0fdqt2IyBbxgNbDiN_ZfLwM20c8-dFk=s64",
      "userId": "16108454137484926510"
     },
     "user_tz": -330
    },
    "id": "ZAKbosR1VGny",
    "outputId": "a3e86345-e760-4698-9d0d-80851a51b33e"
   },
   "outputs": [
    {
     "name": "stdout",
     "output_type": "stream",
     "text": [
      "The Spearman's correlation coefficient is: 0.396\n",
      "The Spearman's correlation coefficient is: 0.172\n"
     ]
    }
   ],
   "source": [
    "rfRegressor = RandomForestRegressor(n_estimators=100,random_state=45)\n",
    "rfRegressor.fit(X_train,y_train)\n",
    "y_pred = rfRegressor.predict(X_test)\n",
    "Get_score(y_pred, y_test)"
   ]
  },
  {
   "cell_type": "markdown",
   "metadata": {
    "colab_type": "text",
    "id": "7Va1wIdSdA4H"
   },
   "source": [
    "*For other ensemble and neural networking models*"
   ]
  },
  {
   "cell_type": "code",
   "execution_count": 0,
   "metadata": {
    "colab": {},
    "colab_type": "code",
    "id": "0K814jsCTqqp"
   },
   "outputs": [],
   "source": [
    "y_short = dfGroundTruth[['short-term_memorability']].values\n",
    "y_long = dfGroundTruth[['long-term_memorability']].values"
   ]
  },
  {
   "cell_type": "code",
   "execution_count": 0,
   "metadata": {
    "colab": {},
    "colab_type": "code",
    "id": "piPVLd7ZTqvI"
   },
   "outputs": [],
   "source": [
    "# Splitting the dataset into the Training set and Test set\n",
    "short_X_train,short_X_test,short_y_train,short_y_test = train_test_split(X,y_short,test_size=0.2,random_state=40)\n",
    "long_X_train,long_X_test,long_y_train,long_y_test = train_test_split(X,y_long,test_size=0.2,random_state=40)"
   ]
  },
  {
   "cell_type": "code",
   "execution_count": 172,
   "metadata": {
    "colab": {
     "base_uri": "https://localhost:8080/",
     "height": 149
    },
    "colab_type": "code",
    "executionInfo": {
     "elapsed": 2120688,
     "status": "ok",
     "timestamp": 1588073922759,
     "user": {
      "displayName": "Raghvendra Pratap Singh",
      "photoUrl": "https://lh3.googleusercontent.com/a-/AOh14Gj1jQJ5n0fdqt2IyBbxgNbDiN_ZfLwM20c8-dFk=s64",
      "userId": "16108454137484926510"
     },
     "user_tz": -330
    },
    "id": "s2CtsPgAdHAG",
    "outputId": "a745951b-3af6-4f8f-8224-108a4e7098cf"
   },
   "outputs": [
    {
     "name": "stderr",
     "output_type": "stream",
     "text": [
      "/usr/local/lib/python3.6/dist-packages/sklearn/ensemble/_voting.py:406: DataConversionWarning: A column-vector y was passed when a 1d array was expected. Please change the shape of y to (n_samples, ), for example using ravel().\n",
      "  y = column_or_1d(y, warn=True)\n"
     ]
    },
    {
     "name": "stdout",
     "output_type": "stream",
     "text": [
      "The Spearman's correlation coefficient is: 0.129\n"
     ]
    },
    {
     "name": "stderr",
     "output_type": "stream",
     "text": [
      "/usr/local/lib/python3.6/dist-packages/sklearn/ensemble/_voting.py:406: DataConversionWarning: A column-vector y was passed when a 1d array was expected. Please change the shape of y to (n_samples, ), for example using ravel().\n",
      "  y = column_or_1d(y, warn=True)\n"
     ]
    },
    {
     "name": "stdout",
     "output_type": "stream",
     "text": [
      "The Spearman's correlation coefficient is: 0.075\n"
     ]
    }
   ],
   "source": [
    "model1 = LinearRegression()\n",
    "model2 = DecisionTreeRegressor(random_state=1)\n",
    "model3 = KNeighborsRegressor(n_neighbors = 77)\n",
    "model4 = RandomForestRegressor(n_estimators=100,random_state=45)\n",
    "vRegressor = VotingRegressor(estimators=[('lr', model1), ('dt', model2), ('knn', model3), ('rf', model4)])\n",
    "\n",
    "vRegressor.fit(short_X_train,short_y_train)\n",
    "y_pred = vRegressor.predict(short_X_test)\n",
    "Get_score(y_pred, short_y_test)\n",
    "\n",
    "vRegressor.fit(long_X_train,long_y_train)\n",
    "y_pred = vRegressor.predict(long_X_test)\n",
    "Get_score(y_pred, long_y_test)"
   ]
  },
  {
   "cell_type": "code",
   "execution_count": 173,
   "metadata": {
    "colab": {
     "base_uri": "https://localhost:8080/",
     "height": 149
    },
    "colab_type": "code",
    "executionInfo": {
     "elapsed": 31415,
     "status": "ok",
     "timestamp": 1588073954244,
     "user": {
      "displayName": "Raghvendra Pratap Singh",
      "photoUrl": "https://lh3.googleusercontent.com/a-/AOh14Gj1jQJ5n0fdqt2IyBbxgNbDiN_ZfLwM20c8-dFk=s64",
      "userId": "16108454137484926510"
     },
     "user_tz": -330
    },
    "id": "2GRve5ovdKtL",
    "outputId": "59484700-687a-4405-9bb6-b1476c35d6d8"
   },
   "outputs": [
    {
     "name": "stderr",
     "output_type": "stream",
     "text": [
      "/usr/local/lib/python3.6/dist-packages/sklearn/utils/validation.py:760: DataConversionWarning: A column-vector y was passed when a 1d array was expected. Please change the shape of y to (n_samples, ), for example using ravel().\n",
      "  y = column_or_1d(y, warn=True)\n"
     ]
    },
    {
     "name": "stdout",
     "output_type": "stream",
     "text": [
      "The Spearman's correlation coefficient is: 0.185\n"
     ]
    },
    {
     "name": "stderr",
     "output_type": "stream",
     "text": [
      "/usr/local/lib/python3.6/dist-packages/sklearn/utils/validation.py:760: DataConversionWarning: A column-vector y was passed when a 1d array was expected. Please change the shape of y to (n_samples, ), for example using ravel().\n",
      "  y = column_or_1d(y, warn=True)\n"
     ]
    },
    {
     "name": "stdout",
     "output_type": "stream",
     "text": [
      "The Spearman's correlation coefficient is: 0.120\n"
     ]
    }
   ],
   "source": [
    "abRegressor = AdaBoostRegressor()\n",
    "abRegressor.fit(short_X_train, short_y_train)\n",
    "y_pred = abRegressor.predict(short_X_test)\n",
    "Get_score(y_pred, short_y_test)\n",
    "\n",
    "abRegressor = AdaBoostRegressor()\n",
    "abRegressor.fit(long_X_train, long_y_train)\n",
    "y_pred = abRegressor.predict(long_X_test)\n",
    "Get_score(y_pred, long_y_test)"
   ]
  },
  {
   "cell_type": "code",
   "execution_count": 174,
   "metadata": {
    "colab": {
     "base_uri": "https://localhost:8080/",
     "height": 149
    },
    "colab_type": "code",
    "executionInfo": {
     "elapsed": 168979,
     "status": "ok",
     "timestamp": 1588074091857,
     "user": {
      "displayName": "Raghvendra Pratap Singh",
      "photoUrl": "https://lh3.googleusercontent.com/a-/AOh14Gj1jQJ5n0fdqt2IyBbxgNbDiN_ZfLwM20c8-dFk=s64",
      "userId": "16108454137484926510"
     },
     "user_tz": -330
    },
    "id": "30uUeyzNdHHe",
    "outputId": "fca99a00-2b82-4119-d30d-1c43405c5fe5"
   },
   "outputs": [
    {
     "name": "stderr",
     "output_type": "stream",
     "text": [
      "/usr/local/lib/python3.6/dist-packages/sklearn/ensemble/_gb.py:1454: DataConversionWarning: A column-vector y was passed when a 1d array was expected. Please change the shape of y to (n_samples, ), for example using ravel().\n",
      "  y = column_or_1d(y, warn=True)\n"
     ]
    },
    {
     "name": "stdout",
     "output_type": "stream",
     "text": [
      "The Spearman's correlation coefficient is: 0.322\n"
     ]
    },
    {
     "name": "stderr",
     "output_type": "stream",
     "text": [
      "/usr/local/lib/python3.6/dist-packages/sklearn/ensemble/_gb.py:1454: DataConversionWarning: A column-vector y was passed when a 1d array was expected. Please change the shape of y to (n_samples, ), for example using ravel().\n",
      "  y = column_or_1d(y, warn=True)\n"
     ]
    },
    {
     "name": "stdout",
     "output_type": "stream",
     "text": [
      "The Spearman's correlation coefficient is: 0.170\n"
     ]
    }
   ],
   "source": [
    "gbRegressor= GradientBoostingRegressor()\n",
    "\n",
    "gbRegressor.fit(short_X_train,short_y_train)\n",
    "y_pred = gbRegressor.predict(short_X_test)\n",
    "Get_score(y_pred, short_y_test)\n",
    "\n",
    "gbRegressor.fit(long_X_train,long_y_train)\n",
    "y_pred = gbRegressor.predict(long_X_test)\n",
    "Get_score(y_pred, long_y_test)"
   ]
  },
  {
   "cell_type": "code",
   "execution_count": 0,
   "metadata": {
    "colab": {},
    "colab_type": "code",
    "id": "gPQ5b8L1dHFN"
   },
   "outputs": [],
   "source": [
    "sc = StandardScaler()\n",
    "short_X_train = sc.fit_transform(short_X_train)\n",
    "short_X_test = sc.transform(short_X_test)\n",
    "\n",
    "long_X_train = sc.fit_transform(long_X_train)\n",
    "long_X_test = sc.transform(long_X_test)"
   ]
  },
  {
   "cell_type": "code",
   "execution_count": 0,
   "metadata": {
    "colab": {},
    "colab_type": "code",
    "id": "7Oa7sFVJdUl8"
   },
   "outputs": [],
   "source": [
    "# Initialising\n",
    "neuralNetModel = Sequential()\n",
    "\n",
    "# Adding the input layer and first hidden layer\n",
    "neuralNetModel.add(Dense(32, activation = 'relu', input_dim = 5019))\n",
    "\n",
    "# Adding second hidden layer\n",
    "neuralNetModel.add(Dense(units = 32, activation = 'relu'))\n",
    "\n",
    "# Adding third hidden layer\n",
    "neuralNetModel.add(Dense(units = 32, activation = 'relu'))\n",
    "\n",
    "# Adding output layer\n",
    "neuralNetModel.add(Dense(units = 1))"
   ]
  },
  {
   "cell_type": "code",
   "execution_count": 185,
   "metadata": {
    "colab": {
     "base_uri": "https://localhost:8080/",
     "height": 1000
    },
    "colab_type": "code",
    "executionInfo": {
     "elapsed": 262808,
     "status": "ok",
     "timestamp": 1588074666429,
     "user": {
      "displayName": "Raghvendra Pratap Singh",
      "photoUrl": "https://lh3.googleusercontent.com/a-/AOh14Gj1jQJ5n0fdqt2IyBbxgNbDiN_ZfLwM20c8-dFk=s64",
      "userId": "16108454137484926510"
     },
     "user_tz": -330
    },
    "id": "QRZOm5BddUsi",
    "outputId": "02dbd702-175a-4bcc-e0e6-07a1ee6c9d86"
   },
   "outputs": [
    {
     "name": "stdout",
     "output_type": "stream",
     "text": [
      "Epoch 1/101\n",
      "4800/4800 [==============================] - 1s 296us/step - loss: 0.0063\n",
      "Epoch 2/101\n",
      "4800/4800 [==============================] - 1s 265us/step - loss: 0.0038\n",
      "Epoch 3/101\n",
      "4800/4800 [==============================] - 1s 260us/step - loss: 0.0028\n",
      "Epoch 4/101\n",
      "4800/4800 [==============================] - 1s 261us/step - loss: 0.0022\n",
      "Epoch 5/101\n",
      "4800/4800 [==============================] - 1s 289us/step - loss: 0.0018\n",
      "Epoch 6/101\n",
      "4800/4800 [==============================] - 1s 275us/step - loss: 0.0016\n",
      "Epoch 7/101\n",
      "4800/4800 [==============================] - 1s 269us/step - loss: 0.0014\n",
      "Epoch 8/101\n",
      "4800/4800 [==============================] - 1s 288us/step - loss: 0.0013\n",
      "Epoch 9/101\n",
      "4800/4800 [==============================] - 1s 282us/step - loss: 0.0012\n",
      "Epoch 10/101\n",
      "4800/4800 [==============================] - 1s 252us/step - loss: 0.0012\n",
      "Epoch 11/101\n",
      "4800/4800 [==============================] - 1s 305us/step - loss: 0.0012\n",
      "Epoch 12/101\n",
      "4800/4800 [==============================] - 1s 256us/step - loss: 0.0011\n",
      "Epoch 13/101\n",
      "4800/4800 [==============================] - 1s 256us/step - loss: 0.0011\n",
      "Epoch 14/101\n",
      "4800/4800 [==============================] - 1s 264us/step - loss: 0.0010\n",
      "Epoch 15/101\n",
      "4800/4800 [==============================] - 1s 261us/step - loss: 9.9111e-04\n",
      "Epoch 16/101\n",
      "4800/4800 [==============================] - 1s 260us/step - loss: 9.9349e-04\n",
      "Epoch 17/101\n",
      "4800/4800 [==============================] - 1s 295us/step - loss: 9.6424e-04\n",
      "Epoch 18/101\n",
      "4800/4800 [==============================] - 1s 285us/step - loss: 9.3842e-04\n",
      "Epoch 19/101\n",
      "4800/4800 [==============================] - 1s 276us/step - loss: 9.3659e-04\n",
      "Epoch 20/101\n",
      "4800/4800 [==============================] - 2s 316us/step - loss: 8.9886e-04\n",
      "Epoch 21/101\n",
      "4800/4800 [==============================] - 1s 271us/step - loss: 9.4349e-04\n",
      "Epoch 22/101\n",
      "4800/4800 [==============================] - 1s 272us/step - loss: 9.0350e-04\n",
      "Epoch 23/101\n",
      "4800/4800 [==============================] - 1s 273us/step - loss: 8.8165e-04\n",
      "Epoch 24/101\n",
      "4800/4800 [==============================] - 1s 284us/step - loss: 8.8031e-04\n",
      "Epoch 25/101\n",
      "4800/4800 [==============================] - 1s 262us/step - loss: 8.4057e-04\n",
      "Epoch 26/101\n",
      "4800/4800 [==============================] - 1s 252us/step - loss: 8.5517e-04\n",
      "Epoch 27/101\n",
      "4800/4800 [==============================] - 1s 257us/step - loss: 8.7266e-04\n",
      "Epoch 28/101\n",
      "4800/4800 [==============================] - 1s 254us/step - loss: 8.5679e-04\n",
      "Epoch 29/101\n",
      "4800/4800 [==============================] - 1s 259us/step - loss: 8.3094e-04\n",
      "Epoch 30/101\n",
      "4800/4800 [==============================] - 1s 256us/step - loss: 7.8824e-04\n",
      "Epoch 31/101\n",
      "4800/4800 [==============================] - 1s 262us/step - loss: 7.9423e-04\n",
      "Epoch 32/101\n",
      "4800/4800 [==============================] - 1s 256us/step - loss: 7.9389e-04\n",
      "Epoch 33/101\n",
      "4800/4800 [==============================] - 1s 273us/step - loss: 7.8228e-04\n",
      "Epoch 34/101\n",
      "4800/4800 [==============================] - 1s 257us/step - loss: 7.8025e-04\n",
      "Epoch 35/101\n",
      "4800/4800 [==============================] - 1s 256us/step - loss: 7.4708e-04\n",
      "Epoch 36/101\n",
      "4800/4800 [==============================] - 1s 308us/step - loss: 7.7917e-04\n",
      "Epoch 37/101\n",
      "4800/4800 [==============================] - 2s 331us/step - loss: 7.9650e-04\n",
      "Epoch 38/101\n",
      "4800/4800 [==============================] - 1s 263us/step - loss: 7.5601e-04\n",
      "Epoch 39/101\n",
      "4800/4800 [==============================] - 1s 256us/step - loss: 7.5729e-04\n",
      "Epoch 40/101\n",
      "4800/4800 [==============================] - 1s 257us/step - loss: 7.4816e-04\n",
      "Epoch 41/101\n",
      "4800/4800 [==============================] - 1s 256us/step - loss: 7.7376e-04\n",
      "Epoch 42/101\n",
      "4800/4800 [==============================] - 1s 255us/step - loss: 7.4304e-04\n",
      "Epoch 43/101\n",
      "4800/4800 [==============================] - 1s 258us/step - loss: 7.2315e-04\n",
      "Epoch 44/101\n",
      "4800/4800 [==============================] - 1s 254us/step - loss: 7.7280e-04\n",
      "Epoch 45/101\n",
      "4800/4800 [==============================] - 1s 304us/step - loss: 7.3456e-04\n",
      "Epoch 46/101\n",
      "4800/4800 [==============================] - 1s 261us/step - loss: 7.4096e-04\n",
      "Epoch 47/101\n",
      "4800/4800 [==============================] - 1s 256us/step - loss: 7.2876e-04\n",
      "Epoch 48/101\n",
      "4800/4800 [==============================] - 1s 256us/step - loss: 7.0474e-04\n",
      "Epoch 49/101\n",
      "4800/4800 [==============================] - 1s 263us/step - loss: 7.0368e-04\n",
      "Epoch 50/101\n",
      "4800/4800 [==============================] - 1s 261us/step - loss: 7.0526e-04\n",
      "Epoch 51/101\n",
      "4800/4800 [==============================] - 1s 264us/step - loss: 7.2946e-04\n",
      "Epoch 52/101\n",
      "4800/4800 [==============================] - 1s 285us/step - loss: 7.2171e-04\n",
      "Epoch 53/101\n",
      "4800/4800 [==============================] - 1s 256us/step - loss: 6.9472e-04\n",
      "Epoch 54/101\n",
      "4800/4800 [==============================] - 1s 275us/step - loss: 6.9917e-04\n",
      "Epoch 55/101\n",
      "4800/4800 [==============================] - 1s 282us/step - loss: 7.0716e-04\n",
      "Epoch 56/101\n",
      "4800/4800 [==============================] - 1s 262us/step - loss: 7.0717e-04\n",
      "Epoch 57/101\n",
      "4800/4800 [==============================] - 1s 256us/step - loss: 6.8609e-04\n",
      "Epoch 58/101\n",
      "4800/4800 [==============================] - 1s 260us/step - loss: 7.3139e-04\n",
      "Epoch 59/101\n",
      "4800/4800 [==============================] - 1s 263us/step - loss: 7.2229e-04\n",
      "Epoch 60/101\n",
      "4800/4800 [==============================] - 1s 296us/step - loss: 7.0390e-04\n",
      "Epoch 61/101\n",
      "4800/4800 [==============================] - 1s 261us/step - loss: 6.8536e-04\n",
      "Epoch 62/101\n",
      "4800/4800 [==============================] - 1s 259us/step - loss: 6.8742e-04\n",
      "Epoch 63/101\n",
      "4800/4800 [==============================] - 1s 260us/step - loss: 6.5986e-04\n",
      "Epoch 64/101\n",
      "4800/4800 [==============================] - 1s 258us/step - loss: 6.6603e-04\n",
      "Epoch 65/101\n",
      "4800/4800 [==============================] - 1s 254us/step - loss: 6.7783e-04\n",
      "Epoch 66/101\n",
      "4800/4800 [==============================] - 1s 252us/step - loss: 6.6181e-04\n",
      "Epoch 67/101\n",
      "4800/4800 [==============================] - 1s 285us/step - loss: 7.0073e-04\n",
      "Epoch 68/101\n",
      "4800/4800 [==============================] - 1s 255us/step - loss: 6.7752e-04\n",
      "Epoch 69/101\n",
      "4800/4800 [==============================] - 1s 276us/step - loss: 6.9543e-04\n",
      "Epoch 70/101\n",
      "4800/4800 [==============================] - 1s 252us/step - loss: 6.7564e-04\n",
      "Epoch 71/101\n",
      "4800/4800 [==============================] - 1s 258us/step - loss: 7.0161e-04\n",
      "Epoch 72/101\n",
      "4800/4800 [==============================] - 1s 258us/step - loss: 6.7401e-04\n",
      "Epoch 73/101\n",
      "4800/4800 [==============================] - 1s 254us/step - loss: 6.6512e-04\n",
      "Epoch 74/101\n",
      "4800/4800 [==============================] - 1s 256us/step - loss: 6.7075e-04\n",
      "Epoch 75/101\n",
      "4800/4800 [==============================] - 1s 258us/step - loss: 6.4930e-04\n",
      "Epoch 76/101\n",
      "4800/4800 [==============================] - 1s 267us/step - loss: 6.6448e-04\n",
      "Epoch 77/101\n",
      "4800/4800 [==============================] - 1s 256us/step - loss: 6.4903e-04\n",
      "Epoch 78/101\n",
      "4800/4800 [==============================] - 1s 263us/step - loss: 6.7112e-04\n",
      "Epoch 79/101\n",
      "4800/4800 [==============================] - 1s 271us/step - loss: 6.7638e-04\n",
      "Epoch 80/101\n",
      "4800/4800 [==============================] - 1s 256us/step - loss: 6.8038e-04\n",
      "Epoch 81/101\n",
      "4800/4800 [==============================] - 1s 270us/step - loss: 6.5699e-04\n",
      "Epoch 82/101\n",
      "4800/4800 [==============================] - 1s 301us/step - loss: 7.0847e-04\n",
      "Epoch 83/101\n",
      "4800/4800 [==============================] - 1s 281us/step - loss: 6.4471e-04\n",
      "Epoch 84/101\n",
      "4800/4800 [==============================] - 1s 262us/step - loss: 6.4728e-04\n",
      "Epoch 85/101\n",
      "4800/4800 [==============================] - 1s 263us/step - loss: 6.2789e-04\n",
      "Epoch 86/101\n",
      "4800/4800 [==============================] - 1s 260us/step - loss: 6.5315e-04\n",
      "Epoch 87/101\n",
      "4800/4800 [==============================] - 1s 263us/step - loss: 6.4809e-04\n",
      "Epoch 88/101\n",
      "4800/4800 [==============================] - 1s 256us/step - loss: 6.5416e-04\n",
      "Epoch 89/101\n",
      "4800/4800 [==============================] - 1s 269us/step - loss: 6.3197e-04\n",
      "Epoch 90/101\n",
      "4800/4800 [==============================] - 1s 267us/step - loss: 6.2745e-04\n",
      "Epoch 91/101\n",
      "4800/4800 [==============================] - 1s 287us/step - loss: 6.3583e-04\n",
      "Epoch 92/101\n",
      "4800/4800 [==============================] - 1s 277us/step - loss: 6.3281e-04\n",
      "Epoch 93/101\n",
      "4800/4800 [==============================] - 1s 308us/step - loss: 6.2470e-04\n",
      "Epoch 94/101\n",
      "4800/4800 [==============================] - 1s 304us/step - loss: 6.4087e-04\n",
      "Epoch 95/101\n",
      "4800/4800 [==============================] - 1s 305us/step - loss: 6.3761e-04\n",
      "Epoch 96/101\n",
      "4800/4800 [==============================] - 1s 260us/step - loss: 6.3328e-04\n",
      "Epoch 97/101\n",
      "4800/4800 [==============================] - 1s 265us/step - loss: 6.3786e-04\n",
      "Epoch 98/101\n",
      "4800/4800 [==============================] - 2s 322us/step - loss: 6.4835e-04\n",
      "Epoch 99/101\n",
      "4800/4800 [==============================] - 1s 291us/step - loss: 6.3880e-04\n",
      "Epoch 100/101\n",
      "4800/4800 [==============================] - 1s 312us/step - loss: 6.4735e-04\n",
      "Epoch 101/101\n",
      "4800/4800 [==============================] - 1s 289us/step - loss: 6.4370e-04\n",
      "Epoch 1/101\n",
      "4800/4800 [==============================] - 1s 261us/step - loss: 0.0144\n",
      "Epoch 2/101\n",
      "4800/4800 [==============================] - 1s 294us/step - loss: 0.0094\n",
      "Epoch 3/101\n",
      "4800/4800 [==============================] - 1s 257us/step - loss: 0.0069\n",
      "Epoch 4/101\n",
      "4800/4800 [==============================] - 1s 282us/step - loss: 0.0057\n",
      "Epoch 5/101\n",
      "4800/4800 [==============================] - 1s 261us/step - loss: 0.0051\n",
      "Epoch 6/101\n",
      "4800/4800 [==============================] - 1s 257us/step - loss: 0.0047\n",
      "Epoch 7/101\n",
      "4800/4800 [==============================] - 1s 262us/step - loss: 0.0043\n",
      "Epoch 8/101\n",
      "4800/4800 [==============================] - 1s 255us/step - loss: 0.0042\n",
      "Epoch 9/101\n",
      "4800/4800 [==============================] - 1s 263us/step - loss: 0.0040\n",
      "Epoch 10/101\n",
      "4800/4800 [==============================] - 1s 259us/step - loss: 0.0040\n",
      "Epoch 11/101\n",
      "4800/4800 [==============================] - 1s 269us/step - loss: 0.0039\n",
      "Epoch 12/101\n",
      "4800/4800 [==============================] - 1s 301us/step - loss: 0.0037\n",
      "Epoch 13/101\n",
      "4800/4800 [==============================] - 1s 271us/step - loss: 0.0036\n",
      "Epoch 14/101\n",
      "4800/4800 [==============================] - 1s 257us/step - loss: 0.0036\n",
      "Epoch 15/101\n",
      "4800/4800 [==============================] - 1s 259us/step - loss: 0.0036\n",
      "Epoch 16/101\n",
      "4800/4800 [==============================] - 1s 256us/step - loss: 0.0035\n",
      "Epoch 17/101\n",
      "4800/4800 [==============================] - 1s 261us/step - loss: 0.0034\n",
      "Epoch 18/101\n",
      "4800/4800 [==============================] - 1s 256us/step - loss: 0.0034\n",
      "Epoch 19/101\n",
      "4800/4800 [==============================] - 1s 260us/step - loss: 0.0034\n",
      "Epoch 20/101\n",
      "4800/4800 [==============================] - 1s 261us/step - loss: 0.0034\n",
      "Epoch 21/101\n",
      "4800/4800 [==============================] - 1s 300us/step - loss: 0.0034\n",
      "Epoch 22/101\n",
      "4800/4800 [==============================] - 1s 273us/step - loss: 0.0033\n",
      "Epoch 23/101\n",
      "4800/4800 [==============================] - 1s 261us/step - loss: 0.0033\n",
      "Epoch 24/101\n",
      "4800/4800 [==============================] - 1s 265us/step - loss: 0.0032\n",
      "Epoch 25/101\n",
      "4800/4800 [==============================] - 1s 253us/step - loss: 0.0032\n",
      "Epoch 26/101\n",
      "4800/4800 [==============================] - 1s 259us/step - loss: 0.0032\n",
      "Epoch 27/101\n",
      "4800/4800 [==============================] - 1s 259us/step - loss: 0.0032\n",
      "Epoch 28/101\n",
      "4800/4800 [==============================] - 1s 277us/step - loss: 0.0032\n",
      "Epoch 29/101\n",
      "4800/4800 [==============================] - 1s 258us/step - loss: 0.0032\n",
      "Epoch 30/101\n",
      "4800/4800 [==============================] - 1s 273us/step - loss: 0.0031\n",
      "Epoch 31/101\n",
      "4800/4800 [==============================] - 1s 265us/step - loss: 0.0032\n",
      "Epoch 32/101\n",
      "4800/4800 [==============================] - 1s 259us/step - loss: 0.0031\n",
      "Epoch 33/101\n",
      "4800/4800 [==============================] - 1s 258us/step - loss: 0.0031\n",
      "Epoch 34/101\n",
      "4800/4800 [==============================] - 1s 260us/step - loss: 0.0030\n",
      "Epoch 35/101\n",
      "4800/4800 [==============================] - 1s 259us/step - loss: 0.0030\n",
      "Epoch 36/101\n",
      "4800/4800 [==============================] - 1s 258us/step - loss: 0.0030\n",
      "Epoch 37/101\n",
      "4800/4800 [==============================] - 1s 291us/step - loss: 0.0031\n",
      "Epoch 38/101\n",
      "4800/4800 [==============================] - 1s 255us/step - loss: 0.0030\n",
      "Epoch 39/101\n",
      "4800/4800 [==============================] - 1s 266us/step - loss: 0.0030\n",
      "Epoch 40/101\n",
      "4800/4800 [==============================] - 1s 257us/step - loss: 0.0030\n",
      "Epoch 41/101\n",
      "4800/4800 [==============================] - 1s 263us/step - loss: 0.0030\n",
      "Epoch 42/101\n",
      "4800/4800 [==============================] - 1s 261us/step - loss: 0.0030\n",
      "Epoch 43/101\n",
      "4800/4800 [==============================] - 1s 256us/step - loss: 0.0030\n",
      "Epoch 44/101\n",
      "4800/4800 [==============================] - 1s 283us/step - loss: 0.0029\n",
      "Epoch 45/101\n",
      "4800/4800 [==============================] - 1s 269us/step - loss: 0.0029\n",
      "Epoch 46/101\n",
      "4800/4800 [==============================] - 1s 272us/step - loss: 0.0029\n",
      "Epoch 47/101\n",
      "4800/4800 [==============================] - 1s 285us/step - loss: 0.0030\n",
      "Epoch 48/101\n",
      "4800/4800 [==============================] - 1s 272us/step - loss: 0.0030\n",
      "Epoch 49/101\n",
      "4800/4800 [==============================] - 1s 274us/step - loss: 0.0029\n",
      "Epoch 50/101\n",
      "4800/4800 [==============================] - 1s 286us/step - loss: 0.0029\n",
      "Epoch 51/101\n",
      "4800/4800 [==============================] - 1s 258us/step - loss: 0.0029\n",
      "Epoch 52/101\n",
      "4800/4800 [==============================] - 1s 267us/step - loss: 0.0029\n",
      "Epoch 53/101\n",
      "4800/4800 [==============================] - 1s 254us/step - loss: 0.0029\n",
      "Epoch 54/101\n",
      "4800/4800 [==============================] - 1s 282us/step - loss: 0.0029\n",
      "Epoch 55/101\n",
      "4800/4800 [==============================] - 1s 263us/step - loss: 0.0029\n",
      "Epoch 56/101\n",
      "4800/4800 [==============================] - 1s 294us/step - loss: 0.0029\n",
      "Epoch 57/101\n",
      "4800/4800 [==============================] - 1s 265us/step - loss: 0.0028\n",
      "Epoch 58/101\n",
      "4800/4800 [==============================] - 1s 271us/step - loss: 0.0029\n",
      "Epoch 59/101\n",
      "4800/4800 [==============================] - 2s 324us/step - loss: 0.0029\n",
      "Epoch 60/101\n",
      "4800/4800 [==============================] - 1s 281us/step - loss: 0.0028\n",
      "Epoch 61/101\n",
      "4800/4800 [==============================] - 1s 259us/step - loss: 0.0028\n",
      "Epoch 62/101\n",
      "4800/4800 [==============================] - 1s 264us/step - loss: 0.0029\n",
      "Epoch 63/101\n",
      "4800/4800 [==============================] - 1s 256us/step - loss: 0.0028\n",
      "Epoch 64/101\n",
      "4800/4800 [==============================] - 1s 299us/step - loss: 0.0028\n",
      "Epoch 65/101\n",
      "4800/4800 [==============================] - 1s 263us/step - loss: 0.0028\n",
      "Epoch 66/101\n",
      "4800/4800 [==============================] - 1s 270us/step - loss: 0.0028\n",
      "Epoch 67/101\n",
      "4800/4800 [==============================] - 1s 256us/step - loss: 0.0028\n",
      "Epoch 68/101\n",
      "4800/4800 [==============================] - 1s 257us/step - loss: 0.0028\n",
      "Epoch 69/101\n",
      "4800/4800 [==============================] - 1s 254us/step - loss: 0.0028\n",
      "Epoch 70/101\n",
      "4800/4800 [==============================] - 1s 263us/step - loss: 0.0028\n",
      "Epoch 71/101\n",
      "4800/4800 [==============================] - 1s 256us/step - loss: 0.0028\n",
      "Epoch 72/101\n",
      "4800/4800 [==============================] - 1s 258us/step - loss: 0.0028\n",
      "Epoch 73/101\n",
      "4800/4800 [==============================] - 1s 271us/step - loss: 0.0028\n",
      "Epoch 74/101\n",
      "4800/4800 [==============================] - 1s 288us/step - loss: 0.0028\n",
      "Epoch 75/101\n",
      "4800/4800 [==============================] - 1s 267us/step - loss: 0.0028\n",
      "Epoch 76/101\n",
      "4800/4800 [==============================] - 1s 257us/step - loss: 0.0028\n",
      "Epoch 77/101\n",
      "4800/4800 [==============================] - 1s 263us/step - loss: 0.0027\n",
      "Epoch 78/101\n",
      "4800/4800 [==============================] - 1s 255us/step - loss: 0.0027\n",
      "Epoch 79/101\n",
      "4800/4800 [==============================] - 1s 259us/step - loss: 0.0028\n",
      "Epoch 80/101\n",
      "4800/4800 [==============================] - 1s 257us/step - loss: 0.0028\n",
      "Epoch 81/101\n",
      "4800/4800 [==============================] - 1s 259us/step - loss: 0.0027\n",
      "Epoch 82/101\n",
      "4800/4800 [==============================] - 1s 257us/step - loss: 0.0028\n",
      "Epoch 83/101\n",
      "4800/4800 [==============================] - 1s 255us/step - loss: 0.0028\n",
      "Epoch 84/101\n",
      "4800/4800 [==============================] - 1s 258us/step - loss: 0.0027\n",
      "Epoch 85/101\n",
      "4800/4800 [==============================] - 1s 255us/step - loss: 0.0027\n",
      "Epoch 86/101\n",
      "4800/4800 [==============================] - 1s 297us/step - loss: 0.0027\n",
      "Epoch 87/101\n",
      "4800/4800 [==============================] - 1s 261us/step - loss: 0.0027\n",
      "Epoch 88/101\n",
      "4800/4800 [==============================] - 1s 262us/step - loss: 0.0027\n",
      "Epoch 89/101\n",
      "4800/4800 [==============================] - 1s 258us/step - loss: 0.0027\n",
      "Epoch 90/101\n",
      "4800/4800 [==============================] - 1s 287us/step - loss: 0.0027\n",
      "Epoch 91/101\n",
      "4800/4800 [==============================] - 1s 296us/step - loss: 0.0027\n",
      "Epoch 92/101\n",
      "4800/4800 [==============================] - 1s 256us/step - loss: 0.0027\n",
      "Epoch 93/101\n",
      "4800/4800 [==============================] - 1s 261us/step - loss: 0.0027\n",
      "Epoch 94/101\n",
      "4800/4800 [==============================] - 1s 257us/step - loss: 0.0027\n",
      "Epoch 95/101\n",
      "4800/4800 [==============================] - 1s 261us/step - loss: 0.0027\n",
      "Epoch 96/101\n",
      "4800/4800 [==============================] - 1s 260us/step - loss: 0.0027\n",
      "Epoch 97/101\n",
      "4800/4800 [==============================] - 1s 263us/step - loss: 0.0027\n",
      "Epoch 98/101\n",
      "4800/4800 [==============================] - 1s 278us/step - loss: 0.0027\n",
      "Epoch 99/101\n",
      "4800/4800 [==============================] - 1s 296us/step - loss: 0.0027\n",
      "Epoch 100/101\n",
      "4800/4800 [==============================] - 1s 266us/step - loss: 0.0026\n",
      "Epoch 101/101\n",
      "4800/4800 [==============================] - 1s 267us/step - loss: 0.0027\n"
     ]
    },
    {
     "data": {
      "text/plain": [
       "<keras.callbacks.callbacks.History at 0x7fab4522fef0>"
      ]
     },
     "execution_count": 185,
     "metadata": {
      "tags": []
     },
     "output_type": "execute_result"
    }
   ],
   "source": [
    "neuralNetModel.compile(optimizer = 'adam',loss = 'mean_squared_error')\n",
    "neuralNetModel.fit(short_X_train, short_y_train, batch_size = 10, epochs = 101)\n",
    "neuralNetModel.fit(long_X_train, long_y_train, batch_size = 10, epochs = 101)"
   ]
  },
  {
   "cell_type": "code",
   "execution_count": 186,
   "metadata": {
    "colab": {
     "base_uri": "https://localhost:8080/",
     "height": 54
    },
    "colab_type": "code",
    "executionInfo": {
     "elapsed": 259004,
     "status": "ok",
     "timestamp": 1588074666439,
     "user": {
      "displayName": "Raghvendra Pratap Singh",
      "photoUrl": "https://lh3.googleusercontent.com/a-/AOh14Gj1jQJ5n0fdqt2IyBbxgNbDiN_ZfLwM20c8-dFk=s64",
      "userId": "16108454137484926510"
     },
     "user_tz": -330
    },
    "id": "j0ZHB2V8Tqnl",
    "outputId": "1243b04e-d274-4a2e-bc3e-6666d2fdade9"
   },
   "outputs": [
    {
     "name": "stdout",
     "output_type": "stream",
     "text": [
      "The Spearman's correlation coefficient is: 0.172\n",
      "The Spearman's correlation coefficient is: 0.164\n"
     ]
    }
   ],
   "source": [
    "y_pred = neuralNetModel.predict(short_X_test)\n",
    "Get_score(y_pred, short_y_test)\n",
    "\n",
    "y_pred = neuralNetModel.predict(long_X_test)\n",
    "Get_score(y_pred, long_y_test)"
   ]
  },
  {
   "cell_type": "code",
   "execution_count": 187,
   "metadata": {
    "colab": {
     "base_uri": "https://localhost:8080/",
     "height": 281
    },
    "colab_type": "code",
    "executionInfo": {
     "elapsed": 258257,
     "status": "ok",
     "timestamp": 1588074667308,
     "user": {
      "displayName": "Raghvendra Pratap Singh",
      "photoUrl": "https://lh3.googleusercontent.com/a-/AOh14Gj1jQJ5n0fdqt2IyBbxgNbDiN_ZfLwM20c8-dFk=s64",
      "userId": "16108454137484926510"
     },
     "user_tz": -330
    },
    "id": "IqPXznwBddoK",
    "outputId": "37c8b388-efac-464b-d7ea-ddf3433a1c7b"
   },
   "outputs": [
    {
     "data": {
      "image/png": "[encoded data removed]",
      "text/plain": [
       "<Figure size 432x288 with 1 Axes>"
      ]
     },
     "metadata": {
      "needs_background": "light",
      "tags": []
     },
     "output_type": "display_data"
    }
   ],
   "source": [
    "plt.plot(y_test, color = 'green', label = 'Actual dataset')\n",
    "plt.plot(y_pred, color = 'lightgrey', label = 'Predicted dataset')\n",
    "plt.title('Prediction')\n",
    "plt.legend()\n",
    "plt.show()"
   ]
  },
  {
   "cell_type": "markdown",
   "metadata": {
    "colab_type": "text",
    "id": "vKr3M0tcEpLF"
   },
   "source": [
    "**Working on captions + tf-idf**"
   ]
  },
  {
   "cell_type": "code",
   "execution_count": 0,
   "metadata": {
    "colab": {},
    "colab_type": "code",
    "id": "ZrWtnhXc9K7W"
   },
   "outputs": [],
   "source": [
    "X = dfCaptions_Dev_tfIdf\n",
    "y = dfGroundTruth[['short-term_memorability','long-term_memorability']].values #these are our target columns"
   ]
  },
  {
   "cell_type": "code",
   "execution_count": 0,
   "metadata": {
    "colab": {},
    "colab_type": "code",
    "id": "cYyMlPOT8YgZ"
   },
   "outputs": [],
   "source": [
    "X_train,X_test,y_train,y_test = train_test_split(X,y,test_size=0.2,random_state=42)"
   ]
  },
  {
   "cell_type": "code",
   "execution_count": 47,
   "metadata": {
    "colab": {
     "base_uri": "https://localhost:8080/",
     "height": 91
    },
    "colab_type": "code",
    "executionInfo": {
     "elapsed": 956,
     "status": "ok",
     "timestamp": 1588092064311,
     "user": {
      "displayName": "Raghvendra Pratap Singh",
      "photoUrl": "https://lh3.googleusercontent.com/a-/AOh14Gj1jQJ5n0fdqt2IyBbxgNbDiN_ZfLwM20c8-dFk=s64",
      "userId": "16108454137484926510"
     },
     "user_tz": -330
    },
    "id": "kWHigsxU8fJG",
    "outputId": "febc78cf-862f-43a1-b933-f1a4476531a1"
   },
   "outputs": [
    {
     "name": "stdout",
     "output_type": "stream",
     "text": [
      "X_train  (4800, 1000)\n",
      "X_test   (1200, 1000)\n",
      "Y_train  (4800, 2)\n",
      "Y_test   (1200, 2)\n"
     ]
    }
   ],
   "source": [
    "print('X_train ', X_train.shape)\n",
    "print('X_test  ', X_test.shape)\n",
    "print('Y_train ', y_train.shape)\n",
    "print('Y_test  ', y_test.shape)"
   ]
  },
  {
   "cell_type": "code",
   "execution_count": 48,
   "metadata": {
    "colab": {
     "base_uri": "https://localhost:8080/",
     "height": 54
    },
    "colab_type": "code",
    "executionInfo": {
     "elapsed": 2255,
     "status": "ok",
     "timestamp": 1588092069391,
     "user": {
      "displayName": "Raghvendra Pratap Singh",
      "photoUrl": "https://lh3.googleusercontent.com/a-/AOh14Gj1jQJ5n0fdqt2IyBbxgNbDiN_ZfLwM20c8-dFk=s64",
      "userId": "16108454137484926510"
     },
     "user_tz": -330
    },
    "id": "I_2xFa1a8f9Y",
    "outputId": "ad5c27da-d2c1-408b-8034-78b03bd00c9f"
   },
   "outputs": [
    {
     "name": "stdout",
     "output_type": "stream",
     "text": [
      "The Spearman's correlation coefficient is: 0.381\n",
      "The Spearman's correlation coefficient is: 0.165\n"
     ]
    }
   ],
   "source": [
    "#linear regression\n",
    "linearRegressor = LinearRegression()\n",
    "linearRegressor.fit(X_train, y_train)\n",
    "y_pred = linearRegressor.predict(X_test)\n",
    "Get_score(y_pred, y_test)"
   ]
  },
  {
   "cell_type": "code",
   "execution_count": 49,
   "metadata": {
    "colab": {
     "base_uri": "https://localhost:8080/",
     "height": 54
    },
    "colab_type": "code",
    "executionInfo": {
     "elapsed": 4565,
     "status": "ok",
     "timestamp": 1588092077131,
     "user": {
      "displayName": "Raghvendra Pratap Singh",
      "photoUrl": "https://lh3.googleusercontent.com/a-/AOh14Gj1jQJ5n0fdqt2IyBbxgNbDiN_ZfLwM20c8-dFk=s64",
      "userId": "16108454137484926510"
     },
     "user_tz": -330
    },
    "id": "NO-FBx798gDV",
    "outputId": "7b4328c8-7c81-47e2-bbc8-b704d5fc3b77"
   },
   "outputs": [
    {
     "name": "stdout",
     "output_type": "stream",
     "text": [
      "The Spearman's correlation coefficient is: 0.371\n",
      "The Spearman's correlation coefficient is: 0.209\n"
     ]
    }
   ],
   "source": [
    "knnRegressor = KNeighborsRegressor(n_neighbors = 77)\n",
    "knnRegressor.fit(X_test, y_test)\n",
    "y_pred = knnRegressor.predict(X_test)\n",
    "Get_score(y_pred, y_test)"
   ]
  },
  {
   "cell_type": "code",
   "execution_count": 50,
   "metadata": {
    "colab": {
     "base_uri": "https://localhost:8080/",
     "height": 54
    },
    "colab_type": "code",
    "executionInfo": {
     "elapsed": 3381,
     "status": "ok",
     "timestamp": 1588092081921,
     "user": {
      "displayName": "Raghvendra Pratap Singh",
      "photoUrl": "https://lh3.googleusercontent.com/a-/AOh14Gj1jQJ5n0fdqt2IyBbxgNbDiN_ZfLwM20c8-dFk=s64",
      "userId": "16108454137484926510"
     },
     "user_tz": -330
    },
    "id": "wPiCrTG58gVN",
    "outputId": "296ef0ca-d72a-44cf-e782-b267f7a7cc02"
   },
   "outputs": [
    {
     "name": "stdout",
     "output_type": "stream",
     "text": [
      "The Spearman's correlation coefficient is: 0.283\n",
      "The Spearman's correlation coefficient is: 0.093\n"
     ]
    }
   ],
   "source": [
    "dtRegressor = DecisionTreeRegressor()\n",
    "dtRegressor.fit(X_train, y_train)\n",
    "y_pred = dtRegressor.predict(X_test)\n",
    "Get_score(y_pred, y_test)"
   ]
  },
  {
   "cell_type": "code",
   "execution_count": 51,
   "metadata": {
    "colab": {
     "base_uri": "https://localhost:8080/",
     "height": 54
    },
    "colab_type": "code",
    "executionInfo": {
     "elapsed": 111875,
     "status": "ok",
     "timestamp": 1588092196121,
     "user": {
      "displayName": "Raghvendra Pratap Singh",
      "photoUrl": "https://lh3.googleusercontent.com/a-/AOh14Gj1jQJ5n0fdqt2IyBbxgNbDiN_ZfLwM20c8-dFk=s64",
      "userId": "16108454137484926510"
     },
     "user_tz": -330
    },
    "id": "2Atxlzkr8gjf",
    "outputId": "6697670f-c0e4-42ec-e3a4-7abc3c27f2e6"
   },
   "outputs": [
    {
     "name": "stdout",
     "output_type": "stream",
     "text": [
      "The Spearman's correlation coefficient is: 0.406\n",
      "The Spearman's correlation coefficient is: 0.142\n"
     ]
    }
   ],
   "source": [
    "rfRegressor = RandomForestRegressor(n_estimators=100,random_state=45)\n",
    "rfRegressor.fit(X_train,y_train)\n",
    "y_pred = rfRegressor.predict(X_test)\n",
    "Get_score(y_pred, y_test)"
   ]
  },
  {
   "cell_type": "markdown",
   "metadata": {
    "colab_type": "text",
    "id": "4stA6rXmveP-"
   },
   "source": [
    "*For other ensemble and neural networking models*"
   ]
  },
  {
   "cell_type": "code",
   "execution_count": 0,
   "metadata": {
    "colab": {},
    "colab_type": "code",
    "id": "HSf4isAWvfW4"
   },
   "outputs": [],
   "source": [
    "y_short = dfGroundTruth[['short-term_memorability']].values\n",
    "y_long = dfGroundTruth[['long-term_memorability']].values"
   ]
  },
  {
   "cell_type": "code",
   "execution_count": 0,
   "metadata": {
    "colab": {},
    "colab_type": "code",
    "id": "35efBSKBvf0U"
   },
   "outputs": [],
   "source": [
    "# Splitting the dataset into the Training set and Test set\n",
    "short_X_train,short_X_test,short_y_train,short_y_test = train_test_split(X,y_short,test_size=0.2,random_state=40)\n",
    "long_X_train,long_X_test,long_y_train,long_y_test = train_test_split(X,y_long,test_size=0.2,random_state=40)"
   ]
  },
  {
   "cell_type": "code",
   "execution_count": 252,
   "metadata": {
    "colab": {
     "base_uri": "https://localhost:8080/",
     "height": 149
    },
    "colab_type": "code",
    "executionInfo": {
     "elapsed": 310999,
     "status": "ok",
     "timestamp": 1588077039697,
     "user": {
      "displayName": "Raghvendra Pratap Singh",
      "photoUrl": "https://lh3.googleusercontent.com/a-/AOh14Gj1jQJ5n0fdqt2IyBbxgNbDiN_ZfLwM20c8-dFk=s64",
      "userId": "16108454137484926510"
     },
     "user_tz": -330
    },
    "id": "ti9p0i9evfyd",
    "outputId": "b0bff0ed-311c-4675-e9ff-27e7d3b0b12d"
   },
   "outputs": [
    {
     "name": "stderr",
     "output_type": "stream",
     "text": [
      "/usr/local/lib/python3.6/dist-packages/sklearn/ensemble/_voting.py:406: DataConversionWarning: A column-vector y was passed when a 1d array was expected. Please change the shape of y to (n_samples, ), for example using ravel().\n",
      "  y = column_or_1d(y, warn=True)\n"
     ]
    },
    {
     "name": "stdout",
     "output_type": "stream",
     "text": [
      "The Spearman's correlation coefficient is: 0.363\n"
     ]
    },
    {
     "name": "stderr",
     "output_type": "stream",
     "text": [
      "/usr/local/lib/python3.6/dist-packages/sklearn/ensemble/_voting.py:406: DataConversionWarning: A column-vector y was passed when a 1d array was expected. Please change the shape of y to (n_samples, ), for example using ravel().\n",
      "  y = column_or_1d(y, warn=True)\n"
     ]
    },
    {
     "name": "stdout",
     "output_type": "stream",
     "text": [
      "The Spearman's correlation coefficient is: 0.155\n"
     ]
    }
   ],
   "source": [
    "model1 = LinearRegression()\n",
    "model2 = DecisionTreeRegressor(random_state=1)\n",
    "model3 = KNeighborsRegressor(n_neighbors = 77)\n",
    "model4 = RandomForestRegressor(n_estimators=100,random_state=45)\n",
    "vRegressor = VotingRegressor(estimators=[('lr', model1), ('dt', model2), ('knn', model3), ('rf', model4)])\n",
    "\n",
    "vRegressor.fit(short_X_train,short_y_train)\n",
    "y_pred = vRegressor.predict(short_X_test)\n",
    "Get_score(y_pred, short_y_test)\n",
    "\n",
    "vRegressor.fit(long_X_train,long_y_train)\n",
    "y_pred = vRegressor.predict(long_X_test)\n",
    "Get_score(y_pred, long_y_test)"
   ]
  },
  {
   "cell_type": "code",
   "execution_count": 253,
   "metadata": {
    "colab": {
     "base_uri": "https://localhost:8080/",
     "height": 149
    },
    "colab_type": "code",
    "executionInfo": {
     "elapsed": 318381,
     "status": "ok",
     "timestamp": 1588077047090,
     "user": {
      "displayName": "Raghvendra Pratap Singh",
      "photoUrl": "https://lh3.googleusercontent.com/a-/AOh14Gj1jQJ5n0fdqt2IyBbxgNbDiN_ZfLwM20c8-dFk=s64",
      "userId": "16108454137484926510"
     },
     "user_tz": -330
    },
    "id": "zSebZXx-vfwG",
    "outputId": "01b27793-86e9-48cb-deb9-7e1b6812b341"
   },
   "outputs": [
    {
     "name": "stderr",
     "output_type": "stream",
     "text": [
      "/usr/local/lib/python3.6/dist-packages/sklearn/utils/validation.py:760: DataConversionWarning: A column-vector y was passed when a 1d array was expected. Please change the shape of y to (n_samples, ), for example using ravel().\n",
      "  y = column_or_1d(y, warn=True)\n"
     ]
    },
    {
     "name": "stdout",
     "output_type": "stream",
     "text": [
      "The Spearman's correlation coefficient is: 0.192\n"
     ]
    },
    {
     "name": "stderr",
     "output_type": "stream",
     "text": [
      "/usr/local/lib/python3.6/dist-packages/sklearn/utils/validation.py:760: DataConversionWarning: A column-vector y was passed when a 1d array was expected. Please change the shape of y to (n_samples, ), for example using ravel().\n",
      "  y = column_or_1d(y, warn=True)\n"
     ]
    },
    {
     "name": "stdout",
     "output_type": "stream",
     "text": [
      "The Spearman's correlation coefficient is: 0.144\n"
     ]
    }
   ],
   "source": [
    "abRegressor = AdaBoostRegressor()\n",
    "abRegressor.fit(short_X_train, short_y_train)\n",
    "y_pred = abRegressor.predict(short_X_test)\n",
    "Get_score(y_pred, short_y_test)\n",
    "\n",
    "abRegressor = AdaBoostRegressor()\n",
    "abRegressor.fit(long_X_train, long_y_train)\n",
    "y_pred = abRegressor.predict(long_X_test)\n",
    "Get_score(y_pred, long_y_test)"
   ]
  },
  {
   "cell_type": "code",
   "execution_count": 254,
   "metadata": {
    "colab": {
     "base_uri": "https://localhost:8080/",
     "height": 149
    },
    "colab_type": "code",
    "executionInfo": {
     "elapsed": 328857,
     "status": "ok",
     "timestamp": 1588077057576,
     "user": {
      "displayName": "Raghvendra Pratap Singh",
      "photoUrl": "https://lh3.googleusercontent.com/a-/AOh14Gj1jQJ5n0fdqt2IyBbxgNbDiN_ZfLwM20c8-dFk=s64",
      "userId": "16108454137484926510"
     },
     "user_tz": -330
    },
    "id": "7sC4p2DpvfuS",
    "outputId": "5c9a6b61-2559-4d8e-c74d-32b59a68bd68"
   },
   "outputs": [
    {
     "name": "stderr",
     "output_type": "stream",
     "text": [
      "/usr/local/lib/python3.6/dist-packages/sklearn/ensemble/_gb.py:1454: DataConversionWarning: A column-vector y was passed when a 1d array was expected. Please change the shape of y to (n_samples, ), for example using ravel().\n",
      "  y = column_or_1d(y, warn=True)\n"
     ]
    },
    {
     "name": "stdout",
     "output_type": "stream",
     "text": [
      "The Spearman's correlation coefficient is: 0.319\n"
     ]
    },
    {
     "name": "stderr",
     "output_type": "stream",
     "text": [
      "/usr/local/lib/python3.6/dist-packages/sklearn/ensemble/_gb.py:1454: DataConversionWarning: A column-vector y was passed when a 1d array was expected. Please change the shape of y to (n_samples, ), for example using ravel().\n",
      "  y = column_or_1d(y, warn=True)\n"
     ]
    },
    {
     "name": "stdout",
     "output_type": "stream",
     "text": [
      "The Spearman's correlation coefficient is: 0.164\n"
     ]
    }
   ],
   "source": [
    "gbRegressor= GradientBoostingRegressor()\n",
    "\n",
    "gbRegressor.fit(short_X_train,short_y_train)\n",
    "y_pred = gbRegressor.predict(short_X_test)\n",
    "Get_score(y_pred, short_y_test)\n",
    "\n",
    "gbRegressor.fit(long_X_train,long_y_train)\n",
    "y_pred = gbRegressor.predict(long_X_test)\n",
    "Get_score(y_pred, long_y_test)"
   ]
  },
  {
   "cell_type": "code",
   "execution_count": 0,
   "metadata": {
    "colab": {},
    "colab_type": "code",
    "id": "iPU0drO-vfsY"
   },
   "outputs": [],
   "source": [
    "sc = StandardScaler()\n",
    "short_X_train = sc.fit_transform(short_X_train)\n",
    "short_X_test = sc.transform(short_X_test)\n",
    "\n",
    "long_X_train = sc.fit_transform(long_X_train)\n",
    "long_X_test = sc.transform(long_X_test)"
   ]
  },
  {
   "cell_type": "code",
   "execution_count": 0,
   "metadata": {
    "colab": {},
    "colab_type": "code",
    "id": "84z00cogvfp4"
   },
   "outputs": [],
   "source": [
    "# Initialising\n",
    "neuralNetModel = Sequential()\n",
    "\n",
    "# Adding the input layer and first hidden layer\n",
    "neuralNetModel.add(Dense(32, activation = 'relu', input_dim = 1000))\n",
    "\n",
    "# Adding second hidden layer\n",
    "neuralNetModel.add(Dense(units = 32, activation = 'relu'))\n",
    "\n",
    "# Adding third hidden layer\n",
    "neuralNetModel.add(Dense(units = 32, activation = 'relu'))\n",
    "\n",
    "# Adding output layer\n",
    "neuralNetModel.add(Dense(units = 1))"
   ]
  },
  {
   "cell_type": "code",
   "execution_count": 260,
   "metadata": {
    "colab": {
     "base_uri": "https://localhost:8080/",
     "height": 1000
    },
    "colab_type": "code",
    "executionInfo": {
     "elapsed": 135900,
     "status": "ok",
     "timestamp": 1588077245216,
     "user": {
      "displayName": "Raghvendra Pratap Singh",
      "photoUrl": "https://lh3.googleusercontent.com/a-/AOh14Gj1jQJ5n0fdqt2IyBbxgNbDiN_ZfLwM20c8-dFk=s64",
      "userId": "16108454137484926510"
     },
     "user_tz": -330
    },
    "id": "m3QE5T0rwK_6",
    "outputId": "2f713274-e262-4ee0-a132-47c3081c71e3"
   },
   "outputs": [
    {
     "name": "stdout",
     "output_type": "stream",
     "text": [
      "Epoch 1/51\n",
      "4800/4800 [==============================] - 1s 297us/step - loss: 0.0816\n",
      "Epoch 2/51\n",
      "4800/4800 [==============================] - 1s 272us/step - loss: 0.0116\n",
      "Epoch 3/51\n",
      "4800/4800 [==============================] - 1s 272us/step - loss: 0.0056\n",
      "Epoch 4/51\n",
      "4800/4800 [==============================] - 1s 293us/step - loss: 0.0042\n",
      "Epoch 5/51\n",
      "4800/4800 [==============================] - 1s 307us/step - loss: 0.0038\n",
      "Epoch 6/51\n",
      "4800/4800 [==============================] - 1s 308us/step - loss: 0.0038\n",
      "Epoch 7/51\n",
      "4800/4800 [==============================] - 1s 294us/step - loss: 0.0035\n",
      "Epoch 8/51\n",
      "4800/4800 [==============================] - 1s 267us/step - loss: 0.0035\n",
      "Epoch 9/51\n",
      "4800/4800 [==============================] - 1s 268us/step - loss: 0.0032\n",
      "Epoch 10/51\n",
      "4800/4800 [==============================] - 1s 262us/step - loss: 0.0031\n",
      "Epoch 11/51\n",
      "4800/4800 [==============================] - 1s 256us/step - loss: 0.0032\n",
      "Epoch 12/51\n",
      "4800/4800 [==============================] - 1s 264us/step - loss: 0.0031\n",
      "Epoch 13/51\n",
      "4800/4800 [==============================] - 1s 264us/step - loss: 0.0029\n",
      "Epoch 14/51\n",
      "4800/4800 [==============================] - 1s 259us/step - loss: 0.0028\n",
      "Epoch 15/51\n",
      "4800/4800 [==============================] - 1s 273us/step - loss: 0.0027\n",
      "Epoch 16/51\n",
      "4800/4800 [==============================] - 1s 259us/step - loss: 0.0025\n",
      "Epoch 17/51\n",
      "4800/4800 [==============================] - 1s 264us/step - loss: 0.0025\n",
      "Epoch 18/51\n",
      "4800/4800 [==============================] - 1s 270us/step - loss: 0.0025\n",
      "Epoch 19/51\n",
      "4800/4800 [==============================] - 1s 259us/step - loss: 0.0024\n",
      "Epoch 20/51\n",
      "4800/4800 [==============================] - 1s 253us/step - loss: 0.0024\n",
      "Epoch 21/51\n",
      "4800/4800 [==============================] - 1s 259us/step - loss: 0.0022\n",
      "Epoch 22/51\n",
      "4800/4800 [==============================] - 1s 269us/step - loss: 0.0021\n",
      "Epoch 23/51\n",
      "4800/4800 [==============================] - 1s 268us/step - loss: 0.0021\n",
      "Epoch 24/51\n",
      "4800/4800 [==============================] - 1s 259us/step - loss: 0.0022\n",
      "Epoch 25/51\n",
      "4800/4800 [==============================] - 1s 279us/step - loss: 0.0020\n",
      "Epoch 26/51\n",
      "4800/4800 [==============================] - 1s 257us/step - loss: 0.0021\n",
      "Epoch 27/51\n",
      "4800/4800 [==============================] - 1s 260us/step - loss: 0.0020\n",
      "Epoch 28/51\n",
      "4800/4800 [==============================] - 1s 255us/step - loss: 0.0020\n",
      "Epoch 29/51\n",
      "4800/4800 [==============================] - 1s 262us/step - loss: 0.0019\n",
      "Epoch 30/51\n",
      "4800/4800 [==============================] - 1s 274us/step - loss: 0.0018\n",
      "Epoch 31/51\n",
      "4800/4800 [==============================] - 1s 287us/step - loss: 0.0017\n",
      "Epoch 32/51\n",
      "4800/4800 [==============================] - 1s 277us/step - loss: 0.0017\n",
      "Epoch 33/51\n",
      "4800/4800 [==============================] - 1s 261us/step - loss: 0.0018\n",
      "Epoch 34/51\n",
      "4800/4800 [==============================] - 1s 260us/step - loss: 0.0018\n",
      "Epoch 35/51\n",
      "4800/4800 [==============================] - 1s 255us/step - loss: 0.0017\n",
      "Epoch 36/51\n",
      "4800/4800 [==============================] - 1s 269us/step - loss: 0.0016\n",
      "Epoch 37/51\n",
      "4800/4800 [==============================] - 1s 277us/step - loss: 0.0015\n",
      "Epoch 38/51\n",
      "4800/4800 [==============================] - 1s 261us/step - loss: 0.0016\n",
      "Epoch 39/51\n",
      "4800/4800 [==============================] - 1s 299us/step - loss: 0.0015\n",
      "Epoch 40/51\n",
      "4800/4800 [==============================] - 1s 304us/step - loss: 0.0015\n",
      "Epoch 41/51\n",
      "4800/4800 [==============================] - 1s 257us/step - loss: 0.0015\n",
      "Epoch 42/51\n",
      "4800/4800 [==============================] - 1s 267us/step - loss: 0.0015\n",
      "Epoch 43/51\n",
      "4800/4800 [==============================] - 2s 320us/step - loss: 0.0015\n",
      "Epoch 44/51\n",
      "4800/4800 [==============================] - 1s 292us/step - loss: 0.0014\n",
      "Epoch 45/51\n",
      "4800/4800 [==============================] - 1s 261us/step - loss: 0.0014\n",
      "Epoch 46/51\n",
      "4800/4800 [==============================] - 1s 270us/step - loss: 0.0014\n",
      "Epoch 47/51\n",
      "4800/4800 [==============================] - 1s 288us/step - loss: 0.0014\n",
      "Epoch 48/51\n",
      "4800/4800 [==============================] - 1s 279us/step - loss: 0.0014\n",
      "Epoch 49/51\n",
      "4800/4800 [==============================] - 2s 351us/step - loss: 0.0014\n",
      "Epoch 50/51\n",
      "4800/4800 [==============================] - 2s 337us/step - loss: 0.0014\n",
      "Epoch 51/51\n",
      "4800/4800 [==============================] - 2s 339us/step - loss: 0.0014\n",
      "Epoch 1/51\n",
      "4800/4800 [==============================] - 1s 267us/step - loss: 0.0203\n",
      "Epoch 2/51\n",
      "4800/4800 [==============================] - 1s 261us/step - loss: 0.0167\n",
      "Epoch 3/51\n",
      "4800/4800 [==============================] - 1s 272us/step - loss: 0.0134\n",
      "Epoch 4/51\n",
      "4800/4800 [==============================] - 1s 276us/step - loss: 0.0108\n",
      "Epoch 5/51\n",
      "4800/4800 [==============================] - 1s 274us/step - loss: 0.0095\n",
      "Epoch 6/51\n",
      "4800/4800 [==============================] - 1s 260us/step - loss: 0.0084\n",
      "Epoch 7/51\n",
      "4800/4800 [==============================] - 1s 266us/step - loss: 0.0076\n",
      "Epoch 8/51\n",
      "4800/4800 [==============================] - 1s 264us/step - loss: 0.0071\n",
      "Epoch 9/51\n",
      "4800/4800 [==============================] - 1s 267us/step - loss: 0.0066\n",
      "Epoch 10/51\n",
      "4800/4800 [==============================] - 1s 286us/step - loss: 0.0064\n",
      "Epoch 11/51\n",
      "4800/4800 [==============================] - 1s 259us/step - loss: 0.0060\n",
      "Epoch 12/51\n",
      "4800/4800 [==============================] - 1s 272us/step - loss: 0.0059\n",
      "Epoch 13/51\n",
      "4800/4800 [==============================] - 1s 253us/step - loss: 0.0058\n",
      "Epoch 14/51\n",
      "4800/4800 [==============================] - 1s 257us/step - loss: 0.0055\n",
      "Epoch 15/51\n",
      "4800/4800 [==============================] - 1s 256us/step - loss: 0.0055\n",
      "Epoch 16/51\n",
      "4800/4800 [==============================] - 1s 260us/step - loss: 0.0055\n",
      "Epoch 17/51\n",
      "4800/4800 [==============================] - 1s 262us/step - loss: 0.0053\n",
      "Epoch 18/51\n",
      "4800/4800 [==============================] - 1s 257us/step - loss: 0.0052\n",
      "Epoch 19/51\n",
      "4800/4800 [==============================] - 1s 269us/step - loss: 0.0051\n",
      "Epoch 20/51\n",
      "4800/4800 [==============================] - 1s 257us/step - loss: 0.0050\n",
      "Epoch 21/51\n",
      "4800/4800 [==============================] - 2s 313us/step - loss: 0.0050\n",
      "Epoch 22/51\n",
      "4800/4800 [==============================] - 1s 255us/step - loss: 0.0050\n",
      "Epoch 23/51\n",
      "4800/4800 [==============================] - 1s 257us/step - loss: 0.0048\n",
      "Epoch 24/51\n",
      "4800/4800 [==============================] - 1s 251us/step - loss: 0.0047\n",
      "Epoch 25/51\n",
      "4800/4800 [==============================] - 1s 258us/step - loss: 0.0049\n",
      "Epoch 26/51\n",
      "4800/4800 [==============================] - 1s 293us/step - loss: 0.0047\n",
      "Epoch 27/51\n",
      "4800/4800 [==============================] - 1s 260us/step - loss: 0.0046\n",
      "Epoch 28/51\n",
      "4800/4800 [==============================] - 1s 255us/step - loss: 0.0045\n",
      "Epoch 29/51\n",
      "4800/4800 [==============================] - 1s 257us/step - loss: 0.0045\n",
      "Epoch 30/51\n",
      "4800/4800 [==============================] - 1s 255us/step - loss: 0.0045\n",
      "Epoch 31/51\n",
      "4800/4800 [==============================] - 1s 262us/step - loss: 0.0046\n",
      "Epoch 32/51\n",
      "4800/4800 [==============================] - 1s 255us/step - loss: 0.0045\n",
      "Epoch 33/51\n",
      "4800/4800 [==============================] - 1s 265us/step - loss: 0.0045\n",
      "Epoch 34/51\n",
      "4800/4800 [==============================] - 1s 260us/step - loss: 0.0044\n",
      "Epoch 35/51\n",
      "4800/4800 [==============================] - 1s 311us/step - loss: 0.0045\n",
      "Epoch 36/51\n",
      "4800/4800 [==============================] - 2s 330us/step - loss: 0.0044\n",
      "Epoch 37/51\n",
      "4800/4800 [==============================] - 2s 327us/step - loss: 0.0043\n",
      "Epoch 38/51\n",
      "4800/4800 [==============================] - 1s 277us/step - loss: 0.0044\n",
      "Epoch 39/51\n",
      "4800/4800 [==============================] - 1s 285us/step - loss: 0.0043\n",
      "Epoch 40/51\n",
      "4800/4800 [==============================] - 1s 295us/step - loss: 0.0043\n",
      "Epoch 41/51\n",
      "4800/4800 [==============================] - 2s 329us/step - loss: 0.0042\n",
      "Epoch 42/51\n",
      "4800/4800 [==============================] - 1s 294us/step - loss: 0.0043\n",
      "Epoch 43/51\n",
      "4800/4800 [==============================] - 1s 272us/step - loss: 0.0043\n",
      "Epoch 44/51\n",
      "4800/4800 [==============================] - 1s 277us/step - loss: 0.0042\n",
      "Epoch 45/51\n",
      "4800/4800 [==============================] - 1s 270us/step - loss: 0.0042\n",
      "Epoch 46/51\n",
      "4800/4800 [==============================] - 1s 261us/step - loss: 0.0042\n",
      "Epoch 47/51\n",
      "4800/4800 [==============================] - 1s 268us/step - loss: 0.0041\n",
      "Epoch 48/51\n",
      "4800/4800 [==============================] - 1s 278us/step - loss: 0.0041\n",
      "Epoch 49/51\n",
      "4800/4800 [==============================] - 1s 267us/step - loss: 0.0042\n",
      "Epoch 50/51\n",
      "4800/4800 [==============================] - 1s 257us/step - loss: 0.0041\n",
      "Epoch 51/51\n",
      "4800/4800 [==============================] - 1s 255us/step - loss: 0.0041\n"
     ]
    },
    {
     "data": {
      "text/plain": [
       "<keras.callbacks.callbacks.History at 0x7faace0e2518>"
      ]
     },
     "execution_count": 260,
     "metadata": {
      "tags": []
     },
     "output_type": "execute_result"
    }
   ],
   "source": [
    "neuralNetModel.compile(optimizer = 'adam',loss = 'mean_squared_error')\n",
    "neuralNetModel.fit(short_X_train, short_y_train, batch_size = 10, epochs = 51)\n",
    "neuralNetModel.fit(long_X_train, long_y_train, batch_size = 10, epochs = 51)"
   ]
  },
  {
   "cell_type": "code",
   "execution_count": 261,
   "metadata": {
    "colab": {
     "base_uri": "https://localhost:8080/",
     "height": 54
    },
    "colab_type": "code",
    "executionInfo": {
     "elapsed": 2725,
     "status": "ok",
     "timestamp": 1588077861691,
     "user": {
      "displayName": "Raghvendra Pratap Singh",
      "photoUrl": "https://lh3.googleusercontent.com/a-/AOh14Gj1jQJ5n0fdqt2IyBbxgNbDiN_ZfLwM20c8-dFk=s64",
      "userId": "16108454137484926510"
     },
     "user_tz": -330
    },
    "id": "F_qSyOq1vfoC",
    "outputId": "b16b69cb-b67b-4cb6-e8f6-9366650b1ec7"
   },
   "outputs": [
    {
     "name": "stdout",
     "output_type": "stream",
     "text": [
      "The Spearman's correlation coefficient is: 0.183\n",
      "The Spearman's correlation coefficient is: 0.106\n"
     ]
    }
   ],
   "source": [
    "y_pred = neuralNetModel.predict(short_X_test)\n",
    "Get_score(y_pred, short_y_test)\n",
    "\n",
    "y_pred = neuralNetModel.predict(long_X_test)\n",
    "Get_score(y_pred, long_y_test)"
   ]
  },
  {
   "cell_type": "code",
   "execution_count": 262,
   "metadata": {
    "colab": {
     "base_uri": "https://localhost:8080/",
     "height": 281
    },
    "colab_type": "code",
    "executionInfo": {
     "elapsed": 3360,
     "status": "ok",
     "timestamp": 1588077867457,
     "user": {
      "displayName": "Raghvendra Pratap Singh",
      "photoUrl": "https://lh3.googleusercontent.com/a-/AOh14Gj1jQJ5n0fdqt2IyBbxgNbDiN_ZfLwM20c8-dFk=s64",
      "userId": "16108454137484926510"
     },
     "user_tz": -330
    },
    "id": "2ZYaKKJovfmA",
    "outputId": "d5941f30-9258-4e17-dbde-e3d354821b31"
   },
   "outputs": [
    {
     "data": {
      "image/png": "[encoded data removed]",
      "text/plain": [
       "<Figure size 432x288 with 1 Axes>"
      ]
     },
     "metadata": {
      "needs_background": "light",
      "tags": []
     },
     "output_type": "display_data"
    }
   ],
   "source": [
    "plt.plot(y_test, color = 'green', label = 'Actual dataset')\n",
    "plt.plot(y_pred, color = 'peachpuff', label = 'Predicted dataset')\n",
    "plt.title('Prediction')\n",
    "plt.legend()\n",
    "plt.show()"
   ]
  },
  {
   "cell_type": "markdown",
   "metadata": {
    "colab_type": "text",
    "id": "hvr0Mm6R9qIP"
   },
   "source": [
    "**Working on captions(tf-idf)+ HMP**"
   ]
  },
  {
   "cell_type": "code",
   "execution_count": 0,
   "metadata": {
    "colab": {},
    "colab_type": "code",
    "id": "zYK6ogf538Da"
   },
   "outputs": [],
   "source": [
    "X = dfDevCaptions_HMP_final\n",
    "y = dfGroundTruth[['short-term_memorability','long-term_memorability']].values #these are our target columns"
   ]
  },
  {
   "cell_type": "code",
   "execution_count": 0,
   "metadata": {
    "colab": {},
    "colab_type": "code",
    "id": "00NoRFF69xMi"
   },
   "outputs": [],
   "source": [
    "X_train,X_test,y_train,y_test = train_test_split(X,y,test_size=0.2,random_state=42)"
   ]
  },
  {
   "cell_type": "code",
   "execution_count": 277,
   "metadata": {
    "colab": {
     "base_uri": "https://localhost:8080/",
     "height": 91
    },
    "colab_type": "code",
    "executionInfo": {
     "elapsed": 1435,
     "status": "ok",
     "timestamp": 1588078884457,
     "user": {
      "displayName": "Raghvendra Pratap Singh",
      "photoUrl": "https://lh3.googleusercontent.com/a-/AOh14Gj1jQJ5n0fdqt2IyBbxgNbDiN_ZfLwM20c8-dFk=s64",
      "userId": "16108454137484926510"
     },
     "user_tz": -330
    },
    "id": "fwpvySOm9xKI",
    "outputId": "ea038c3d-a2f8-4ce9-b1b8-bb42e1f70cb2"
   },
   "outputs": [
    {
     "name": "stdout",
     "output_type": "stream",
     "text": [
      "X_train  (4800, 1102)\n",
      "X_test   (1200, 1102)\n",
      "Y_train  (4800, 2)\n",
      "Y_test   (1200, 2)\n"
     ]
    }
   ],
   "source": [
    "print('X_train ', X_train.shape)\n",
    "print('X_test  ', X_test.shape)\n",
    "print('Y_train ', y_train.shape)\n",
    "print('Y_test  ', y_test.shape)"
   ]
  },
  {
   "cell_type": "code",
   "execution_count": 278,
   "metadata": {
    "colab": {
     "base_uri": "https://localhost:8080/",
     "height": 54
    },
    "colab_type": "code",
    "executionInfo": {
     "elapsed": 3129,
     "status": "ok",
     "timestamp": 1588078889566,
     "user": {
      "displayName": "Raghvendra Pratap Singh",
      "photoUrl": "https://lh3.googleusercontent.com/a-/AOh14Gj1jQJ5n0fdqt2IyBbxgNbDiN_ZfLwM20c8-dFk=s64",
      "userId": "16108454137484926510"
     },
     "user_tz": -330
    },
    "id": "qzfSZ3gqcsOp",
    "outputId": "03a837c9-3e0a-4cc2-e6fc-5e603f1eab75"
   },
   "outputs": [
    {
     "name": "stdout",
     "output_type": "stream",
     "text": [
      "The Spearman's correlation coefficient is: 0.369\n",
      "The Spearman's correlation coefficient is: 0.154\n"
     ]
    }
   ],
   "source": [
    "#linear regression\n",
    "linearRegressor = LinearRegression()\n",
    "linearRegressor.fit(X_train, y_train)\n",
    "y_pred = linearRegressor.predict(X_test)\n",
    "Get_score(y_pred, y_test)"
   ]
  },
  {
   "cell_type": "code",
   "execution_count": 280,
   "metadata": {
    "colab": {
     "base_uri": "https://localhost:8080/",
     "height": 54
    },
    "colab_type": "code",
    "executionInfo": {
     "elapsed": 1453,
     "status": "ok",
     "timestamp": 1588078902967,
     "user": {
      "displayName": "Raghvendra Pratap Singh",
      "photoUrl": "https://lh3.googleusercontent.com/a-/AOh14Gj1jQJ5n0fdqt2IyBbxgNbDiN_ZfLwM20c8-dFk=s64",
      "userId": "16108454137484926510"
     },
     "user_tz": -330
    },
    "id": "t-fcJX2KcsYk",
    "outputId": "f9797047-4fd0-408c-a96c-91fd6e5b7ab3"
   },
   "outputs": [
    {
     "name": "stdout",
     "output_type": "stream",
     "text": [
      "The Spearman's correlation coefficient is: 0.090\n",
      "The Spearman's correlation coefficient is: 0.108\n"
     ]
    }
   ],
   "source": [
    "knnRegressor = KNeighborsRegressor(n_neighbors = 77)\n",
    "knnRegressor.fit(X_test, y_test)\n",
    "y_pred = knnRegressor.predict(X_test)\n",
    "Get_score(y_pred, y_test)"
   ]
  },
  {
   "cell_type": "code",
   "execution_count": 281,
   "metadata": {
    "colab": {
     "base_uri": "https://localhost:8080/",
     "height": 54
    },
    "colab_type": "code",
    "executionInfo": {
     "elapsed": 3409,
     "status": "ok",
     "timestamp": 1588078909090,
     "user": {
      "displayName": "Raghvendra Pratap Singh",
      "photoUrl": "https://lh3.googleusercontent.com/a-/AOh14Gj1jQJ5n0fdqt2IyBbxgNbDiN_ZfLwM20c8-dFk=s64",
      "userId": "16108454137484926510"
     },
     "user_tz": -330
    },
    "id": "xypgw61Ccsid",
    "outputId": "39b85c8d-3c70-440f-b72d-32ae577d7917"
   },
   "outputs": [
    {
     "name": "stdout",
     "output_type": "stream",
     "text": [
      "The Spearman's correlation coefficient is: 0.157\n",
      "The Spearman's correlation coefficient is: 0.017\n"
     ]
    }
   ],
   "source": [
    "dtRegressor = DecisionTreeRegressor()\n",
    "dtRegressor.fit(X_train, y_train)\n",
    "y_pred = dtRegressor.predict(X_test)\n",
    "Get_score(y_pred, y_test)"
   ]
  },
  {
   "cell_type": "code",
   "execution_count": 282,
   "metadata": {
    "colab": {
     "base_uri": "https://localhost:8080/",
     "height": 54
    },
    "colab_type": "code",
    "executionInfo": {
     "elapsed": 81443,
     "status": "ok",
     "timestamp": 1588078992551,
     "user": {
      "displayName": "Raghvendra Pratap Singh",
      "photoUrl": "https://lh3.googleusercontent.com/a-/AOh14Gj1jQJ5n0fdqt2IyBbxgNbDiN_ZfLwM20c8-dFk=s64",
      "userId": "16108454137484926510"
     },
     "user_tz": -330
    },
    "id": "mld37jC8csq0",
    "outputId": "869d330a-ba56-4e84-a350-4537d9f3c8a9"
   },
   "outputs": [
    {
     "name": "stdout",
     "output_type": "stream",
     "text": [
      "The Spearman's correlation coefficient is: 0.354\n",
      "The Spearman's correlation coefficient is: 0.136\n"
     ]
    }
   ],
   "source": [
    "rfRegressor = RandomForestRegressor(n_estimators=100,random_state=45)\n",
    "rfRegressor.fit(X_train,y_train)\n",
    "y_pred = rfRegressor.predict(X_test)\n",
    "Get_score(y_pred, y_test)"
   ]
  },
  {
   "cell_type": "markdown",
   "metadata": {
    "colab_type": "text",
    "id": "h8j_eO1i4TAR"
   },
   "source": [
    "*For other ensemble and neural networking models*"
   ]
  },
  {
   "cell_type": "code",
   "execution_count": 0,
   "metadata": {
    "colab": {},
    "colab_type": "code",
    "id": "LGW8j7_W4Tm0"
   },
   "outputs": [],
   "source": [
    "y_short = dfGroundTruth[['short-term_memorability']].values\n",
    "y_long = dfGroundTruth[['long-term_memorability']].values"
   ]
  },
  {
   "cell_type": "code",
   "execution_count": 0,
   "metadata": {
    "colab": {},
    "colab_type": "code",
    "id": "stoZm_864TtQ"
   },
   "outputs": [],
   "source": [
    "# Splitting the dataset into the Training set and Test set\n",
    "short_X_train,short_X_test,short_y_train,short_y_test = train_test_split(X,y_short,test_size=0.2,random_state=40)\n",
    "long_X_train,long_X_test,long_y_train,long_y_test = train_test_split(X,y_long,test_size=0.2,random_state=40)"
   ]
  },
  {
   "cell_type": "code",
   "execution_count": 286,
   "metadata": {
    "colab": {
     "base_uri": "https://localhost:8080/",
     "height": 149
    },
    "colab_type": "code",
    "executionInfo": {
     "elapsed": 165245,
     "status": "ok",
     "timestamp": 1588079169243,
     "user": {
      "displayName": "Raghvendra Pratap Singh",
      "photoUrl": "https://lh3.googleusercontent.com/a-/AOh14Gj1jQJ5n0fdqt2IyBbxgNbDiN_ZfLwM20c8-dFk=s64",
      "userId": "16108454137484926510"
     },
     "user_tz": -330
    },
    "id": "syGaWTrh4T6g",
    "outputId": "e16d3228-d884-4c58-f8ed-32682fd5497b"
   },
   "outputs": [
    {
     "name": "stderr",
     "output_type": "stream",
     "text": [
      "/usr/local/lib/python3.6/dist-packages/sklearn/ensemble/_voting.py:406: DataConversionWarning: A column-vector y was passed when a 1d array was expected. Please change the shape of y to (n_samples, ), for example using ravel().\n",
      "  y = column_or_1d(y, warn=True)\n"
     ]
    },
    {
     "name": "stdout",
     "output_type": "stream",
     "text": [
      "The Spearman's correlation coefficient is: 0.322\n"
     ]
    },
    {
     "name": "stderr",
     "output_type": "stream",
     "text": [
      "/usr/local/lib/python3.6/dist-packages/sklearn/ensemble/_voting.py:406: DataConversionWarning: A column-vector y was passed when a 1d array was expected. Please change the shape of y to (n_samples, ), for example using ravel().\n",
      "  y = column_or_1d(y, warn=True)\n"
     ]
    },
    {
     "name": "stdout",
     "output_type": "stream",
     "text": [
      "The Spearman's correlation coefficient is: 0.140\n"
     ]
    }
   ],
   "source": [
    "model1 = LinearRegression()\n",
    "model2 = DecisionTreeRegressor(random_state=1)\n",
    "model3 = KNeighborsRegressor(n_neighbors = 77)\n",
    "model4 = RandomForestRegressor(n_estimators=100,random_state=45)\n",
    "vRegressor = VotingRegressor(estimators=[('lr', model1), ('dt', model2), ('knn', model3), ('rf', model4)])\n",
    "\n",
    "vRegressor.fit(short_X_train,short_y_train)\n",
    "y_pred = vRegressor.predict(short_X_test)\n",
    "Get_score(y_pred, short_y_test)\n",
    "\n",
    "vRegressor.fit(long_X_train,long_y_train)\n",
    "y_pred = vRegressor.predict(long_X_test)\n",
    "Get_score(y_pred, long_y_test)"
   ]
  },
  {
   "cell_type": "code",
   "execution_count": 287,
   "metadata": {
    "colab": {
     "base_uri": "https://localhost:8080/",
     "height": 149
    },
    "colab_type": "code",
    "executionInfo": {
     "elapsed": 161918,
     "status": "ok",
     "timestamp": 1588079181349,
     "user": {
      "displayName": "Raghvendra Pratap Singh",
      "photoUrl": "https://lh3.googleusercontent.com/a-/AOh14Gj1jQJ5n0fdqt2IyBbxgNbDiN_ZfLwM20c8-dFk=s64",
      "userId": "16108454137484926510"
     },
     "user_tz": -330
    },
    "id": "dAekSzpQ4T4Y",
    "outputId": "a8be0f6b-df2f-42b9-9a69-e33eba45ac45"
   },
   "outputs": [
    {
     "name": "stderr",
     "output_type": "stream",
     "text": [
      "/usr/local/lib/python3.6/dist-packages/sklearn/utils/validation.py:760: DataConversionWarning: A column-vector y was passed when a 1d array was expected. Please change the shape of y to (n_samples, ), for example using ravel().\n",
      "  y = column_or_1d(y, warn=True)\n"
     ]
    },
    {
     "name": "stdout",
     "output_type": "stream",
     "text": [
      "The Spearman's correlation coefficient is: 0.258\n"
     ]
    },
    {
     "name": "stderr",
     "output_type": "stream",
     "text": [
      "/usr/local/lib/python3.6/dist-packages/sklearn/utils/validation.py:760: DataConversionWarning: A column-vector y was passed when a 1d array was expected. Please change the shape of y to (n_samples, ), for example using ravel().\n",
      "  y = column_or_1d(y, warn=True)\n"
     ]
    },
    {
     "name": "stdout",
     "output_type": "stream",
     "text": [
      "The Spearman's correlation coefficient is: 0.089\n"
     ]
    }
   ],
   "source": [
    "abRegressor = AdaBoostRegressor()\n",
    "abRegressor.fit(short_X_train, short_y_train)\n",
    "y_pred = abRegressor.predict(short_X_test)\n",
    "Get_score(y_pred, short_y_test)\n",
    "\n",
    "abRegressor = AdaBoostRegressor()\n",
    "abRegressor.fit(long_X_train, long_y_train)\n",
    "y_pred = abRegressor.predict(long_X_test)\n",
    "Get_score(y_pred, long_y_test)"
   ]
  },
  {
   "cell_type": "code",
   "execution_count": 288,
   "metadata": {
    "colab": {
     "base_uri": "https://localhost:8080/",
     "height": 149
    },
    "colab_type": "code",
    "executionInfo": {
     "elapsed": 38725,
     "status": "ok",
     "timestamp": 1588079220085,
     "user": {
      "displayName": "Raghvendra Pratap Singh",
      "photoUrl": "https://lh3.googleusercontent.com/a-/AOh14Gj1jQJ5n0fdqt2IyBbxgNbDiN_ZfLwM20c8-dFk=s64",
      "userId": "16108454137484926510"
     },
     "user_tz": -330
    },
    "id": "1cQlWwAb4T2J",
    "outputId": "a973a500-367e-4ade-9e97-541c3087d7e8"
   },
   "outputs": [
    {
     "name": "stderr",
     "output_type": "stream",
     "text": [
      "/usr/local/lib/python3.6/dist-packages/sklearn/ensemble/_gb.py:1454: DataConversionWarning: A column-vector y was passed when a 1d array was expected. Please change the shape of y to (n_samples, ), for example using ravel().\n",
      "  y = column_or_1d(y, warn=True)\n"
     ]
    },
    {
     "name": "stdout",
     "output_type": "stream",
     "text": [
      "The Spearman's correlation coefficient is: 0.340\n"
     ]
    },
    {
     "name": "stderr",
     "output_type": "stream",
     "text": [
      "/usr/local/lib/python3.6/dist-packages/sklearn/ensemble/_gb.py:1454: DataConversionWarning: A column-vector y was passed when a 1d array was expected. Please change the shape of y to (n_samples, ), for example using ravel().\n",
      "  y = column_or_1d(y, warn=True)\n"
     ]
    },
    {
     "name": "stdout",
     "output_type": "stream",
     "text": [
      "The Spearman's correlation coefficient is: 0.170\n"
     ]
    }
   ],
   "source": [
    "gbRegressor= GradientBoostingRegressor()\n",
    "\n",
    "gbRegressor.fit(short_X_train,short_y_train)\n",
    "y_pred = gbRegressor.predict(short_X_test)\n",
    "Get_score(y_pred, short_y_test)\n",
    "\n",
    "gbRegressor.fit(long_X_train,long_y_train)\n",
    "y_pred = gbRegressor.predict(long_X_test)\n",
    "Get_score(y_pred, long_y_test)"
   ]
  },
  {
   "cell_type": "code",
   "execution_count": 0,
   "metadata": {
    "colab": {},
    "colab_type": "code",
    "id": "BN7iG7NG4Tz7"
   },
   "outputs": [],
   "source": [
    "sc = StandardScaler()\n",
    "short_X_train = sc.fit_transform(short_X_train)\n",
    "short_X_test = sc.transform(short_X_test)\n",
    "\n",
    "long_X_train = sc.fit_transform(long_X_train)\n",
    "long_X_test = sc.transform(long_X_test)"
   ]
  },
  {
   "cell_type": "code",
   "execution_count": 0,
   "metadata": {
    "colab": {},
    "colab_type": "code",
    "id": "3Pr81O-E4Txt"
   },
   "outputs": [],
   "source": [
    "# Initialising\n",
    "neuralNetModel = Sequential()\n",
    "\n",
    "# Adding the input layer and first hidden layer\n",
    "neuralNetModel.add(Dense(32, activation = 'relu', input_dim = 1102))\n",
    "\n",
    "# Adding second hidden layer\n",
    "neuralNetModel.add(Dense(units = 32, activation = 'relu'))\n",
    "\n",
    "# Adding third hidden layer\n",
    "neuralNetModel.add(Dense(units = 32, activation = 'relu'))\n",
    "\n",
    "# Adding output layer\n",
    "neuralNetModel.add(Dense(units = 1))"
   ]
  },
  {
   "cell_type": "code",
   "execution_count": 293,
   "metadata": {
    "colab": {
     "base_uri": "https://localhost:8080/",
     "height": 1000
    },
    "colab_type": "code",
    "executionInfo": {
     "elapsed": 136400,
     "status": "ok",
     "timestamp": 1588079391131,
     "user": {
      "displayName": "Raghvendra Pratap Singh",
      "photoUrl": "https://lh3.googleusercontent.com/a-/AOh14Gj1jQJ5n0fdqt2IyBbxgNbDiN_ZfLwM20c8-dFk=s64",
      "userId": "16108454137484926510"
     },
     "user_tz": -330
    },
    "id": "Bf4bLWiU4Tj8",
    "outputId": "27832922-2936-4e88-d785-c7ae0f90f2d4"
   },
   "outputs": [
    {
     "name": "stdout",
     "output_type": "stream",
     "text": [
      "Epoch 1/51\n",
      "4800/4800 [==============================] - 1s 296us/step - loss: 0.0457\n",
      "Epoch 2/51\n",
      "4800/4800 [==============================] - 1s 266us/step - loss: 0.0083\n",
      "Epoch 3/51\n",
      "4800/4800 [==============================] - 1s 277us/step - loss: 0.0044\n",
      "Epoch 4/51\n",
      "4800/4800 [==============================] - 1s 266us/step - loss: 0.0033\n",
      "Epoch 5/51\n",
      "4800/4800 [==============================] - 1s 259us/step - loss: 0.0031\n",
      "Epoch 6/51\n",
      "4800/4800 [==============================] - 1s 268us/step - loss: 0.0032\n",
      "Epoch 7/51\n",
      "4800/4800 [==============================] - 1s 261us/step - loss: 0.0030\n",
      "Epoch 8/51\n",
      "4800/4800 [==============================] - 1s 264us/step - loss: 0.0030\n",
      "Epoch 9/51\n",
      "4800/4800 [==============================] - 1s 270us/step - loss: 0.0029\n",
      "Epoch 10/51\n",
      "4800/4800 [==============================] - 1s 273us/step - loss: 0.0028\n",
      "Epoch 11/51\n",
      "4800/4800 [==============================] - 1s 308us/step - loss: 0.0026\n",
      "Epoch 12/51\n",
      "4800/4800 [==============================] - 1s 295us/step - loss: 0.0026\n",
      "Epoch 13/51\n",
      "4800/4800 [==============================] - 1s 283us/step - loss: 0.0025\n",
      "Epoch 14/51\n",
      "4800/4800 [==============================] - 1s 282us/step - loss: 0.0023\n",
      "Epoch 15/51\n",
      "4800/4800 [==============================] - 1s 274us/step - loss: 0.0022\n",
      "Epoch 16/51\n",
      "4800/4800 [==============================] - 1s 265us/step - loss: 0.0021\n",
      "Epoch 17/51\n",
      "4800/4800 [==============================] - 1s 271us/step - loss: 0.0021\n",
      "Epoch 18/51\n",
      "4800/4800 [==============================] - 1s 263us/step - loss: 0.0020\n",
      "Epoch 19/51\n",
      "4800/4800 [==============================] - 1s 262us/step - loss: 0.0018\n",
      "Epoch 20/51\n",
      "4800/4800 [==============================] - 1s 262us/step - loss: 0.0016\n",
      "Epoch 21/51\n",
      "4800/4800 [==============================] - 1s 271us/step - loss: 0.0017\n",
      "Epoch 22/51\n",
      "4800/4800 [==============================] - 1s 270us/step - loss: 0.0018\n",
      "Epoch 23/51\n",
      "4800/4800 [==============================] - 1s 290us/step - loss: 0.0015\n",
      "Epoch 24/51\n",
      "4800/4800 [==============================] - 1s 276us/step - loss: 0.0014\n",
      "Epoch 25/51\n",
      "4800/4800 [==============================] - 1s 269us/step - loss: 0.0014\n",
      "Epoch 26/51\n",
      "4800/4800 [==============================] - 1s 273us/step - loss: 0.0013\n",
      "Epoch 27/51\n",
      "4800/4800 [==============================] - 1s 290us/step - loss: 0.0013\n",
      "Epoch 28/51\n",
      "4800/4800 [==============================] - 1s 262us/step - loss: 0.0013\n",
      "Epoch 29/51\n",
      "4800/4800 [==============================] - 1s 271us/step - loss: 0.0012\n",
      "Epoch 30/51\n",
      "4800/4800 [==============================] - 1s 257us/step - loss: 0.0012\n",
      "Epoch 31/51\n",
      "4800/4800 [==============================] - 1s 262us/step - loss: 0.0011\n",
      "Epoch 32/51\n",
      "4800/4800 [==============================] - 1s 266us/step - loss: 0.0011\n",
      "Epoch 33/51\n",
      "4800/4800 [==============================] - 1s 257us/step - loss: 0.0011\n",
      "Epoch 34/51\n",
      "4800/4800 [==============================] - 1s 271us/step - loss: 0.0011\n",
      "Epoch 35/51\n",
      "4800/4800 [==============================] - 1s 270us/step - loss: 9.6682e-04\n",
      "Epoch 36/51\n",
      "4800/4800 [==============================] - 1s 264us/step - loss: 9.5893e-04\n",
      "Epoch 37/51\n",
      "4800/4800 [==============================] - 1s 263us/step - loss: 9.3571e-04\n",
      "Epoch 38/51\n",
      "4800/4800 [==============================] - 1s 271us/step - loss: 9.1873e-04\n",
      "Epoch 39/51\n",
      "4800/4800 [==============================] - 1s 271us/step - loss: 9.0985e-04\n",
      "Epoch 40/51\n",
      "4800/4800 [==============================] - 1s 274us/step - loss: 9.1419e-04\n",
      "Epoch 41/51\n",
      "4800/4800 [==============================] - 1s 276us/step - loss: 8.5550e-04\n",
      "Epoch 42/51\n",
      "4800/4800 [==============================] - 1s 263us/step - loss: 7.8167e-04\n",
      "Epoch 43/51\n",
      "4800/4800 [==============================] - 1s 278us/step - loss: 8.2782e-04\n",
      "Epoch 44/51\n",
      "4800/4800 [==============================] - 1s 273us/step - loss: 7.4075e-04\n",
      "Epoch 45/51\n",
      "4800/4800 [==============================] - 1s 300us/step - loss: 8.1310e-04\n",
      "Epoch 46/51\n",
      "4800/4800 [==============================] - 1s 266us/step - loss: 7.5892e-04\n",
      "Epoch 47/51\n",
      "4800/4800 [==============================] - 1s 307us/step - loss: 7.9156e-04\n",
      "Epoch 48/51\n",
      "4800/4800 [==============================] - 1s 265us/step - loss: 7.2566e-04\n",
      "Epoch 49/51\n",
      "4800/4800 [==============================] - 1s 273us/step - loss: 6.7891e-04\n",
      "Epoch 50/51\n",
      "4800/4800 [==============================] - 2s 317us/step - loss: 6.4939e-04\n",
      "Epoch 51/51\n",
      "4800/4800 [==============================] - 1s 297us/step - loss: 6.6815e-04\n",
      "Epoch 1/51\n",
      "4800/4800 [==============================] - 1s 309us/step - loss: 0.0203\n",
      "Epoch 2/51\n",
      "4800/4800 [==============================] - 1s 265us/step - loss: 0.0156\n",
      "Epoch 3/51\n",
      "4800/4800 [==============================] - 1s 263us/step - loss: 0.0119\n",
      "Epoch 4/51\n",
      "4800/4800 [==============================] - 1s 268us/step - loss: 0.0092\n",
      "Epoch 5/51\n",
      "4800/4800 [==============================] - 1s 281us/step - loss: 0.0074\n",
      "Epoch 6/51\n",
      "4800/4800 [==============================] - 1s 273us/step - loss: 0.0061\n",
      "Epoch 7/51\n",
      "4800/4800 [==============================] - 1s 266us/step - loss: 0.0054\n",
      "Epoch 8/51\n",
      "4800/4800 [==============================] - 1s 265us/step - loss: 0.0047\n",
      "Epoch 9/51\n",
      "4800/4800 [==============================] - 1s 265us/step - loss: 0.0043\n",
      "Epoch 10/51\n",
      "4800/4800 [==============================] - 1s 267us/step - loss: 0.0038\n",
      "Epoch 11/51\n",
      "4800/4800 [==============================] - 1s 261us/step - loss: 0.0036\n",
      "Epoch 12/51\n",
      "4800/4800 [==============================] - 1s 265us/step - loss: 0.0034\n",
      "Epoch 13/51\n",
      "4800/4800 [==============================] - 1s 272us/step - loss: 0.0032\n",
      "Epoch 14/51\n",
      "4800/4800 [==============================] - 1s 310us/step - loss: 0.0031\n",
      "Epoch 15/51\n",
      "4800/4800 [==============================] - 1s 264us/step - loss: 0.0030\n",
      "Epoch 16/51\n",
      "4800/4800 [==============================] - 1s 270us/step - loss: 0.0028\n",
      "Epoch 17/51\n",
      "4800/4800 [==============================] - 1s 274us/step - loss: 0.0029\n",
      "Epoch 18/51\n",
      "4800/4800 [==============================] - 1s 263us/step - loss: 0.0028\n",
      "Epoch 19/51\n",
      "4800/4800 [==============================] - 1s 262us/step - loss: 0.0026\n",
      "Epoch 20/51\n",
      "4800/4800 [==============================] - 1s 310us/step - loss: 0.0025\n",
      "Epoch 21/51\n",
      "4800/4800 [==============================] - 1s 264us/step - loss: 0.0025\n",
      "Epoch 22/51\n",
      "4800/4800 [==============================] - 2s 330us/step - loss: 0.0024\n",
      "Epoch 23/51\n",
      "4800/4800 [==============================] - 1s 266us/step - loss: 0.0024\n",
      "Epoch 24/51\n",
      "4800/4800 [==============================] - 1s 295us/step - loss: 0.0023\n",
      "Epoch 25/51\n",
      "4800/4800 [==============================] - 1s 282us/step - loss: 0.0022\n",
      "Epoch 26/51\n",
      "4800/4800 [==============================] - 1s 287us/step - loss: 0.0022\n",
      "Epoch 27/51\n",
      "4800/4800 [==============================] - 1s 264us/step - loss: 0.0021\n",
      "Epoch 28/51\n",
      "4800/4800 [==============================] - 1s 272us/step - loss: 0.0022\n",
      "Epoch 29/51\n",
      "4800/4800 [==============================] - 1s 277us/step - loss: 0.0022\n",
      "Epoch 30/51\n",
      "4800/4800 [==============================] - 1s 274us/step - loss: 0.0021\n",
      "Epoch 31/51\n",
      "4800/4800 [==============================] - 1s 266us/step - loss: 0.0019\n",
      "Epoch 32/51\n",
      "4800/4800 [==============================] - 1s 274us/step - loss: 0.0021\n",
      "Epoch 33/51\n",
      "4800/4800 [==============================] - 1s 261us/step - loss: 0.0020\n",
      "Epoch 34/51\n",
      "4800/4800 [==============================] - 1s 266us/step - loss: 0.0018\n",
      "Epoch 35/51\n",
      "4800/4800 [==============================] - 1s 265us/step - loss: 0.0018\n",
      "Epoch 36/51\n",
      "4800/4800 [==============================] - 1s 259us/step - loss: 0.0019\n",
      "Epoch 37/51\n",
      "4800/4800 [==============================] - 1s 290us/step - loss: 0.0018\n",
      "Epoch 38/51\n",
      "4800/4800 [==============================] - 1s 264us/step - loss: 0.0018\n",
      "Epoch 39/51\n",
      "4800/4800 [==============================] - 1s 262us/step - loss: 0.0017\n",
      "Epoch 40/51\n",
      "4800/4800 [==============================] - 1s 284us/step - loss: 0.0017\n",
      "Epoch 41/51\n",
      "4800/4800 [==============================] - 1s 280us/step - loss: 0.0017\n",
      "Epoch 42/51\n",
      "4800/4800 [==============================] - 1s 269us/step - loss: 0.0017\n",
      "Epoch 43/51\n",
      "4800/4800 [==============================] - 1s 261us/step - loss: 0.0017\n",
      "Epoch 44/51\n",
      "4800/4800 [==============================] - 1s 270us/step - loss: 0.0016\n",
      "Epoch 45/51\n",
      "4800/4800 [==============================] - 1s 274us/step - loss: 0.0016\n",
      "Epoch 46/51\n",
      "4800/4800 [==============================] - 1s 284us/step - loss: 0.0016\n",
      "Epoch 47/51\n",
      "4800/4800 [==============================] - 1s 290us/step - loss: 0.0015\n",
      "Epoch 48/51\n",
      "4800/4800 [==============================] - 1s 298us/step - loss: 0.0016\n",
      "Epoch 49/51\n",
      "4800/4800 [==============================] - 1s 259us/step - loss: 0.0016\n",
      "Epoch 50/51\n",
      "4800/4800 [==============================] - 1s 259us/step - loss: 0.0016\n",
      "Epoch 51/51\n",
      "4800/4800 [==============================] - 1s 258us/step - loss: 0.0016\n"
     ]
    },
    {
     "data": {
      "text/plain": [
       "<keras.callbacks.callbacks.History at 0x7fab45173ef0>"
      ]
     },
     "execution_count": 293,
     "metadata": {
      "tags": []
     },
     "output_type": "execute_result"
    }
   ],
   "source": [
    "neuralNetModel.compile(optimizer = 'adam',loss = 'mean_squared_error')\n",
    "neuralNetModel.fit(short_X_train, short_y_train, batch_size = 10, epochs = 51)\n",
    "neuralNetModel.fit(long_X_train, long_y_train, batch_size = 10, epochs = 51)"
   ]
  },
  {
   "cell_type": "code",
   "execution_count": 294,
   "metadata": {
    "colab": {
     "base_uri": "https://localhost:8080/",
     "height": 54
    },
    "colab_type": "code",
    "executionInfo": {
     "elapsed": 960,
     "status": "ok",
     "timestamp": 1588079392153,
     "user": {
      "displayName": "Raghvendra Pratap Singh",
      "photoUrl": "https://lh3.googleusercontent.com/a-/AOh14Gj1jQJ5n0fdqt2IyBbxgNbDiN_ZfLwM20c8-dFk=s64",
      "userId": "16108454137484926510"
     },
     "user_tz": -330
    },
    "id": "FPsPcseg44OG",
    "outputId": "328c9854-1b67-4ab6-d607-bce567702323"
   },
   "outputs": [
    {
     "name": "stdout",
     "output_type": "stream",
     "text": [
      "The Spearman's correlation coefficient is: 0.140\n",
      "The Spearman's correlation coefficient is: 0.103\n"
     ]
    }
   ],
   "source": [
    "y_pred = neuralNetModel.predict(short_X_test)\n",
    "Get_score(y_pred, short_y_test)\n",
    "\n",
    "y_pred = neuralNetModel.predict(long_X_test)\n",
    "Get_score(y_pred, long_y_test)"
   ]
  },
  {
   "cell_type": "code",
   "execution_count": 295,
   "metadata": {
    "colab": {
     "base_uri": "https://localhost:8080/",
     "height": 281
    },
    "colab_type": "code",
    "executionInfo": {
     "elapsed": 2010,
     "status": "ok",
     "timestamp": 1588079393230,
     "user": {
      "displayName": "Raghvendra Pratap Singh",
      "photoUrl": "https://lh3.googleusercontent.com/a-/AOh14Gj1jQJ5n0fdqt2IyBbxgNbDiN_ZfLwM20c8-dFk=s64",
      "userId": "16108454137484926510"
     },
     "user_tz": -330
    },
    "id": "_OFb5hrj44cn",
    "outputId": "9a24093f-59f7-4fef-d7f8-a4304a530af9"
   },
   "outputs": [
    {
     "data": {
      "image/png": "[encoded data removed]",
      "text/plain": [
       "<Figure size 432x288 with 1 Axes>"
      ]
     },
     "metadata": {
      "needs_background": "light",
      "tags": []
     },
     "output_type": "display_data"
    }
   ],
   "source": [
    "plt.plot(y_test, color = 'green', label = 'Actual dataset')\n",
    "plt.plot(y_pred, color = 'peachpuff', label = 'Predicted dataset')\n",
    "plt.title('Prediction')\n",
    "plt.legend()\n",
    "plt.show()"
   ]
  },
  {
   "cell_type": "markdown",
   "metadata": {
    "colab_type": "text",
    "id": "ZdXu4lLVEsLJ"
   },
   "source": [
    "**Working on captions(tf-idf)+ C3D**"
   ]
  },
  {
   "cell_type": "code",
   "execution_count": 0,
   "metadata": {
    "colab": {},
    "colab_type": "code",
    "id": "BANxpAm28ms1"
   },
   "outputs": [],
   "source": [
    "X = dfDevCaptions_C3D_final\n",
    "y = dfGroundTruth[['short-term_memorability','long-term_memorability']].values #these are our target columns"
   ]
  },
  {
   "cell_type": "code",
   "execution_count": 0,
   "metadata": {
    "colab": {},
    "colab_type": "code",
    "id": "tN4pa8dUdqA2"
   },
   "outputs": [],
   "source": [
    "X_train,X_test,y_train,y_test = train_test_split(X,y,test_size=0.2,random_state=42)"
   ]
  },
  {
   "cell_type": "code",
   "execution_count": 304,
   "metadata": {
    "colab": {
     "base_uri": "https://localhost:8080/",
     "height": 91
    },
    "colab_type": "code",
    "executionInfo": {
     "elapsed": 1003,
     "status": "ok",
     "timestamp": 1588080074393,
     "user": {
      "displayName": "Raghvendra Pratap Singh",
      "photoUrl": "https://lh3.googleusercontent.com/a-/AOh14Gj1jQJ5n0fdqt2IyBbxgNbDiN_ZfLwM20c8-dFk=s64",
      "userId": "16108454137484926510"
     },
     "user_tz": -330
    },
    "id": "Zakr08OodqUq",
    "outputId": "a612a94e-6812-4aeb-e066-87c02e8a13a0"
   },
   "outputs": [
    {
     "name": "stdout",
     "output_type": "stream",
     "text": [
      "X_train  (4800, 1101)\n",
      "X_test   (1200, 1101)\n",
      "Y_train  (4800, 2)\n",
      "Y_test   (1200, 2)\n"
     ]
    }
   ],
   "source": [
    "print('X_train ', X_train.shape)\n",
    "print('X_test  ', X_test.shape)\n",
    "print('Y_train ', y_train.shape)\n",
    "print('Y_test  ', y_test.shape)"
   ]
  },
  {
   "cell_type": "code",
   "execution_count": 305,
   "metadata": {
    "colab": {
     "base_uri": "https://localhost:8080/",
     "height": 54
    },
    "colab_type": "code",
    "executionInfo": {
     "elapsed": 2924,
     "status": "ok",
     "timestamp": 1588080079784,
     "user": {
      "displayName": "Raghvendra Pratap Singh",
      "photoUrl": "https://lh3.googleusercontent.com/a-/AOh14Gj1jQJ5n0fdqt2IyBbxgNbDiN_ZfLwM20c8-dFk=s64",
      "userId": "16108454137484926510"
     },
     "user_tz": -330
    },
    "id": "Z5hjliDbdqSC",
    "outputId": "8dfeeee6-daa1-47a0-d60a-80ffc1f2e01e"
   },
   "outputs": [
    {
     "name": "stdout",
     "output_type": "stream",
     "text": [
      "The Spearman's correlation coefficient is: 0.370\n",
      "The Spearman's correlation coefficient is: 0.154\n"
     ]
    }
   ],
   "source": [
    "#linear regression\n",
    "linearRegressor = LinearRegression()\n",
    "linearRegressor.fit(X_train, y_train)\n",
    "y_pred = linearRegressor.predict(X_test)\n",
    "Get_score(y_pred, y_test)"
   ]
  },
  {
   "cell_type": "code",
   "execution_count": 307,
   "metadata": {
    "colab": {
     "base_uri": "https://localhost:8080/",
     "height": 54
    },
    "colab_type": "code",
    "executionInfo": {
     "elapsed": 4577,
     "status": "ok",
     "timestamp": 1588080100877,
     "user": {
      "displayName": "Raghvendra Pratap Singh",
      "photoUrl": "https://lh3.googleusercontent.com/a-/AOh14Gj1jQJ5n0fdqt2IyBbxgNbDiN_ZfLwM20c8-dFk=s64",
      "userId": "16108454137484926510"
     },
     "user_tz": -330
    },
    "id": "sd1lII6RdqP1",
    "outputId": "8a65f380-3aee-4a5b-a369-8ff5e73adc46"
   },
   "outputs": [
    {
     "name": "stdout",
     "output_type": "stream",
     "text": [
      "The Spearman's correlation coefficient is: 0.354\n",
      "The Spearman's correlation coefficient is: 0.145\n"
     ]
    }
   ],
   "source": [
    "knnRegressor = KNeighborsRegressor(n_neighbors = 77)\n",
    "knnRegressor.fit(X_test, y_test)\n",
    "y_pred = knnRegressor.predict(X_test)\n",
    "Get_score(y_pred, y_test)"
   ]
  },
  {
   "cell_type": "code",
   "execution_count": 308,
   "metadata": {
    "colab": {
     "base_uri": "https://localhost:8080/",
     "height": 54
    },
    "colab_type": "code",
    "executionInfo": {
     "elapsed": 3493,
     "status": "ok",
     "timestamp": 1588080112220,
     "user": {
      "displayName": "Raghvendra Pratap Singh",
      "photoUrl": "https://lh3.googleusercontent.com/a-/AOh14Gj1jQJ5n0fdqt2IyBbxgNbDiN_ZfLwM20c8-dFk=s64",
      "userId": "16108454137484926510"
     },
     "user_tz": -330
    },
    "id": "wHfAZ0EKdqNn",
    "outputId": "0e468096-4a83-4637-e167-3b36f550ced0"
   },
   "outputs": [
    {
     "name": "stdout",
     "output_type": "stream",
     "text": [
      "The Spearman's correlation coefficient is: 0.122\n",
      "The Spearman's correlation coefficient is: 0.029\n"
     ]
    }
   ],
   "source": [
    "dtRegressor = DecisionTreeRegressor()\n",
    "dtRegressor.fit(X_train, y_train)\n",
    "y_pred = dtRegressor.predict(X_test)\n",
    "Get_score(y_pred, y_test)"
   ]
  },
  {
   "cell_type": "code",
   "execution_count": 309,
   "metadata": {
    "colab": {
     "base_uri": "https://localhost:8080/",
     "height": 54
    },
    "colab_type": "code",
    "executionInfo": {
     "elapsed": 84105,
     "status": "ok",
     "timestamp": 1588080199537,
     "user": {
      "displayName": "Raghvendra Pratap Singh",
      "photoUrl": "https://lh3.googleusercontent.com/a-/AOh14Gj1jQJ5n0fdqt2IyBbxgNbDiN_ZfLwM20c8-dFk=s64",
      "userId": "16108454137484926510"
     },
     "user_tz": -330
    },
    "id": "SK12Bi0CdqLB",
    "outputId": "ca780ac8-76ec-4f2a-d6a7-b804a324f5e3"
   },
   "outputs": [
    {
     "name": "stdout",
     "output_type": "stream",
     "text": [
      "The Spearman's correlation coefficient is: 0.351\n",
      "The Spearman's correlation coefficient is: 0.140\n"
     ]
    }
   ],
   "source": [
    "rfRegressor = RandomForestRegressor(n_estimators=100,random_state=45)\n",
    "rfRegressor.fit(X_train,y_train)\n",
    "y_pred = rfRegressor.predict(X_test)\n",
    "Get_score(y_pred, y_test)"
   ]
  },
  {
   "cell_type": "markdown",
   "metadata": {
    "colab_type": "text",
    "id": "xW_M5qYl88DP"
   },
   "source": [
    "*For other ensemble and neural networking models*"
   ]
  },
  {
   "cell_type": "code",
   "execution_count": 0,
   "metadata": {
    "colab": {},
    "colab_type": "code",
    "id": "aeeZzHY6861S"
   },
   "outputs": [],
   "source": [
    "y_short = dfGroundTruth[['short-term_memorability']].values\n",
    "y_long = dfGroundTruth[['long-term_memorability']].values"
   ]
  },
  {
   "cell_type": "code",
   "execution_count": 0,
   "metadata": {
    "colab": {},
    "colab_type": "code",
    "id": "cdq1nwJDdqIv"
   },
   "outputs": [],
   "source": [
    "# Splitting the dataset into the Training set and Test set\n",
    "short_X_train,short_X_test,short_y_train,short_y_test = train_test_split(X,y_short,test_size=0.2,random_state=40)\n",
    "long_X_train,long_X_test,long_y_train,long_y_test = train_test_split(X,y_long,test_size=0.2,random_state=40)"
   ]
  },
  {
   "cell_type": "code",
   "execution_count": 312,
   "metadata": {
    "colab": {
     "base_uri": "https://localhost:8080/",
     "height": 149
    },
    "colab_type": "code",
    "executionInfo": {
     "elapsed": 193007,
     "status": "ok",
     "timestamp": 1588080392608,
     "user": {
      "displayName": "Raghvendra Pratap Singh",
      "photoUrl": "https://lh3.googleusercontent.com/a-/AOh14Gj1jQJ5n0fdqt2IyBbxgNbDiN_ZfLwM20c8-dFk=s64",
      "userId": "16108454137484926510"
     },
     "user_tz": -330
    },
    "id": "lGvQdTpadqGT",
    "outputId": "b99447c3-118a-44d8-edac-6fe52d3c311a"
   },
   "outputs": [
    {
     "name": "stderr",
     "output_type": "stream",
     "text": [
      "/usr/local/lib/python3.6/dist-packages/sklearn/ensemble/_voting.py:406: DataConversionWarning: A column-vector y was passed when a 1d array was expected. Please change the shape of y to (n_samples, ), for example using ravel().\n",
      "  y = column_or_1d(y, warn=True)\n"
     ]
    },
    {
     "name": "stdout",
     "output_type": "stream",
     "text": [
      "The Spearman's correlation coefficient is: 0.348\n"
     ]
    },
    {
     "name": "stderr",
     "output_type": "stream",
     "text": [
      "/usr/local/lib/python3.6/dist-packages/sklearn/ensemble/_voting.py:406: DataConversionWarning: A column-vector y was passed when a 1d array was expected. Please change the shape of y to (n_samples, ), for example using ravel().\n",
      "  y = column_or_1d(y, warn=True)\n"
     ]
    },
    {
     "name": "stdout",
     "output_type": "stream",
     "text": [
      "The Spearman's correlation coefficient is: 0.176\n"
     ]
    }
   ],
   "source": [
    "model1 = LinearRegression()\n",
    "model2 = DecisionTreeRegressor(random_state=1)\n",
    "model3 = KNeighborsRegressor(n_neighbors = 77)\n",
    "model4 = RandomForestRegressor(n_estimators=100,random_state=45)\n",
    "vRegressor = VotingRegressor(estimators=[('lr', model1), ('dt', model2), ('knn', model3), ('rf', model4)])\n",
    "\n",
    "vRegressor.fit(short_X_train,short_y_train)\n",
    "y_pred = vRegressor.predict(short_X_test)\n",
    "Get_score(y_pred, short_y_test)\n",
    "\n",
    "vRegressor.fit(long_X_train,long_y_train)\n",
    "y_pred = vRegressor.predict(long_X_test)\n",
    "Get_score(y_pred, long_y_test)"
   ]
  },
  {
   "cell_type": "code",
   "execution_count": 313,
   "metadata": {
    "colab": {
     "base_uri": "https://localhost:8080/",
     "height": 149
    },
    "colab_type": "code",
    "executionInfo": {
     "elapsed": 206222,
     "status": "ok",
     "timestamp": 1588080405836,
     "user": {
      "displayName": "Raghvendra Pratap Singh",
      "photoUrl": "https://lh3.googleusercontent.com/a-/AOh14Gj1jQJ5n0fdqt2IyBbxgNbDiN_ZfLwM20c8-dFk=s64",
      "userId": "16108454137484926510"
     },
     "user_tz": -330
    },
    "id": "KdV-iDpT9LM0",
    "outputId": "dc39985a-aa21-45d6-f21a-38675b462bda"
   },
   "outputs": [
    {
     "name": "stderr",
     "output_type": "stream",
     "text": [
      "/usr/local/lib/python3.6/dist-packages/sklearn/utils/validation.py:760: DataConversionWarning: A column-vector y was passed when a 1d array was expected. Please change the shape of y to (n_samples, ), for example using ravel().\n",
      "  y = column_or_1d(y, warn=True)\n"
     ]
    },
    {
     "name": "stdout",
     "output_type": "stream",
     "text": [
      "The Spearman's correlation coefficient is: 0.244\n"
     ]
    },
    {
     "name": "stderr",
     "output_type": "stream",
     "text": [
      "/usr/local/lib/python3.6/dist-packages/sklearn/utils/validation.py:760: DataConversionWarning: A column-vector y was passed when a 1d array was expected. Please change the shape of y to (n_samples, ), for example using ravel().\n",
      "  y = column_or_1d(y, warn=True)\n"
     ]
    },
    {
     "name": "stdout",
     "output_type": "stream",
     "text": [
      "The Spearman's correlation coefficient is: 0.098\n"
     ]
    }
   ],
   "source": [
    "abRegressor = AdaBoostRegressor()\n",
    "abRegressor.fit(short_X_train, short_y_train)\n",
    "y_pred = abRegressor.predict(short_X_test)\n",
    "Get_score(y_pred, short_y_test)\n",
    "\n",
    "abRegressor = AdaBoostRegressor()\n",
    "abRegressor.fit(long_X_train, long_y_train)\n",
    "y_pred = abRegressor.predict(long_X_test)\n",
    "Get_score(y_pred, long_y_test)"
   ]
  },
  {
   "cell_type": "code",
   "execution_count": 314,
   "metadata": {
    "colab": {
     "base_uri": "https://localhost:8080/",
     "height": 149
    },
    "colab_type": "code",
    "executionInfo": {
     "elapsed": 238335,
     "status": "ok",
     "timestamp": 1588080442662,
     "user": {
      "displayName": "Raghvendra Pratap Singh",
      "photoUrl": "https://lh3.googleusercontent.com/a-/AOh14Gj1jQJ5n0fdqt2IyBbxgNbDiN_ZfLwM20c8-dFk=s64",
      "userId": "16108454137484926510"
     },
     "user_tz": -330
    },
    "id": "h3M_RgAo9K4X",
    "outputId": "7fc923b1-e369-4fe5-e716-c013e7b636df"
   },
   "outputs": [
    {
     "name": "stderr",
     "output_type": "stream",
     "text": [
      "/usr/local/lib/python3.6/dist-packages/sklearn/ensemble/_gb.py:1454: DataConversionWarning: A column-vector y was passed when a 1d array was expected. Please change the shape of y to (n_samples, ), for example using ravel().\n",
      "  y = column_or_1d(y, warn=True)\n"
     ]
    },
    {
     "name": "stdout",
     "output_type": "stream",
     "text": [
      "The Spearman's correlation coefficient is: 0.344\n"
     ]
    },
    {
     "name": "stderr",
     "output_type": "stream",
     "text": [
      "/usr/local/lib/python3.6/dist-packages/sklearn/ensemble/_gb.py:1454: DataConversionWarning: A column-vector y was passed when a 1d array was expected. Please change the shape of y to (n_samples, ), for example using ravel().\n",
      "  y = column_or_1d(y, warn=True)\n"
     ]
    },
    {
     "name": "stdout",
     "output_type": "stream",
     "text": [
      "The Spearman's correlation coefficient is: 0.171\n"
     ]
    }
   ],
   "source": [
    "gbRegressor= GradientBoostingRegressor()\n",
    "\n",
    "gbRegressor.fit(short_X_train,short_y_train)\n",
    "y_pred = gbRegressor.predict(short_X_test)\n",
    "Get_score(y_pred, short_y_test)\n",
    "\n",
    "gbRegressor.fit(long_X_train,long_y_train)\n",
    "y_pred = gbRegressor.predict(long_X_test)\n",
    "Get_score(y_pred, long_y_test)"
   ]
  },
  {
   "cell_type": "code",
   "execution_count": 0,
   "metadata": {
    "colab": {},
    "colab_type": "code",
    "id": "1BJ3pz2V9LKu"
   },
   "outputs": [],
   "source": [
    "sc = StandardScaler()\n",
    "short_X_train = sc.fit_transform(short_X_train)\n",
    "short_X_test = sc.transform(short_X_test)\n",
    "\n",
    "long_X_train = sc.fit_transform(long_X_train)\n",
    "long_X_test = sc.transform(long_X_test)"
   ]
  },
  {
   "cell_type": "code",
   "execution_count": 0,
   "metadata": {
    "colab": {},
    "colab_type": "code",
    "id": "Fy8T7n7W9LH4"
   },
   "outputs": [],
   "source": [
    "# Initialising\n",
    "neuralNetModel = Sequential()\n",
    "\n",
    "# Adding the input layer and first hidden layer\n",
    "neuralNetModel.add(Dense(32, activation = 'relu', input_dim = 1101))\n",
    "\n",
    "# Adding second hidden layer\n",
    "neuralNetModel.add(Dense(units = 32, activation = 'relu'))\n",
    "\n",
    "# Adding third hidden layer\n",
    "neuralNetModel.add(Dense(units = 32, activation = 'relu'))\n",
    "\n",
    "# Adding output layer\n",
    "neuralNetModel.add(Dense(units = 1))"
   ]
  },
  {
   "cell_type": "code",
   "execution_count": 319,
   "metadata": {
    "colab": {
     "base_uri": "https://localhost:8080/",
     "height": 1000
    },
    "colab_type": "code",
    "executionInfo": {
     "elapsed": 142549,
     "status": "ok",
     "timestamp": 1588080601275,
     "user": {
      "displayName": "Raghvendra Pratap Singh",
      "photoUrl": "https://lh3.googleusercontent.com/a-/AOh14Gj1jQJ5n0fdqt2IyBbxgNbDiN_ZfLwM20c8-dFk=s64",
      "userId": "16108454137484926510"
     },
     "user_tz": -330
    },
    "id": "mnBpynk_9LFt",
    "outputId": "459ebb4c-941d-44be-a8b1-4eddb12e7b15"
   },
   "outputs": [
    {
     "name": "stdout",
     "output_type": "stream",
     "text": [
      "Epoch 1/51\n",
      "4800/4800 [==============================] - 2s 340us/step - loss: 0.1072\n",
      "Epoch 2/51\n",
      "4800/4800 [==============================] - 1s 287us/step - loss: 0.0163\n",
      "Epoch 3/51\n",
      "4800/4800 [==============================] - 1s 289us/step - loss: 0.0075\n",
      "Epoch 4/51\n",
      "4800/4800 [==============================] - 1s 293us/step - loss: 0.0051\n",
      "Epoch 5/51\n",
      "4800/4800 [==============================] - 1s 278us/step - loss: 0.0048\n",
      "Epoch 6/51\n",
      "4800/4800 [==============================] - 1s 277us/step - loss: 0.0039\n",
      "Epoch 7/51\n",
      "4800/4800 [==============================] - 1s 284us/step - loss: 0.0034\n",
      "Epoch 8/51\n",
      "4800/4800 [==============================] - 1s 298us/step - loss: 0.0033\n",
      "Epoch 9/51\n",
      "4800/4800 [==============================] - 1s 284us/step - loss: 0.0037\n",
      "Epoch 10/51\n",
      "4800/4800 [==============================] - 2s 339us/step - loss: 0.0033\n",
      "Epoch 11/51\n",
      "4800/4800 [==============================] - 1s 284us/step - loss: 0.0031\n",
      "Epoch 12/51\n",
      "4800/4800 [==============================] - 1s 278us/step - loss: 0.0032\n",
      "Epoch 13/51\n",
      "4800/4800 [==============================] - 1s 284us/step - loss: 0.0033\n",
      "Epoch 14/51\n",
      "4800/4800 [==============================] - 1s 281us/step - loss: 0.0030\n",
      "Epoch 15/51\n",
      "4800/4800 [==============================] - 1s 278us/step - loss: 0.0028\n",
      "Epoch 16/51\n",
      "4800/4800 [==============================] - 1s 306us/step - loss: 0.0026\n",
      "Epoch 17/51\n",
      "4800/4800 [==============================] - 1s 279us/step - loss: 0.0025\n",
      "Epoch 18/51\n",
      "4800/4800 [==============================] - 1s 282us/step - loss: 0.0024\n",
      "Epoch 19/51\n",
      "4800/4800 [==============================] - 1s 287us/step - loss: 0.0023\n",
      "Epoch 20/51\n",
      "4800/4800 [==============================] - 2s 316us/step - loss: 0.0022\n",
      "Epoch 21/51\n",
      "4800/4800 [==============================] - 1s 277us/step - loss: 0.0022\n",
      "Epoch 22/51\n",
      "4800/4800 [==============================] - 1s 272us/step - loss: 0.0022\n",
      "Epoch 23/51\n",
      "4800/4800 [==============================] - 1s 277us/step - loss: 0.0020\n",
      "Epoch 24/51\n",
      "4800/4800 [==============================] - 1s 287us/step - loss: 0.0020\n",
      "Epoch 25/51\n",
      "4800/4800 [==============================] - 1s 297us/step - loss: 0.0018\n",
      "Epoch 26/51\n",
      "4800/4800 [==============================] - 1s 282us/step - loss: 0.0018\n",
      "Epoch 27/51\n",
      "4800/4800 [==============================] - 1s 298us/step - loss: 0.0016\n",
      "Epoch 28/51\n",
      "4800/4800 [==============================] - 1s 304us/step - loss: 0.0016\n",
      "Epoch 29/51\n",
      "4800/4800 [==============================] - 1s 281us/step - loss: 0.0014\n",
      "Epoch 30/51\n",
      "4800/4800 [==============================] - 1s 306us/step - loss: 0.0015\n",
      "Epoch 31/51\n",
      "4800/4800 [==============================] - 1s 304us/step - loss: 0.0014\n",
      "Epoch 32/51\n",
      "4800/4800 [==============================] - 2s 340us/step - loss: 0.0013\n",
      "Epoch 33/51\n",
      "4800/4800 [==============================] - 1s 297us/step - loss: 0.0014\n",
      "Epoch 34/51\n",
      "4800/4800 [==============================] - 1s 281us/step - loss: 0.0014\n",
      "Epoch 35/51\n",
      "4800/4800 [==============================] - 1s 269us/step - loss: 0.0012\n",
      "Epoch 36/51\n",
      "4800/4800 [==============================] - 1s 279us/step - loss: 0.0012\n",
      "Epoch 37/51\n",
      "4800/4800 [==============================] - 1s 306us/step - loss: 0.0012\n",
      "Epoch 38/51\n",
      "4800/4800 [==============================] - 1s 276us/step - loss: 0.0012\n",
      "Epoch 39/51\n",
      "4800/4800 [==============================] - 1s 286us/step - loss: 0.0011\n",
      "Epoch 40/51\n",
      "4800/4800 [==============================] - 1s 283us/step - loss: 0.0011\n",
      "Epoch 41/51\n",
      "4800/4800 [==============================] - 1s 288us/step - loss: 0.0011\n",
      "Epoch 42/51\n",
      "4800/4800 [==============================] - 2s 314us/step - loss: 9.9999e-04\n",
      "Epoch 43/51\n",
      "4800/4800 [==============================] - 1s 285us/step - loss: 0.0010\n",
      "Epoch 44/51\n",
      "4800/4800 [==============================] - 1s 277us/step - loss: 9.3435e-04\n",
      "Epoch 45/51\n",
      "4800/4800 [==============================] - 1s 298us/step - loss: 8.8729e-04\n",
      "Epoch 46/51\n",
      "4800/4800 [==============================] - 1s 282us/step - loss: 9.7306e-04\n",
      "Epoch 47/51\n",
      "4800/4800 [==============================] - 1s 283us/step - loss: 9.4610e-04\n",
      "Epoch 48/51\n",
      "4800/4800 [==============================] - 1s 278us/step - loss: 8.7838e-04\n",
      "Epoch 49/51\n",
      "4800/4800 [==============================] - 1s 281us/step - loss: 7.9874e-04\n",
      "Epoch 50/51\n",
      "4800/4800 [==============================] - 1s 284us/step - loss: 8.5745e-04\n",
      "Epoch 51/51\n",
      "4800/4800 [==============================] - 1s 280us/step - loss: 8.5921e-04\n",
      "Epoch 1/51\n",
      "4800/4800 [==============================] - 1s 289us/step - loss: 0.0206\n",
      "Epoch 2/51\n",
      "4800/4800 [==============================] - 1s 297us/step - loss: 0.0162\n",
      "Epoch 3/51\n",
      "4800/4800 [==============================] - 1s 263us/step - loss: 0.0124\n",
      "Epoch 4/51\n",
      "4800/4800 [==============================] - 1s 262us/step - loss: 0.0097\n",
      "Epoch 5/51\n",
      "4800/4800 [==============================] - 1s 304us/step - loss: 0.0079\n",
      "Epoch 6/51\n",
      "4800/4800 [==============================] - 1s 268us/step - loss: 0.0066\n",
      "Epoch 7/51\n",
      "4800/4800 [==============================] - 1s 268us/step - loss: 0.0058\n",
      "Epoch 8/51\n",
      "4800/4800 [==============================] - 1s 263us/step - loss: 0.0055\n",
      "Epoch 9/51\n",
      "4800/4800 [==============================] - 1s 268us/step - loss: 0.0050\n",
      "Epoch 10/51\n",
      "4800/4800 [==============================] - 1s 268us/step - loss: 0.0048\n",
      "Epoch 11/51\n",
      "4800/4800 [==============================] - 1s 262us/step - loss: 0.0046\n",
      "Epoch 12/51\n",
      "4800/4800 [==============================] - 1s 262us/step - loss: 0.0040\n",
      "Epoch 13/51\n",
      "4800/4800 [==============================] - 1s 270us/step - loss: 0.0044\n",
      "Epoch 14/51\n",
      "4800/4800 [==============================] - 1s 269us/step - loss: 0.0041\n",
      "Epoch 15/51\n",
      "4800/4800 [==============================] - 1s 290us/step - loss: 0.0040\n",
      "Epoch 16/51\n",
      "4800/4800 [==============================] - 1s 295us/step - loss: 0.0036\n",
      "Epoch 17/51\n",
      "4800/4800 [==============================] - 1s 308us/step - loss: 0.0040\n",
      "Epoch 18/51\n",
      "4800/4800 [==============================] - 1s 264us/step - loss: 0.0036\n",
      "Epoch 19/51\n",
      "4800/4800 [==============================] - 1s 264us/step - loss: 0.0034\n",
      "Epoch 20/51\n",
      "4800/4800 [==============================] - 1s 312us/step - loss: 0.0032\n",
      "Epoch 21/51\n",
      "4800/4800 [==============================] - 1s 300us/step - loss: 0.0031\n",
      "Epoch 22/51\n",
      "4800/4800 [==============================] - 1s 270us/step - loss: 0.0032\n",
      "Epoch 23/51\n",
      "4800/4800 [==============================] - 1s 264us/step - loss: 0.0030\n",
      "Epoch 24/51\n",
      "4800/4800 [==============================] - 1s 292us/step - loss: 0.0029\n",
      "Epoch 25/51\n",
      "4800/4800 [==============================] - 1s 274us/step - loss: 0.0028\n",
      "Epoch 26/51\n",
      "4800/4800 [==============================] - 1s 279us/step - loss: 0.0028\n",
      "Epoch 27/51\n",
      "4800/4800 [==============================] - 1s 307us/step - loss: 0.0028\n",
      "Epoch 28/51\n",
      "4800/4800 [==============================] - 1s 288us/step - loss: 0.0028\n",
      "Epoch 29/51\n",
      "4800/4800 [==============================] - 1s 288us/step - loss: 0.0028\n",
      "Epoch 30/51\n",
      "4800/4800 [==============================] - 1s 296us/step - loss: 0.0028\n",
      "Epoch 31/51\n",
      "4800/4800 [==============================] - 1s 269us/step - loss: 0.0026\n",
      "Epoch 32/51\n",
      "4800/4800 [==============================] - 1s 283us/step - loss: 0.0025\n",
      "Epoch 33/51\n",
      "4800/4800 [==============================] - 1s 305us/step - loss: 0.0023\n",
      "Epoch 34/51\n",
      "4800/4800 [==============================] - 1s 306us/step - loss: 0.0024\n",
      "Epoch 35/51\n",
      "4800/4800 [==============================] - 1s 263us/step - loss: 0.0024\n",
      "Epoch 36/51\n",
      "4800/4800 [==============================] - 1s 272us/step - loss: 0.0022\n",
      "Epoch 37/51\n",
      "4800/4800 [==============================] - 1s 266us/step - loss: 0.0022\n",
      "Epoch 38/51\n",
      "4800/4800 [==============================] - 1s 273us/step - loss: 0.0023\n",
      "Epoch 39/51\n",
      "4800/4800 [==============================] - 1s 275us/step - loss: 0.0023\n",
      "Epoch 40/51\n",
      "4800/4800 [==============================] - 1s 266us/step - loss: 0.0025\n",
      "Epoch 41/51\n",
      "4800/4800 [==============================] - 1s 270us/step - loss: 0.0023\n",
      "Epoch 42/51\n",
      "4800/4800 [==============================] - 1s 271us/step - loss: 0.0022\n",
      "Epoch 43/51\n",
      "4800/4800 [==============================] - 1s 280us/step - loss: 0.0022\n",
      "Epoch 44/51\n",
      "4800/4800 [==============================] - 1s 292us/step - loss: 0.0021\n",
      "Epoch 45/51\n",
      "4800/4800 [==============================] - 1s 297us/step - loss: 0.0021\n",
      "Epoch 46/51\n",
      "4800/4800 [==============================] - 1s 270us/step - loss: 0.0021\n",
      "Epoch 47/51\n",
      "4800/4800 [==============================] - 1s 275us/step - loss: 0.0020\n",
      "Epoch 48/51\n",
      "4800/4800 [==============================] - 1s 274us/step - loss: 0.0020\n",
      "Epoch 49/51\n",
      "4800/4800 [==============================] - 1s 295us/step - loss: 0.0020\n",
      "Epoch 50/51\n",
      "4800/4800 [==============================] - 1s 266us/step - loss: 0.0020\n",
      "Epoch 51/51\n",
      "4800/4800 [==============================] - 1s 285us/step - loss: 0.0019\n"
     ]
    },
    {
     "data": {
      "text/plain": [
       "<keras.callbacks.callbacks.History at 0x7faacdccaf28>"
      ]
     },
     "execution_count": 319,
     "metadata": {
      "tags": []
     },
     "output_type": "execute_result"
    }
   ],
   "source": [
    "neuralNetModel.compile(optimizer = 'adam',loss = 'mean_squared_error')\n",
    "neuralNetModel.fit(short_X_train, short_y_train, batch_size = 10, epochs = 51)\n",
    "neuralNetModel.fit(long_X_train, long_y_train, batch_size = 10, epochs = 51)"
   ]
  },
  {
   "cell_type": "code",
   "execution_count": 320,
   "metadata": {
    "colab": {
     "base_uri": "https://localhost:8080/",
     "height": 54
    },
    "colab_type": "code",
    "executionInfo": {
     "elapsed": 140081,
     "status": "ok",
     "timestamp": 1588080601283,
     "user": {
      "displayName": "Raghvendra Pratap Singh",
      "photoUrl": "https://lh3.googleusercontent.com/a-/AOh14Gj1jQJ5n0fdqt2IyBbxgNbDiN_ZfLwM20c8-dFk=s64",
      "userId": "16108454137484926510"
     },
     "user_tz": -330
    },
    "id": "KrrOwYzB9WYO",
    "outputId": "bb677397-6a00-4b44-f3ea-98924401be49"
   },
   "outputs": [
    {
     "name": "stdout",
     "output_type": "stream",
     "text": [
      "The Spearman's correlation coefficient is: 0.193\n",
      "The Spearman's correlation coefficient is: 0.144\n"
     ]
    }
   ],
   "source": [
    "y_pred = neuralNetModel.predict(short_X_test)\n",
    "Get_score(y_pred, short_y_test)\n",
    "\n",
    "y_pred = neuralNetModel.predict(long_X_test)\n",
    "Get_score(y_pred, long_y_test)"
   ]
  },
  {
   "cell_type": "code",
   "execution_count": 321,
   "metadata": {
    "colab": {
     "base_uri": "https://localhost:8080/",
     "height": 281
    },
    "colab_type": "code",
    "executionInfo": {
     "elapsed": 138618,
     "status": "ok",
     "timestamp": 1588080601290,
     "user": {
      "displayName": "Raghvendra Pratap Singh",
      "photoUrl": "https://lh3.googleusercontent.com/a-/AOh14Gj1jQJ5n0fdqt2IyBbxgNbDiN_ZfLwM20c8-dFk=s64",
      "userId": "16108454137484926510"
     },
     "user_tz": -330
    },
    "id": "wRu_3w5f9Wdt",
    "outputId": "8303fa9e-5ed9-4cda-e647-fa2e3196845a"
   },
   "outputs": [
    {
     "data": {
      "image/png": "[encoded data removed]",
      "text/plain": [
       "<Figure size 432x288 with 1 Axes>"
      ]
     },
     "metadata": {
      "needs_background": "light",
      "tags": []
     },
     "output_type": "display_data"
    }
   ],
   "source": [
    "plt.plot(y_test, color = 'green', label = 'Actual dataset')\n",
    "plt.plot(y_pred, color = 'peachpuff', label = 'Predicted dataset')\n",
    "plt.title('Prediction')\n",
    "plt.legend()\n",
    "plt.show()"
   ]
  },
  {
   "cell_type": "markdown",
   "metadata": {
    "colab_type": "text",
    "id": "2OA8b0jNpQdo"
   },
   "source": [
    "## **Prediction of Test Results**"
   ]
  },
  {
   "cell_type": "markdown",
   "metadata": {
    "colab_type": "text",
    "id": "7iKE6KQqxzza"
   },
   "source": [
    "We have considered whole captions(tf-idf) dev set as X"
   ]
  },
  {
   "cell_type": "code",
   "execution_count": 0,
   "metadata": {
    "colab": {},
    "colab_type": "code",
    "id": "ze-tYvSO9LDj"
   },
   "outputs": [],
   "source": [
    "X = dfCaptions_Dev_tfIdf\n",
    "y = dfGroundTruth[['short-term_memorability','long-term_memorability']].values"
   ]
  },
  {
   "cell_type": "markdown",
   "metadata": {
    "colab_type": "text",
    "id": "A40XVYxoyA9q"
   },
   "source": [
    "loading the test set data"
   ]
  },
  {
   "cell_type": "code",
   "execution_count": 0,
   "metadata": {
    "colab": {},
    "colab_type": "code",
    "id": "cLR1x3Cg9K_h"
   },
   "outputs": [],
   "source": [
    "gtPath ='./Test-set/Ground-truth_test/'\n",
    "dfGroundTruth_test = pd.read_csv(gtPath+'ground_truth_template.csv')\n",
    "\n",
    "cap_path = './Test-set/Captions_test/test-set-1_video-captions.txt'\n",
    "df_captions_Test=read_caps(cap_path)"
   ]
  },
  {
   "cell_type": "code",
   "execution_count": 54,
   "metadata": {
    "colab": {
     "base_uri": "https://localhost:8080/",
     "height": 144
    },
    "colab_type": "code",
    "executionInfo": {
     "elapsed": 2597,
     "status": "ok",
     "timestamp": 1588092285613,
     "user": {
      "displayName": "Raghvendra Pratap Singh",
      "photoUrl": "https://lh3.googleusercontent.com/a-/AOh14Gj1jQJ5n0fdqt2IyBbxgNbDiN_ZfLwM20c8-dFk=s64",
      "userId": "16108454137484926510"
     },
     "user_tz": -330
    },
    "id": "rfNhIZ7nH_rH",
    "outputId": "7dbd262f-ecf8-4940-f2f2-c4224ed3f41c"
   },
   "outputs": [
    {
     "data": {
      "text/html": [
       "<div>\n",
       "<style scoped>\n",
       "    .dataframe tbody tr th:only-of-type {\n",
       "        vertical-align: middle;\n",
       "    }\n",
       "\n",
       "    .dataframe tbody tr th {\n",
       "        vertical-align: top;\n",
       "    }\n",
       "\n",
       "    .dataframe thead th {\n",
       "        text-align: right;\n",
       "    }\n",
       "</style>\n",
       "<table border=\"1\" class=\"dataframe\">\n",
       "  <thead>\n",
       "    <tr style=\"text-align: right;\">\n",
       "      <th></th>\n",
       "      <th>video</th>\n",
       "      <th>caption</th>\n",
       "    </tr>\n",
       "  </thead>\n",
       "  <tbody>\n",
       "    <tr>\n",
       "      <th>0</th>\n",
       "      <td>video7494.webm</td>\n",
       "      <td>green-jeep-struggling-to-drive-over-huge-rocks</td>\n",
       "    </tr>\n",
       "    <tr>\n",
       "      <th>1</th>\n",
       "      <td>video7495.webm</td>\n",
       "      <td>hiking-woman-tourist-is-walking-forward-in-mou...</td>\n",
       "    </tr>\n",
       "    <tr>\n",
       "      <th>2</th>\n",
       "      <td>video7496.webm</td>\n",
       "      <td>close-up-of-african-american-doctors-hands-usi...</td>\n",
       "    </tr>\n",
       "  </tbody>\n",
       "</table>\n",
       "</div>"
      ],
      "text/plain": [
       "            video                                            caption\n",
       "0  video7494.webm     green-jeep-struggling-to-drive-over-huge-rocks\n",
       "1  video7495.webm  hiking-woman-tourist-is-walking-forward-in-mou...\n",
       "2  video7496.webm  close-up-of-african-american-doctors-hands-usi..."
      ]
     },
     "execution_count": 54,
     "metadata": {
      "tags": []
     },
     "output_type": "execute_result"
    }
   ],
   "source": [
    "df_captions_Test.head(3)"
   ]
  },
  {
   "cell_type": "code",
   "execution_count": 55,
   "metadata": {
    "colab": {
     "base_uri": "https://localhost:8080/",
     "height": 144
    },
    "colab_type": "code",
    "executionInfo": {
     "elapsed": 3639,
     "status": "ok",
     "timestamp": 1588092292241,
     "user": {
      "displayName": "Raghvendra Pratap Singh",
      "photoUrl": "https://lh3.googleusercontent.com/a-/AOh14Gj1jQJ5n0fdqt2IyBbxgNbDiN_ZfLwM20c8-dFk=s64",
      "userId": "16108454137484926510"
     },
     "user_tz": -330
    },
    "id": "LvJ4iZe4ID-U",
    "outputId": "8a1873fa-9a29-492d-9d52-6ee8bfa4aa92"
   },
   "outputs": [
    {
     "data": {
      "text/html": [
       "<div>\n",
       "<style scoped>\n",
       "    .dataframe tbody tr th:only-of-type {\n",
       "        vertical-align: middle;\n",
       "    }\n",
       "\n",
       "    .dataframe tbody tr th {\n",
       "        vertical-align: top;\n",
       "    }\n",
       "\n",
       "    .dataframe thead th {\n",
       "        text-align: right;\n",
       "    }\n",
       "</style>\n",
       "<table border=\"1\" class=\"dataframe\">\n",
       "  <thead>\n",
       "    <tr style=\"text-align: right;\">\n",
       "      <th></th>\n",
       "      <th>video</th>\n",
       "      <th>short-term_memorability</th>\n",
       "      <th>nb_short-term_annotations</th>\n",
       "      <th>long-term_memorability</th>\n",
       "      <th>nb_long-term_annotations</th>\n",
       "    </tr>\n",
       "  </thead>\n",
       "  <tbody>\n",
       "    <tr>\n",
       "      <th>0</th>\n",
       "      <td>7494</td>\n",
       "      <td>NaN</td>\n",
       "      <td>33</td>\n",
       "      <td>NaN</td>\n",
       "      <td>12</td>\n",
       "    </tr>\n",
       "    <tr>\n",
       "      <th>1</th>\n",
       "      <td>7495</td>\n",
       "      <td>NaN</td>\n",
       "      <td>34</td>\n",
       "      <td>NaN</td>\n",
       "      <td>10</td>\n",
       "    </tr>\n",
       "    <tr>\n",
       "      <th>2</th>\n",
       "      <td>7496</td>\n",
       "      <td>NaN</td>\n",
       "      <td>32</td>\n",
       "      <td>NaN</td>\n",
       "      <td>13</td>\n",
       "    </tr>\n",
       "  </tbody>\n",
       "</table>\n",
       "</div>"
      ],
      "text/plain": [
       "   video  ...  nb_long-term_annotations\n",
       "0   7494  ...                        12\n",
       "1   7495  ...                        10\n",
       "2   7496  ...                        13\n",
       "\n",
       "[3 rows x 5 columns]"
      ]
     },
     "execution_count": 55,
     "metadata": {
      "tags": []
     },
     "output_type": "execute_result"
    }
   ],
   "source": [
    "dfGroundTruth_test.head(3)"
   ]
  },
  {
   "cell_type": "code",
   "execution_count": 56,
   "metadata": {
    "colab": {
     "base_uri": "https://localhost:8080/",
     "height": 54
    },
    "colab_type": "code",
    "executionInfo": {
     "elapsed": 1474,
     "status": "ok",
     "timestamp": 1588092297133,
     "user": {
      "displayName": "Raghvendra Pratap Singh",
      "photoUrl": "https://lh3.googleusercontent.com/a-/AOh14Gj1jQJ5n0fdqt2IyBbxgNbDiN_ZfLwM20c8-dFk=s64",
      "userId": "16108454137484926510"
     },
     "user_tz": -330
    },
    "id": "1Pdu5WUXrO9n",
    "outputId": "0b496db9-5152-4ce4-d198-ef3217f369fa"
   },
   "outputs": [
    {
     "name": "stdout",
     "output_type": "stream",
     "text": [
      "X: (6000)\n",
      "y:(6000, 2)\n"
     ]
    }
   ],
   "source": [
    "print(f'X: ({len(X)})')\n",
    "print(f'y:{y.shape}')"
   ]
  },
  {
   "cell_type": "markdown",
   "metadata": {
    "colab_type": "text",
    "id": "5TYeG_XNIvmG"
   },
   "source": [
    "*TF-IDF on test captions*"
   ]
  },
  {
   "cell_type": "code",
   "execution_count": 0,
   "metadata": {
    "colab": {},
    "colab_type": "code",
    "id": "BfDiheorI0pJ"
   },
   "outputs": [],
   "source": [
    "vectorizer=TfidfVectorizer(max_features=1000)\n",
    "response=vectorizer.fit_transform(df_captions_Test.caption).toarray()"
   ]
  },
  {
   "cell_type": "code",
   "execution_count": 59,
   "metadata": {
    "colab": {
     "base_uri": "https://localhost:8080/",
     "height": 129
    },
    "colab_type": "code",
    "executionInfo": {
     "elapsed": 1533,
     "status": "ok",
     "timestamp": 1588092395923,
     "user": {
      "displayName": "Raghvendra Pratap Singh",
      "photoUrl": "https://lh3.googleusercontent.com/a-/AOh14Gj1jQJ5n0fdqt2IyBbxgNbDiN_ZfLwM20c8-dFk=s64",
      "userId": "16108454137484926510"
     },
     "user_tz": -330
    },
    "id": "LQAraBh0I4BT",
    "outputId": "a06bb701-3d11-42a7-d3d1-dc3fddfda417"
   },
   "outputs": [
    {
     "name": "stdout",
     "output_type": "stream",
     "text": [
      "            video  ...                                  vectorizedCaption\n",
      "0  video7494.webm  ...  [0.0, 0.0, 0.0, 0.0, 0.0, 0.0, 0.0, 0.0, 0.0, ...\n",
      "1  video7495.webm  ...  [0.0, 0.0, 0.0, 0.0, 0.0, 0.0, 0.0, 0.0, 0.0, ...\n",
      "2  video7496.webm  ...  [0.0, 0.0, 0.0, 0.0, 0.0, 0.0, 0.0, 0.0, 0.0, ...\n",
      "\n",
      "[3 rows x 3 columns]\n"
     ]
    }
   ],
   "source": [
    "df_captions_Test['vectorizedCaption']=pd.Series(response.tolist())\n",
    "print(df_captions_Test.head(3))"
   ]
  },
  {
   "cell_type": "code",
   "execution_count": 60,
   "metadata": {
    "colab": {
     "base_uri": "https://localhost:8080/",
     "height": 36
    },
    "colab_type": "code",
    "executionInfo": {
     "elapsed": 1691,
     "status": "ok",
     "timestamp": 1588092400266,
     "user": {
      "displayName": "Raghvendra Pratap Singh",
      "photoUrl": "https://lh3.googleusercontent.com/a-/AOh14Gj1jQJ5n0fdqt2IyBbxgNbDiN_ZfLwM20c8-dFk=s64",
      "userId": "16108454137484926510"
     },
     "user_tz": -330
    },
    "id": "jPeNC9p_I9WV",
    "outputId": "216c07a4-3dbf-4043-eda4-8153fb091db3"
   },
   "outputs": [
    {
     "data": {
      "text/plain": [
       "['video', 'caption', 'vectorizedCaption']"
      ]
     },
     "execution_count": 60,
     "metadata": {
      "tags": []
     },
     "output_type": "execute_result"
    }
   ],
   "source": [
    "list(df_captions_Test.columns)"
   ]
  },
  {
   "cell_type": "code",
   "execution_count": 0,
   "metadata": {
    "colab": {},
    "colab_type": "code",
    "id": "_2EmOodwJALU"
   },
   "outputs": [],
   "source": [
    "df_captions_Test_tfIdf=pd.DataFrame(df_captions_Test['vectorizedCaption'].tolist())"
   ]
  },
  {
   "cell_type": "markdown",
   "metadata": {
    "colab_type": "text",
    "id": "5IKf_Hdcry3T"
   },
   "source": [
    "Training Random forest regressor"
   ]
  },
  {
   "cell_type": "code",
   "execution_count": 62,
   "metadata": {
    "colab": {
     "base_uri": "https://localhost:8080/",
     "height": 147
    },
    "colab_type": "code",
    "executionInfo": {
     "elapsed": 150791,
     "status": "ok",
     "timestamp": 1588092559719,
     "user": {
      "displayName": "Raghvendra Pratap Singh",
      "photoUrl": "https://lh3.googleusercontent.com/a-/AOh14Gj1jQJ5n0fdqt2IyBbxgNbDiN_ZfLwM20c8-dFk=s64",
      "userId": "16108454137484926510"
     },
     "user_tz": -330
    },
    "id": "DIOZwy_cpv9-",
    "outputId": "e5014a65-d543-41c5-f220-bf6f1f522039"
   },
   "outputs": [
    {
     "data": {
      "text/plain": [
       "RandomForestRegressor(bootstrap=True, ccp_alpha=0.0, criterion='mse',\n",
       "                      max_depth=None, max_features='auto', max_leaf_nodes=None,\n",
       "                      max_samples=None, min_impurity_decrease=0.0,\n",
       "                      min_impurity_split=None, min_samples_leaf=1,\n",
       "                      min_samples_split=2, min_weight_fraction_leaf=0.0,\n",
       "                      n_estimators=100, n_jobs=None, oob_score=False,\n",
       "                      random_state=45, verbose=0, warm_start=False)"
      ]
     },
     "execution_count": 62,
     "metadata": {
      "tags": []
     },
     "output_type": "execute_result"
    }
   ],
   "source": [
    "rfRegressor = RandomForestRegressor(n_estimators=100,random_state=45)\n",
    "rfRegressor.fit(X,y)"
   ]
  },
  {
   "cell_type": "code",
   "execution_count": 0,
   "metadata": {
    "colab": {},
    "colab_type": "code",
    "id": "6iRZ7b09pwC3"
   },
   "outputs": [],
   "source": [
    "testSet_pred = rfRegressor.predict(df_captions_Test_tfIdf)"
   ]
  },
  {
   "cell_type": "code",
   "execution_count": 0,
   "metadata": {
    "colab": {},
    "colab_type": "code",
    "id": "5zqt7tNYpwHm"
   },
   "outputs": [],
   "source": [
    "finalPred = pd.DataFrame()"
   ]
  },
  {
   "cell_type": "code",
   "execution_count": 66,
   "metadata": {
    "colab": {
     "base_uri": "https://localhost:8080/",
     "height": 36
    },
    "colab_type": "code",
    "executionInfo": {
     "elapsed": 1873,
     "status": "ok",
     "timestamp": 1588092847398,
     "user": {
      "displayName": "Raghvendra Pratap Singh",
      "photoUrl": "https://lh3.googleusercontent.com/a-/AOh14Gj1jQJ5n0fdqt2IyBbxgNbDiN_ZfLwM20c8-dFk=s64",
      "userId": "16108454137484926510"
     },
     "user_tz": -330
    },
    "id": "qujy5eTOpwTd",
    "outputId": "05fefbb9-0af2-4a68-f5f7-ce7940ae044a"
   },
   "outputs": [
    {
     "data": {
      "text/plain": [
       "numpy.ndarray"
      ]
     },
     "execution_count": 66,
     "metadata": {
      "tags": []
     },
     "output_type": "execute_result"
    }
   ],
   "source": [
    "type(testSet_pred)"
   ]
  },
  {
   "cell_type": "code",
   "execution_count": 0,
   "metadata": {
    "colab": {},
    "colab_type": "code",
    "id": "JTSAVcAmpwRa"
   },
   "outputs": [],
   "source": [
    "finalPred['short-term'] = testSet_pred[:,0]"
   ]
  },
  {
   "cell_type": "code",
   "execution_count": 0,
   "metadata": {
    "colab": {},
    "colab_type": "code",
    "id": "TJaCvBDnpwPi"
   },
   "outputs": [],
   "source": [
    "finalPred['long-term'] = testSet_pred[:,1]"
   ]
  },
  {
   "cell_type": "code",
   "execution_count": 69,
   "metadata": {
    "colab": {
     "base_uri": "https://localhost:8080/",
     "height": 206
    },
    "colab_type": "code",
    "executionInfo": {
     "elapsed": 3148,
     "status": "ok",
     "timestamp": 1588092858181,
     "user": {
      "displayName": "Raghvendra Pratap Singh",
      "photoUrl": "https://lh3.googleusercontent.com/a-/AOh14Gj1jQJ5n0fdqt2IyBbxgNbDiN_ZfLwM20c8-dFk=s64",
      "userId": "16108454137484926510"
     },
     "user_tz": -330
    },
    "id": "rasJC1OCpwNg",
    "outputId": "01c8a740-9d3f-4cec-fa8c-bf122dc4927d"
   },
   "outputs": [
    {
     "data": {
      "text/html": [
       "<div>\n",
       "<style scoped>\n",
       "    .dataframe tbody tr th:only-of-type {\n",
       "        vertical-align: middle;\n",
       "    }\n",
       "\n",
       "    .dataframe tbody tr th {\n",
       "        vertical-align: top;\n",
       "    }\n",
       "\n",
       "    .dataframe thead th {\n",
       "        text-align: right;\n",
       "    }\n",
       "</style>\n",
       "<table border=\"1\" class=\"dataframe\">\n",
       "  <thead>\n",
       "    <tr style=\"text-align: right;\">\n",
       "      <th></th>\n",
       "      <th>short-term</th>\n",
       "      <th>long-term</th>\n",
       "    </tr>\n",
       "  </thead>\n",
       "  <tbody>\n",
       "    <tr>\n",
       "      <th>1995</th>\n",
       "      <td>0.856382</td>\n",
       "      <td>0.751422</td>\n",
       "    </tr>\n",
       "    <tr>\n",
       "      <th>1996</th>\n",
       "      <td>0.754677</td>\n",
       "      <td>0.734267</td>\n",
       "    </tr>\n",
       "    <tr>\n",
       "      <th>1997</th>\n",
       "      <td>0.829638</td>\n",
       "      <td>0.761398</td>\n",
       "    </tr>\n",
       "    <tr>\n",
       "      <th>1998</th>\n",
       "      <td>0.855205</td>\n",
       "      <td>0.722449</td>\n",
       "    </tr>\n",
       "    <tr>\n",
       "      <th>1999</th>\n",
       "      <td>0.851584</td>\n",
       "      <td>0.717439</td>\n",
       "    </tr>\n",
       "  </tbody>\n",
       "</table>\n",
       "</div>"
      ],
      "text/plain": [
       "      short-term  long-term\n",
       "1995    0.856382   0.751422\n",
       "1996    0.754677   0.734267\n",
       "1997    0.829638   0.761398\n",
       "1998    0.855205   0.722449\n",
       "1999    0.851584   0.717439"
      ]
     },
     "execution_count": 69,
     "metadata": {
      "tags": []
     },
     "output_type": "execute_result"
    }
   ],
   "source": [
    "finalPred.tail()  #tail shows the row number. We have predicted values of 2000 test set"
   ]
  },
  {
   "cell_type": "code",
   "execution_count": 0,
   "metadata": {
    "colab": {},
    "colab_type": "code",
    "id": "UNQJ8swIJuEG"
   },
   "outputs": [],
   "source": [
    "finalPred.to_csv(\"/content/drive/My Drive/Raghvendra_Pratap_Singh_19210261_predictions.csv\",index=False)"
   ]
  },
  {
   "cell_type": "code",
   "execution_count": 0,
   "metadata": {
    "colab": {},
    "colab_type": "code",
    "id": "Qkq2d9LClvJc"
   },
   "outputs": [],
   "source": []
  },
  {
   "cell_type": "code",
   "execution_count": 0,
   "metadata": {
    "colab": {},
    "colab_type": "code",
    "id": "qxyKNnZxm252"
   },
   "outputs": [],
   "source": []
  }
 ],
 "metadata": {
  "accelerator": "GPU",
  "colab": {
   "authorship_tag": "ABX9TyMvvm7/injax3Ci/aKHfr+Q",
   "collapsed_sections": [],
   "name": "Raghvendra_Pratap_Singh_19210261_predicting_memorability.ipynb",
   "provenance": []
  },
  "kernelspec": {
   "display_name": "Python 3",
   "language": "python",
   "name": "python3"
  },
  "language_info": {
   "codemirror_mode": {
    "name": "ipython",
    "version": 3
   },
   "file_extension": ".py",
   "mimetype": "text/x-python",
   "name": "python",
   "nbconvert_exporter": "python",
   "pygments_lexer": "ipython3",
   "version": "3.6.9"
  },
  "widgets": {
   "application/vnd.jupyter.widget-state+json": {
    "4dab5ddcbe6f4292b31146b889f0e8d2": {
     "model_module": "@jupyter-widgets/controls",
     "model_name": "HBoxModel",
     "state": {
      "_dom_classes": [],
      "_model_module": "@jupyter-widgets/controls",
      "_model_module_version": "1.5.0",
      "_model_name": "HBoxModel",
      "_view_count": null,
      "_view_module": "@jupyter-widgets/controls",
      "_view_module_version": "1.5.0",
      "_view_name": "HBoxView",
      "box_style": "",
      "children": [
       "IPY_MODEL_684e80f5eb634a43b34f62dea0b70fa4",
       "IPY_MODEL_e264ef5b6df940d7bd37c2147d50f21e"
      ],
      "layout": "IPY_MODEL_84b2ed2ee2ab461a9c59a25d2b15f172"
     }
    },
    "6337f6faf68b4a398ed709ff42cd000f": {
     "model_module": "@jupyter-widgets/base",
     "model_name": "LayoutModel",
     "state": {
      "_model_module": "@jupyter-widgets/base",
      "_model_module_version": "1.2.0",
      "_model_name": "LayoutModel",
      "_view_count": null,
      "_view_module": "@jupyter-widgets/base",
      "_view_module_version": "1.2.0",
      "_view_name": "LayoutView",
      "align_content": null,
      "align_items": null,
      "align_self": null,
      "border": null,
      "bottom": null,
      "display": null,
      "flex": null,
      "flex_flow": null,
      "grid_area": null,
      "grid_auto_columns": null,
      "grid_auto_flow": null,
      "grid_auto_rows": null,
      "grid_column": null,
      "grid_gap": null,
      "grid_row": null,
      "grid_template_areas": null,
      "grid_template_columns": null,
      "grid_template_rows": null,
      "height": null,
      "justify_content": null,
      "justify_items": null,
      "left": null,
      "margin": null,
      "max_height": null,
      "max_width": null,
      "min_height": null,
      "min_width": null,
      "object_fit": null,
      "object_position": null,
      "order": null,
      "overflow": null,
      "overflow_x": null,
      "overflow_y": null,
      "padding": null,
      "right": null,
      "top": null,
      "visibility": null,
      "width": null
     }
    },
    "64162473341143b9899b5f93977168f1": {
     "model_module": "@jupyter-widgets/controls",
     "model_name": "DescriptionStyleModel",
     "state": {
      "_model_module": "@jupyter-widgets/controls",
      "_model_module_version": "1.5.0",
      "_model_name": "DescriptionStyleModel",
      "_view_count": null,
      "_view_module": "@jupyter-widgets/base",
      "_view_module_version": "1.2.0",
      "_view_name": "StyleView",
      "description_width": ""
     }
    },
    "684e80f5eb634a43b34f62dea0b70fa4": {
     "model_module": "@jupyter-widgets/controls",
     "model_name": "IntProgressModel",
     "state": {
      "_dom_classes": [],
      "_model_module": "@jupyter-widgets/controls",
      "_model_module_version": "1.5.0",
      "_model_name": "IntProgressModel",
      "_view_count": null,
      "_view_module": "@jupyter-widgets/controls",
      "_view_module_version": "1.5.0",
      "_view_name": "ProgressView",
      "bar_style": "success",
      "description": "100%",
      "description_tooltip": null,
      "layout": "IPY_MODEL_f86015d0ce8348bca4fe3e0ed24b63d7",
      "max": 6000,
      "min": 0,
      "orientation": "horizontal",
      "style": "IPY_MODEL_b45ee9693c074e36a0af3afdccb6713e",
      "value": 6000
     }
    },
    "84b2ed2ee2ab461a9c59a25d2b15f172": {
     "model_module": "@jupyter-widgets/base",
     "model_name": "LayoutModel",
     "state": {
      "_model_module": "@jupyter-widgets/base",
      "_model_module_version": "1.2.0",
      "_model_name": "LayoutModel",
      "_view_count": null,
      "_view_module": "@jupyter-widgets/base",
      "_view_module_version": "1.2.0",
      "_view_name": "LayoutView",
      "align_content": null,
      "align_items": null,
      "align_self": null,
      "border": null,
      "bottom": null,
      "display": null,
      "flex": null,
      "flex_flow": null,
      "grid_area": null,
      "grid_auto_columns": null,
      "grid_auto_flow": null,
      "grid_auto_rows": null,
      "grid_column": null,
      "grid_gap": null,
      "grid_row": null,
      "grid_template_areas": null,
      "grid_template_columns": null,
      "grid_template_rows": null,
      "height": null,
      "justify_content": null,
      "justify_items": null,
      "left": null,
      "margin": null,
      "max_height": null,
      "max_width": null,
      "min_height": null,
      "min_width": null,
      "object_fit": null,
      "object_position": null,
      "order": null,
      "overflow": null,
      "overflow_x": null,
      "overflow_y": null,
      "padding": null,
      "right": null,
      "top": null,
      "visibility": null,
      "width": null
     }
    },
    "b45ee9693c074e36a0af3afdccb6713e": {
     "model_module": "@jupyter-widgets/controls",
     "model_name": "ProgressStyleModel",
     "state": {
      "_model_module": "@jupyter-widgets/controls",
      "_model_module_version": "1.5.0",
      "_model_name": "ProgressStyleModel",
      "_view_count": null,
      "_view_module": "@jupyter-widgets/base",
      "_view_module_version": "1.2.0",
      "_view_name": "StyleView",
      "bar_color": null,
      "description_width": "initial"
     }
    },
    "e264ef5b6df940d7bd37c2147d50f21e": {
     "model_module": "@jupyter-widgets/controls",
     "model_name": "HTMLModel",
     "state": {
      "_dom_classes": [],
      "_model_module": "@jupyter-widgets/controls",
      "_model_module_version": "1.5.0",
      "_model_name": "HTMLModel",
      "_view_count": null,
      "_view_module": "@jupyter-widgets/controls",
      "_view_module_version": "1.5.0",
      "_view_name": "HTMLView",
      "description": "",
      "description_tooltip": null,
      "layout": "IPY_MODEL_6337f6faf68b4a398ed709ff42cd000f",
      "placeholder": "​",
      "style": "IPY_MODEL_64162473341143b9899b5f93977168f1",
      "value": " 6000/6000 [39:44&lt;00:00,  2.52it/s]"
     }
    },
    "f86015d0ce8348bca4fe3e0ed24b63d7": {
     "model_module": "@jupyter-widgets/base",
     "model_name": "LayoutModel",
     "state": {
      "_model_module": "@jupyter-widgets/base",
      "_model_module_version": "1.2.0",
      "_model_name": "LayoutModel",
      "_view_count": null,
      "_view_module": "@jupyter-widgets/base",
      "_view_module_version": "1.2.0",
      "_view_name": "LayoutView",
      "align_content": null,
      "align_items": null,
      "align_self": null,
      "border": null,
      "bottom": null,
      "display": null,
      "flex": null,
      "flex_flow": null,
      "grid_area": null,
      "grid_auto_columns": null,
      "grid_auto_flow": null,
      "grid_auto_rows": null,
      "grid_column": null,
      "grid_gap": null,
      "grid_row": null,
      "grid_template_areas": null,
      "grid_template_columns": null,
      "grid_template_rows": null,
      "height": null,
      "justify_content": null,
      "justify_items": null,
      "left": null,
      "margin": null,
      "max_height": null,
      "max_width": null,
      "min_height": null,
      "min_width": null,
      "object_fit": null,
      "object_position": null,
      "order": null,
      "overflow": null,
      "overflow_x": null,
      "overflow_y": null,
      "padding": null,
      "right": null,
      "top": null,
      "visibility": null,
      "width": null
     }
    }
   }
  }
 },
 "nbformat": 4,
 "nbformat_minor": 1
}
